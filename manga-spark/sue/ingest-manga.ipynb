{
 "cells": [
  {
   "cell_type": "code",
   "execution_count": 1,
   "metadata": {},
   "outputs": [
    {
     "data": {
      "text/html": [
       "Current session configs: <tt>{'name': 'sue-manga', 'executorMemory': '12G', 'numExecutors': 8, 'executorCores': 2, 'conf': {'spark.yarn.appMasterEnv.PYSPARK_PYTHON': 'python3', 'spark.sql.shuffle.partitions': 300}, 'kind': 'pyspark'}</tt><br>"
      ],
      "text/plain": [
       "<IPython.core.display.HTML object>"
      ]
     },
     "metadata": {},
     "output_type": "display_data"
    },
    {
     "data": {
      "text/html": [
       "<table>\n",
       "<tr><th>ID</th><th>YARN Application ID</th><th>Kind</th><th>State</th><th>Spark UI</th><th>Driver log</th><th>Current session?</th></tr><tr><td>11</td><td>application_1602298274728_0012</td><td>pyspark</td><td>dead</td><td><a target=\"_blank\" href=\"https://sparkhead-0.sparkhead-svc:8090/cluster/app/application_1602298274728_0012\">Link</a></td><td></td><td></td></tr></table>"
      ],
      "text/plain": [
       "<IPython.core.display.HTML object>"
      ]
     },
     "metadata": {},
     "output_type": "display_data"
    }
   ],
   "source": [
    "%%configure -f\n",
    "{\"name\": \"sue-manga\", \"executorMemory\": \"12G\", \"numExecutors\": 8, \"executorCores\": 2,\n",
    " \"conf\": {\"spark.yarn.appMasterEnv.PYSPARK_PYTHON\":\"python3\", \"spark.sql.shuffle.partitions\": 300}}"
   ]
  },
  {
   "cell_type": "code",
   "execution_count": 2,
   "metadata": {},
   "outputs": [
    {
     "name": "stdout",
     "output_type": "stream",
     "text": [
      "Starting Spark application\n"
     ]
    },
    {
     "data": {
      "text/html": [
       "<table>\n",
       "<tr><th>ID</th><th>YARN Application ID</th><th>Kind</th><th>State</th><th>Spark UI</th><th>Driver log</th><th>Current session?</th></tr><tr><td>12</td><td>application_1602298274728_0013</td><td>pyspark</td><td>idle</td><td><a target=\"_blank\" href=\"https://sparkhead-0.sparkhead-svc:8090/proxy/application_1602298274728_0013/\">Link</a></td><td><a target=\"_blank\" href=\"https://storage-0-2.storage-0-svc.filedb.svc.cluster.local:8044/node/containerlogs/container_1602298274728_0013_01_000001/root\">Link</a></td><td>✔</td></tr></table>"
      ],
      "text/plain": [
       "<IPython.core.display.HTML object>"
      ]
     },
     "metadata": {},
     "output_type": "display_data"
    },
    {
     "data": {
      "application/vnd.jupyter.widget-view+json": {
       "model_id": "99a0cdc1773045e6b9f96afde960399e",
       "version_major": 2,
       "version_minor": 0
      },
      "text/plain": [
       "FloatProgress(value=0.0, bar_style='info', description='Progress:', layout=Layout(height='25px', width='50%'),…"
      ]
     },
     "metadata": {},
     "output_type": "display_data"
    },
    {
     "name": "stdout",
     "output_type": "stream",
     "text": [
      "SparkSession available as 'spark'.\n"
     ]
    },
    {
     "data": {
      "application/vnd.jupyter.widget-view+json": {
       "model_id": "cd3ef010aa7447638d71efebbe907c8b",
       "version_major": 2,
       "version_minor": 0
      },
      "text/plain": [
       "FloatProgress(value=0.0, bar_style='info', description='Progress:', layout=Layout(height='25px', width='50%'),…"
      ]
     },
     "metadata": {},
     "output_type": "display_data"
    }
   ],
   "source": [
    "import sys\n",
    "import os\n",
    "import subprocess\n",
    "from io import BytesIO\n",
    "from gzip import GzipFile\n",
    "from pyspark.sql import Row\n",
    "import glob\n",
    "import time\n",
    "import numpy as np\n",
    "from itertools import repeat\n",
    "from collections import OrderedDict"
   ]
  },
  {
   "cell_type": "code",
   "execution_count": 20,
   "metadata": {},
   "outputs": [
    {
     "data": {
      "application/vnd.jupyter.widget-view+json": {
       "model_id": "ce04e3c7b5384932bf89eba39d7ed5d0",
       "version_major": 2,
       "version_minor": 0
      },
      "text/plain": [
       "FloatProgress(value=0.0, bar_style='info', description='Progress:', layout=Layout(height='25px', width='50%'),…"
      ]
     },
     "metadata": {},
     "output_type": "display_data"
    }
   ],
   "source": [
    "tmp = spark.read.parquet('hdfs:///manga/brian-test/dr15/v2_4_3/modelcubes')"
   ]
  },
  {
   "cell_type": "code",
   "execution_count": 14,
   "metadata": {},
   "outputs": [
    {
     "data": {
      "application/vnd.jupyter.widget-view+json": {
       "model_id": "5d5ec0cd279142a582afb5677c770419",
       "version_major": 2,
       "version_minor": 0
      },
      "text/plain": [
       "FloatProgress(value=0.0, bar_style='info', description='Progress:', layout=Layout(height='25px', width='50%'),…"
      ]
     },
     "metadata": {},
     "output_type": "display_data"
    },
    {
     "name": "stdout",
     "output_type": "stream",
     "text": [
      "Row(plateifu='8145-6104', mangaid='1-152567', ra=116.511679886, dec=28.878071563, daptype='HYB10-GAU-MILESHC', spaxel_idx=625, x=31, y=11, wave=3621.595947265625, flux=-0.012602979317307472, ivar=379.7341003417969, mask=32, model=0.0, emline=0.0, emline_base=0.0, emline_mask=128, binid_binned_spectra=60, binid_stellar_cont=60, binid_emline_moments=0, binid_emline_models=832, binid_spectral_indices=0)"
     ]
    }
   ],
   "source": [
    "tmp.first()"
   ]
  },
  {
   "cell_type": "code",
   "execution_count": 23,
   "metadata": {},
   "outputs": [
    {
     "data": {
      "application/vnd.jupyter.widget-view+json": {
       "model_id": "1b3a569902a649e191285b5e8272ab7d",
       "version_major": 2,
       "version_minor": 0
      },
      "text/plain": [
       "FloatProgress(value=0.0, bar_style='info', description='Progress:', layout=Layout(height='25px', width='50%'),…"
      ]
     },
     "metadata": {},
     "output_type": "display_data"
    }
   ],
   "source": [
    "maps = spark.read.parquet('hdfs:///manga/brian-test/dr15/v2_4_3/maps')"
   ]
  },
  {
   "cell_type": "code",
   "execution_count": null,
   "metadata": {},
   "outputs": [],
   "source": [
    "tmp.printSchema()"
   ]
  },
  {
   "cell_type": "code",
   "execution_count": null,
   "metadata": {},
   "outputs": [],
   "source": [
    "tmp.show(10)"
   ]
  },
  {
   "cell_type": "code",
   "execution_count": null,
   "metadata": {},
   "outputs": [],
   "source": [
    "maps.printSchema()"
   ]
  },
  {
   "cell_type": "code",
   "execution_count": 26,
   "metadata": {},
   "outputs": [
    {
     "data": {
      "application/vnd.jupyter.widget-view+json": {
       "model_id": "04268ef300db4507a41f29f7679df571",
       "version_major": 2,
       "version_minor": 0
      },
      "text/plain": [
       "FloatProgress(value=0.0, bar_style='info', description='Progress:', layout=Layout(height='25px', width='50%'),…"
      ]
     },
     "metadata": {},
     "output_type": "display_data"
    }
   ],
   "source": [
    "maps.createOrReplaceTempView(\"maps\")\n",
    "maps_test = spark.sql(\"select * from maps limit 10\")\n",
    "maps_test.createOrReplaceTempView(\"maps_test\")"
   ]
  },
  {
   "cell_type": "code",
   "execution_count": 31,
   "metadata": {},
   "outputs": [
    {
     "data": {
      "application/vnd.jupyter.widget-view+json": {
       "model_id": "a0e80ad4f7bb40a491951cd2241070bf",
       "version_major": 2,
       "version_minor": 0
      },
      "text/plain": [
       "FloatProgress(value=0.0, bar_style='info', description='Progress:', layout=Layout(height='25px', width='50%'),…"
      ]
     },
     "metadata": {},
     "output_type": "display_data"
    }
   ],
   "source": [
    "modelcubes = spark.read.parquet('hdfs:///manga/arik-test/dr15/v2_4_3/modelcubes_voxel')\n",
    "modelcubes.createOrReplaceTempView('modelcubes')\n",
    "modelcubes_test = spark.sql(\"select * from modelcubes limit 10\")\n",
    "modelcubes_test.createOrReplaceTempView(\"modelcubes_test\")\n"
   ]
  },
  {
   "cell_type": "code",
   "execution_count": 3,
   "metadata": {},
   "outputs": [
    {
     "data": {
      "application/vnd.jupyter.widget-view+json": {
       "model_id": "9d84d50b0a044dc2b68ba15094d3b5ce",
       "version_major": 2,
       "version_minor": 0
      },
      "text/plain": [
       "FloatProgress(value=0.0, bar_style='info', description='Progress:', layout=Layout(height='25px', width='50%'),…"
      ]
     },
     "metadata": {},
     "output_type": "display_data"
    }
   ],
   "source": [
    "modelcubes = spark.read.parquet('hdfs:///manga/brian-test/dr15/v2_4_3/modelcubes')\n",
    "modelcubes.createOrReplaceTempView('modelcubes')\n",
    "modelcubes_test = spark.sql(\"select * from modelcubes limit 10\")\n",
    "modelcubes_test.createOrReplaceTempView(\"modelcubes_test\")\n"
   ]
  },
  {
   "cell_type": "code",
   "execution_count": 36,
   "metadata": {},
   "outputs": [
    {
     "data": {
      "application/vnd.jupyter.widget-view+json": {
       "model_id": "d329866ba2784339bc3d6929436c6a8d",
       "version_major": 2,
       "version_minor": 0
      },
      "text/plain": [
       "FloatProgress(value=0.0, bar_style='info', description='Progress:', layout=Layout(height='25px', width='50%'),…"
      ]
     },
     "metadata": {},
     "output_type": "display_data"
    }
   ],
   "source": [
    "drpall = spark.read.parquet('hdfs:///manga/brian-test/dr15/v2_4_3/drpall')\n",
    "drpall.createOrReplaceTempView('drpall')\n",
    "drpall_test = spark.sql(\"select * from drpall limit 10\")\n",
    "drpall_test.createOrReplaceTempView(\"drpall_test\")"
   ]
  },
  {
   "cell_type": "code",
   "execution_count": 38,
   "metadata": {},
   "outputs": [
    {
     "data": {
      "application/vnd.jupyter.widget-view+json": {
       "model_id": "0e232799c6f34ea59ed46ff96b4d951c",
       "version_major": 2,
       "version_minor": 0
      },
      "text/plain": [
       "FloatProgress(value=0.0, bar_style='info', description='Progress:', layout=Layout(height='25px', width='50%'),…"
      ]
     },
     "metadata": {},
     "output_type": "display_data"
    }
   ],
   "source": [
    "dapall = spark.read.parquet('hdfs:///manga/brian-test/dr15/v2_4_3/dapall')\n",
    "dapall.createOrReplaceTempView('dapall')\n",
    "dapall_test = spark.sql(\"select * from dapall limit 10\")\n",
    "dapall_test.createOrReplaceTempView(\"dapall_test\")"
   ]
  },
  {
   "cell_type": "code",
   "execution_count": null,
   "metadata": {},
   "outputs": [],
   "source": [
    "authfileDF =spark.read.json(\"hdfs:///.config/creds.json\")\n",
    "\n",
    "kvs = authfileDF.collect()[0]\n",
    "jdbc_username = kvs.jdbc_username\n",
    "jdbc_password = kvs.jdbc_password\n",
    "\n",
    "#print(jdbc_username)\n",
    "#print(jdbc_password)\n"
   ]
  },
  {
   "cell_type": "code",
   "execution_count": 4,
   "metadata": {},
   "outputs": [
    {
     "data": {
      "application/vnd.jupyter.widget-view+json": {
       "model_id": "7997d1e80028440391b494d6e004c883",
       "version_major": 2,
       "version_minor": 0
      },
      "text/plain": [
       "FloatProgress(value=0.0, bar_style='info', description='Progress:', layout=Layout(height='25px', width='50%'),…"
      ]
     },
     "metadata": {},
     "output_type": "display_data"
    },
    {
     "name": "stdout",
     "output_type": "stream",
     "text": [
      "Use MSSQL connector to write to master SQL instance \n",
      "MSSQL Connector write(overwrite) to data pool external table succeeded"
     ]
    }
   ],
   "source": [
    "#Write from Spark to SQL table using MSSQL Spark Connector\n",
    "print(\"Use MSSQL connector to write to master SQL instance \")\n",
    "\n",
    "servername = \"jdbc:sqlserver://master-0.master-svc\"\n",
    "dbname = \"manga_bdc\"\n",
    "url = servername + \";\" + \"databaseName=\" + dbname + \";\"\n",
    "\n",
    "#dbtable = \"Object\" this is not needed\n",
    "user = jdbc_username\n",
    "password = jdbc_password # Please specify password here\n",
    "\n",
    "datapool_table = \"modelcubes_test\"\n",
    "#datapool_table = \"Object\"\n",
    "datasource_name = \"SqlDataPool\"\n",
    "\n",
    "batchsize = 1000000\n",
    "\n",
    "\n",
    "try:\n",
    "  modelcubes_test.write \\\n",
    "    .format(\"com.microsoft.sqlserver.jdbc.spark\") \\\n",
    "    .mode(\"overwrite\") \\\n",
    "    .option(\"url\", url) \\\n",
    "    .option(\"dbtable\", datapool_table) \\\n",
    "    .option(\"user\", user) \\\n",
    "    .option(\"password\", password) \\\n",
    "    .option(\"dataPoolDataSource\",datasource_name)\\\n",
    "    .option(\"batchsize\",batchsize)\\\n",
    "    .save()\n",
    "except ValueError as error :\n",
    "    print(\"MSSQL Connector write failed\", error)\n",
    "\n",
    "print(\"MSSQL Connector write(overwrite) to data pool external table succeeded\")\n"
   ]
  },
  {
   "cell_type": "code",
   "execution_count": null,
   "metadata": {},
   "outputs": [],
   "source": []
  },
  {
   "cell_type": "code",
   "execution_count": null,
   "metadata": {},
   "outputs": [],
   "source": []
  }
 ],
 "metadata": {
  "kernelspec": {
   "display_name": "PySpark",
   "language": "",
   "name": "pysparkkernel"
  },
  "language_info": {
   "codemirror_mode": {
    "name": "python",
    "version": 3
   },
   "mimetype": "text/x-python",
   "name": "pyspark",
   "pygments_lexer": "python3"
  }
 },
 "nbformat": 4,
 "nbformat_minor": 4
}
