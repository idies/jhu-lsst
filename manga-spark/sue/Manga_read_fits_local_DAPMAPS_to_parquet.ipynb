{
 "cells": [
  {
   "cell_type": "code",
   "execution_count": 71,
   "metadata": {},
   "outputs": [
    {
     "name": "stdout",
     "output_type": "stream",
     "text": [
      "Starting Spark application\n"
     ]
    },
    {
     "data": {
      "text/html": [
       "<table>\n",
       "<tr><th>ID</th><th>YARN Application ID</th><th>Kind</th><th>State</th><th>Spark UI</th><th>Driver log</th><th>Current session?</th></tr><tr><td>262</td><td>application_1588740809550_0250</td><td>pyspark</td><td>idle</td><td><a target=\"_blank\" href=\"https://sparkhead-0.sparkhead-svc:8090/proxy/application_1588740809550_0250/\">Link</a></td><td><a target=\"_blank\" href=\"https://storage-0-2.storage-0-svc.filedb.svc.cluster.local:8044/node/containerlogs/container_1588740809550_0250_01_000001/root\">Link</a></td><td>✔</td></tr></table>"
      ],
      "text/plain": [
       "<IPython.core.display.HTML object>"
      ]
     },
     "metadata": {},
     "output_type": "display_data"
    },
    {
     "data": {
      "application/vnd.jupyter.widget-view+json": {
       "model_id": "",
       "version_major": 2,
       "version_minor": 0
      },
      "text/plain": [
       "FloatProgress(value=0.0, bar_style='info', description='Progress:', layout=Layout(height='25px', width='50%'),…"
      ]
     },
     "metadata": {},
     "output_type": "display_data"
    },
    {
     "name": "stdout",
     "output_type": "stream",
     "text": [
      "SparkSession available as 'spark'.\n"
     ]
    },
    {
     "data": {
      "text/html": [
       "Current session configs: <tt>{'name': 'brian-load-dapmaps-write', 'executorMemory': '8G', 'numExecutors': 29, 'executorCores': 4, 'conf': {'spark.yarn.appMasterEnv.PYSPARK_PYTHON': 'python3'}, 'kind': 'pyspark'}</tt><br>"
      ],
      "text/plain": [
       "<IPython.core.display.HTML object>"
      ]
     },
     "metadata": {},
     "output_type": "display_data"
    },
    {
     "data": {
      "text/html": [
       "<table>\n",
       "<tr><th>ID</th><th>YARN Application ID</th><th>Kind</th><th>State</th><th>Spark UI</th><th>Driver log</th><th>Current session?</th></tr><tr><td>262</td><td>application_1588740809550_0250</td><td>pyspark</td><td>idle</td><td><a target=\"_blank\" href=\"https://sparkhead-0.sparkhead-svc:8090/proxy/application_1588740809550_0250/\">Link</a></td><td><a target=\"_blank\" href=\"https://storage-0-2.storage-0-svc.filedb.svc.cluster.local:8044/node/containerlogs/container_1588740809550_0250_01_000001/root\">Link</a></td><td>✔</td></tr></table>"
      ],
      "text/plain": [
       "<IPython.core.display.HTML object>"
      ]
     },
     "metadata": {},
     "output_type": "display_data"
    }
   ],
   "source": [
    "%%configure -f\n",
    "{\"name\": \"brian-load-dapmaps-write\", \"executorMemory\": \"8G\", \"numExecutors\": 29, \"executorCores\": 4,\n",
    " \"conf\": {\"spark.yarn.appMasterEnv.PYSPARK_PYTHON\":\"python3\"}}"
   ]
  },
  {
   "cell_type": "code",
   "execution_count": 72,
   "metadata": {},
   "outputs": [
    {
     "data": {
      "application/vnd.jupyter.widget-view+json": {
       "model_id": "",
       "version_major": 2,
       "version_minor": 0
      },
      "text/plain": [
       "FloatProgress(value=0.0, bar_style='info', description='Progress:', layout=Layout(height='25px', width='50%'),…"
      ]
     },
     "metadata": {},
     "output_type": "display_data"
    }
   ],
   "source": [
    "import sys\n",
    "import os\n",
    "import re\n",
    "import subprocess\n",
    "from io import BytesIO\n",
    "from gzip import GzipFile\n",
    "from pyspark.sql import Row\n",
    "import glob\n",
    "import time\n",
    "import numpy as np\n",
    "from itertools import repeat\n",
    "from collections import OrderedDict"
   ]
  },
  {
   "cell_type": "code",
   "execution_count": 73,
   "metadata": {},
   "outputs": [
    {
     "data": {
      "application/vnd.jupyter.widget-view+json": {
       "model_id": "",
       "version_major": 2,
       "version_minor": 0
      },
      "text/plain": [
       "FloatProgress(value=0.0, bar_style='info', description='Progress:', layout=Layout(height='25px', width='50%'),…"
      ]
     },
     "metadata": {},
     "output_type": "display_data"
    }
   ],
   "source": [
    "def get_fits_module():\n",
    "    if 'astropy' not in sys.modules:\n",
    "        stdout = subprocess.check_output(\n",
    "            sys.executable + ' -m pip install astropy',\n",
    "            stderr=subprocess.STDOUT,\n",
    "            shell=True).decode('utf-8')\n",
    "    from astropy.io import fits\n",
    "    return fits\n",
    "\n",
    "def getfitslocal(path):\n",
    "    fits = get_fits_module()\n",
    "    fits_obj = fits.open(path)\n",
    "    return fits_obj\n",
    "\n",
    "# Spark dataframe cannot do numpy types\n",
    "def typeconv(i):\n",
    "    try:\n",
    "        return i.item()\n",
    "    except:\n",
    "        return i"
   ]
  },
  {
   "cell_type": "code",
   "execution_count": 74,
   "metadata": {},
   "outputs": [
    {
     "data": {
      "application/vnd.jupyter.widget-view+json": {
       "model_id": "",
       "version_major": 2,
       "version_minor": 0
      },
      "text/plain": [
       "FloatProgress(value=0.0, bar_style='info', description='Progress:', layout=Layout(height='25px', width='50%'),…"
      ]
     },
     "metadata": {},
     "output_type": "display_data"
    }
   ],
   "source": [
    "def get_channels(hdu):\n",
    "    ''' get map channel names'''\n",
    "    columns = []\n",
    "    for ext in hdu:\n",
    "        extname = ext.name\n",
    "        if extname == 'PRIMARY':\n",
    "            continue\n",
    "        data = ext.data\n",
    "        ctype = 'real' if data.dtype == np.dtype('>f') else 'integer'\n",
    "        hdr=ext.header\n",
    "        channels = [{int(key[1:]):val} for key, val in hdr.items() if re.search('^C[0-9]', key)]\n",
    "        if not channels:\n",
    "            channels = [None]\n",
    "        for i, channel in enumerate(channels):\n",
    "            chantext = channel[i+1] if channel else None\n",
    "            if chantext:\n",
    "                newchan = re.sub('[-]{2,}', '-', chantext).lower().replace('-', '_').replace(' ', '_').replace('.', '').replace('/', '_')\n",
    "                colname = '{0}_{1}'.format(extname.lower(), newchan)\n",
    "            else:\n",
    "                colname = '{0}'.format(extname.lower())\n",
    "            columns.append(colname)\n",
    "    return columns"
   ]
  },
  {
   "cell_type": "code",
   "execution_count": 75,
   "metadata": {},
   "outputs": [
    {
     "data": {
      "application/vnd.jupyter.widget-view+json": {
       "model_id": "",
       "version_major": 2,
       "version_minor": 0
      },
      "text/plain": [
       "FloatProgress(value=0.0, bar_style='info', description='Progress:', layout=Layout(height='25px', width='50%'),…"
      ]
     },
     "metadata": {},
     "output_type": "display_data"
    }
   ],
   "source": [
    "def reshape_data(hdu):\n",
    "    ''' reshape the data into n_channel by n_spaxel '''\n",
    "    reshaped=[]\n",
    "    for ext in hdu:\n",
    "        if ext.name == 'PRIMARY':\n",
    "            continue\n",
    "        extname = ext.name\n",
    "        data = ext.data\n",
    "        if data.ndim == 3:\n",
    "            nchan, ny, nx = data.shape\n",
    "            red = data.reshape(nchan, ny*nx)\n",
    "        else:\n",
    "            ny, nx = data.shape\n",
    "            nchan = None\n",
    "            red = data.reshape(ny*nx)\n",
    "        reshaped.append(red)\n",
    "    return reshaped"
   ]
  },
  {
   "cell_type": "code",
   "execution_count": 76,
   "metadata": {},
   "outputs": [
    {
     "data": {
      "application/vnd.jupyter.widget-view+json": {
       "model_id": "",
       "version_major": 2,
       "version_minor": 0
      },
      "text/plain": [
       "FloatProgress(value=0.0, bar_style='info', description='Progress:', layout=Layout(height='25px', width='50%'),…"
      ]
     },
     "metadata": {},
     "output_type": "display_data"
    }
   ],
   "source": [
    "def collapse_spaxel(data, spaxel_idx):\n",
    "    ''' collapse all channel parameters values into a single array '''\n",
    "    params = []\n",
    "    for d in data:\n",
    "        if d.ndim == 2:\n",
    "            pp=[typeconv(i) for i in d[:,spaxel_idx].tolist()]\n",
    "        else:\n",
    "            pp=[typeconv(d[spaxel_idx])]\n",
    "        params.extend(pp)\n",
    "    return params"
   ]
  },
  {
   "cell_type": "code",
   "execution_count": 77,
   "metadata": {},
   "outputs": [
    {
     "data": {
      "application/vnd.jupyter.widget-view+json": {
       "model_id": "",
       "version_major": 2,
       "version_minor": 0
      },
      "text/plain": [
       "FloatProgress(value=0.0, bar_style='info', description='Progress:', layout=Layout(height='25px', width='50%'),…"
      ]
     },
     "metadata": {},
     "output_type": "display_data"
    }
   ],
   "source": [
    "from itertools import repeat\n",
    "\n",
    "def createPerSpaxelRow(fits):\n",
    "    n_y, n_x = fits['SPX_SNR'].data.shape\n",
    "    n_spax = np.int(n_y * n_x)\n",
    "    \n",
    "    base_cols = ('plateifu', 'mangaid', 'ra', 'dec', 'daptype', 'spaxel_idx', 'x', 'y')\n",
    "    channels = get_channels(fits)\n",
    "    columns = base_cols + tuple(channels)\n",
    "    mapRow = Row(*columns)\n",
    "    \n",
    "    hdr = fits[0].header\n",
    "    plateifu = typeconv(hdr.get('PLATEIFU'))\n",
    "    mangaid = typeconv(hdr.get('MANGAID'))\n",
    "    ra = typeconv(hdr.get('OBJRA'))\n",
    "    dec = typeconv(hdr.get('OBJDEC'))\n",
    "    daptype = typeconv(hdr.get('DAPTYPE'))\n",
    "    \n",
    "    reshaped_params = reshape_data(fits)\n",
    "    \n",
    "    rows = []\n",
    "    for spaxel_idx in range(n_spax):\n",
    "        y_idx = int(spaxel_idx / n_y)\n",
    "        x_idx = spaxel_idx - y_idx * n_y\n",
    "        x = (x_idx)\n",
    "        y = (y_idx)\n",
    "        \n",
    "        # params a list of channel values for a given spaxel in order of channels \n",
    "        params = collapse_spaxel(reshaped_params, spaxel_idx)\n",
    "        \n",
    "        row_gen = [mapRow(plateifu, mangaid, ra, dec, daptype, (spaxel_idx),\n",
    "                      x, y, *params)]\n",
    "        #_rows = [mapRow(*i) for i in row_gen]\n",
    "        rows.extend(row_gen)\n",
    "    return rows\n",
    "    "
   ]
  },
  {
   "cell_type": "code",
   "execution_count": 78,
   "metadata": {},
   "outputs": [
    {
     "data": {
      "application/vnd.jupyter.widget-view+json": {
       "model_id": "",
       "version_major": 2,
       "version_minor": 0
      },
      "text/plain": [
       "FloatProgress(value=0.0, bar_style='info', description='Progress:', layout=Layout(height='25px', width='50%'),…"
      ]
     },
     "metadata": {},
     "output_type": "display_data"
    }
   ],
   "source": [
    "base_dir = '/sciserver/vc/manga/vc/sas/dr15/manga/spectro/analysis/v2_4_3/2.2.1/HYB10-GAU-MILESHC/'\n",
    "dirs1 = [base_dir + i for i in os.listdir(base_dir)]"
   ]
  },
  {
   "cell_type": "code",
   "execution_count": 79,
   "metadata": {},
   "outputs": [
    {
     "data": {
      "application/vnd.jupyter.widget-view+json": {
       "model_id": "",
       "version_major": 2,
       "version_minor": 0
      },
      "text/plain": [
       "FloatProgress(value=0.0, bar_style='info', description='Progress:', layout=Layout(height='25px', width='50%'),…"
      ]
     },
     "metadata": {},
     "output_type": "display_data"
    }
   ],
   "source": [
    "files_rdd = sc.parallelize(dirs1, len(dirs1)).flatMap(lambda x: [x+'/'+i for i in os.listdir(x)]).flatMap(lambda d: glob.glob(d+'/*-MAPS-*.fits.gz'))"
   ]
  },
  {
   "cell_type": "code",
   "execution_count": 80,
   "metadata": {},
   "outputs": [
    {
     "data": {
      "application/vnd.jupyter.widget-view+json": {
       "model_id": "",
       "version_major": 2,
       "version_minor": 0
      },
      "text/plain": [
       "FloatProgress(value=0.0, bar_style='info', description='Progress:', layout=Layout(height='25px', width='50%'),…"
      ]
     },
     "metadata": {},
     "output_type": "display_data"
    },
    {
     "name": "stdout",
     "output_type": "stream",
     "text": [
      "N files: 4718. Total Size: 9897MB, average size: 4"
     ]
    }
   ],
   "source": [
    "files_stats = files_rdd.map(\n",
    "    lambda x: (os.stat(x).st_size/1024/1024, 1, os.stat(x).st_size/1024/1024)\n",
    ").reduce(\n",
    "    lambda x,y: (x[0]+y[0], x[1]+y[1], max(x[2],y[2]))\n",
    ")\n",
    "print('N files: {1}. Total Size: {0:0.0f}MB, average size: {2:0.0f}'.format(*files_stats))"
   ]
  },
  {
   "cell_type": "code",
   "execution_count": 81,
   "metadata": {},
   "outputs": [
    {
     "data": {
      "application/vnd.jupyter.widget-view+json": {
       "model_id": "",
       "version_major": 2,
       "version_minor": 0
      },
      "text/plain": [
       "FloatProgress(value=0.0, bar_style='info', description='Progress:', layout=Layout(height='25px', width='50%'),…"
      ]
     },
     "metadata": {},
     "output_type": "display_data"
    }
   ],
   "source": [
    "n_part = int(files_stats[1])\n",
    "table_data = files_rdd.repartition(n_part).map(getfitslocal).flatMap(createPerSpaxelRow)"
   ]
  },
  {
   "cell_type": "code",
   "execution_count": 82,
   "metadata": {},
   "outputs": [
    {
     "data": {
      "application/vnd.jupyter.widget-view+json": {
       "model_id": "",
       "version_major": 2,
       "version_minor": 0
      },
      "text/plain": [
       "FloatProgress(value=0.0, bar_style='info', description='Progress:', layout=Layout(height='25px', width='50%'),…"
      ]
     },
     "metadata": {},
     "output_type": "display_data"
    },
    {
     "name": "stdout",
     "output_type": "stream",
     "text": [
      "Row(plateifu='8145-6104', mangaid='1-152567', ra=116.511679886, dec=28.878071563, daptype='HYB10-GAU-MILESHC', spaxel_idx=0, x=0, y=0, spx_skycoo_on_sky_x=13.499882698059082, spx_skycoo_on_sky_y=-13.49868106842041, spx_ellcoo_elliptical_radius=23.674753189086914, spx_ellcoo_r_re=6.374599456787109, spx_ellcoo_elliptical_azimuth=115.72105407714844, spx_mflux=0.0, spx_mflux_ivar=0.0, spx_snr=0.0, binid_binned_spectra=-1, binid_stellar_continua=-1, binid_em_line_moments=-1, binid_em_line_models=-1, binid_spectral_indices=-1, bin_lwskycoo_lum_weighted_on_sky_x=0.0, bin_lwskycoo_lum_weighted_on_sky_y=0.0, bin_lwellcoo_lum_weighted_elliptical_radius=0.0, bin_lwellcoo_r_re=0.0, bin_lwellcoo_lum_weighted_elliptical_azimuth=0.0, bin_area=0.0, bin_farea=0.0, bin_mflux=0.0, bin_mflux_ivar=0.0, bin_mflux_mask=1073741827, bin_snr=0.0, stellar_vel=0.0, stellar_vel_ivar=0.0, stellar_vel_mask=1073741827, stellar_sigma=0.0, stellar_sigma_ivar=0.0, stellar_sigma_mask=1073741827, stellar_sigmacorr=0.0, stellar_cont_fresid_68th_percentile=0.0, stellar_cont_fresid_99th_percentile=0.0, stellar_cont_rchi2=0.0, emline_sflux_oiid_3728=0.0, emline_sflux_oii_3729=0.0, emline_sflux_hthe_3798=0.0, emline_sflux_heta_3836=0.0, emline_sflux_neiii_3869=0.0, emline_sflux_hzet_3890=0.0, emline_sflux_neiii_3968=0.0, emline_sflux_heps_3971=0.0, emline_sflux_hdel_4102=0.0, emline_sflux_hgam_4341=0.0, emline_sflux_heii_4687=0.0, emline_sflux_hb_4862=0.0, emline_sflux_oiii_4960=0.0, emline_sflux_oiii_5008=0.0, emline_sflux_hei_5877=0.0, emline_sflux_oi_6302=0.0, emline_sflux_oi_6365=0.0, emline_sflux_nii_6549=0.0, emline_sflux_ha_6564=0.0, emline_sflux_nii_6585=0.0, emline_sflux_sii_6718=0.0, emline_sflux_sii_6732=0.0, emline_sflux_ivar_oiid_3728=0.0, emline_sflux_ivar_oii_3729=0.0, emline_sflux_ivar_hthe_3798=0.0, emline_sflux_ivar_heta_3836=0.0, emline_sflux_ivar_neiii_3869=0.0, emline_sflux_ivar_hzet_3890=0.0, emline_sflux_ivar_neiii_3968=0.0, emline_sflux_ivar_heps_3971=0.0, emline_sflux_ivar_hdel_4102=0.0, emline_sflux_ivar_hgam_4341=0.0, emline_sflux_ivar_heii_4687=0.0, emline_sflux_ivar_hb_4862=0.0, emline_sflux_ivar_oiii_4960=0.0, emline_sflux_ivar_oiii_5008=0.0, emline_sflux_ivar_hei_5877=0.0, emline_sflux_ivar_oi_6302=0.0, emline_sflux_ivar_oi_6365=0.0, emline_sflux_ivar_nii_6549=0.0, emline_sflux_ivar_ha_6564=0.0, emline_sflux_ivar_nii_6585=0.0, emline_sflux_ivar_sii_6718=0.0, emline_sflux_ivar_sii_6732=0.0, emline_sflux_mask_oiid_3728=1073741827, emline_sflux_mask_oii_3729=1073741827, emline_sflux_mask_hthe_3798=1073741827, emline_sflux_mask_heta_3836=1073741827, emline_sflux_mask_neiii_3869=1073741827, emline_sflux_mask_hzet_3890=1073741827, emline_sflux_mask_neiii_3968=1073741827, emline_sflux_mask_heps_3971=1073741827, emline_sflux_mask_hdel_4102=1073741827, emline_sflux_mask_hgam_4341=1073741827, emline_sflux_mask_heii_4687=1073741827, emline_sflux_mask_hb_4862=1073741827, emline_sflux_mask_oiii_4960=1073741827, emline_sflux_mask_oiii_5008=1073741827, emline_sflux_mask_hei_5877=1073741827, emline_sflux_mask_oi_6302=1073741827, emline_sflux_mask_oi_6365=1073741827, emline_sflux_mask_nii_6549=1073741827, emline_sflux_mask_ha_6564=1073741827, emline_sflux_mask_nii_6585=1073741827, emline_sflux_mask_sii_6718=1073741827, emline_sflux_mask_sii_6732=1073741827, emline_sew_oiid_3728=0.0, emline_sew_oii_3729=0.0, emline_sew_hthe_3798=0.0, emline_sew_heta_3836=0.0, emline_sew_neiii_3869=0.0, emline_sew_hzet_3890=0.0, emline_sew_neiii_3968=0.0, emline_sew_heps_3971=0.0, emline_sew_hdel_4102=0.0, emline_sew_hgam_4341=0.0, emline_sew_heii_4687=0.0, emline_sew_hb_4862=0.0, emline_sew_oiii_4960=0.0, emline_sew_oiii_5008=0.0, emline_sew_hei_5877=0.0, emline_sew_oi_6302=0.0, emline_sew_oi_6365=0.0, emline_sew_nii_6549=0.0, emline_sew_ha_6564=0.0, emline_sew_nii_6585=0.0, emline_sew_sii_6718=0.0, emline_sew_sii_6732=0.0, emline_sew_ivar_oiid_3728=0.0, emline_sew_ivar_oii_3729=0.0, emline_sew_ivar_hthe_3798=0.0, emline_sew_ivar_heta_3836=0.0, emline_sew_ivar_neiii_3869=0.0, emline_sew_ivar_hzet_3890=0.0, emline_sew_ivar_neiii_3968=0.0, emline_sew_ivar_heps_3971=0.0, emline_sew_ivar_hdel_4102=0.0, emline_sew_ivar_hgam_4341=0.0, emline_sew_ivar_heii_4687=0.0, emline_sew_ivar_hb_4862=0.0, emline_sew_ivar_oiii_4960=0.0, emline_sew_ivar_oiii_5008=0.0, emline_sew_ivar_hei_5877=0.0, emline_sew_ivar_oi_6302=0.0, emline_sew_ivar_oi_6365=0.0, emline_sew_ivar_nii_6549=0.0, emline_sew_ivar_ha_6564=0.0, emline_sew_ivar_nii_6585=0.0, emline_sew_ivar_sii_6718=0.0, emline_sew_ivar_sii_6732=0.0, emline_sew_mask_oiid_3728=1073741827, emline_sew_mask_oii_3729=1073741827, emline_sew_mask_hthe_3798=1073741827, emline_sew_mask_heta_3836=1073741827, emline_sew_mask_neiii_3869=1073741827, emline_sew_mask_hzet_3890=1073741827, emline_sew_mask_neiii_3968=1073741827, emline_sew_mask_heps_3971=1073741827, emline_sew_mask_hdel_4102=1073741827, emline_sew_mask_hgam_4341=1073741827, emline_sew_mask_heii_4687=1073741827, emline_sew_mask_hb_4862=1073741827, emline_sew_mask_oiii_4960=1073741827, emline_sew_mask_oiii_5008=1073741827, emline_sew_mask_hei_5877=1073741827, emline_sew_mask_oi_6302=1073741827, emline_sew_mask_oi_6365=1073741827, emline_sew_mask_nii_6549=1073741827, emline_sew_mask_ha_6564=1073741827, emline_sew_mask_nii_6585=1073741827, emline_sew_mask_sii_6718=1073741827, emline_sew_mask_sii_6732=1073741827, emline_gflux_oii_3727=0.0, emline_gflux_oii_3729=0.0, emline_gflux_hthe_3798=0.0, emline_gflux_heta_3836=0.0, emline_gflux_neiii_3869=0.0, emline_gflux_hzet_3890=0.0, emline_gflux_neiii_3968=0.0, emline_gflux_heps_3971=0.0, emline_gflux_hdel_4102=0.0, emline_gflux_hgam_4341=0.0, emline_gflux_heii_4687=0.0, emline_gflux_hb_4862=0.0, emline_gflux_oiii_4960=0.0, emline_gflux_oiii_5008=0.0, emline_gflux_hei_5877=0.0, emline_gflux_oi_6302=0.0, emline_gflux_oi_6365=0.0, emline_gflux_nii_6549=0.0, emline_gflux_ha_6564=0.0, emline_gflux_nii_6585=0.0, emline_gflux_sii_6718=0.0, emline_gflux_sii_6732=0.0, emline_gflux_ivar_oii_3727=0.0, emline_gflux_ivar_oii_3729=0.0, emline_gflux_ivar_hthe_3798=0.0, emline_gflux_ivar_heta_3836=0.0, emline_gflux_ivar_neiii_3869=0.0, emline_gflux_ivar_hzet_3890=0.0, emline_gflux_ivar_neiii_3968=0.0, emline_gflux_ivar_heps_3971=0.0, emline_gflux_ivar_hdel_4102=0.0, emline_gflux_ivar_hgam_4341=0.0, emline_gflux_ivar_heii_4687=0.0, emline_gflux_ivar_hb_4862=0.0, emline_gflux_ivar_oiii_4960=0.0, emline_gflux_ivar_oiii_5008=0.0, emline_gflux_ivar_hei_5877=0.0, emline_gflux_ivar_oi_6302=0.0, emline_gflux_ivar_oi_6365=0.0, emline_gflux_ivar_nii_6549=0.0, emline_gflux_ivar_ha_6564=0.0, emline_gflux_ivar_nii_6585=0.0, emline_gflux_ivar_sii_6718=0.0, emline_gflux_ivar_sii_6732=0.0, emline_gflux_mask_oii_3727=1073741827, emline_gflux_mask_oii_3729=1073741827, emline_gflux_mask_hthe_3798=1073741827, emline_gflux_mask_heta_3836=1073741827, emline_gflux_mask_neiii_3869=1073741827, emline_gflux_mask_hzet_3890=1073741827, emline_gflux_mask_neiii_3968=1073741827, emline_gflux_mask_heps_3971=1073741827, emline_gflux_mask_hdel_4102=1073741827, emline_gflux_mask_hgam_4341=1073741827, emline_gflux_mask_heii_4687=1073741827, emline_gflux_mask_hb_4862=1073741827, emline_gflux_mask_oiii_4960=1073741827, emline_gflux_mask_oiii_5008=1073741827, emline_gflux_mask_hei_5877=1073741827, emline_gflux_mask_oi_6302=1073741827, emline_gflux_mask_oi_6365=1073741827, emline_gflux_mask_nii_6549=1073741827, emline_gflux_mask_ha_6564=1073741827, emline_gflux_mask_nii_6585=1073741827, emline_gflux_mask_sii_6718=1073741827, emline_gflux_mask_sii_6732=1073741827, emline_gew_oii_3727=0.0, emline_gew_oii_3729=0.0, emline_gew_hthe_3798=0.0, emline_gew_heta_3836=0.0, emline_gew_neiii_3869=0.0, emline_gew_hzet_3890=0.0, emline_gew_neiii_3968=0.0, emline_gew_heps_3971=0.0, emline_gew_hdel_4102=0.0, emline_gew_hgam_4341=0.0, emline_gew_heii_4687=0.0, emline_gew_hb_4862=0.0, emline_gew_oiii_4960=0.0, emline_gew_oiii_5008=0.0, emline_gew_hei_5877=0.0, emline_gew_oi_6302=0.0, emline_gew_oi_6365=0.0, emline_gew_nii_6549=0.0, emline_gew_ha_6564=0.0, emline_gew_nii_6585=0.0, emline_gew_sii_6718=0.0, emline_gew_sii_6732=0.0, emline_gew_ivar_oii_3727=0.0, emline_gew_ivar_oii_3729=0.0, emline_gew_ivar_hthe_3798=0.0, emline_gew_ivar_heta_3836=0.0, emline_gew_ivar_neiii_3869=0.0, emline_gew_ivar_hzet_3890=0.0, emline_gew_ivar_neiii_3968=0.0, emline_gew_ivar_heps_3971=0.0, emline_gew_ivar_hdel_4102=0.0, emline_gew_ivar_hgam_4341=0.0, emline_gew_ivar_heii_4687=0.0, emline_gew_ivar_hb_4862=0.0, emline_gew_ivar_oiii_4960=0.0, emline_gew_ivar_oiii_5008=0.0, emline_gew_ivar_hei_5877=0.0, emline_gew_ivar_oi_6302=0.0, emline_gew_ivar_oi_6365=0.0, emline_gew_ivar_nii_6549=0.0, emline_gew_ivar_ha_6564=0.0, emline_gew_ivar_nii_6585=0.0, emline_gew_ivar_sii_6718=0.0, emline_gew_ivar_sii_6732=0.0, emline_gew_mask_oii_3727=1073741827, emline_gew_mask_oii_3729=1073741827, emline_gew_mask_hthe_3798=1073741827, emline_gew_mask_heta_3836=1073741827, emline_gew_mask_neiii_3869=1073741827, emline_gew_mask_hzet_3890=1073741827, emline_gew_mask_neiii_3968=1073741827, emline_gew_mask_heps_3971=1073741827, emline_gew_mask_hdel_4102=1073741827, emline_gew_mask_hgam_4341=1073741827, emline_gew_mask_heii_4687=1073741827, emline_gew_mask_hb_4862=1073741827, emline_gew_mask_oiii_4960=1073741827, emline_gew_mask_oiii_5008=1073741827, emline_gew_mask_hei_5877=1073741827, emline_gew_mask_oi_6302=1073741827, emline_gew_mask_oi_6365=1073741827, emline_gew_mask_nii_6549=1073741827, emline_gew_mask_ha_6564=1073741827, emline_gew_mask_nii_6585=1073741827, emline_gew_mask_sii_6718=1073741827, emline_gew_mask_sii_6732=1073741827, emline_gvel_oii_3727=0.0, emline_gvel_oii_3729=0.0, emline_gvel_hthe_3798=0.0, emline_gvel_heta_3836=0.0, emline_gvel_neiii_3869=0.0, emline_gvel_hzet_3890=0.0, emline_gvel_neiii_3968=0.0, emline_gvel_heps_3971=0.0, emline_gvel_hdel_4102=0.0, emline_gvel_hgam_4341=0.0, emline_gvel_heii_4687=0.0, emline_gvel_hb_4862=0.0, emline_gvel_oiii_4960=0.0, emline_gvel_oiii_5008=0.0, emline_gvel_hei_5877=0.0, emline_gvel_oi_6302=0.0, emline_gvel_oi_6365=0.0, emline_gvel_nii_6549=0.0, emline_gvel_ha_6564=0.0, emline_gvel_nii_6585=0.0, emline_gvel_sii_6718=0.0, emline_gvel_sii_6732=0.0, emline_gvel_ivar_oii_3727=0.0, emline_gvel_ivar_oii_3729=0.0, emline_gvel_ivar_hthe_3798=0.0, emline_gvel_ivar_heta_3836=0.0, emline_gvel_ivar_neiii_3869=0.0, emline_gvel_ivar_hzet_3890=0.0, emline_gvel_ivar_neiii_3968=0.0, emline_gvel_ivar_heps_3971=0.0, emline_gvel_ivar_hdel_4102=0.0, emline_gvel_ivar_hgam_4341=0.0, emline_gvel_ivar_heii_4687=0.0, emline_gvel_ivar_hb_4862=0.0, emline_gvel_ivar_oiii_4960=0.0, emline_gvel_ivar_oiii_5008=0.0, emline_gvel_ivar_hei_5877=0.0, emline_gvel_ivar_oi_6302=0.0, emline_gvel_ivar_oi_6365=0.0, emline_gvel_ivar_nii_6549=0.0, emline_gvel_ivar_ha_6564=0.0, emline_gvel_ivar_nii_6585=0.0, emline_gvel_ivar_sii_6718=0.0, emline_gvel_ivar_sii_6732=0.0, emline_gvel_mask_oii_3727=1073741827, emline_gvel_mask_oii_3729=1073741827, emline_gvel_mask_hthe_3798=1073741827, emline_gvel_mask_heta_3836=1073741827, emline_gvel_mask_neiii_3869=1073741827, emline_gvel_mask_hzet_3890=1073741827, emline_gvel_mask_neiii_3968=1073741827, emline_gvel_mask_heps_3971=1073741827, emline_gvel_mask_hdel_4102=1073741827, emline_gvel_mask_hgam_4341=1073741827, emline_gvel_mask_heii_4687=1073741827, emline_gvel_mask_hb_4862=1073741827, emline_gvel_mask_oiii_4960=1073741827, emline_gvel_mask_oiii_5008=1073741827, emline_gvel_mask_hei_5877=1073741827, emline_gvel_mask_oi_6302=1073741827, emline_gvel_mask_oi_6365=1073741827, emline_gvel_mask_nii_6549=1073741827, emline_gvel_mask_ha_6564=1073741827, emline_gvel_mask_nii_6585=1073741827, emline_gvel_mask_sii_6718=1073741827, emline_gvel_mask_sii_6732=1073741827, emline_gsigma_oii_3727=0.0, emline_gsigma_oii_3729=0.0, emline_gsigma_hthe_3798=0.0, emline_gsigma_heta_3836=0.0, emline_gsigma_neiii_3869=0.0, emline_gsigma_hzet_3890=0.0, emline_gsigma_neiii_3968=0.0, emline_gsigma_heps_3971=0.0, emline_gsigma_hdel_4102=0.0, emline_gsigma_hgam_4341=0.0, emline_gsigma_heii_4687=0.0, emline_gsigma_hb_4862=0.0, emline_gsigma_oiii_4960=0.0, emline_gsigma_oiii_5008=0.0, emline_gsigma_hei_5877=0.0, emline_gsigma_oi_6302=0.0, emline_gsigma_oi_6365=0.0, emline_gsigma_nii_6549=0.0, emline_gsigma_ha_6564=0.0, emline_gsigma_nii_6585=0.0, emline_gsigma_sii_6718=0.0, emline_gsigma_sii_6732=0.0, emline_gsigma_ivar_oii_3727=0.0, emline_gsigma_ivar_oii_3729=0.0, emline_gsigma_ivar_hthe_3798=0.0, emline_gsigma_ivar_heta_3836=0.0, emline_gsigma_ivar_neiii_3869=0.0, emline_gsigma_ivar_hzet_3890=0.0, emline_gsigma_ivar_neiii_3968=0.0, emline_gsigma_ivar_heps_3971=0.0, emline_gsigma_ivar_hdel_4102=0.0, emline_gsigma_ivar_hgam_4341=0.0, emline_gsigma_ivar_heii_4687=0.0, emline_gsigma_ivar_hb_4862=0.0, emline_gsigma_ivar_oiii_4960=0.0, emline_gsigma_ivar_oiii_5008=0.0, emline_gsigma_ivar_hei_5877=0.0, emline_gsigma_ivar_oi_6302=0.0, emline_gsigma_ivar_oi_6365=0.0, emline_gsigma_ivar_nii_6549=0.0, emline_gsigma_ivar_ha_6564=0.0, emline_gsigma_ivar_nii_6585=0.0, emline_gsigma_ivar_sii_6718=0.0, emline_gsigma_ivar_sii_6732=0.0, emline_gsigma_mask_oii_3727=1073741827, emline_gsigma_mask_oii_3729=1073741827, emline_gsigma_mask_hthe_3798=1073741827, emline_gsigma_mask_heta_3836=1073741827, emline_gsigma_mask_neiii_3869=1073741827, emline_gsigma_mask_hzet_3890=1073741827, emline_gsigma_mask_neiii_3968=1073741827, emline_gsigma_mask_heps_3971=1073741827, emline_gsigma_mask_hdel_4102=1073741827, emline_gsigma_mask_hgam_4341=1073741827, emline_gsigma_mask_heii_4687=1073741827, emline_gsigma_mask_hb_4862=1073741827, emline_gsigma_mask_oiii_4960=1073741827, emline_gsigma_mask_oiii_5008=1073741827, emline_gsigma_mask_hei_5877=1073741827, emline_gsigma_mask_oi_6302=1073741827, emline_gsigma_mask_oi_6365=1073741827, emline_gsigma_mask_nii_6549=1073741827, emline_gsigma_mask_ha_6564=1073741827, emline_gsigma_mask_nii_6585=1073741827, emline_gsigma_mask_sii_6718=1073741827, emline_gsigma_mask_sii_6732=1073741827, emline_instsigma_oii_3727=0.0, emline_instsigma_oii_3729=0.0, emline_instsigma_hthe_3798=0.0, emline_instsigma_heta_3836=0.0, emline_instsigma_neiii_3869=0.0, emline_instsigma_hzet_3890=0.0, emline_instsigma_neiii_3968=0.0, emline_instsigma_heps_3971=0.0, emline_instsigma_hdel_4102=0.0, emline_instsigma_hgam_4341=0.0, emline_instsigma_heii_4687=0.0, emline_instsigma_hb_4862=0.0, emline_instsigma_oiii_4960=0.0, emline_instsigma_oiii_5008=0.0, emline_instsigma_hei_5877=0.0, emline_instsigma_oi_6302=0.0, emline_instsigma_oi_6365=0.0, emline_instsigma_nii_6549=0.0, emline_instsigma_ha_6564=0.0, emline_instsigma_nii_6585=0.0, emline_instsigma_sii_6718=0.0, emline_instsigma_sii_6732=0.0, emline_tplsigma_oii_3727=0.0, emline_tplsigma_oii_3729=0.0, emline_tplsigma_hthe_3798=0.0, emline_tplsigma_heta_3836=0.0, emline_tplsigma_neiii_3869=0.0, emline_tplsigma_hzet_3890=0.0, emline_tplsigma_neiii_3968=0.0, emline_tplsigma_heps_3971=0.0, emline_tplsigma_hdel_4102=0.0, emline_tplsigma_hgam_4341=0.0, emline_tplsigma_heii_4687=0.0, emline_tplsigma_hb_4862=0.0, emline_tplsigma_oiii_4960=0.0, emline_tplsigma_oiii_5008=0.0, emline_tplsigma_hei_5877=0.0, emline_tplsigma_oi_6302=0.0, emline_tplsigma_oi_6365=0.0, emline_tplsigma_nii_6549=0.0, emline_tplsigma_ha_6564=0.0, emline_tplsigma_nii_6585=0.0, emline_tplsigma_sii_6718=0.0, emline_tplsigma_sii_6732=0.0, specindex_cn1=0.0, specindex_cn2=0.0, specindex_ca4227=0.0, specindex_g4300=0.0, specindex_fe4383=0.0, specindex_ca4455=0.0, specindex_fe4531=0.0, specindex_c24668=0.0, specindex_hb=0.0, specindex_fe5015=0.0, specindex_mg1=0.0, specindex_mg2=0.0, specindex_mgb=0.0, specindex_fe5270=0.0, specindex_fe5335=0.0, specindex_fe5406=0.0, specindex_fe5709=0.0, specindex_fe5782=0.0, specindex_nad=0.0, specindex_tio1=0.0, specindex_tio2=0.0, specindex_hdeltaa=0.0, specindex_hgammaa=0.0, specindex_hdeltaf=0.0, specindex_hgammaf=0.0, specindex_cahk=0.0, specindex_caii1=0.0, specindex_caii2=0.0, specindex_caii3=0.0, specindex_pa17=0.0, specindex_pa14=0.0, specindex_pa12=0.0, specindex_mgicvd=0.0, specindex_naicvd=0.0, specindex_mgiir=0.0, specindex_fehcvd=0.0, specindex_nai=0.0, specindex_btio=0.0, specindex_atio=0.0, specindex_cah1=0.0, specindex_cah2=0.0, specindex_naisdss=0.0, specindex_tio2sdss=0.0, specindex_d4000=0.0, specindex_dn4000=0.0, specindex_tiocvd=0.0, specindex_ivar_cn1=0.0, specindex_ivar_cn2=0.0, specindex_ivar_ca4227=0.0, specindex_ivar_g4300=0.0, specindex_ivar_fe4383=0.0, specindex_ivar_ca4455=0.0, specindex_ivar_fe4531=0.0, specindex_ivar_c24668=0.0, specindex_ivar_hb=0.0, specindex_ivar_fe5015=0.0, specindex_ivar_mg1=0.0, specindex_ivar_mg2=0.0, specindex_ivar_mgb=0.0, specindex_ivar_fe5270=0.0, specindex_ivar_fe5335=0.0, specindex_ivar_fe5406=0.0, specindex_ivar_fe5709=0.0, specindex_ivar_fe5782=0.0, specindex_ivar_nad=0.0, specindex_ivar_tio1=0.0, specindex_ivar_tio2=0.0, specindex_ivar_hdeltaa=0.0, specindex_ivar_hgammaa=0.0, specindex_ivar_hdeltaf=0.0, specindex_ivar_hgammaf=0.0, specindex_ivar_cahk=0.0, specindex_ivar_caii1=0.0, specindex_ivar_caii2=0.0, specindex_ivar_caii3=0.0, specindex_ivar_pa17=0.0, specindex_ivar_pa14=0.0, specindex_ivar_pa12=0.0, specindex_ivar_mgicvd=0.0, specindex_ivar_naicvd=0.0, specindex_ivar_mgiir=0.0, specindex_ivar_fehcvd=0.0, specindex_ivar_nai=0.0, specindex_ivar_btio=0.0, specindex_ivar_atio=0.0, specindex_ivar_cah1=0.0, specindex_ivar_cah2=0.0, specindex_ivar_naisdss=0.0, specindex_ivar_tio2sdss=0.0, specindex_ivar_d4000=0.0, specindex_ivar_dn4000=0.0, specindex_ivar_tiocvd=0.0, specindex_mask_cn1=1073741827, specindex_mask_cn2=1073741827, specindex_mask_ca4227=1073741827, specindex_mask_g4300=1073741827, specindex_mask_fe4383=1073741827, specindex_mask_ca4455=1073741827, specindex_mask_fe4531=1073741827, specindex_mask_c24668=1073741827, specindex_mask_hb=1073741827, specindex_mask_fe5015=1073741827, specindex_mask_mg1=1073741827, specindex_mask_mg2=1073741827, specindex_mask_mgb=1073741827, specindex_mask_fe5270=1073741827, specindex_mask_fe5335=1073741827, specindex_mask_fe5406=1073741827, specindex_mask_fe5709=1073741827, specindex_mask_fe5782=1073741827, specindex_mask_nad=1073741827, specindex_mask_tio1=1073741827, specindex_mask_tio2=1073741827, specindex_mask_hdeltaa=1073741827, specindex_mask_hgammaa=1073741827, specindex_mask_hdeltaf=1073741827, specindex_mask_hgammaf=1073741827, specindex_mask_cahk=1073741827, specindex_mask_caii1=1073741827, specindex_mask_caii2=1073741827, specindex_mask_caii3=1073741827, specindex_mask_pa17=1073741827, specindex_mask_pa14=1073741827, specindex_mask_pa12=1073741827, specindex_mask_mgicvd=1073741827, specindex_mask_naicvd=1073741827, specindex_mask_mgiir=1073741827, specindex_mask_fehcvd=1073741827, specindex_mask_nai=1073741827, specindex_mask_btio=1073741827, specindex_mask_atio=1073741827, specindex_mask_cah1=1073741827, specindex_mask_cah2=1073741827, specindex_mask_naisdss=1073741827, specindex_mask_tio2sdss=1073741827, specindex_mask_d4000=1073741827, specindex_mask_dn4000=1073741827, specindex_mask_tiocvd=1073741827, specindex_corr_cn1=0.0, specindex_corr_cn2=0.0, specindex_corr_ca4227=0.0, specindex_corr_g4300=0.0, specindex_corr_fe4383=0.0, specindex_corr_ca4455=0.0, specindex_corr_fe4531=0.0, specindex_corr_c24668=0.0, specindex_corr_hb=0.0, specindex_corr_fe5015=0.0, specindex_corr_mg1=0.0, specindex_corr_mg2=0.0, specindex_corr_mgb=0.0, specindex_corr_fe5270=0.0, specindex_corr_fe5335=0.0, specindex_corr_fe5406=0.0, specindex_corr_fe5709=0.0, specindex_corr_fe5782=0.0, specindex_corr_nad=0.0, specindex_corr_tio1=0.0, specindex_corr_tio2=0.0, specindex_corr_hdeltaa=0.0, specindex_corr_hgammaa=0.0, specindex_corr_hdeltaf=0.0, specindex_corr_hgammaf=0.0, specindex_corr_cahk=0.0, specindex_corr_caii1=0.0, specindex_corr_caii2=0.0, specindex_corr_caii3=0.0, specindex_corr_pa17=0.0, specindex_corr_pa14=0.0, specindex_corr_pa12=0.0, specindex_corr_mgicvd=0.0, specindex_corr_naicvd=0.0, specindex_corr_mgiir=0.0, specindex_corr_fehcvd=0.0, specindex_corr_nai=0.0, specindex_corr_btio=0.0, specindex_corr_atio=0.0, specindex_corr_cah1=0.0, specindex_corr_cah2=0.0, specindex_corr_naisdss=0.0, specindex_corr_tio2sdss=0.0, specindex_corr_d4000=0.0, specindex_corr_dn4000=0.0, specindex_corr_tiocvd=0.0)"
     ]
    }
   ],
   "source": [
    "table_data.first()"
   ]
  },
  {
   "cell_type": "code",
   "execution_count": 83,
   "metadata": {},
   "outputs": [
    {
     "data": {
      "application/vnd.jupyter.widget-view+json": {
       "model_id": "",
       "version_major": 2,
       "version_minor": 0
      },
      "text/plain": [
       "FloatProgress(value=0.0, bar_style='info', description='Progress:', layout=Layout(height='25px', width='50%'),…"
      ]
     },
     "metadata": {},
     "output_type": "display_data"
    }
   ],
   "source": [
    "hdfs_dir = 'hdfs:///manga/brian-test/dr15/v2_4_3/maps'"
   ]
  },
  {
   "cell_type": "code",
   "execution_count": 84,
   "metadata": {},
   "outputs": [
    {
     "data": {
      "application/vnd.jupyter.widget-view+json": {
       "model_id": "",
       "version_major": 2,
       "version_minor": 0
      },
      "text/plain": [
       "FloatProgress(value=0.0, bar_style='info', description='Progress:', layout=Layout(height='25px', width='50%'),…"
      ]
     },
     "metadata": {},
     "output_type": "display_data"
    },
    {
     "name": "stdout",
     "output_type": "stream",
     "text": [
      "467.857421875"
     ]
    }
   ],
   "source": [
    "t = time.time()\n",
    "table = spark.createDataFrame(table_data)\n",
    "table.write.mode('overwrite').parquet(hdfs_dir)\n",
    "print(time.time()-t)"
   ]
  },
  {
   "cell_type": "code",
   "execution_count": 90,
   "metadata": {},
   "outputs": [
    {
     "data": {
      "application/vnd.jupyter.widget-view+json": {
       "model_id": "",
       "version_major": 2,
       "version_minor": 0
      },
      "text/plain": [
       "FloatProgress(value=0.0, bar_style='info', description='Progress:', layout=Layout(height='25px', width='50%'),…"
      ]
     },
     "metadata": {},
     "output_type": "display_data"
    }
   ],
   "source": [
    "    data = spark.read.parquet('hdfs:///manga/brian-test/dr15/v2_4_3/maps')\n",
    "    data.createOrReplaceTempView('maps')"
   ]
  },
  {
   "cell_type": "code",
   "execution_count": 91,
   "metadata": {},
   "outputs": [
    {
     "data": {
      "application/vnd.jupyter.widget-view+json": {
       "model_id": "",
       "version_major": 2,
       "version_minor": 0
      },
      "text/plain": [
       "FloatProgress(value=0.0, bar_style='info', description='Progress:', layout=Layout(height='25px', width='50%'),…"
      ]
     },
     "metadata": {},
     "output_type": "display_data"
    },
    {
     "name": "stdout",
     "output_type": "stream",
     "text": [
      "+--------------------+---------+-------+\n",
      "|            col_name|data_type|comment|\n",
      "+--------------------+---------+-------+\n",
      "|            plateifu|   string|   null|\n",
      "|             mangaid|   string|   null|\n",
      "|                  ra|   double|   null|\n",
      "|                 dec|   double|   null|\n",
      "|             daptype|   string|   null|\n",
      "|          spaxel_idx|   bigint|   null|\n",
      "|                   x|   bigint|   null|\n",
      "|                   y|   bigint|   null|\n",
      "| spx_skycoo_on_sky_x|   double|   null|\n",
      "| spx_skycoo_on_sky_y|   double|   null|\n",
      "|spx_ellcoo_ellipt...|   double|   null|\n",
      "|     spx_ellcoo_r_re|   double|   null|\n",
      "|spx_ellcoo_ellipt...|   double|   null|\n",
      "|           spx_mflux|   double|   null|\n",
      "|      spx_mflux_ivar|   double|   null|\n",
      "|             spx_snr|   double|   null|\n",
      "|binid_binned_spectra|   bigint|   null|\n",
      "|binid_stellar_con...|   bigint|   null|\n",
      "|binid_em_line_mom...|   bigint|   null|\n",
      "|binid_em_line_models|   bigint|   null|\n",
      "+--------------------+---------+-------+\n",
      "only showing top 20 rows"
     ]
    }
   ],
   "source": [
    "spark.sql('''describe maps''').show()"
   ]
  },
  {
   "cell_type": "code",
   "execution_count": 92,
   "metadata": {},
   "outputs": [
    {
     "data": {
      "application/vnd.jupyter.widget-view+json": {
       "model_id": "",
       "version_major": 2,
       "version_minor": 0
      },
      "text/plain": [
       "FloatProgress(value=0.0, bar_style='info', description='Progress:', layout=Layout(height='25px', width='50%'),…"
      ]
     },
     "metadata": {},
     "output_type": "display_data"
    },
    {
     "name": "stdout",
     "output_type": "stream",
     "text": [
      "+--------+\n",
      "|count(1)|\n",
      "+--------+\n",
      "|16028280|\n",
      "+--------+"
     ]
    }
   ],
   "source": [
    "spark.sql('''select count(*) from maps''').show()"
   ]
  },
  {
   "cell_type": "code",
   "execution_count": 96,
   "metadata": {},
   "outputs": [
    {
     "data": {
      "application/vnd.jupyter.widget-view+json": {
       "model_id": "",
       "version_major": 2,
       "version_minor": 0
      },
      "text/plain": [
       "FloatProgress(value=0.0, bar_style='info', description='Progress:', layout=Layout(height='25px', width='50%'),…"
      ]
     },
     "metadata": {},
     "output_type": "display_data"
    },
    {
     "name": "stdout",
     "output_type": "stream",
     "text": [
      "+----------+---------------+\n",
      "|  plateifu|count(plateifu)|\n",
      "+----------+---------------+\n",
      "|8984-12705|           5476|\n",
      "|8626-12701|           5476|\n",
      "|8942-12704|           5476|\n",
      "| 8952-3702|           1936|\n",
      "|7990-12702|           5476|\n",
      "|8947-12705|           5476|\n",
      "| 8603-6104|           2916|\n",
      "| 8458-3701|           1936|\n",
      "| 8552-3702|           1936|\n",
      "|9184-12703|           5776|\n",
      "|9036-12703|           5776|\n",
      "| 9883-6101|           2916|\n",
      "|8146-12705|           5776|\n",
      "|8601-12701|           5476|\n",
      "| 8611-3701|           1936|\n",
      "| 9510-1901|           1156|\n",
      "| 7815-6102|           2704|\n",
      "| 9678-6102|           2916|\n",
      "|9512-12705|           5476|\n",
      "| 8937-1902|           1156|\n",
      "+----------+---------------+\n",
      "only showing top 20 rows"
     ]
    }
   ],
   "source": [
    "spark.sql('''select plateifu, count(plateifu) from maps group by plateifu''').show()"
   ]
  },
  {
   "cell_type": "code",
   "execution_count": 97,
   "metadata": {},
   "outputs": [
    {
     "data": {
      "application/vnd.jupyter.widget-view+json": {
       "model_id": "",
       "version_major": 2,
       "version_minor": 0
      },
      "text/plain": [
       "FloatProgress(value=0.0, bar_style='info', description='Progress:', layout=Layout(height='25px', width='50%'),…"
      ]
     },
     "metadata": {},
     "output_type": "display_data"
    },
    {
     "name": "stdout",
     "output_type": "stream",
     "text": [
      "+---------------+\n",
      "|count(plateifu)|\n",
      "+---------------+\n",
      "|           4718|\n",
      "+---------------+"
     ]
    }
   ],
   "source": [
    "spark.sql('''select count(plateifu) from (select plateifu, count(plateifu) from maps group by plateifu)''').show()"
   ]
  },
  {
   "cell_type": "code",
   "execution_count": 102,
   "metadata": {},
   "outputs": [
    {
     "data": {
      "application/vnd.jupyter.widget-view+json": {
       "model_id": "",
       "version_major": 2,
       "version_minor": 0
      },
      "text/plain": [
       "FloatProgress(value=0.0, bar_style='info', description='Progress:', layout=Layout(height='25px', width='50%'),…"
      ]
     },
     "metadata": {},
     "output_type": "display_data"
    }
   ],
   "source": [
    "    cdata = spark.read.parquet('hdfs:///manga/arik-test/dr15/v2_4_3/logcube')\n",
    "    cdata.createOrReplaceTempView('logcube')"
   ]
  },
  {
   "cell_type": "code",
   "execution_count": 105,
   "metadata": {},
   "outputs": [
    {
     "data": {
      "application/vnd.jupyter.widget-view+json": {
       "model_id": "",
       "version_major": 2,
       "version_minor": 0
      },
      "text/plain": [
       "FloatProgress(value=0.0, bar_style='info', description='Progress:', layout=Layout(height='25px', width='50%'),…"
      ]
     },
     "metadata": {},
     "output_type": "display_data"
    },
    {
     "name": "stdout",
     "output_type": "stream",
     "text": [
      "+----------+---------------------------+\n",
      "|  plateifu|count(emline_gflux_ha_6564)|\n",
      "+----------+---------------------------+\n",
      "| 8552-3702|                          1|\n",
      "| 8458-3701|                         47|\n",
      "| 8262-1901|                         27|\n",
      "| 8150-6101|                         17|\n",
      "| 8616-1901|                         33|\n",
      "| 8982-9101|                        120|\n",
      "| 8553-9102|                          4|\n",
      "|9674-12703|                         74|\n",
      "| 8259-3704|                         19|\n",
      "| 8333-1902|                         32|\n",
      "| 8262-3702|                         76|\n",
      "| 8952-6104|                         52|\n",
      "|9674-12701|                         58|\n",
      "| 9038-9101|                         11|\n",
      "| 8453-6102|                         38|\n",
      "| 8261-1901|                         22|\n",
      "| 8156-3702|                         19|\n",
      "|9675-12703|                       2436|\n",
      "| 9184-3704|                         30|\n",
      "| 8615-3701|                         37|\n",
      "+----------+---------------------------+\n",
      "only showing top 20 rows"
     ]
    }
   ],
   "source": [
    "spark.sql('''select plateifu, count(emline_gflux_ha_6564) from maps where emline_gflux_ha_6564 > 25 group by plateifu''').show()"
   ]
  },
  {
   "cell_type": "code",
   "execution_count": 108,
   "metadata": {},
   "outputs": [
    {
     "data": {
      "application/vnd.jupyter.widget-view+json": {
       "model_id": "",
       "version_major": 2,
       "version_minor": 0
      },
      "text/plain": [
       "FloatProgress(value=0.0, bar_style='info', description='Progress:', layout=Layout(height='25px', width='50%'),…"
      ]
     },
     "metadata": {},
     "output_type": "display_data"
    },
    {
     "name": "stdout",
     "output_type": "stream",
     "text": [
      "+---------+--------------------+---+---+\n",
      "| plateifu|emline_gflux_ha_6564|  x|  y|\n",
      "+---------+--------------------+---+---+\n",
      "|8551-3701|  26.905492782592773| 18| 20|\n",
      "|8551-3701|  31.592317581176758| 19| 20|\n",
      "|8551-3701|  33.098114013671875| 20| 20|\n",
      "|8551-3701|  31.165016174316406| 21| 20|\n",
      "|8551-3701|  27.630207061767578| 22| 20|\n",
      "|8551-3701|   25.37577247619629| 17| 21|\n",
      "|8551-3701|  33.406036376953125| 18| 21|\n",
      "|8551-3701|   40.30801010131836| 19| 21|\n",
      "|8551-3701|    42.7925910949707| 20| 21|\n",
      "|8551-3701|   43.42845916748047| 21| 21|\n",
      "|8551-3701|   39.72331237792969| 22| 21|\n",
      "|8551-3701|  34.885719299316406| 23| 21|\n",
      "|8551-3701|  30.181264877319336| 24| 21|\n",
      "|8551-3701|  26.739524841308594| 25| 21|\n",
      "|8551-3701|  27.167835235595703| 17| 22|\n",
      "|8551-3701|  36.835113525390625| 18| 22|\n",
      "|8551-3701|   41.56124496459961| 19| 22|\n",
      "|8551-3701|  44.282310485839844| 20| 22|\n",
      "|8551-3701|   45.60519790649414| 21| 22|\n",
      "|8551-3701|  44.445220947265625| 22| 22|\n",
      "+---------+--------------------+---+---+\n",
      "only showing top 20 rows"
     ]
    }
   ],
   "source": [
    "spark.sql('''select plateifu, emline_gflux_ha_6564, x, y from maps where emline_gflux_ha_6564 > 25''').show()"
   ]
  },
  {
   "cell_type": "code",
   "execution_count": null,
   "metadata": {},
   "outputs": [],
   "source": [
    "spark.sql('''select plateifu, emline_gflux_ha_6564, x, y from maps where emline_gflux_ha_6564 > 25 and binid_binned_spectra != -1 and binid_stellar_continua != -1 and binid_em_line_models != -1 and binid_em_line_moments != -1 and binid_spectral_indices != -1''').count()"
   ]
  },
  {
   "cell_type": "code",
   "execution_count": null,
   "metadata": {},
   "outputs": [],
   "source": []
  }
 ],
 "metadata": {
  "kernelspec": {
   "display_name": "Python 3",
   "language": "python",
   "name": "python3"
  },
  "language_info": {
   "codemirror_mode": {
    "name": "ipython",
    "version": 3
   },
   "file_extension": ".py",
   "mimetype": "text/x-python",
   "name": "python",
   "nbconvert_exporter": "python",
   "pygments_lexer": "ipython3",
   "version": "3.7.4"
  }
 },
 "nbformat": 4,
 "nbformat_minor": 4
}
