{
 "cells": [
  {
   "cell_type": "code",
   "execution_count": 1,
   "metadata": {},
   "outputs": [
    {
     "data": {
      "text/html": [
       "Current session configs: <tt>{'name': 'brian-load-modelcubes', 'executorMemory': '25G', 'numExecutors': 8, 'executorCores': 2, 'conf': {'spark.yarn.appMasterEnv.PYSPARK_PYTHON': 'python3'}, 'kind': 'pyspark'}</tt><br>"
      ],
      "text/plain": [
       "<IPython.core.display.HTML object>"
      ]
     },
     "metadata": {},
     "output_type": "display_data"
    },
    {
     "data": {
      "text/html": [
       "No active sessions."
      ],
      "text/plain": [
       "<IPython.core.display.HTML object>"
      ]
     },
     "metadata": {},
     "output_type": "display_data"
    }
   ],
   "source": [
    "%%configure -f\n",
    "{\"name\": \"brian-load-modelcubes\", \"executorMemory\": \"25G\", \"numExecutors\": 8, \"executorCores\": 2,\n",
    " \"conf\": {\"spark.yarn.appMasterEnv.PYSPARK_PYTHON\":\"python3\"}}"
   ]
  },
  {
   "cell_type": "code",
   "execution_count": 2,
   "metadata": {},
   "outputs": [
    {
     "name": "stdout",
     "output_type": "stream",
     "text": [
      "Starting Spark application\n"
     ]
    },
    {
     "data": {
      "text/html": [
       "<table>\n",
       "<tr><th>ID</th><th>YARN Application ID</th><th>Kind</th><th>State</th><th>Spark UI</th><th>Driver log</th><th>Current session?</th></tr><tr><td>61</td><td>application_1588740809550_0063</td><td>pyspark</td><td>idle</td><td><a target=\"_blank\" href=\"https://sparkhead-0.sparkhead-svc:8090/proxy/application_1588740809550_0063/\">Link</a></td><td><a target=\"_blank\" href=\"https://storage-0-1.storage-0-svc.filedb.svc.cluster.local:8044/node/containerlogs/container_1588740809550_0063_01_000001/root\">Link</a></td><td>✔</td></tr></table>"
      ],
      "text/plain": [
       "<IPython.core.display.HTML object>"
      ]
     },
     "metadata": {},
     "output_type": "display_data"
    },
    {
     "data": {
      "application/vnd.jupyter.widget-view+json": {
       "model_id": "",
       "version_major": 2,
       "version_minor": 0
      },
      "text/plain": [
       "FloatProgress(value=0.0, bar_style='info', description='Progress:', layout=Layout(height='25px', width='50%'),…"
      ]
     },
     "metadata": {},
     "output_type": "display_data"
    },
    {
     "name": "stdout",
     "output_type": "stream",
     "text": [
      "SparkSession available as 'spark'.\n"
     ]
    },
    {
     "data": {
      "application/vnd.jupyter.widget-view+json": {
       "model_id": "",
       "version_major": 2,
       "version_minor": 0
      },
      "text/plain": [
       "FloatProgress(value=0.0, bar_style='info', description='Progress:', layout=Layout(height='25px', width='50%'),…"
      ]
     },
     "metadata": {},
     "output_type": "display_data"
    }
   ],
   "source": [
    "import sys\n",
    "import os\n",
    "import subprocess\n",
    "from io import BytesIO\n",
    "from gzip import GzipFile\n",
    "from pyspark.sql import Row\n",
    "import glob\n",
    "import time\n",
    "import numpy as np\n",
    "from itertools import repeat"
   ]
  },
  {
   "cell_type": "code",
   "execution_count": 3,
   "metadata": {},
   "outputs": [
    {
     "data": {
      "application/vnd.jupyter.widget-view+json": {
       "model_id": "",
       "version_major": 2,
       "version_minor": 0
      },
      "text/plain": [
       "FloatProgress(value=0.0, bar_style='info', description='Progress:', layout=Layout(height='25px', width='50%'),…"
      ]
     },
     "metadata": {},
     "output_type": "display_data"
    }
   ],
   "source": [
    "def get_fits_module():\n",
    "    if 'astropy' not in sys.modules:\n",
    "        stdout = subprocess.check_output(\n",
    "            sys.executable + ' -m pip install astropy',\n",
    "            stderr=subprocess.STDOUT,\n",
    "            shell=True).decode('utf-8')\n",
    "    from astropy.io import fits\n",
    "    return fits\n",
    "\n",
    "def get_wcs_module():\n",
    "    if 'astropy' not in sys.modules:\n",
    "        stdout = subprocess.check_output(\n",
    "            sys.executable + ' -m pip install astropy',\n",
    "            stderr=subprocess.STDOUT,\n",
    "            shell=True).decode('utf-8')\n",
    "    from astropy import wcs\n",
    "    return wcs\n",
    "\n",
    "def getfitslocal(path):\n",
    "    fits = get_fits_module()\n",
    "    fits_obj = fits.open(path)\n",
    "    return fits_obj\n",
    "\n",
    "# Spark dataframe cannot do numpy types\n",
    "def typeconv(i):\n",
    "    try:\n",
    "        return i.item()\n",
    "    except:\n",
    "        return i\n",
    "    \n",
    "def createPerPixelSpaxelRow(fits):\n",
    "    wcs = get_wcs_module()\n",
    "    wc = wcs.WCS(fits['FLUX'].header)\n",
    "    n_wave, n_y, n_x = fits['FLUX'].data.shape\n",
    "    \n",
    "    hdr = fits[0].header\n",
    "    flux = np.ravel(fits['FLUX'].data)\n",
    "    ivar = np.ravel(fits['IVAR'].data)\n",
    "    mask = np.ravel(fits['MASK'].data)\n",
    "    model = np.ravel(fits['MODEL'].data)\n",
    "    emline = np.ravel(fits['EMLINE'].data)\n",
    "    emline_base = np.ravel(fits['EMLINE_BASE'].data)\n",
    "    emline_mask = np.ravel(fits['EMLINE_MASK'].data)\n",
    "    \n",
    "    wave = fits['WAVE'].data\n",
    "    \n",
    "    binid = np.ravel(fits['BINID'].data[0])\n",
    "\n",
    "    # ravel indexing\n",
    "    # rav_idx = (wave_idx * n_y * n_y) + (y_idx * n_x) + x_idx\n",
    "\n",
    "    # and back\n",
    "    # wave_idx = int(rav_idx / (n_y * n_y))\n",
    "    # spaxel_idx = rav_idx - wave_idx * (n_y * n_y)\n",
    "    # y_idx = int(spaxel_idx / n_y)\n",
    "    # x_idx = spaxel_idx - y_idx * n_y\n",
    "    \n",
    "    rows = []\n",
    "    for ravel_idx, flux_val in enumerate(flux):\n",
    "        wave_idx = int(ravel_idx / (n_y * n_y))\n",
    "        spaxel_idx = ravel_idx - wave_idx * (n_y * n_y)\n",
    "        y_idx = int(spaxel_idx / n_y)\n",
    "        x_idx = spaxel_idx - y_idx * n_y\n",
    "        \n",
    "        # skip no good spaxels\n",
    "        if binid[spaxel_idx] == -1:\n",
    "            continue\n",
    "\n",
    "        row = {'plateifu': typeconv(hdr.get('PLATEIFU')),\n",
    "               'mangaid': typeconv(hdr.get('MANGAID')),\n",
    "               'ra': typeconv(hdr.get('OBJRA')),\n",
    "               'dec': typeconv(hdr.get('OBJDEC')),\n",
    "               'daptype': typeconv(hdr.get('DAPTYPE')),\n",
    "               'spaxel_idx': spaxel_idx,\n",
    "               'x': x_idx,\n",
    "               'y': y_idx,\n",
    "               'wave': typeconv(wave[wave_idx]),\n",
    "               'flux': typeconv(flux_val),\n",
    "               'ivar': typeconv(ivar[ravel_idx]),\n",
    "               'mask': typeconv(mask[ravel_idx]),\n",
    "               'model': typeconv(model[ravel_idx]),\n",
    "               'emline': typeconv(emline[ravel_idx]),\n",
    "               'emline_base': typeconv(emline_base[ravel_idx]),\n",
    "               'emline_mask': typeconv(emline_mask[ravel_idx]),\n",
    "               'binid_binned_spectra': typeconv(binid[spaxel_idx]),\n",
    "               'binid_stellar_cont': typeconv(np.ravel(fits['BINID'].data[1])[spaxel_idx]),\n",
    "               'binid_emline_moments': typeconv(np.ravel(fits['BINID'].data[2])[spaxel_idx]),\n",
    "               'binid_emline_models': typeconv(np.ravel(fits['BINID'].data[3])[spaxel_idx]),\n",
    "               'binid_spectral_indices': typeconv(np.ravel(fits['BINID'].data[4])[spaxel_idx])\n",
    "              }\n",
    "            \n",
    "        rows.append(Row(**row))\n",
    "    return rows\n",
    "    "
   ]
  },
  {
   "cell_type": "code",
   "execution_count": 4,
   "metadata": {},
   "outputs": [
    {
     "data": {
      "application/vnd.jupyter.widget-view+json": {
       "model_id": "",
       "version_major": 2,
       "version_minor": 0
      },
      "text/plain": [
       "FloatProgress(value=0.0, bar_style='info', description='Progress:', layout=Layout(height='25px', width='50%'),…"
      ]
     },
     "metadata": {},
     "output_type": "display_data"
    }
   ],
   "source": [
    "base_dir = '/sciserver/vc/manga/vc/sas/dr15/manga/spectro/analysis/v2_4_3/2.2.1/HYB10-GAU-MILESHC/'\n",
    "dirs1 = [base_dir + i for i in os.listdir(base_dir)]"
   ]
  },
  {
   "cell_type": "code",
   "execution_count": 5,
   "metadata": {},
   "outputs": [
    {
     "data": {
      "application/vnd.jupyter.widget-view+json": {
       "model_id": "",
       "version_major": 2,
       "version_minor": 0
      },
      "text/plain": [
       "FloatProgress(value=0.0, bar_style='info', description='Progress:', layout=Layout(height='25px', width='50%'),…"
      ]
     },
     "metadata": {},
     "output_type": "display_data"
    }
   ],
   "source": [
    "files_rdd = sc.parallelize(dirs1, len(dirs1)).flatMap(lambda x: [x+'/'+i for i in os.listdir(x)]).flatMap(lambda d: glob.glob(d+'/*-LOGCUBE-*.fits.gz'))"
   ]
  },
  {
   "cell_type": "code",
   "execution_count": 6,
   "metadata": {},
   "outputs": [
    {
     "data": {
      "application/vnd.jupyter.widget-view+json": {
       "model_id": "",
       "version_major": 2,
       "version_minor": 0
      },
      "text/plain": [
       "FloatProgress(value=0.0, bar_style='info', description='Progress:', layout=Layout(height='25px', width='50%'),…"
      ]
     },
     "metadata": {},
     "output_type": "display_data"
    },
    {
     "name": "stdout",
     "output_type": "stream",
     "text": [
      "N files: 4718. Total Size: 333908MB, average size: 184"
     ]
    }
   ],
   "source": [
    "files_stats = files_rdd.map(\n",
    "    lambda x: (os.stat(x).st_size/1024/1024, 1, os.stat(x).st_size/1024/1024)\n",
    ").reduce(\n",
    "    lambda x,y: (x[0]+y[0], x[1]+y[1], max(x[2],y[2]))\n",
    ")\n",
    "print('N files: {1}. Total Size: {0:0.0f}MB, average size: {2:0.0f}'.format(*files_stats))"
   ]
  },
  {
   "cell_type": "code",
   "execution_count": 7,
   "metadata": {},
   "outputs": [
    {
     "data": {
      "application/vnd.jupyter.widget-view+json": {
       "model_id": "",
       "version_major": 2,
       "version_minor": 0
      },
      "text/plain": [
       "FloatProgress(value=0.0, bar_style='info', description='Progress:', layout=Layout(height='25px', width='50%'),…"
      ]
     },
     "metadata": {},
     "output_type": "display_data"
    }
   ],
   "source": [
    "n_part = int(files_stats[1])\n",
    "table_data = files_rdd.repartition(n_part).map(getfitslocal).flatMap(createPerPixelSpaxelRow)"
   ]
  },
  {
   "cell_type": "code",
   "execution_count": null,
   "metadata": {},
   "outputs": [],
   "source": []
  },
  {
   "cell_type": "code",
   "execution_count": 8,
   "metadata": {},
   "outputs": [
    {
     "data": {
      "application/vnd.jupyter.widget-view+json": {
       "model_id": "",
       "version_major": 2,
       "version_minor": 0
      },
      "text/plain": [
       "FloatProgress(value=0.0, bar_style='info', description='Progress:', layout=Layout(height='25px', width='50%'),…"
      ]
     },
     "metadata": {},
     "output_type": "display_data"
    }
   ],
   "source": [
    "hdfs_dir = 'hdfs:///manga/brian-test/dr15/v2_4_3/modelcubes'"
   ]
  },
  {
   "cell_type": "code",
   "execution_count": 9,
   "metadata": {},
   "outputs": [
    {
     "data": {
      "application/vnd.jupyter.widget-view+json": {
       "model_id": "a95c18717fbf4c9aa6e74d6dcdbd4dbc",
       "version_major": 2,
       "version_minor": 0
      },
      "text/plain": [
       "FloatProgress(value=0.0, bar_style='info', description='Progress:', layout=Layout(height='25px', width='50%'),…"
      ]
     },
     "metadata": {},
     "output_type": "display_data"
    },
    {
     "name": "stderr",
     "output_type": "stream",
     "text": [
      "An error was encountered:\n",
      "Error sending http request and maximum retry encountered.\n"
     ]
    }
   ],
   "source": [
    "t = time.time()\n",
    "table = spark.createDataFrame(table_data)\n",
    "table.write.mode('overwrite').parquet(hdfs_dir)\n",
    "print(time.time()-t)"
   ]
  },
  {
   "cell_type": "code",
   "execution_count": null,
   "metadata": {},
   "outputs": [],
   "source": []
  }
 ],
 "metadata": {
  "kernelspec": {
   "display_name": "PySpark",
   "language": "",
   "name": "pysparkkernel"
  },
  "language_info": {
   "codemirror_mode": {
    "name": "python",
    "version": 3
   },
   "mimetype": "text/x-python",
   "name": "pyspark",
   "pygments_lexer": "python3"
  }
 },
 "nbformat": 4,
 "nbformat_minor": 2
}
