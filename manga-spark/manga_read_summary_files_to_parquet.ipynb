{
 "cells": [
  {
   "cell_type": "code",
   "execution_count": 1,
   "metadata": {},
   "outputs": [
    {
     "data": {
      "text/html": [
       "Current session configs: <tt>{'name': 'brian-load-summaries', 'executorMemory': '1G', 'numExecutors': 4, 'executorCores': 2, 'conf': {'spark.yarn.appMasterEnv.PYSPARK_PYTHON': 'python3'}, 'kind': 'pyspark'}</tt><br>"
      ],
      "text/plain": [
       "<IPython.core.display.HTML object>"
      ]
     },
     "metadata": {},
     "output_type": "display_data"
    },
    {
     "data": {
      "text/html": [
       "<table>\n",
       "<tr><th>ID</th><th>YARN Application ID</th><th>Kind</th><th>State</th><th>Spark UI</th><th>Driver log</th><th>Current session?</th></tr><tr><td>178</td><td>application_1588740809550_0172</td><td>pyspark</td><td>idle</td><td><a target=\"_blank\" href=\"https://sparkhead-0.sparkhead-svc:8090/proxy/application_1588740809550_0172/\">Link</a></td><td><a target=\"_blank\" href=\"https://storage-0-1.storage-0-svc.filedb.svc.cluster.local:8044/node/containerlogs/container_1588740809550_0172_01_000001/root\">Link</a></td><td></td></tr></table>"
      ],
      "text/plain": [
       "<IPython.core.display.HTML object>"
      ]
     },
     "metadata": {},
     "output_type": "display_data"
    }
   ],
   "source": [
    "%%configure -f\n",
    "{\"name\": \"brian-load-summaries\", \"executorMemory\": \"1G\", \"numExecutors\": 4, \"executorCores\": 2,\n",
    " \"conf\": {\"spark.yarn.appMasterEnv.PYSPARK_PYTHON\":\"python3\"}}"
   ]
  },
  {
   "cell_type": "code",
   "execution_count": 2,
   "metadata": {},
   "outputs": [
    {
     "name": "stdout",
     "output_type": "stream",
     "text": [
      "Starting Spark application\n"
     ]
    },
    {
     "data": {
      "text/html": [
       "<table>\n",
       "<tr><th>ID</th><th>YARN Application ID</th><th>Kind</th><th>State</th><th>Spark UI</th><th>Driver log</th><th>Current session?</th></tr><tr><td>179</td><td>application_1588740809550_0173</td><td>pyspark</td><td>idle</td><td><a target=\"_blank\" href=\"https://sparkhead-0.sparkhead-svc:8090/proxy/application_1588740809550_0173/\">Link</a></td><td><a target=\"_blank\" href=\"https://storage-0-2.storage-0-svc.filedb.svc.cluster.local:8044/node/containerlogs/container_1588740809550_0173_01_000001/root\">Link</a></td><td>✔</td></tr></table>"
      ],
      "text/plain": [
       "<IPython.core.display.HTML object>"
      ]
     },
     "metadata": {},
     "output_type": "display_data"
    },
    {
     "data": {
      "application/vnd.jupyter.widget-view+json": {
       "model_id": "",
       "version_major": 2,
       "version_minor": 0
      },
      "text/plain": [
       "FloatProgress(value=0.0, bar_style='info', description='Progress:', layout=Layout(height='25px', width='50%'),…"
      ]
     },
     "metadata": {},
     "output_type": "display_data"
    },
    {
     "name": "stdout",
     "output_type": "stream",
     "text": [
      "SparkSession available as 'spark'.\n"
     ]
    },
    {
     "data": {
      "application/vnd.jupyter.widget-view+json": {
       "model_id": "",
       "version_major": 2,
       "version_minor": 0
      },
      "text/plain": [
       "FloatProgress(value=0.0, bar_style='info', description='Progress:', layout=Layout(height='25px', width='50%'),…"
      ]
     },
     "metadata": {},
     "output_type": "display_data"
    }
   ],
   "source": [
    "import sys\n",
    "import os\n",
    "import subprocess\n",
    "from io import BytesIO\n",
    "from gzip import GzipFile\n",
    "from pyspark.sql import Row\n",
    "import glob\n",
    "import time\n",
    "import numpy as np\n",
    "from itertools import repeat\n",
    "from collections import OrderedDict"
   ]
  },
  {
   "cell_type": "code",
   "execution_count": 9,
   "metadata": {},
   "outputs": [
    {
     "data": {
      "application/vnd.jupyter.widget-view+json": {
       "model_id": "",
       "version_major": 2,
       "version_minor": 0
      },
      "text/plain": [
       "FloatProgress(value=0.0, bar_style='info', description='Progress:', layout=Layout(height='25px', width='50%'),…"
      ]
     },
     "metadata": {},
     "output_type": "display_data"
    }
   ],
   "source": [
    "def get_fits_module():\n",
    "    if 'astropy' not in sys.modules:\n",
    "        stdout = subprocess.check_output(\n",
    "            sys.executable + ' -m pip install astropy',\n",
    "            stderr=subprocess.STDOUT,\n",
    "            shell=True).decode('utf-8')\n",
    "    from astropy.io import fits\n",
    "    return fits\n",
    "\n",
    "def getfitslocal(path):\n",
    "    fits = get_fits_module()\n",
    "    fits_obj = fits.open(path)\n",
    "    return fits_obj\n",
    "\n",
    "# Spark dataframe cannot do numpy types\n",
    "def typeconv(i):\n",
    "    try:\n",
    "        return i.item()\n",
    "    except:\n",
    "        return i"
   ]
  },
  {
   "cell_type": "code",
   "execution_count": 14,
   "metadata": {},
   "outputs": [
    {
     "data": {
      "application/vnd.jupyter.widget-view+json": {
       "model_id": "",
       "version_major": 2,
       "version_minor": 0
      },
      "text/plain": [
       "FloatProgress(value=0.0, bar_style='info', description='Progress:', layout=Layout(height='25px', width='50%'),…"
      ]
     },
     "metadata": {},
     "output_type": "display_data"
    }
   ],
   "source": [
    "def expand_column_names(name, cols=None):\n",
    "    if not cols:\n",
    "        cols = ['F', 'N', 'u', 'g', 'r', 'i', 'z']\n",
    "    return ['{0}_{1}'.format(name.lower(), i.lower()) for i in cols]\n",
    "\n",
    "def get_column_names(data):\n",
    "    cols = []\n",
    "    names = data.columns.names\n",
    "    row = data[0]\n",
    "    for name in names:\n",
    "        col = row[name]\n",
    "        if isinstance(col, np.ndarray):\n",
    "            cols.extend(expand_column_names(name, cols=['F', 'N', 'u', 'g', 'r', 'i', 'z']))\n",
    "        else:\n",
    "            cols.append(name)\n",
    "    return cols\n",
    "\n",
    "def convert_row(row):\n",
    "    typed_row = []\n",
    "    for col in list(row):\n",
    "        if isinstance(col, np.ndarray):\n",
    "            typed_row.extend(col.tolist())\n",
    "        else:\n",
    "            typed_row.append(typeconv(col))\n",
    "    return typed_row\n",
    "    \n",
    "def create_drp_row(hdu):\n",
    "    data = hdu[1].data\n",
    "    cols = get_column_names(data)\n",
    "    \n",
    "    mapRow = Row(*cols)\n",
    "    \n",
    "    rows = []\n",
    "    for row in data:\n",
    "        typed_row = convert_row(row)\n",
    "        _row = mapRow(*typed_row)\n",
    "        rows.append(_row)\n",
    "    return rows\n",
    "\n",
    "specindex_channels = ['cn1', 'cn2', 'ca4227', 'g4300', 'fe4383', 'ca4455', 'fe4531', 'c24668', 'hb', 'fe5015', \n",
    "                      'mg1', 'mg2', 'mgb', 'fe5270', 'fe5335', 'fe5406', 'fe5709', 'fe5782', 'nad', 'tio1', 'tio2', \n",
    "                      'hdeltaa', 'hgammaa', 'hdeltaf', 'hgammaf', 'cahk', 'caii1', 'caii2', 'caii3', 'pa17', 'pa14', \n",
    "                      'pa12', 'mgicvd', 'naicvd', 'mgiir', 'fehcvd', 'nai', 'btio', 'atio', 'cah1', 'cah2', \n",
    "                      'naisdss', 'tio2sdss', 'd4000', 'dn4000', 'tiocvd']\n",
    "\n",
    "emline_channels = ['oii_3729', 'hthe_3798', 'heta_3836', 'neiii_3869', 'hzet_3890', 'neiii_3968', 'heps_3971', \n",
    "                   'hdel_4102', 'hgam_4341', 'heii_4687', 'hb_4862', 'oiii_4960', 'oiii_5008', 'hei_5877', \n",
    "                   'oi_6302', 'oi_6365', 'nii_6549', 'ha_6564', 'nii_6585', 'sii_6718', 'sii_6732']\n",
    "\n",
    "oii = 'oii_3727'    # all others \n",
    "oiid = 'oiid_3728'  # sflux and sew\n",
    "snr_channels = ['g', 'r', 'i', 'z'] # snr_med and snr_ring\n",
    "binr_channels = ['5', '10', '20'] # bin_r_n and bin_r_snr\n",
    "\n",
    "\n",
    "def get_dap_column_names(data):\n",
    "    cols = []\n",
    "    names = data.columns.names\n",
    "    row = data[0]\n",
    "    for name in names:\n",
    "        col = row[name]\n",
    "        name = name.lower()\n",
    "        if isinstance(col, np.ndarray):\n",
    "            if 'snr' in name:\n",
    "                colnames = snr_channels\n",
    "            elif 'bin_r_' in name:\n",
    "                colnames = binr_channels\n",
    "            elif 'specindex' in name:\n",
    "                colnames = specindex_channels\n",
    "            elif 'emline' in name:\n",
    "                if 'sflux' in name or 'sew' in name:\n",
    "                    colnames = [oiid] + emline_channels\n",
    "                else:\n",
    "                    colnames = [oii] + emline_channels\n",
    "            cols.extend(expand_column_names(name, cols=colnames))\n",
    "        else:\n",
    "            cols.append(name)\n",
    "    return cols\n",
    "\n",
    "def create_dap_row(hdu):\n",
    "    data = hdu[1].data\n",
    "    cols = get_dap_column_names(data)\n",
    "    \n",
    "    mapRow = Row(*cols)\n",
    "    \n",
    "    rows = []\n",
    "    for row in data:\n",
    "        typed_row = convert_row(row)\n",
    "        _row = mapRow(*typed_row)\n",
    "        rows.append(_row)\n",
    "    return rows"
   ]
  },
  {
   "cell_type": "code",
   "execution_count": 6,
   "metadata": {},
   "outputs": [
    {
     "data": {
      "application/vnd.jupyter.widget-view+json": {
       "model_id": "",
       "version_major": 2,
       "version_minor": 0
      },
      "text/plain": [
       "FloatProgress(value=0.0, bar_style='info', description='Progress:', layout=Layout(height='25px', width='50%'),…"
      ]
     },
     "metadata": {},
     "output_type": "display_data"
    }
   ],
   "source": [
    "drpall = ['/sciserver/vc/manga/vc/sas/dr15/manga/spectro/redux/v2_4_3/drpall-v2_4_3.fits']\n",
    "dapall = ['/sciserver/vc/manga/vc/sas/dr15/manga/spectro/analysis/v2_4_3/2.2.1/dapall-v2_4_3-2.2.1.fits']"
   ]
  },
  {
   "cell_type": "code",
   "execution_count": 10,
   "metadata": {},
   "outputs": [
    {
     "data": {
      "application/vnd.jupyter.widget-view+json": {
       "model_id": "",
       "version_major": 2,
       "version_minor": 0
      },
      "text/plain": [
       "FloatProgress(value=0.0, bar_style='info', description='Progress:', layout=Layout(height='25px', width='50%'),…"
      ]
     },
     "metadata": {},
     "output_type": "display_data"
    }
   ],
   "source": [
    "rdd = sc.parallelize(drpall)\n",
    "drptable = rdd.map(getfitslocal).flatMap(create_drp_row)"
   ]
  },
  {
   "cell_type": "code",
   "execution_count": 11,
   "metadata": {},
   "outputs": [
    {
     "data": {
      "application/vnd.jupyter.widget-view+json": {
       "model_id": "",
       "version_major": 2,
       "version_minor": 0
      },
      "text/plain": [
       "FloatProgress(value=0.0, bar_style='info', description='Progress:', layout=Layout(height='25px', width='50%'),…"
      ]
     },
     "metadata": {},
     "output_type": "display_data"
    },
    {
     "name": "stdout",
     "output_type": "stream",
     "text": [
      "Row(plate=8935, ifudsgn='12701', plateifu='8935-12701', mangaid='1-404249', versdrp2='v2_4_3', versdrp3='v2_4_3', verscore='v1_6_2', versutil='v5_5_32', versprim='v2_5', platetyp='APOGEE-2&MaNGA', srvymode='MaNGA dither', objra=194.523423939, objdec=29.0173526307, ifuglon=85.4656882782, ifuglat=87.6076553974, ifura=194.52342, ifudec=29.017353, ebvgal=0.00884234, nexp=9, exptime=8100.82, drp3qual=0, bluesn2=26.412, redsn2=54.6103, harname='ma087', frlplug=22, cartid='4', designid=9555, cenra=195.773, cendec=28.079836, airmsmin=1.00379, airmsmed=1.0207, airmsmax=1.05363, seemin=1.4388, seemed=1.6464, seemax=1.77775, transmin=0.778568, transmed=0.894813, transmax=0.908259, mjdmin=57809, mjdmed=57809, mjdmax=57813, gfwhm=2.77918, rfwhm=2.69495, ifwhm=2.66897, zfwhm=2.65623, mngtarg1=4288, mngtarg2=0, mngtarg3=0, catidnum=1, plttarg='plateTargets-1.par', manga_tileid=6460, nsa_iauname='J125805.61+290102.5', ifudesignsize=127, ifutargetsize=127, ifudesignwrongsize=0, z=0.0256766, zmin=0.0154936, zmax=0.0240863, szmin=0.0334392, szmax=0.0359381, ezmin=0.0146675, ezmax=0.0285023, probs=0.67973, pweight=-999.0, psweight=-999.0, psrweight=-999.0, sweight=-999.0, srweight=-999.0, eweight=0.969534, esweight=0.712336, esrweight=0.736879, nsa_field=17, nsa_run=4646, nsa_camcol=2, nsa_version='v1_0_1', nsa_nsaid=427604, nsa_nsaid_v1b=-999, nsa_z=0.0256766, nsa_zdist=0.0255916, nsa_sersic_absmag_f=-11.0607, nsa_sersic_absmag_n=-14.0814, nsa_sersic_absmag_u=-16.4717, nsa_sersic_absmag_g=-17.7214, nsa_sersic_absmag_r=-18.3099, nsa_sersic_absmag_i=-18.5468, nsa_sersic_absmag_z=-18.7128, nsa_elpetro_absmag_f=-10.5316, nsa_elpetro_absmag_n=-13.9755, nsa_elpetro_absmag_u=-16.4276, nsa_elpetro_absmag_g=-17.6815, nsa_elpetro_absmag_r=-18.2274, nsa_elpetro_absmag_i=-18.3603, nsa_elpetro_absmag_z=-18.6375, nsa_elpetro_amivar_f=0.432649, nsa_elpetro_amivar_n=308.539, nsa_elpetro_amivar_u=58.9027, nsa_elpetro_amivar_g=2063.63, nsa_elpetro_amivar_r=1928.68, nsa_elpetro_amivar_i=1975.01, nsa_elpetro_amivar_z=455.756, nsa_sersic_mass=2118210000.0, nsa_elpetro_mass=1815790000.0, nsa_elpetro_ba=0.324917, nsa_elpetro_phi=120.306, nsa_extinction_f=0.0732985, nsa_extinction_n=0.0723259, nsa_extinction_u=0.0455795, nsa_extinction_g=0.0335369, nsa_extinction_r=0.0243238, nsa_extinction_i=0.018444, nsa_extinction_z=0.013077, nsa_elpetro_th50_r=8.44811, nsa_petro_th50=6.03505, nsa_petro_flux_f=-0.0303539, nsa_petro_flux_n=5.48006, nsa_petro_flux_u=84.159, nsa_petro_flux_g=186.685, nsa_petro_flux_r=313.29, nsa_petro_flux_i=437.151, nsa_petro_flux_z=448.859, nsa_petro_flux_ivar_f=7.34277, nsa_petro_flux_ivar_n=15.9917, nsa_petro_flux_ivar_u=0.0206231, nsa_petro_flux_ivar_g=0.201311, nsa_petro_flux_ivar_r=0.0506021, nsa_petro_flux_ivar_i=0.0464941, nsa_petro_flux_ivar_z=0.00210648, nsa_elpetro_flux_f=0.208874, nsa_elpetro_flux_n=5.69585, nsa_elpetro_flux_u=51.1156, nsa_elpetro_flux_g=182.588, nsa_elpetro_flux_r=304.623, nsa_elpetro_flux_i=363.236, nsa_elpetro_flux_z=476.131, nsa_elpetro_flux_ivar_f=11.6981, nsa_elpetro_flux_ivar_n=22.1412, nsa_elpetro_flux_ivar_u=0.0311643, nsa_elpetro_flux_ivar_g=0.41805, nsa_elpetro_flux_ivar_r=0.107213, nsa_elpetro_flux_ivar_i=0.0840296, nsa_elpetro_flux_ivar_z=0.00401799, nsa_sersic_ba=0.236697, nsa_sersic_n=1.81745, nsa_sersic_phi=120.453, nsa_sersic_th50=9.97898, nsa_sersic_flux_f=0.341969, nsa_sersic_flux_n=6.26214, nsa_sersic_flux_u=53.3641, nsa_sersic_flux_g=188.948, nsa_sersic_flux_r=329.19, nsa_sersic_flux_i=430.519, nsa_sersic_flux_z=510.043, nsa_sersic_flux_ivar_f=43.3074, nsa_sersic_flux_ivar_n=32.7974, nsa_sersic_flux_ivar_u=0.318462, nsa_sersic_flux_ivar_g=1.49015, nsa_sersic_flux_ivar_r=0.73374, nsa_sersic_flux_ivar_i=0.396614, nsa_sersic_flux_ivar_z=0.023001)"
     ]
    }
   ],
   "source": [
    "drptable.first()"
   ]
  },
  {
   "cell_type": "code",
   "execution_count": 15,
   "metadata": {},
   "outputs": [
    {
     "data": {
      "application/vnd.jupyter.widget-view+json": {
       "model_id": "",
       "version_major": 2,
       "version_minor": 0
      },
      "text/plain": [
       "FloatProgress(value=0.0, bar_style='info', description='Progress:', layout=Layout(height='25px', width='50%'),…"
      ]
     },
     "metadata": {},
     "output_type": "display_data"
    }
   ],
   "source": [
    "rdd = sc.parallelize(dapall)\n",
    "daptable = rdd.map(getfitslocal).flatMap(create_dap_row)"
   ]
  },
  {
   "cell_type": "code",
   "execution_count": 16,
   "metadata": {},
   "outputs": [
    {
     "data": {
      "application/vnd.jupyter.widget-view+json": {
       "model_id": "",
       "version_major": 2,
       "version_minor": 0
      },
      "text/plain": [
       "FloatProgress(value=0.0, bar_style='info', description='Progress:', layout=Layout(height='25px', width='50%'),…"
      ]
     },
     "metadata": {},
     "output_type": "display_data"
    },
    {
     "name": "stdout",
     "output_type": "stream",
     "text": [
      "Row(plate=7443, ifudesign=3702, plateifu='7443-3702', mangaid='12-84670', drpallindx=5639, mode='CUBE', daptype='VOR10-GAU-MILESHC', dapdone=True, objra=230.5983428955078, objdec=43.367774963378906, ifura=230.5983428955078, ifudec=43.367774963378906, mngtarg1=2084, mngtarg2=0, mngtarg3=0, z=0.11045099794864655, ldist_z=358.3685607910156, adist_z=290.6237487792969, nsa_z=0.11045099794864655, nsa_zdist=0.11082600057125092, ldist_nsa_z=358.3685607910156, adist_nsa_z=290.6237487792969, nsa_elpetro_ba=0.9506450295448303, nsa_elpetro_phi=129.19700622558594, nsa_elpetro_th50_r=2.6250100135803223, nsa_sersic_ba=0.9509689807891846, nsa_sersic_phi=119.18900299072266, nsa_sersic_th50=3.677690029144287, nsa_sersic_n=6.0, versdrp2='v2_4_3', versdrp3='v2_4_3', verscore='v1_6_2', versutil='v5_5_32', versdap='2.2.1', drp3qual=0, dapqual=0, rdxqakey='SNRG', binkey='VOR10', sckey='GAU-MILESHC', elmkey='EMOMM', elfkey='EFITM', sikey='INDXEN', bintype='voronoi', binsnr=10.0, tplkey='MILESHC', datedap='2018-07-22', dapbins=167, rcov90=6.914666175842285, snr_med_g=10.95297622680664, snr_med_r=18.34178924560547, snr_med_i=22.453323364257812, snr_med_z=18.88823699951172, snr_ring_g=33.23140335083008, snr_ring_r=53.95050811767578, snr_ring_i=69.06214141845703, snr_ring_z=40.198280334472656, sb_1re=0.37402066588401794, bin_rmax=2.5787158012390137, bin_r_n_5=83.0, bin_r_n_10=118.0, bin_r_n_20=24.0, bin_r_snr_g=25.164485931396484, bin_r_snr_r=16.355037689208984, bin_r_snr_i=5.236442565917969, bin_r_snr_z=0.11051706224679947, stellar_z=-2.824025869369507, stellar_vel_lo=38.994754791259766, stellar_vel_hi=6.423760414123535, stellar_vel_lo_clip=36.50943374633789, stellar_vel_hi_clip=211.1022186279297, stellar_sigma_1re=1.1987498998641968, stellar_cont_rchi2_1re=0.11065329611301422, ha_z=-245.83792114257812, ha_gvel_lo=652.2086791992188, ha_gvel_hi=-246.0814971923828, ha_gvel_lo_clip=307.369384765625, ha_gvel_hi_clip=567.5224609375, ha_gsigma_1re=830.4977416992188, ha_gsigma_hi=277.3293762207031, ha_gsigma_hi_clip=7.938204765319824, emline_sflux_cen_oiid_3728=-999.0, emline_sflux_cen_oii_3729=3.232694387435913, emline_sflux_cen_hthe_3798=-3.273761749267578, emline_sflux_cen_heta_3836=1.7218420505523682, emline_sflux_cen_neiii_3869=3.7079644203186035, emline_sflux_cen_hzet_3890=1.3342431783676147, emline_sflux_cen_neiii_3968=1.2941529750823975, emline_sflux_cen_heps_3971=-2.6266472339630127, emline_sflux_cen_hdel_4102=1.2941184043884277, emline_sflux_cen_hgam_4341=4.588757038116455, emline_sflux_cen_heii_4687=-6.476334571838379, emline_sflux_cen_hb_4862=5.608508586883545, emline_sflux_cen_oiii_4960=8.193680763244629, emline_sflux_cen_oiii_5008=3.5862183570861816, emline_sflux_cen_hei_5877=0.7005610466003418, emline_sflux_cen_oi_6302=-0.4618065059185028, emline_sflux_cen_oi_6365=5.176169395446777, emline_sflux_cen_nii_6549=6.522726058959961, emline_sflux_cen_ha_6564=7.9135870933532715, emline_sflux_cen_nii_6585=0.42833900451660156, emline_sflux_cen_sii_6718=2.190209150314331, emline_sflux_cen_sii_6732=17.211469650268555, emline_sflux_1re_oiid_3728=-999.0, emline_sflux_1re_oii_3729=4.351475715637207, emline_sflux_1re_hthe_3798=-8.256124496459961, emline_sflux_1re_heta_3836=5.834871292114258, emline_sflux_1re_neiii_3869=8.424752235412598, emline_sflux_1re_hzet_3890=6.115637302398682, emline_sflux_1re_neiii_3968=8.434163093566895, emline_sflux_1re_heps_3971=-3.5745370388031006, emline_sflux_1re_hdel_4102=2.879984140396118, emline_sflux_1re_hgam_4341=5.750880241394043, emline_sflux_1re_heii_4687=-16.684703826904297, emline_sflux_1re_hb_4862=11.60153865814209, emline_sflux_1re_oiii_4960=19.338361740112305, emline_sflux_1re_oiii_5008=11.86239242553711, emline_sflux_1re_hei_5877=4.634340763092041, emline_sflux_1re_oi_6302=-2.03121280670166, emline_sflux_1re_oi_6365=12.417372703552246, emline_sflux_1re_nii_6549=10.172500610351562, emline_sflux_1re_ha_6564=17.69774055480957, emline_sflux_1re_nii_6585=0.7458412051200867, emline_sflux_1re_sii_6718=7.17421293258667, emline_sflux_1re_sii_6732=20.296411514282227, emline_sflux_tot_oiid_3728=-999.0, emline_sflux_tot_oii_3729=4.681575298309326, emline_sflux_tot_hthe_3798=-9.531144142150879, emline_sflux_tot_heta_3836=6.096920013427734, emline_sflux_tot_neiii_3869=10.975578308105469, emline_sflux_tot_hzet_3890=7.101932048797607, emline_sflux_tot_neiii_3968=10.81624698638916, emline_sflux_tot_heps_3971=-5.942674160003662, emline_sflux_tot_hdel_4102=5.299330711364746, emline_sflux_tot_hgam_4341=3.3741376399993896, emline_sflux_tot_heii_4687=-23.259578704833984, emline_sflux_tot_hb_4862=12.438492774963379, emline_sflux_tot_oiii_4960=23.49423599243164, emline_sflux_tot_oiii_5008=12.527838706970215, emline_sflux_tot_hei_5877=7.952200412750244, emline_sflux_tot_oi_6302=-2.2411293983459473, emline_sflux_tot_oi_6365=15.817436218261719, emline_sflux_tot_nii_6549=12.430734634399414, emline_sflux_tot_ha_6564=25.01262664794922, emline_sflux_tot_nii_6585=-0.3375996947288513, emline_sflux_tot_sii_6718=9.624236106872559, emline_sflux_tot_sii_6732=0.20736710727214813, emline_ssb_1re_oii_3727=-999.0, emline_ssb_1re_oii_3729=0.052427418529987335, emline_ssb_1re_hthe_3798=-0.09947138279676437, emline_ssb_1re_heta_3836=0.0702996551990509, emline_ssb_1re_neiii_3869=0.10150303691625595, emline_ssb_1re_hzet_3890=0.07368237525224686, emline_ssb_1re_neiii_3968=0.10161641985177994, emline_ssb_1re_heps_3971=-0.043066710233688354, emline_ssb_1re_hdel_4102=0.03469860553741455, emline_ssb_1re_hgam_4341=0.06928771734237671, emline_ssb_1re_heii_4687=-0.2010205239057541, emline_ssb_1re_hb_4862=0.13977757096290588, emline_ssb_1re_oiii_4960=0.23299230635166168, emline_ssb_1re_oiii_5008=0.1429203897714615, emline_ssb_1re_hei_5877=0.055835429579019547, emline_ssb_1re_oi_6302=-0.024472443386912346, emline_ssb_1re_oi_6365=0.14960689842700958, emline_ssb_1re_nii_6549=0.12256024777889252, emline_ssb_1re_ha_6564=0.21322579681873322, emline_ssb_1re_nii_6585=0.008986038155853748, emline_ssb_1re_sii_6718=0.08643630146980286, emline_ssb_1re_sii_6732=0.529380202293396, emline_ssb_peak_oii_3727=-999.0, emline_ssb_peak_oii_3729=0.2943054735660553, emline_ssb_peak_hthe_3798=0.15646225214004517, emline_ssb_peak_heta_3836=0.24274367094039917, emline_ssb_peak_neiii_3869=0.32179421186447144, emline_ssb_peak_hzet_3890=0.25026950240135193, emline_ssb_peak_neiii_3968=0.28702014684677124, emline_ssb_peak_heps_3971=0.1554500311613083, emline_ssb_peak_hdel_4102=0.17387256026268005, emline_ssb_peak_hgam_4341=0.2812070846557617, emline_ssb_peak_heii_4687=0.07004037499427795, emline_ssb_peak_hb_4862=0.40699517726898193, emline_ssb_peak_oiii_4960=0.47646310925483704, emline_ssb_peak_oiii_5008=0.7770392894744873, emline_ssb_peak_hei_5877=0.4121490716934204, emline_ssb_peak_oi_6302=0.5845692753791809, emline_ssb_peak_oi_6365=0.39258989691734314, emline_ssb_peak_nii_6549=0.48877644538879395, emline_ssb_peak_ha_6564=0.5336522459983826, emline_ssb_peak_nii_6585=0.0751672238111496, emline_ssb_peak_sii_6718=0.3614357113838196, emline_ssb_peak_sii_6732=0.7945493459701538, emline_sew_1re_oiid_3728=-999.0, emline_sew_1re_oii_3729=0.15541192889213562, emline_sew_1re_hthe_3798=-0.3711084723472595, emline_sew_1re_heta_3836=0.2881492078304291, emline_sew_1re_neiii_3869=0.3203074038028717, emline_sew_1re_hzet_3890=0.25512605905532837, emline_sew_1re_neiii_3968=0.36052894592285156, emline_sew_1re_heps_3971=-0.07817991077899933, emline_sew_1re_hdel_4102=0.06470423191785812, emline_sew_1re_hgam_4341=0.057482488453388214, emline_sew_1re_heii_4687=-0.303884357213974, emline_sew_1re_hb_4862=0.18842713534832, emline_sew_1re_oiii_4960=0.349010705947876, emline_sew_1re_oiii_5008=0.2212241142988205, emline_sew_1re_hei_5877=0.10790180414915085, emline_sew_1re_oi_6302=-0.04690718650817871, emline_sew_1re_oi_6365=0.1972556710243225, emline_sew_1re_nii_6549=0.12544669210910797, emline_sew_1re_ha_6564=0.29307350516319275, emline_sew_1re_nii_6585=0.011103038676083088, emline_sew_1re_sii_6718=0.13224782049655914, emline_sew_1re_sii_6732=7.006659507751465, emline_sew_peak_oiid_3728=-999.0, emline_sew_peak_oii_3729=5.070009708404541, emline_sew_peak_hthe_3798=4.93560266494751, emline_sew_peak_heta_3836=6.342268943786621, emline_sew_peak_neiii_3869=4.929881572723389, emline_sew_peak_hzet_3890=3.199070692062378, emline_sew_peak_neiii_3968=2.8287041187286377, emline_sew_peak_heps_3971=2.874908447265625, emline_sew_peak_hdel_4102=3.6699180603027344, emline_sew_peak_hgam_4341=1.4919044971466064, emline_sew_peak_heii_4687=0.9244867563247681, emline_sew_peak_hb_4862=1.2982609272003174, emline_sew_peak_oiii_4960=1.8764160871505737, emline_sew_peak_oiii_5008=0.9016178250312805, emline_sew_peak_hei_5877=1.707771897315979, emline_sew_peak_oi_6302=1.7398923635482788, emline_sew_peak_oi_6365=1.6540985107421875, emline_sew_peak_nii_6549=1.8536384105682373, emline_sew_peak_ha_6564=2.2992920875549316, emline_sew_peak_nii_6585=0.3180614113807678, emline_sew_peak_sii_6718=1.361000657081604, emline_sew_peak_sii_6732=1.1797833442687988, emline_gflux_cen_oii_3727=11.618546485900879, emline_gflux_cen_oii_3729=4.520601272583008, emline_gflux_cen_hthe_3798=0.0, emline_gflux_cen_heta_3836=1.6529922485351562, emline_gflux_cen_neiii_3869=6.172161102294922, emline_gflux_cen_hzet_3890=0.09611211717128754, emline_gflux_cen_neiii_3968=0.6250848770141602, emline_gflux_cen_heps_3971=0.0, emline_gflux_cen_hdel_4102=1.1753435134887695, emline_gflux_cen_hgam_4341=0.9168809652328491, emline_gflux_cen_heii_4687=0.05400167778134346, emline_gflux_cen_hb_4862=2.0025665760040283, emline_gflux_cen_oiii_4960=5.889901161193848, emline_gflux_cen_oiii_5008=2.5302417278289795, emline_gflux_cen_hei_5877=0.3161734342575073, emline_gflux_cen_oi_6302=0.10370488464832306, emline_gflux_cen_oi_6365=3.0336227416992188, emline_gflux_cen_nii_6549=9.285968780517578, emline_gflux_cen_ha_6564=9.27713394165039, emline_gflux_cen_nii_6585=0.32844623923301697, emline_gflux_cen_sii_6718=1.710580825805664, emline_gflux_cen_sii_6732=12.374993324279785, emline_gflux_1re_oii_3727=17.80572509765625, emline_gflux_1re_oii_3729=6.609410285949707, emline_gflux_1re_hthe_3798=0.4903621971607208, emline_gflux_1re_heta_3836=6.234617710113525, emline_gflux_1re_neiii_3869=13.34796142578125, emline_gflux_1re_hzet_3890=0.5503109693527222, emline_gflux_1re_neiii_3968=5.06629753112793, emline_gflux_1re_heps_3971=1.1650402545928955, emline_gflux_1re_hdel_4102=5.3777265548706055, emline_gflux_1re_hgam_4341=1.6773186922073364, emline_gflux_1re_heii_4687=0.22150753438472748, emline_gflux_1re_hb_4862=5.8528733253479, emline_gflux_1re_oiii_4960=17.214330673217773, emline_gflux_1re_oiii_5008=9.153423309326172, emline_gflux_1re_hei_5877=4.030450820922852, emline_gflux_1re_oi_6302=1.3219877481460571, emline_gflux_1re_oi_6365=7.551244735717773, emline_gflux_1re_nii_6549=10.712613105773926, emline_gflux_1re_ha_6564=23.09249496459961, emline_gflux_1re_nii_6585=2.4893381595611572, emline_gflux_1re_sii_6718=5.139021873474121, emline_gflux_1re_sii_6732=16.37014389038086, emline_gflux_tot_oii_3727=21.44478988647461, emline_gflux_tot_oii_3729=8.983367919921875, emline_gflux_tot_hthe_3798=1.7396315336227417, emline_gflux_tot_heta_3836=8.939906120300293, emline_gflux_tot_neiii_3869=18.214284896850586, emline_gflux_tot_hzet_3890=1.2725638151168823, emline_gflux_tot_neiii_3968=7.552786350250244, emline_gflux_tot_heps_3971=2.7777228355407715, emline_gflux_tot_hdel_4102=7.882802486419678, emline_gflux_tot_hgam_4341=2.4802260398864746, emline_gflux_tot_heii_4687=0.5893934965133667, emline_gflux_tot_hb_4862=7.2719502449035645, emline_gflux_tot_oiii_4960=21.38808250427246, emline_gflux_tot_oiii_5008=11.995152473449707, emline_gflux_tot_hei_5877=5.9257354736328125, emline_gflux_tot_oi_6302=1.9436404705047607, emline_gflux_tot_oi_6365=10.294818878173828, emline_gflux_tot_nii_6549=14.130932807922363, emline_gflux_tot_ha_6564=31.482637405395508, emline_gflux_tot_nii_6585=2.8999013900756836, emline_gflux_tot_sii_6718=7.304468154907227, emline_gflux_tot_sii_6732=0.16952045261859894, emline_gsb_1re_oii_3727=0.24391403794288635, emline_gsb_1re_oii_3729=0.09864791482686996, emline_gsb_1re_hthe_3798=0.006286694668233395, emline_gsb_1re_heta_3836=0.08096905797719955, emline_gsb_1re_neiii_3869=0.19068516790866852, emline_gsb_1re_hzet_3890=0.0071468958631157875, emline_gsb_1re_neiii_3968=0.06413035094738007, emline_gsb_1re_heps_3971=0.014747344888746738, emline_gsb_1re_hdel_4102=0.07075955718755722, emline_gsb_1re_hgam_4341=0.022069983184337616, emline_gsb_1re_heii_4687=0.002953433897346258, emline_gsb_1re_hb_4862=0.07601134479045868, emline_gsb_1re_oiii_4960=0.22356273233890533, emline_gsb_1re_oiii_5008=0.12369491159915924, emline_gsb_1re_hei_5877=0.053032249212265015, emline_gsb_1re_oi_6302=0.017394576221704483, emline_gsb_1re_oi_6365=0.11986102908849716, emline_gsb_1re_nii_6549=0.23288288712501526, emline_gsb_1re_ha_6564=0.36654752492904663, emline_gsb_1re_nii_6585=0.033639706671237946, emline_gsb_1re_sii_6718=0.07341460138559341, emline_gsb_1re_sii_6732=0.5812010765075684, emline_gsb_peak_oii_3727=0.8270554542541504, emline_gsb_peak_oii_3729=0.421669602394104, emline_gsb_peak_hthe_3798=0.11924704909324646, emline_gsb_peak_heta_3836=0.33202847838401794, emline_gsb_peak_neiii_3869=0.5449619889259338, emline_gsb_peak_hzet_3890=0.21796327829360962, emline_gsb_peak_neiii_3968=0.18594376742839813, emline_gsb_peak_heps_3971=0.13216426968574524, emline_gsb_peak_hdel_4102=0.682279109954834, emline_gsb_peak_hgam_4341=0.12238271534442902, emline_gsb_peak_heii_4687=0.07069079577922821, emline_gsb_peak_hb_4862=0.20726712048053741, emline_gsb_peak_oiii_4960=0.6096091866493225, emline_gsb_peak_oiii_5008=0.945770263671875, emline_gsb_peak_hei_5877=1.0914369821548462, emline_gsb_peak_oi_6302=0.3579913079738617, emline_gsb_peak_oi_6365=0.6196212768554688, emline_gsb_peak_nii_6549=1.8814059495925903, emline_gsb_peak_ha_6564=1.8948662281036377, emline_gsb_peak_nii_6585=0.5244525671005249, emline_gsb_peak_sii_6718=0.3259229063987732, emline_gsb_peak_sii_6732=0.8292127251625061, emline_gew_1re_oii_3727=0.8224546313285828, emline_gew_1re_oii_3729=0.31584393978118896, emline_gew_1re_hthe_3798=0.04343700408935547, emline_gew_1re_heta_3836=0.3360990583896637, emline_gew_1re_neiii_3869=0.6174808740615845, emline_gew_1re_hzet_3890=0.024358276277780533, emline_gew_1re_neiii_3968=0.2311827689409256, emline_gew_1re_heps_3971=0.048200562596321106, emline_gew_1re_hdel_4102=0.16536353528499603, emline_gew_1re_hgam_4341=0.02927384339272976, emline_gew_1re_heii_4687=0.0047844150103628635, emline_gew_1re_hb_4862=0.12149763852357864, emline_gew_1re_oiii_4960=0.372442364692688, emline_gew_1re_oiii_5008=0.18916556239128113, emline_gew_1re_hei_5877=0.09859366714954376, emline_gew_1re_oi_6302=0.03180418908596039, emline_gew_1re_oi_6365=0.1658855527639389, emline_gew_1re_nii_6549=0.22253106534481049, emline_gew_1re_ha_6564=0.5070300698280334, emline_gew_1re_nii_6585=0.060009293258190155, emline_gew_1re_sii_6718=0.11086627095937729, emline_gew_1re_sii_6732=7.643853187561035, emline_gew_peak_oii_3727=10.050868034362793, emline_gew_peak_oii_3729=1.8781673908233643, emline_gew_peak_hthe_3798=6.235518932342529, emline_gew_peak_heta_3836=6.348128795623779, emline_gew_peak_neiii_3869=5.606100559234619, emline_gew_peak_hzet_3890=1.7316315174102783, emline_gew_peak_neiii_3968=3.1423473358154297, emline_gew_peak_heps_3971=2.9884750843048096, emline_gew_peak_hdel_4102=2.120971202850342, emline_gew_peak_hgam_4341=1.0209176540374756, emline_gew_peak_heii_4687=0.6999875903129578, emline_gew_peak_hb_4862=0.7024790644645691, emline_gew_peak_oiii_4960=2.124574661254883, emline_gew_peak_oiii_5008=3.4394545555114746, emline_gew_peak_hei_5877=2.774463415145874, emline_gew_peak_oi_6302=0.9405703544616699, emline_gew_peak_oi_6365=1.6685895919799805, emline_gew_peak_nii_6549=2.207641363143921, emline_gew_peak_ha_6564=5.046191215515137, emline_gew_peak_nii_6585=0.9467189908027649, emline_gew_peak_sii_6718=1.151454210281372, emline_gew_peak_sii_6732=0.017839236184954643, specindex_lo_cn1=0.062001440674066544, specindex_lo_cn2=-0.14751635491847992, specindex_lo_ca4227=4.670808792114258, specindex_lo_g4300=1.6115641593933105, specindex_lo_fe4383=0.6646785736083984, specindex_lo_ca4455=1.61310613155365, specindex_lo_fe4531=4.172439098358154, specindex_lo_c24668=0.9590334892272949, specindex_lo_hb=2.0989794731140137, specindex_lo_fe5015=0.0786157101392746, specindex_lo_mg1=0.2133214920759201, specindex_lo_mg2=3.0657095909118652, specindex_lo_mgb=0.941292405128479, specindex_lo_fe5270=0.4697888195514679, specindex_lo_fe5335=0.6947338581085205, specindex_lo_fe5406=0.8375926613807678, specindex_lo_fe5709=0.15850378572940826, specindex_lo_fe5782=1.0452557802200317, specindex_lo_nad=0.007452809251844883, specindex_lo_tio1=-0.0005485552828758955, specindex_lo_tio2=-3.942826747894287, specindex_lo_hdeltaa=-6.619094371795654, specindex_lo_hgammaa=-0.9045869708061218, specindex_lo_hdeltaf=-2.200103998184204, specindex_lo_hgammaf=12.506495475769043, specindex_lo_cahk=0.0, specindex_lo_caii1=0.0, specindex_lo_caii2=0.0, specindex_lo_caii3=0.0, specindex_lo_pa17=0.0, specindex_lo_pa14=0.0, specindex_lo_pa12=4.777317523956299, specindex_lo_mgicvd=0.0, specindex_lo_naicvd=0.0, specindex_lo_mgiir=-999.0, specindex_lo_fehcvd=0.0, specindex_lo_nai=-0.041531164199113846, specindex_lo_btio=-0.00891171209514141, specindex_lo_atio=-0.011765982024371624, specindex_lo_cah1=0.02832026779651642, specindex_lo_cah2=0.0, specindex_lo_naisdss=0.0050963652320206165, specindex_lo_tio2sdss=3.0230462551116943, specindex_lo_d4000=2.7952165603637695, specindex_lo_dn4000=1.0068690776824951, specindex_lo_tiocvd=0.10102220624685287, specindex_hi_cn1=0.14479020237922668, specindex_hi_cn2=1.867008090019226, specindex_hi_ca4227=7.971801280975342, specindex_hi_g4300=6.856225967407227, specindex_hi_fe4383=2.665942907333374, specindex_hi_ca4455=5.350717544555664, specindex_hi_fe4531=7.527329921722412, specindex_hi_c24668=2.941589117050171, specindex_hi_hb=6.135197639465332, specindex_hi_fe5015=0.12194640934467316, specindex_hi_mg1=0.2985789179801941, specindex_hi_mg2=5.461413860321045, specindex_hi_mgb=3.8156561851501465, specindex_hi_fe5270=5.552158832550049, specindex_hi_fe5335=3.0182390213012695, specindex_hi_fe5406=2.8177571296691895, specindex_hi_fe5709=1.4982813596725464, specindex_hi_fe5782=3.964280128479004, specindex_hi_nad=0.050879236310720444, specindex_hi_tio1=0.0786837488412857, specindex_hi_tio2=-0.07542193681001663, specindex_hi_hdeltaa=-3.5115773677825928, specindex_hi_hgammaa=1.9813165664672852, specindex_hi_hdeltaf=-0.19105198979377747, specindex_hi_hgammaf=23.411100387573242, specindex_hi_cahk=0.0, specindex_hi_caii1=0.0, specindex_hi_caii2=0.0, specindex_hi_caii3=0.0, specindex_hi_pa17=0.0, specindex_hi_pa14=0.0, specindex_hi_pa12=7.924161434173584, specindex_hi_mgicvd=0.0, specindex_hi_naicvd=0.0, specindex_hi_mgiir=-999.0, specindex_hi_fehcvd=0.0, specindex_hi_nai=0.038387130945920944, specindex_hi_btio=0.03931916505098343, specindex_hi_atio=0.019514866173267365, specindex_hi_cah1=0.13836410641670227, specindex_hi_cah2=0.0, specindex_hi_naisdss=0.07798893004655838, specindex_hi_tio2sdss=3.211432695388794, specindex_hi_d4000=3.0245416164398193, specindex_hi_dn4000=1.348538875579834, specindex_hi_tiocvd=0.022429529577493668, specindex_lo_clip_cn1=0.07082194089889526, specindex_lo_clip_cn2=0.47144681215286255, specindex_lo_clip_ca4227=4.671960353851318, specindex_lo_clip_g4300=3.2243635654449463, specindex_lo_clip_fe4383=1.1670325994491577, specindex_lo_clip_ca4455=2.2833826541900635, specindex_lo_clip_fe4531=4.368342876434326, specindex_lo_clip_c24668=1.416704773902893, specindex_lo_clip_hb=3.5584845542907715, specindex_lo_clip_fe5015=0.08060929924249649, specindex_lo_clip_mg1=0.21360547840595245, specindex_lo_clip_mg2=3.118006467819214, specindex_lo_clip_mgb=1.5403319597244263, specindex_lo_clip_fe5270=2.0254101753234863, specindex_lo_clip_fe5335=0.8798625469207764, specindex_lo_clip_fe5406=0.8350387215614319, specindex_lo_clip_fe5709=0.21116437017917633, specindex_lo_clip_fe5782=2.189453601837158, specindex_lo_clip_nad=0.00850857887417078, specindex_lo_clip_tio1=0.03832769766449928, specindex_lo_clip_tio2=-2.7928876876831055, specindex_lo_clip_hdeltaa=-5.797981262207031, specindex_lo_clip_hgammaa=-0.10231832414865494, specindex_lo_clip_hdeltaf=-2.015848398208618, specindex_lo_clip_hgammaf=14.4715576171875, specindex_lo_clip_cahk=0.0, specindex_lo_clip_caii1=0.0, specindex_lo_clip_caii2=0.0, specindex_lo_clip_caii3=0.0, specindex_lo_clip_pa17=0.0, specindex_lo_clip_pa14=0.0, specindex_lo_clip_pa12=5.1514434814453125, specindex_lo_clip_mgicvd=0.0, specindex_lo_clip_naicvd=0.0, specindex_lo_clip_mgiir=-999.0, specindex_lo_clip_fehcvd=0.0, specindex_lo_clip_nai=-0.01955142617225647, specindex_lo_clip_btio=-0.00891171209514141, specindex_lo_clip_atio=-0.009202190674841404, specindex_lo_clip_cah1=0.027840543538331985, specindex_lo_clip_cah2=0.0, specindex_lo_clip_naisdss=0.04190897196531296, specindex_lo_clip_tio2sdss=3.0274486541748047, specindex_lo_clip_d4000=2.82206654548645, specindex_lo_clip_dn4000=1.0057915449142456, specindex_lo_clip_tiocvd=0.101114921271801, specindex_hi_clip_cn1=0.14433209598064423, specindex_hi_clip_cn2=1.8758147954940796, specindex_hi_clip_ca4227=6.68875789642334, specindex_hi_clip_g4300=6.865771770477295, specindex_hi_clip_fe4383=2.677506446838379, specindex_hi_clip_ca4455=5.002169132232666, specindex_hi_clip_fe4531=7.527695655822754, specindex_hi_clip_c24668=2.9141323566436768, specindex_hi_clip_hb=6.142933368682861, specindex_hi_clip_fe5015=0.1201595589518547, specindex_hi_clip_mg1=0.2756754755973816, specindex_hi_clip_mg2=5.258772373199463, specindex_hi_clip_mgb=3.856584072113037, specindex_hi_clip_fe5270=4.318828582763672, specindex_hi_clip_fe5335=3.0193610191345215, specindex_hi_clip_fe5406=1.843031406402588, specindex_hi_clip_fe5709=1.3198143243789673, specindex_hi_clip_fe5782=3.976133346557617, specindex_hi_clip_nad=0.049578361213207245, specindex_hi_clip_tio1=0.07904582470655441, specindex_hi_clip_tio2=-0.4569912254810333, specindex_hi_clip_hdeltaa=-3.961721181869507, specindex_hi_clip_hgammaa=1.841681718826294, specindex_hi_clip_hdeltaf=-0.6672865152359009, specindex_hi_clip_hgammaf=22.3453369140625, specindex_hi_clip_cahk=0.0, specindex_hi_clip_caii1=0.0, specindex_hi_clip_caii2=0.0, specindex_hi_clip_caii3=0.0, specindex_hi_clip_pa17=0.0, specindex_hi_clip_pa14=0.0, specindex_hi_clip_pa12=7.099977970123291, specindex_hi_clip_mgicvd=0.0, specindex_hi_clip_naicvd=0.0, specindex_hi_clip_mgiir=-999.0, specindex_hi_clip_fehcvd=0.0, specindex_hi_clip_nai=0.033509451895952225, specindex_hi_clip_btio=0.03931916505098343, specindex_hi_clip_atio=0.019517939537763596, specindex_hi_clip_cah1=0.07625508308410645, specindex_hi_clip_cah2=0.0, specindex_hi_clip_naisdss=0.07800488919019699, specindex_hi_clip_tio2sdss=3.210366725921631, specindex_hi_clip_d4000=3.012464761734009, specindex_hi_clip_dn4000=1.1503206491470337, specindex_hi_clip_tiocvd=0.06118016317486763, specindex_1re_cn1=0.09684395045042038, specindex_1re_cn2=1.2854019403457642, specindex_1re_ca4227=5.292203426361084, specindex_1re_g4300=4.910642147064209, specindex_1re_fe4383=1.3532778024673462, specindex_1re_ca4455=3.2943711280822754, specindex_1re_fe4531=6.334362030029297, specindex_1re_c24668=1.8674620389938354, specindex_1re_hb=4.1646881103515625, specindex_1re_fe5015=0.10284044593572617, specindex_1re_mg1=0.24291281402111053, specindex_1re_mg2=4.002114295959473, specindex_1re_mgb=2.677053689956665, specindex_1re_fe5270=2.349146604537964, specindex_1re_fe5335=1.6148325204849243, specindex_1re_fe5406=0.9646692872047424, specindex_1re_fe5709=0.7658181190490723, specindex_1re_fe5782=3.2939846515655518, specindex_1re_nad=0.03391119837760925, specindex_1re_tio1=0.06656119227409363, specindex_1re_tio2=-1.6745399236679077, specindex_1re_hdeltaa=-5.209100723266602, specindex_1re_hgammaa=0.5814703702926636, specindex_1re_hdeltaf=-1.2117822170257568, specindex_1re_hgammaf=18.636690139770508, specindex_1re_cahk=-0.051734160631895065, specindex_1re_caii1=2.5220131874084473, specindex_1re_caii2=2.8172247409820557, specindex_1re_caii3=0.018920045346021652, specindex_1re_pa17=0.3857307434082031, specindex_1re_pa14=0.2904938757419586, specindex_1re_pa12=5.715795516967773, specindex_1re_mgicvd=0.05880814045667648, specindex_1re_naicvd=0.8593717217445374, specindex_1re_mgiir=-999.0, specindex_1re_fehcvd=1.9076592922210693, specindex_1re_nai=0.009974159300327301, specindex_1re_btio=0.010149107314646244, specindex_1re_atio=-0.0030828439630568027, specindex_1re_cah1=0.04647984355688095, specindex_1re_cah2=0.5158240795135498, specindex_1re_naisdss=0.0671524628996849, specindex_1re_tio2sdss=2.157914638519287, specindex_1re_d4000=1.9411064386367798, specindex_1re_dn4000=1.062166690826416, specindex_1re_tiocvd=0.008840282447636127, sfr_1re=0.01166115328669548)"
     ]
    }
   ],
   "source": [
    "daptable.first()"
   ]
  },
  {
   "cell_type": "code",
   "execution_count": 17,
   "metadata": {},
   "outputs": [
    {
     "data": {
      "application/vnd.jupyter.widget-view+json": {
       "model_id": "",
       "version_major": 2,
       "version_minor": 0
      },
      "text/plain": [
       "FloatProgress(value=0.0, bar_style='info', description='Progress:', layout=Layout(height='25px', width='50%'),…"
      ]
     },
     "metadata": {},
     "output_type": "display_data"
    }
   ],
   "source": [
    "hdfs_drp_dir = 'hdfs:///manga/brian-test/dr15/v2_4_3/drpall'\n",
    "hdfs_dap_dir = 'hdfs:///manga/brian-test/dr15/v2_4_3/dapall'"
   ]
  },
  {
   "cell_type": "code",
   "execution_count": 18,
   "metadata": {},
   "outputs": [
    {
     "data": {
      "application/vnd.jupyter.widget-view+json": {
       "model_id": "",
       "version_major": 2,
       "version_minor": 0
      },
      "text/plain": [
       "FloatProgress(value=0.0, bar_style='info', description='Progress:', layout=Layout(height='25px', width='50%'),…"
      ]
     },
     "metadata": {},
     "output_type": "display_data"
    },
    {
     "name": "stdout",
     "output_type": "stream",
     "text": [
      "186.46995854377747"
     ]
    }
   ],
   "source": [
    "t = time.time()\n",
    "\n",
    "table = spark.createDataFrame(drptable)\n",
    "table.write.mode('overwrite').parquet(hdfs_drp_dir)\n",
    "\n",
    "table = spark.createDataFrame(daptable)\n",
    "table.write.mode('overwrite').parquet(hdfs_dap_dir)\n",
    "\n",
    "print(time.time()-t)"
   ]
  },
  {
   "cell_type": "code",
   "execution_count": null,
   "metadata": {},
   "outputs": [],
   "source": []
  }
 ],
 "metadata": {
  "kernelspec": {
   "display_name": "PySpark",
   "language": "",
   "name": "pysparkkernel"
  },
  "language_info": {
   "codemirror_mode": {
    "name": "python",
    "version": 3
   },
   "mimetype": "text/x-python",
   "name": "pyspark",
   "pygments_lexer": "python3"
  }
 },
 "nbformat": 4,
 "nbformat_minor": 2
}
