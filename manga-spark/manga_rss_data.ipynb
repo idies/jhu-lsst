{
 "cells": [
  {
   "cell_type": "code",
   "execution_count": null,
   "metadata": {},
   "outputs": [],
   "source": [
    "%%configure -f\n",
    "{\"name\": \"arik\", \"executorMemory\": \"8G\", \"numExecutors\": 4, \"executorCores\": 2,\n",
    " \"conf\": {\"spark.yarn.appMasterEnv.PYSPARK_PYTHON\":\"python3\"}}"
   ]
  },
  {
   "cell_type": "code",
   "execution_count": null,
   "metadata": {},
   "outputs": [],
   "source": [
    "import sys\n",
    "import subprocess\n",
    "from io import BytesIO\n",
    "from gzip import GzipFile\n",
    "from pyspark.sql import Row\n",
    "\n",
    "stdout = subprocess.check_output(\n",
    "        sys.executable + ' -m pip install astropy',\n",
    "        stderr=subprocess.STDOUT,\n",
    "        shell=True).decode('utf-8')\n",
    "\n",
    "from astropy.io import fits"
   ]
  },
  {
   "cell_type": "code",
   "execution_count": null,
   "metadata": {},
   "outputs": [],
   "source": [
    "def getfits(compressed_data):\n",
    "    decomp = GzipFile(fileobj=BytesIO(compressed_data)).read()\n",
    "    fits_obj = fits.open(BytesIO(decomp))\n",
    "    return fits_obj\n",
    "\n",
    "# Spark dataframe cannot do numpy types\n",
    "def typeconv(i):\n",
    "    try:\n",
    "        return i.item()\n",
    "    except:\n",
    "        return i\n",
    "\n",
    "def headerDict(fits):\n",
    "    return dict(fits[0].header.items())\n",
    "\n",
    "def createFiberExposureRows(fits):\n",
    "    obsinfo = fits['OBSINFO']\n",
    "    obsinfo_columns = [i.name for i in obsinfo.columns]\n",
    "    n_exposures = len(obsinfo.data)\n",
    "    n_fibers = int(len(fits['FLUX'].data)/n_exposures)\n",
    "    rows = []\n",
    "    for exp in range(n_exposures):\n",
    "        expinfo = dict(zip(obsinfo_columns, [typeconv(i) for i in obsinfo.data[exp]]))\n",
    "        for fiber in range(n_fibers):\n",
    "            ind = exp*n_fibers + fiber\n",
    "            row = headerDict(fits)\n",
    "            row.update(expinfo)\n",
    "            row['EXPOSURE_INDEX'] = exp\n",
    "            row['FIBER_INDEX'] = fiber\n",
    "            # Per fiber/exposure data\n",
    "            for unit in ['FLUX', 'XPOS', 'YPOS', 'IVAR', 'MASK', 'DISP']:\n",
    "                row[unit] = fits[unit].data[ind].tolist()\n",
    "            # references all spectra\n",
    "            for unit in ['WAVE', 'SPECRES', 'SPECRESD']:\n",
    "                row[unit] = fits[unit].data.tolist()\n",
    "            # for convenience, store the mean fiber positions\n",
    "            row['XPOS_MEAN'] = fits['XPOS'].data[ind].mean().tolist()\n",
    "            row['YPOS_MEAN'] = fits['YPOS'].data[ind].mean().tolist()\n",
    "            rows.append(Row(**row))\n",
    "    return rows"
   ]
  },
  {
   "cell_type": "code",
   "execution_count": null,
   "metadata": {},
   "outputs": [],
   "source": [
    "manga_fits = sc.binaryFiles('hdfs:///manga/fits/').mapValues(getfits)"
   ]
  },
  {
   "cell_type": "code",
   "execution_count": null,
   "metadata": {},
   "outputs": [],
   "source": [
    "tabledata = manga_fits.flatMap(lambda x: createFiberExposureRows(x[1]))"
   ]
  },
  {
   "cell_type": "code",
   "execution_count": null,
   "metadata": {},
   "outputs": [],
   "source": [
    "df = spark.createDataFrame(tabledata)"
   ]
  },
  {
   "cell_type": "code",
   "execution_count": null,
   "metadata": {},
   "outputs": [],
   "source": [
    "df.write.parquet('hdfs:///manga/arik-test/flux')"
   ]
  },
  {
   "cell_type": "code",
   "execution_count": null,
   "metadata": {},
   "outputs": [],
   "source": [
    "spark.sql('SET spark.sql.parquet.compression.codec = gzip')\n",
    "df.write.parquet('hdfs:///manga/arik-test/flux-gz')"
   ]
  },
  {
   "cell_type": "code",
   "execution_count": null,
   "metadata": {},
   "outputs": [],
   "source": [
    "df.cache().createOrReplaceTempView('flux')"
   ]
  },
  {
   "cell_type": "code",
   "execution_count": null,
   "metadata": {},
   "outputs": [],
   "source": [
    "%%sql\n",
    "SELECT SPEC.WAVE as wl, avg(SPEC.FLUX) AS ifu_avg_flux FROM (\n",
    "    SELECT explode_outer(arrays_zip(WAVE, FLUX)) AS SPEC\n",
    "    FROM flux \n",
    "    WHERE MANGAID='1-115062' AND EXPOSURE_INDEX=0\n",
    ") \n",
    "GROUP BY SPEC.WAVE\n",
    "ORDER BY SPEC.WAVE ASC"
   ]
  },
  {
   "cell_type": "code",
   "execution_count": null,
   "metadata": {},
   "outputs": [],
   "source": [
    "from matplotlib import pyplot as plt\n",
    "query = '''\n",
    "SELECT XPOS_MEAN+IFURA AS RA, YPOS_MEAN+IFUDEC AS DEC, array_max(FLUX) as FLUXMN\n",
    "FROM flux ORDER BY FLUXMN ASC\n",
    "'''\n",
    "res = spark.sql(query).toPandas()\n",
    "fig, ax = plt.subplots(1,1)\n",
    "plt.scatter(res['RA'], res['DEC'], c=res['FLUXMN'], alpha=0.05, marker='H', cmap='hsv', s=100)"
   ]
  },
  {
   "cell_type": "code",
   "execution_count": null,
   "metadata": {},
   "outputs": [],
   "source": [
    "%matplot plt"
   ]
  },
  {
   "cell_type": "code",
   "execution_count": null,
   "metadata": {},
   "outputs": [],
   "source": []
  }
 ],
 "metadata": {
  "kernelspec": {
   "display_name": "PySpark",
   "language": "",
   "name": "pysparkkernel"
  },
  "language_info": {
   "codemirror_mode": {
    "name": "python",
    "version": 3
   },
   "mimetype": "text/x-python",
   "name": "pyspark",
   "pygments_lexer": "python3"
  }
 },
 "nbformat": 4,
 "nbformat_minor": 2
}
