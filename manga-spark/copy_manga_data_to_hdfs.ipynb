{
 "cells": [
  {
   "cell_type": "code",
   "execution_count": 1,
   "metadata": {},
   "outputs": [
    {
     "data": {
      "text/html": [
       "Current session configs: <tt>{'name': 'arik', 'executorMemory': '1G', 'numExecutors': 2, 'executorCores': 1, 'conf': {'spark.yarn.appMasterEnv.PYSPARK_PYTHON': 'python3'}, 'kind': 'pyspark'}</tt><br>"
      ],
      "text/plain": [
       "<IPython.core.display.HTML object>"
      ]
     },
     "metadata": {},
     "output_type": "display_data"
    },
    {
     "data": {
      "text/html": [
       "No active sessions."
      ],
      "text/plain": [
       "<IPython.core.display.HTML object>"
      ]
     },
     "metadata": {},
     "output_type": "display_data"
    }
   ],
   "source": [
    "%%configure -f\n",
    "{\"name\": \"arik\", \"executorMemory\": \"1G\", \"numExecutors\": 2, \"executorCores\": 1,\n",
    " \"conf\": {\"spark.yarn.appMasterEnv.PYSPARK_PYTHON\":\"python3\"}}"
   ]
  },
  {
   "cell_type": "code",
   "execution_count": 18,
   "metadata": {},
   "outputs": [
    {
     "data": {
      "application/vnd.jupyter.widget-view+json": {
       "model_id": "",
       "version_major": 2,
       "version_minor": 0
      },
      "text/plain": [
       "FloatProgress(value=0.0, bar_style='info', description='Progress:', layout=Layout(height='25px', width='50%'),…"
      ]
     },
     "metadata": {},
     "output_type": "display_data"
    }
   ],
   "source": [
    "import os\n",
    "import requests\n",
    "import subprocess\n",
    "from io import StringIO\n",
    "from pyarrow import hdfs\n",
    "\n",
    "def copy_file_to_hdfs(local, dest):\n",
    "    cmd = '/opt/hadoop/bin/hdfs dfs -put {} {}'.format(local, dest)\n",
    "    try:\n",
    "        stdout = subprocess.check_output(\n",
    "            cmd,\n",
    "            stderr = subprocess.STDOUT,\n",
    "            shell=True).decode('utf-8')\n",
    "    except Exception as e:\n",
    "        return (1, e.output)\n",
    "    return (0, stdout)"
   ]
  },
  {
   "cell_type": "code",
   "execution_count": 19,
   "metadata": {},
   "outputs": [
    {
     "data": {
      "application/vnd.jupyter.widget-view+json": {
       "model_id": "",
       "version_major": 2,
       "version_minor": 0
      },
      "text/plain": [
       "FloatProgress(value=0.0, bar_style='info', description='Progress:', layout=Layout(height='25px', width='50%'),…"
      ]
     },
     "metadata": {},
     "output_type": "display_data"
    }
   ],
   "source": [
    "def download_to_hdfs(file_data):\n",
    "    root = os.path.dirname(file_data[0])\n",
    "    basename = os.path.basename(file_data[0])\n",
    "    url, path = root.split('sas/')\n",
    "    #dr = parts[4]\n",
    "    #ver = parts[8]\n",
    "    #name = parts[-1]\n",
    "    #basename = '{}-{}-{}'.format(dr,ver,name)\n",
    "    dest = 'hdfs:///manga/data/{0}'.format(basename)\n",
    "    # cache a local copy of file to put to hdfs\n",
    "    with open(basename, 'wb') as f:\n",
    "        f.write(file_data[1])\n",
    "    copy = copy_file_to_hdfs(basename, dest)\n",
    "    os.remove(basename)\n",
    "    return copy"
   ]
  },
  {
   "cell_type": "code",
   "execution_count": 5,
   "metadata": {},
   "outputs": [
    {
     "data": {
      "application/vnd.jupyter.widget-view+json": {
       "model_id": "",
       "version_major": 2,
       "version_minor": 0
      },
      "text/plain": [
       "FloatProgress(value=0.0, bar_style='info', description='Progress:', layout=Layout(height='25px', width='50%'),…"
      ]
     },
     "metadata": {},
     "output_type": "display_data"
    }
   ],
   "source": [
    "path = 'https://data.sdss.org/sas/dr15/manga/spectro/redux/v2_4_3/8485/stack/manga-8485-1901-LOGRSS.fits.gz'\n",
    "#path = '/sciserver/vc/manga/vc/sas/dr15/manga/spectro/redux/v2_4_3/8485/stack/manga-8485-1901-LOGRSS.fits.gz'\n",
    "base = 'dr15/manga/spectro/redux/v2_4_3/8485/stack/manga-8485-1901-LOGRSS.fits.gz'\n",
    "dest = 'hdfs:///manga/data/{}'.format(base)"
   ]
  },
  {
   "cell_type": "code",
   "execution_count": 19,
   "metadata": {},
   "outputs": [
    {
     "data": {
      "application/vnd.jupyter.widget-view+json": {
       "model_id": "",
       "version_major": 2,
       "version_minor": 0
      },
      "text/plain": [
       "FloatProgress(value=0.0, bar_style='info', description='Progress:', layout=Layout(height='25px', width='50%'),…"
      ]
     },
     "metadata": {},
     "output_type": "display_data"
    },
    {
     "name": "stdout",
     "output_type": "stream",
     "text": [
      "(1, CalledProcessError())"
     ]
    }
   ],
   "source": [
    "#copy = copy_file_to_hdfs('manga-8485-1901-LOGRSS.fits.gz', dest)\n",
    "#copy"
   ]
  },
  {
   "cell_type": "code",
   "execution_count": 6,
   "metadata": {},
   "outputs": [
    {
     "data": {
      "application/vnd.jupyter.widget-view+json": {
       "model_id": "",
       "version_major": 2,
       "version_minor": 0
      },
      "text/plain": [
       "FloatProgress(value=0.0, bar_style='info', description='Progress:', layout=Layout(height='25px', width='50%'),…"
      ]
     },
     "metadata": {},
     "output_type": "display_data"
    },
    {
     "name": "stdout",
     "output_type": "stream",
     "text": [
      "['https://data.sdss.org/sas/dr15/manga/spectro/redux/v2_4_3/8485/stack/manga-8485-1901-LOGRSS.fits.gz']"
     ]
    }
   ],
   "source": [
    "#import glob\n",
    "#files = glob.glob('/sciserver/vc/manga/vc/sas/dr15/manga/spectro/redux/v2_4_3/8485/stack/manga*LOG*')\n",
    "files = [path]\n",
    "files"
   ]
  },
  {
   "cell_type": "code",
   "execution_count": 20,
   "metadata": {},
   "outputs": [
    {
     "data": {
      "application/vnd.jupyter.widget-view+json": {
       "model_id": "",
       "version_major": 2,
       "version_minor": 0
      },
      "text/plain": [
       "FloatProgress(value=0.0, bar_style='info', description='Progress:', layout=Layout(height='25px', width='50%'),…"
      ]
     },
     "metadata": {},
     "output_type": "display_data"
    },
    {
     "name": "stdout",
     "output_type": "stream",
     "text": [
      "[(1, b\"put: `hdfs:///manga/data/manga-8485-1901-LOGRSS.fits.gz': File exists\\n\")]"
     ]
    }
   ],
   "source": [
    "# to load across http\n",
    "sc.parallelize(files).map(lambda x: (x, requests.get(x).content)).map(download_to_hdfs).collect()\n",
    "# to load local sciserver\n",
    "#sc.parallelize(files).map(download_to_hdfs).collect()"
   ]
  },
  {
   "cell_type": "code",
   "execution_count": null,
   "metadata": {},
   "outputs": [],
   "source": []
  }
 ],
 "metadata": {
  "kernelspec": {
   "display_name": "PySpark",
   "language": "",
   "name": "pysparkkernel"
  },
  "language_info": {
   "codemirror_mode": {
    "name": "python",
    "version": 3
   },
   "mimetype": "text/x-python",
   "name": "pyspark",
   "pygments_lexer": "python3"
  }
 },
 "nbformat": 4,
 "nbformat_minor": 2
}
