{
 "cells": [
  {
   "cell_type": "code",
   "execution_count": 11,
   "metadata": {},
   "outputs": [
    {
     "name": "stdout",
     "output_type": "stream",
     "text": [
      "Starting Spark application\n"
     ]
    },
    {
     "data": {
      "text/html": [
       "<table>\n",
       "<tr><th>ID</th><th>YARN Application ID</th><th>Kind</th><th>State</th><th>Spark UI</th><th>Driver log</th><th>Current session?</th></tr><tr><td>288</td><td>application_1588740809550_0272</td><td>pyspark</td><td>idle</td><td><a target=\"_blank\" href=\"https://sparkhead-0.sparkhead-svc:8090/proxy/application_1588740809550_0272/\">Link</a></td><td><a target=\"_blank\" href=\"https://storage-0-2.storage-0-svc.filedb.svc.cluster.local:8044/node/containerlogs/container_1588740809550_0272_01_000001/root\">Link</a></td><td>✔</td></tr></table>"
      ],
      "text/plain": [
       "<IPython.core.display.HTML object>"
      ]
     },
     "metadata": {},
     "output_type": "display_data"
    },
    {
     "data": {
      "application/vnd.jupyter.widget-view+json": {
       "model_id": "",
       "version_major": 2,
       "version_minor": 0
      },
      "text/plain": [
       "FloatProgress(value=0.0, bar_style='info', description='Progress:', layout=Layout(height='25px', width='50%'),…"
      ]
     },
     "metadata": {},
     "output_type": "display_data"
    },
    {
     "name": "stdout",
     "output_type": "stream",
     "text": [
      "SparkSession available as 'spark'.\n"
     ]
    },
    {
     "data": {
      "text/html": [
       "Current session configs: <tt>{'name': 'brian-load-spaxels', 'executorMemory': '30G', 'numExecutors': 14, 'executorCores': 2, 'conf': {'spark.yarn.appMasterEnv.PYSPARK_PYTHON': 'python3', 'spark.sql.shuffle.partitions': 300}, 'kind': 'pyspark'}</tt><br>"
      ],
      "text/plain": [
       "<IPython.core.display.HTML object>"
      ]
     },
     "metadata": {},
     "output_type": "display_data"
    },
    {
     "data": {
      "text/html": [
       "<table>\n",
       "<tr><th>ID</th><th>YARN Application ID</th><th>Kind</th><th>State</th><th>Spark UI</th><th>Driver log</th><th>Current session?</th></tr><tr><td>288</td><td>application_1588740809550_0272</td><td>pyspark</td><td>idle</td><td><a target=\"_blank\" href=\"https://sparkhead-0.sparkhead-svc:8090/proxy/application_1588740809550_0272/\">Link</a></td><td><a target=\"_blank\" href=\"https://storage-0-2.storage-0-svc.filedb.svc.cluster.local:8044/node/containerlogs/container_1588740809550_0272_01_000001/root\">Link</a></td><td>✔</td></tr></table>"
      ],
      "text/plain": [
       "<IPython.core.display.HTML object>"
      ]
     },
     "metadata": {},
     "output_type": "display_data"
    }
   ],
   "source": [
    "%%configure -f\n",
    "{\"name\": \"brian-load-spaxels\", \"executorMemory\": \"30G\", \"numExecutors\": 14, \"executorCores\": 2,\n",
    " \"conf\": {\"spark.yarn.appMasterEnv.PYSPARK_PYTHON\":\"python3\", \"spark.sql.shuffle.partitions\": 300}}"
   ]
  },
  {
   "cell_type": "code",
   "execution_count": 13,
   "metadata": {},
   "outputs": [
    {
     "data": {
      "application/vnd.jupyter.widget-view+json": {
       "model_id": "",
       "version_major": 2,
       "version_minor": 0
      },
      "text/plain": [
       "FloatProgress(value=0.0, bar_style='info', description='Progress:', layout=Layout(height='25px', width='50%'),…"
      ]
     },
     "metadata": {},
     "output_type": "display_data"
    }
   ],
   "source": [
    "import sys\n",
    "import os\n",
    "import subprocess\n",
    "from io import BytesIO\n",
    "from gzip import GzipFile\n",
    "from pyspark.sql import Row\n",
    "import glob\n",
    "import time\n",
    "import numpy as np\n",
    "from itertools import repeat\n",
    "from collections import OrderedDict"
   ]
  },
  {
   "cell_type": "code",
   "execution_count": 14,
   "metadata": {},
   "outputs": [
    {
     "data": {
      "application/vnd.jupyter.widget-view+json": {
       "model_id": "",
       "version_major": 2,
       "version_minor": 0
      },
      "text/plain": [
       "FloatProgress(value=0.0, bar_style='info', description='Progress:', layout=Layout(height='25px', width='50%'),…"
      ]
     },
     "metadata": {},
     "output_type": "display_data"
    }
   ],
   "source": [
    "def get_fits_module():\n",
    "    if 'astropy' not in sys.modules:\n",
    "        stdout = subprocess.check_output(\n",
    "            sys.executable + ' -m pip install astropy',\n",
    "            stderr=subprocess.STDOUT,\n",
    "            shell=True).decode('utf-8')\n",
    "    from astropy.io import fits\n",
    "    return fits\n",
    "\n",
    "def getfitslocal(path):\n",
    "    fits = get_fits_module()\n",
    "    fits_obj = fits.open(path)\n",
    "    return fits_obj\n",
    "\n",
    "# Spark dataframe cannot do numpy types\n",
    "def typeconv(i):\n",
    "    try:\n",
    "        return i.item()\n",
    "    except:\n",
    "        return i\n",
    "    \n",
    "def createPerPixelSpaxelRow(fits):\n",
    "    ''' old and deprecated method '''\n",
    "    n_wave, n_y, n_x = fits['FLUX'].data.shape\n",
    "    \n",
    "    hdr = fits[0].header\n",
    "    flux = np.ravel(fits['FLUX'].data)\n",
    "    ivar = np.ravel(fits['IVAR'].data)\n",
    "    mask = np.ravel(fits['MASK'].data)\n",
    "    model = np.ravel(fits['MODEL'].data)\n",
    "    emline = np.ravel(fits['EMLINE'].data)\n",
    "    emline_base = np.ravel(fits['EMLINE_BASE'].data)\n",
    "    emline_mask = np.ravel(fits['EMLINE_MASK'].data)\n",
    "    \n",
    "    wave = fits['WAVE'].data\n",
    "    \n",
    "    binid = np.ravel(fits['BINID'].data[0])\n",
    "\n",
    "    # ravel indexing\n",
    "    # rav_idx = (wave_idx * n_y * n_y) + (y_idx * n_x) + x_idx\n",
    "\n",
    "    # and back\n",
    "    # wave_idx = int(rav_idx / (n_y * n_y))\n",
    "    # spaxel_idx = rav_idx - wave_idx * (n_y * n_y)\n",
    "    # y_idx = int(spaxel_idx / n_y)\n",
    "    # x_idx = spaxel_idx - y_idx * n_y\n",
    "    \n",
    "    rows = []\n",
    "    for ravel_idx, flux_val in enumerate(flux):\n",
    "        wave_idx = int(ravel_idx / (n_y * n_y))\n",
    "        spaxel_idx = ravel_idx - wave_idx * (n_y * n_y)\n",
    "        y_idx = int(spaxel_idx / n_y)\n",
    "        x_idx = spaxel_idx - y_idx * n_y\n",
    "        \n",
    "        # skip no good spaxels\n",
    "        if binid[spaxel_idx] == -1:\n",
    "            continue\n",
    "\n",
    "        row = {'plateifu': typeconv(hdr.get('PLATEIFU')),\n",
    "               'mangaid': typeconv(hdr.get('MANGAID')),\n",
    "               'ra': typeconv(hdr.get('OBJRA')),\n",
    "               'dec': typeconv(hdr.get('OBJDEC')),\n",
    "               'daptype': typeconv(hdr.get('DAPTYPE')),\n",
    "               'spaxel_idx': spaxel_idx,\n",
    "               'x': x_idx,\n",
    "               'y': y_idx,\n",
    "               'wave': typeconv(wave[wave_idx]),\n",
    "               'flux': typeconv(flux_val),\n",
    "               'ivar': typeconv(ivar[ravel_idx]),\n",
    "               'mask': typeconv(mask[ravel_idx]),\n",
    "               'model': typeconv(model[ravel_idx]),\n",
    "               'emline': typeconv(emline[ravel_idx]),\n",
    "               'emline_base': typeconv(emline_base[ravel_idx]),\n",
    "               'emline_mask': typeconv(emline_mask[ravel_idx]),\n",
    "               'binid_binned_spectra': typeconv(binid[spaxel_idx]),\n",
    "               'binid_stellar_cont': typeconv(np.ravel(fits['BINID'].data[1])[spaxel_idx]),\n",
    "               'binid_emline_moments': typeconv(np.ravel(fits['BINID'].data[2])[spaxel_idx]),\n",
    "               'binid_emline_models': typeconv(np.ravel(fits['BINID'].data[3])[spaxel_idx]),\n",
    "               'binid_spectral_indices': typeconv(np.ravel(fits['BINID'].data[4])[spaxel_idx])\n",
    "              }\n",
    "            \n",
    "        rows.append(Row(**row))\n",
    "    return rows"
   ]
  },
  {
   "cell_type": "code",
   "execution_count": 15,
   "metadata": {},
   "outputs": [
    {
     "data": {
      "application/vnd.jupyter.widget-view+json": {
       "model_id": "",
       "version_major": 2,
       "version_minor": 0
      },
      "text/plain": [
       "FloatProgress(value=0.0, bar_style='info', description='Progress:', layout=Layout(height='25px', width='50%'),…"
      ]
     },
     "metadata": {},
     "output_type": "display_data"
    }
   ],
   "source": [
    "from itertools import repeat\n",
    "\n",
    "def createPerSpaxelRow(fits):\n",
    "    n_wave, n_y, n_x = fits['FLUX'].data.shape\n",
    "    n_spax = np.int(n_y * n_x)\n",
    "     \n",
    "    mapRow = Row('plateifu', 'mangaid', 'ra', 'dec', 'spaxel_idx', 'x', 'y', \n",
    "                 'wave', 'flux', 'ivar', 'mask', 'disp', 'predisp', 'specres', \n",
    "                 'specresd', 'prespecres', 'prespecresd')\n",
    "    \n",
    "    hdr = fits[0].header\n",
    "    plateifu = repeat(hdr.get('PLATEIFU'))\n",
    "    mangaid = repeat(hdr.get('MANGAID'))\n",
    "    ra = repeat(hdr.get('OBJRA'))\n",
    "    dec = repeat(hdr.get('OBJDEC'))\n",
    "\n",
    "    flux = np.reshape(fits['FLUX'].data, (n_wave, n_spax))\n",
    "    ivar = np.reshape(fits['IVAR'].data, (n_wave, n_spax))\n",
    "    mask = np.reshape(fits['MASK'].data, (n_wave, n_spax))\n",
    "    disp = np.reshape(fits['DISP'].data, (n_wave, n_spax))\n",
    "    predisp = np.reshape(fits['PREDISP'].data, (n_wave, n_spax))\n",
    "\n",
    "    wave = fits['WAVE'].data.tolist()\n",
    "    specres = fits['SPECRES'].data.tolist()\n",
    "    specresd = fits['SPECRESD'].data.tolist()\n",
    "    prespecres = fits['PRESPECRES'].data.tolist()\n",
    "    prespecresd = fits['PRESPECRESD'].data.tolist()\n",
    "    \n",
    "    # ravel indexing\n",
    "    # rav_idx = (wave_idx * n_y * n_y) + (y_idx * n_x) + x_idx\n",
    "\n",
    "    # and back\n",
    "    # wave_idx = int(rav_idx / (n_y * n_y))\n",
    "    # spaxel_idx = rav_idx - wave_idx * (n_y * n_y)\n",
    "    # y_idx = int(spaxel_idx / n_y)\n",
    "    # x_idx = spaxel_idx - y_idx * n_y\n",
    "    \n",
    "    rows = []\n",
    "    for spaxel_idx in range(n_spax):\n",
    "        y_idx = int(spaxel_idx / n_y)\n",
    "        x_idx = spaxel_idx - y_idx * n_y\n",
    "        x = repeat(x_idx)\n",
    "        y = repeat(y_idx)\n",
    "        \n",
    "\n",
    "#         row = {'plateifu': plateifu,\n",
    "#                'mangaid': mangaid,\n",
    "#                'ra': ra,\n",
    "#                'dec': dec,\n",
    "#                'daptype': daptype,\n",
    "#                'spaxel_idx': repeat(spaxel_idx),\n",
    "#                'x': x,\n",
    "#                'y': y,\n",
    "#                'wave': wave,\n",
    "#                'flux': flux[:,spaxel_idx].tolist(),\n",
    "#                'ivar': ivar[:,spaxel_idx].tolist(),\n",
    "#                'mask': mask[:,spaxel_idx].tolist(),\n",
    "#                'disp': disp[:,spaxel_idx].tolist(),\n",
    "#                'predisp': predisp[:,spaxel_idx].tolist(),\n",
    "#                'specres': specres,\n",
    "#                'specres': specresd,\n",
    "#                'prespecres': specres,\n",
    "#                'prespecres': specresd\n",
    "#               }\n",
    "\n",
    "        #row_gen = zip(*row.values())\n",
    "\n",
    "        row_gen = zip(plateifu, mangaid, ra, dec, repeat(spaxel_idx),\n",
    "                      x, y, wave, flux[:, spaxel_idx].tolist(), ivar[:, spaxel_idx].tolist(),\n",
    "                      mask[:, spaxel_idx].tolist(), disp[:, spaxel_idx].tolist(),\n",
    "                      predisp[:, spaxel_idx].tolist(), specres, specresd, prespecres, prespecresd)\n",
    "\n",
    "        _rows = [mapRow(*i) for i in row_gen]\n",
    "        rows.extend(_rows)\n",
    "    return rows"
   ]
  },
  {
   "cell_type": "code",
   "execution_count": 16,
   "metadata": {},
   "outputs": [
    {
     "data": {
      "application/vnd.jupyter.widget-view+json": {
       "model_id": "",
       "version_major": 2,
       "version_minor": 0
      },
      "text/plain": [
       "FloatProgress(value=0.0, bar_style='info', description='Progress:', layout=Layout(height='25px', width='50%'),…"
      ]
     },
     "metadata": {},
     "output_type": "display_data"
    }
   ],
   "source": [
    "base_dir = '/sciserver/vc/manga/vc/sas/dr15/manga/spectro/redux/v2_4_3/'\n",
    "\n",
    "stack_dir = lambda x: base_dir + x + '/stack'\n",
    "cube_dirs = [stack_dir(i) for i in\n",
    "            os.listdir(base_dir)\n",
    "            if os.path.isdir(stack_dir(i))\n",
    "           ]"
   ]
  },
  {
   "cell_type": "code",
   "execution_count": 17,
   "metadata": {},
   "outputs": [
    {
     "data": {
      "application/vnd.jupyter.widget-view+json": {
       "model_id": "",
       "version_major": 2,
       "version_minor": 0
      },
      "text/plain": [
       "FloatProgress(value=0.0, bar_style='info', description='Progress:', layout=Layout(height='25px', width='50%'),…"
      ]
     },
     "metadata": {},
     "output_type": "display_data"
    }
   ],
   "source": [
    "files_rdd = sc.parallelize(cube_dirs).flatMap(lambda d: glob.glob(d+'/*-LOGCUBE.fits.gz'))"
   ]
  },
  {
   "cell_type": "code",
   "execution_count": 18,
   "metadata": {},
   "outputs": [
    {
     "data": {
      "application/vnd.jupyter.widget-view+json": {
       "model_id": "",
       "version_major": 2,
       "version_minor": 0
      },
      "text/plain": [
       "FloatProgress(value=0.0, bar_style='info', description='Progress:', layout=Layout(height='25px', width='50%'),…"
      ]
     },
     "metadata": {},
     "output_type": "display_data"
    },
    {
     "name": "stdout",
     "output_type": "stream",
     "text": [
      "N files: 4857. Total Size: 597114MB, average size: 214"
     ]
    }
   ],
   "source": [
    "files_stats = files_rdd.map(\n",
    "    lambda x: (os.stat(x).st_size/1024/1024, 1, os.stat(x).st_size/1024/1024)\n",
    ").reduce(\n",
    "    lambda x,y: (x[0]+y[0], x[1]+y[1], max(x[2],y[2]))\n",
    ")\n",
    "print('N files: {1}. Total Size: {0:0.0f}MB, average size: {2:0.0f}'.format(*files_stats))"
   ]
  },
  {
   "cell_type": "code",
   "execution_count": 19,
   "metadata": {},
   "outputs": [
    {
     "data": {
      "application/vnd.jupyter.widget-view+json": {
       "model_id": "",
       "version_major": 2,
       "version_minor": 0
      },
      "text/plain": [
       "FloatProgress(value=0.0, bar_style='info', description='Progress:', layout=Layout(height='25px', width='50%'),…"
      ]
     },
     "metadata": {},
     "output_type": "display_data"
    }
   ],
   "source": [
    "n_part = int(files_stats[1])\n",
    "table_data = files_rdd.repartition(n_part).map(getfitslocal).flatMap(createPerSpaxelRow)"
   ]
  },
  {
   "cell_type": "code",
   "execution_count": null,
   "metadata": {},
   "outputs": [],
   "source": [
    "table_data.first()"
   ]
  },
  {
   "cell_type": "code",
   "execution_count": 20,
   "metadata": {},
   "outputs": [
    {
     "data": {
      "application/vnd.jupyter.widget-view+json": {
       "model_id": "",
       "version_major": 2,
       "version_minor": 0
      },
      "text/plain": [
       "FloatProgress(value=0.0, bar_style='info', description='Progress:', layout=Layout(height='25px', width='50%'),…"
      ]
     },
     "metadata": {},
     "output_type": "display_data"
    }
   ],
   "source": [
    "hdfs_dir = 'hdfs:///manga/brian-test/dr15/v2_4_3/cubes'"
   ]
  },
  {
   "cell_type": "code",
   "execution_count": null,
   "metadata": {},
   "outputs": [
    {
     "data": {
      "application/vnd.jupyter.widget-view+json": {
       "model_id": "bca8f4cb05944514b9aca4705bdb14ce",
       "version_major": 2,
       "version_minor": 0
      },
      "text/plain": [
       "FloatProgress(value=0.0, bar_style='info', description='Progress:', layout=Layout(height='25px', width='50%'),…"
      ]
     },
     "metadata": {},
     "output_type": "display_data"
    }
   ],
   "source": [
    "t = time.time()\n",
    "table = spark.createDataFrame(table_data)\n",
    "table.write.mode('overwrite').parquet(hdfs_dir)\n",
    "print(time.time()-t)"
   ]
  },
  {
   "cell_type": "code",
   "execution_count": null,
   "metadata": {},
   "outputs": [],
   "source": [
    "tmp = spark.read.parquet('hdfs:///manga/brian-test/dr15/v2_4_3/cubes')"
   ]
  },
  {
   "cell_type": "code",
   "execution_count": null,
   "metadata": {},
   "outputs": [],
   "source": [
    "tmp.first()"
   ]
  },
  {
   "cell_type": "code",
   "execution_count": null,
   "metadata": {},
   "outputs": [],
   "source": [
    "tmp.describe()"
   ]
  },
  {
   "cell_type": "code",
   "execution_count": null,
   "metadata": {},
   "outputs": [],
   "source": []
  }
 ],
 "metadata": {
  "kernelspec": {
   "display_name": "PySpark",
   "language": "",
   "name": "pysparkkernel"
  },
  "language_info": {
   "codemirror_mode": {
    "name": "python",
    "version": 3
   },
   "mimetype": "text/x-python",
   "name": "pyspark",
   "pygments_lexer": "python3"
  }
 },
 "nbformat": 4,
 "nbformat_minor": 2
}
