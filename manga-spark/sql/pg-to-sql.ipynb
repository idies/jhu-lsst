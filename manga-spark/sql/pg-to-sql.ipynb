{
 "cells": [
  {
   "cell_type": "markdown",
   "metadata": {},
   "source": [
    "This notebook is a benchmark query comparison with the Postgres queries"
   ]
  },
  {
   "cell_type": "code",
   "execution_count": 9,
   "metadata": {},
   "outputs": [
    {
     "name": "stdout",
     "output_type": "stream",
     "text": [
      "Starting Spark application\n"
     ]
    },
    {
     "data": {
      "text/html": [
       "<table>\n",
       "<tr><th>ID</th><th>YARN Application ID</th><th>Kind</th><th>State</th><th>Spark UI</th><th>Driver log</th><th>Current session?</th></tr><tr><td>13</td><td>application_1602298274728_0014</td><td>pyspark</td><td>idle</td><td><a target=\"_blank\" href=\"https://sparkhead-0.sparkhead-svc:8090/proxy/application_1602298274728_0014/\">Link</a></td><td><a target=\"_blank\" href=\"https://storage-0-2.storage-0-svc.filedb.svc.cluster.local:8044/node/containerlogs/container_1602298274728_0014_01_000001/root\">Link</a></td><td>✔</td></tr></table>"
      ],
      "text/plain": [
       "<IPython.core.display.HTML object>"
      ]
     },
     "metadata": {},
     "output_type": "display_data"
    },
    {
     "data": {
      "application/vnd.jupyter.widget-view+json": {
       "model_id": "",
       "version_major": 2,
       "version_minor": 0
      },
      "text/plain": [
       "FloatProgress(value=0.0, bar_style='info', description='Progress:', layout=Layout(height='25px', width='50%'),…"
      ]
     },
     "metadata": {},
     "output_type": "display_data"
    },
    {
     "name": "stdout",
     "output_type": "stream",
     "text": [
      "SparkSession available as 'spark'.\n"
     ]
    },
    {
     "data": {
      "text/html": [
       "Current session configs: <tt>{'name': 'brian-query-benchmarks-2', 'executorMemory': '36G', 'numExecutors': 15, 'executorCores': 10, 'conf': {'spark.yarn.appMasterEnv.PYSPARK_PYTHON': 'python3'}, 'kind': 'pyspark'}</tt><br>"
      ],
      "text/plain": [
       "<IPython.core.display.HTML object>"
      ]
     },
     "metadata": {},
     "output_type": "display_data"
    },
    {
     "data": {
      "text/html": [
       "<table>\n",
       "<tr><th>ID</th><th>YARN Application ID</th><th>Kind</th><th>State</th><th>Spark UI</th><th>Driver log</th><th>Current session?</th></tr><tr><td>12</td><td>application_1602298274728_0013</td><td>pyspark</td><td>busy</td><td><a target=\"_blank\" href=\"https://sparkhead-0.sparkhead-svc:8090/proxy/application_1602298274728_0013/\">Link</a></td><td><a target=\"_blank\" href=\"https://storage-0-2.storage-0-svc.filedb.svc.cluster.local:8044/node/containerlogs/container_1602298274728_0013_01_000001/root\">Link</a></td><td></td></tr><tr><td>13</td><td>application_1602298274728_0014</td><td>pyspark</td><td>idle</td><td><a target=\"_blank\" href=\"https://sparkhead-0.sparkhead-svc:8090/proxy/application_1602298274728_0014/\">Link</a></td><td><a target=\"_blank\" href=\"https://storage-0-2.storage-0-svc.filedb.svc.cluster.local:8044/node/containerlogs/container_1602298274728_0014_01_000001/root\">Link</a></td><td>✔</td></tr></table>"
      ],
      "text/plain": [
       "<IPython.core.display.HTML object>"
      ]
     },
     "metadata": {},
     "output_type": "display_data"
    }
   ],
   "source": [
    "%%configure -f\n",
    "{\"name\": \"brian-query-benchmarks-2\", \"executorMemory\": \"36G\", \"numExecutors\": 15, \"executorCores\": 10,\n",
    " \"conf\": {\"spark.yarn.appMasterEnv.PYSPARK_PYTHON\":\"python3\"}}"
   ]
  },
  {
   "cell_type": "code",
   "execution_count": 10,
   "metadata": {},
   "outputs": [
    {
     "data": {
      "application/vnd.jupyter.widget-view+json": {
       "model_id": "",
       "version_major": 2,
       "version_minor": 0
      },
      "text/plain": [
       "FloatProgress(value=0.0, bar_style='info', description='Progress:', layout=Layout(height='25px', width='50%'),…"
      ]
     },
     "metadata": {},
     "output_type": "display_data"
    }
   ],
   "source": [
    "import numpy as np\n",
    "import matplotlib.pyplot as plt\n",
    "import time"
   ]
  },
  {
   "cell_type": "code",
   "execution_count": 11,
   "metadata": {},
   "outputs": [
    {
     "data": {
      "application/vnd.jupyter.widget-view+json": {
       "model_id": "",
       "version_major": 2,
       "version_minor": 0
      },
      "text/plain": [
       "FloatProgress(value=0.0, bar_style='info', description='Progress:', layout=Layout(height='25px', width='50%'),…"
      ]
     },
     "metadata": {},
     "output_type": "display_data"
    }
   ],
   "source": [
    "class Timer(object):\n",
    "    def __enter__(self):\n",
    "        self.start_time = time.perf_counter()\n",
    "        return self\n",
    "   \n",
    "    def __exit__(self, *exc_info):\n",
    "        self.end_time = time.perf_counter()\n",
    "        elapsed = self.end_time-self.start_time\n",
    "        print('Elapsed time [sec]:', elapsed)"
   ]
  },
  {
   "cell_type": "code",
   "execution_count": 12,
   "metadata": {},
   "outputs": [
    {
     "data": {
      "application/vnd.jupyter.widget-view+json": {
       "model_id": "",
       "version_major": 2,
       "version_minor": 0
      },
      "text/plain": [
       "FloatProgress(value=0.0, bar_style='info', description='Progress:', layout=Layout(height='25px', width='50%'),…"
      ]
     },
     "metadata": {},
     "output_type": "display_data"
    },
    {
     "name": "stdout",
     "output_type": "stream",
     "text": [
      "Elapsed time [sec]: 6.055798895002226"
     ]
    }
   ],
   "source": [
    "# creates a temporary \"database\" table\n",
    "with Timer():\n",
    "    drpall = spark.read.parquet('hdfs:///manga/brian-test/dr15/v2_4_3/drpall')\n",
    "    drpall.createOrReplaceTempView('drpall')\n",
    "    dapall = spark.read.parquet('hdfs:///manga/brian-test/dr15/v2_4_3/dapall')\n",
    "    dapall.createOrReplaceTempView('dapall')"
   ]
  },
  {
   "cell_type": "code",
   "execution_count": 13,
   "metadata": {},
   "outputs": [
    {
     "data": {
      "application/vnd.jupyter.widget-view+json": {
       "model_id": "",
       "version_major": 2,
       "version_minor": 0
      },
      "text/plain": [
       "FloatProgress(value=0.0, bar_style='info', description='Progress:', layout=Layout(height='25px', width='50%'),…"
      ]
     },
     "metadata": {},
     "output_type": "display_data"
    },
    {
     "name": "stdout",
     "output_type": "stream",
     "text": [
      "Elapsed time [sec]: 1.4605491300026188"
     ]
    }
   ],
   "source": [
    "# creates a temporary \"database\" table for maps\n",
    "with Timer():\n",
    "    maps = spark.read.parquet('hdfs:///manga/brian-test/dr15/v2_4_3/maps')\n",
    "    maps.createOrReplaceTempView('maps')\n",
    "    \n",
    "# data.getNumPartitions - number of tasks need to run in total\n",
    "# numExecutor * numCores can run at any given time"
   ]
  },
  {
   "cell_type": "code",
   "execution_count": 14,
   "metadata": {},
   "outputs": [
    {
     "data": {
      "application/vnd.jupyter.widget-view+json": {
       "model_id": "",
       "version_major": 2,
       "version_minor": 0
      },
      "text/plain": [
       "FloatProgress(value=0.0, bar_style='info', description='Progress:', layout=Layout(height='25px', width='50%'),…"
      ]
     },
     "metadata": {},
     "output_type": "display_data"
    },
    {
     "name": "stdout",
     "output_type": "stream",
     "text": [
      "Elapsed time [sec]: 1.3701034010009607"
     ]
    }
   ],
   "source": [
    "# load the DRP cubes\n",
    "with Timer():\n",
    "    cubes = spark.read.parquet('hdfs:///manga/arik-test/dr15/v2_4_3/logcube_voxel')\n",
    "    cubes.createOrReplaceTempView('cubes')"
   ]
  },
  {
   "cell_type": "markdown",
   "metadata": {},
   "source": [
    "## Query 1\n",
    "Select all galaxies with an H-alpha flux value (in any spaxel) > 25 \n",
    "\n",
    "### Raw SQL \n",
    "\n",
    "SELECT mangadatadb.cube.mangaid AS \"cube.mangaid\", mangadatadb.cube.plate AS \"cube.plate\", concat(mangadatadb.cube.plate, '-', mangadatadb.ifudesign.name) AS \"cube.plateifu\", mangadatadb.ifudesign.name AS \"ifu.name\", mangadapdb.cleanspaxelprop7.emline_gflux_ha_6564 AS emline_gflux_ha_6564, mangadapdb.cleanspaxelprop7.x AS \"spaxelprop.x\", mangadapdb.cleanspaxelprop7.y AS \"spaxelprop.y\"\n",
    "FROM mangadatadb.cube JOIN mangadatadb.ifudesign ON mangadatadb.ifudesign.pk = mangadatadb.cube.ifudesign_pk JOIN mangadapdb.file ON mangadatadb.cube.pk = mangadapdb.file.cube_pk JOIN mangadapdb.cleanspaxelprop7 ON mangadapdb.file.pk = mangadapdb.cleanspaxelprop7.file_pk JOIN mangadatadb.pipeline_info AS drpalias ON drpalias.pk = mangadatadb.cube.pipeline_info_pk JOIN mangadatadb.pipeline_info AS dapalias ON dapalias.pk = mangadapdb.file.pipeline_info_pk\n",
    "WHERE mangadapdb.cleanspaxelprop7.emline_gflux_ha_6564 > 25.0 AND drpalias.pk = 32 AND dapalias.pk = 34;\n",
    "\n",
    "### Postgres Results\n",
    "Query 1 \n",
    "(104832 rows) (multiple bintypes)\n",
    "\n",
    "1st run\n",
    "Time: 169874.996 ms (02:49.875)\n",
    "\n",
    "2nd run - cached\n",
    "Time: 568.400 ms\n",
    "\n",
    "selected on bintype HYB10 only - 1st run\n",
    "\n",
    "Via bintype.name - (52174 rows) Time: 375.401 ms\n",
    "\n",
    "Via file.filename -   (52174 rows) Time: 2176.983 ms (00:02.177)\n"
   ]
  },
  {
   "cell_type": "markdown",
   "metadata": {},
   "source": [
    "## Querying maps parquet table directly"
   ]
  },
  {
   "cell_type": "code",
   "execution_count": 7,
   "metadata": {},
   "outputs": [
    {
     "data": {
      "application/vnd.jupyter.widget-view+json": {
       "model_id": "",
       "version_major": 2,
       "version_minor": 0
      },
      "text/plain": [
       "FloatProgress(value=0.0, bar_style='info', description='Progress:', layout=Layout(height='25px', width='50%'),…"
      ]
     },
     "metadata": {},
     "output_type": "display_data"
    },
    {
     "name": "stdout",
     "output_type": "stream",
     "text": [
      "+--------------------+---------+-------+\n",
      "|            col_name|data_type|comment|\n",
      "+--------------------+---------+-------+\n",
      "|            plateifu|   string|   null|\n",
      "|             mangaid|   string|   null|\n",
      "|                  ra|   double|   null|\n",
      "|                 dec|   double|   null|\n",
      "|             daptype|   string|   null|\n",
      "|          spaxel_idx|   bigint|   null|\n",
      "|                   x|   bigint|   null|\n",
      "|                   y|   bigint|   null|\n",
      "| spx_skycoo_on_sky_x|   double|   null|\n",
      "| spx_skycoo_on_sky_y|   double|   null|\n",
      "|spx_ellcoo_ellipt...|   double|   null|\n",
      "|     spx_ellcoo_r_re|   double|   null|\n",
      "|spx_ellcoo_ellipt...|   double|   null|\n",
      "|           spx_mflux|   double|   null|\n",
      "|      spx_mflux_ivar|   double|   null|\n",
      "|             spx_snr|   double|   null|\n",
      "|binid_binned_spectra|   bigint|   null|\n",
      "|binid_stellar_con...|   bigint|   null|\n",
      "|binid_em_line_mom...|   bigint|   null|\n",
      "|binid_em_line_models|   bigint|   null|\n",
      "+--------------------+---------+-------+\n",
      "only showing top 20 rows"
     ]
    }
   ],
   "source": [
    "spark.sql('''describe maps''').show()"
   ]
  },
  {
   "cell_type": "code",
   "execution_count": 8,
   "metadata": {},
   "outputs": [
    {
     "data": {
      "application/vnd.jupyter.widget-view+json": {
       "model_id": "",
       "version_major": 2,
       "version_minor": 0
      },
      "text/plain": [
       "FloatProgress(value=0.0, bar_style='info', description='Progress:', layout=Layout(height='25px', width='50%'),…"
      ]
     },
     "metadata": {},
     "output_type": "display_data"
    },
    {
     "name": "stdout",
     "output_type": "stream",
     "text": [
      "52174\n",
      "Elapsed time [sec]: 5.9793291590031"
     ]
    }
   ],
   "source": [
    "# straight count (322 ms with postgres on cleanspaxelprop7)\n",
    "with Timer():\n",
    "    spark.sql('''select plateifu, emline_gflux_ha_6564, x, y from maps where emline_gflux_ha_6564 > 25 and binid_binned_spectra != -1 and binid_stellar_continua != -1 and binid_em_line_models != -1 and binid_em_line_moments != -1 and binid_spectral_indices != -1''').count()"
   ]
  },
  {
   "cell_type": "code",
   "execution_count": 9,
   "metadata": {},
   "outputs": [
    {
     "data": {
      "application/vnd.jupyter.widget-view+json": {
       "model_id": "",
       "version_major": 2,
       "version_minor": 0
      },
      "text/plain": [
       "FloatProgress(value=0.0, bar_style='info', description='Progress:', layout=Layout(height='25px', width='50%'),…"
      ]
     },
     "metadata": {},
     "output_type": "display_data"
    },
    {
     "name": "stdout",
     "output_type": "stream",
     "text": [
      "+---------+--------------------+---+---+\n",
      "| plateifu|emline_gflux_ha_6564|  x|  y|\n",
      "+---------+--------------------+---+---+\n",
      "|8551-3701|  26.905492782592773| 18| 20|\n",
      "|8551-3701|  31.592317581176758| 19| 20|\n",
      "|8551-3701|  33.098114013671875| 20| 20|\n",
      "|8551-3701|  31.165016174316406| 21| 20|\n",
      "|8551-3701|  27.630207061767578| 22| 20|\n",
      "|8551-3701|   25.37577247619629| 17| 21|\n",
      "|8551-3701|  33.406036376953125| 18| 21|\n",
      "|8551-3701|   40.30801010131836| 19| 21|\n",
      "|8551-3701|    42.7925910949707| 20| 21|\n",
      "|8551-3701|   43.42845916748047| 21| 21|\n",
      "|8551-3701|   39.72331237792969| 22| 21|\n",
      "|8551-3701|  34.885719299316406| 23| 21|\n",
      "|8551-3701|  30.181264877319336| 24| 21|\n",
      "|8551-3701|  26.739524841308594| 25| 21|\n",
      "|8551-3701|  27.167835235595703| 17| 22|\n",
      "|8551-3701|  36.835113525390625| 18| 22|\n",
      "|8551-3701|   41.56124496459961| 19| 22|\n",
      "|8551-3701|  44.282310485839844| 20| 22|\n",
      "|8551-3701|   45.60519790649414| 21| 22|\n",
      "|8551-3701|  44.445220947265625| 22| 22|\n",
      "+---------+--------------------+---+---+\n",
      "only showing top 20 rows\n",
      "\n",
      "Elapsed time [sec]: 0.6557120340003166"
     ]
    }
   ],
   "source": [
    "# querying the parquet table itself (516 ms with postgres on cleanspaxelprop7)\n",
    "with Timer():\n",
    "    spark.sql('''select plateifu, emline_gflux_ha_6564, x, y from maps where emline_gflux_ha_6564 > 25 and binid_binned_spectra != -1 and binid_stellar_continua != -1 and binid_em_line_models != -1 and binid_em_line_moments != -1 and binid_spectral_indices != -1''').show()"
   ]
  },
  {
   "cell_type": "code",
   "execution_count": 10,
   "metadata": {},
   "outputs": [
    {
     "data": {
      "application/vnd.jupyter.widget-view+json": {
       "model_id": "",
       "version_major": 2,
       "version_minor": 0
      },
      "text/plain": [
       "FloatProgress(value=0.0, bar_style='info', description='Progress:', layout=Layout(height='25px', width='50%'),…"
      ]
     },
     "metadata": {},
     "output_type": "display_data"
    },
    {
     "name": "stdout",
     "output_type": "stream",
     "text": [
      "Elapsed time [sec]: 2.5561871440004325"
     ]
    }
   ],
   "source": [
    "# collecting the results\n",
    "with Timer():\n",
    "    res = spark.sql('''select plateifu, emline_gflux_ha_6564, x, y from maps where emline_gflux_ha_6564 > 25 and binid_binned_spectra != -1 and binid_stellar_continua != -1 and binid_em_line_models != -1 and binid_em_line_moments != -1 and binid_spectral_indices != -1''').collect()"
   ]
  },
  {
   "cell_type": "code",
   "execution_count": 11,
   "metadata": {},
   "outputs": [
    {
     "data": {
      "application/vnd.jupyter.widget-view+json": {
       "model_id": "",
       "version_major": 2,
       "version_minor": 0
      },
      "text/plain": [
       "FloatProgress(value=0.0, bar_style='info', description='Progress:', layout=Layout(height='25px', width='50%'),…"
      ]
     },
     "metadata": {},
     "output_type": "display_data"
    },
    {
     "name": "stdout",
     "output_type": "stream",
     "text": [
      "[Row(plateifu='8551-3701', emline_gflux_ha_6564=26.905492782592773, x=18, y=20), Row(plateifu='8551-3701', emline_gflux_ha_6564=31.592317581176758, x=19, y=20), Row(plateifu='8551-3701', emline_gflux_ha_6564=33.098114013671875, x=20, y=20), Row(plateifu='8551-3701', emline_gflux_ha_6564=31.165016174316406, x=21, y=20), Row(plateifu='8551-3701', emline_gflux_ha_6564=27.630207061767578, x=22, y=20), Row(plateifu='8551-3701', emline_gflux_ha_6564=25.37577247619629, x=17, y=21), Row(plateifu='8551-3701', emline_gflux_ha_6564=33.406036376953125, x=18, y=21), Row(plateifu='8551-3701', emline_gflux_ha_6564=40.30801010131836, x=19, y=21), Row(plateifu='8551-3701', emline_gflux_ha_6564=42.7925910949707, x=20, y=21), Row(plateifu='8551-3701', emline_gflux_ha_6564=43.42845916748047, x=21, y=21)]"
     ]
    }
   ],
   "source": [
    "res[0:10]"
   ]
  },
  {
   "cell_type": "markdown",
   "metadata": {},
   "source": [
    "## Join cube and maps Parquet tables together\n",
    "To mimic as much as possible the Postgres query"
   ]
  },
  {
   "cell_type": "code",
   "execution_count": null,
   "metadata": {},
   "outputs": [],
   "source": [
    "spark.sql('''describe cubes''').show()"
   ]
  },
  {
   "cell_type": "code",
   "execution_count": null,
   "metadata": {},
   "outputs": [],
   "source": [
    "# count \n",
    "with Timer():\n",
    "    spark.sql('''select c.plateid, c.mangaid, c.ifudsgn, concat(c.plateid,'-',c.ifudsgn) as plateifu, c.ra, c.dec, m.x,m.y,m.emline_gflux_ha_6564 from cubes as c cross join maps as m on m.plateifu=plateifu where m.emline_gflux_ha_6564 > 25''').count()"
   ]
  },
  {
   "cell_type": "code",
   "execution_count": null,
   "metadata": {},
   "outputs": [],
   "source": [
    "# show query with join between cube and maps\n",
    "with Timer():\n",
    "    spark.sql('''select c.plateid, c.mangaid, c.ifudsgn, concat(c.plateid,'-',c.ifudsgn) as plateifu, c.ra, c.dec, m.x,m.y,m.emline_gflux_ha_6564 from cubes as c cross join maps as m on m.plateifu=plateifu where m.emline_gflux_ha_6564 > 25 and m.binid_binned_spectra != -1 and m.binid_stellar_continua != -1 and m.binid_em_line_models != -1 and m.binid_em_line_moments != -1 and m.binid_spectral_indices != -1''').show()"
   ]
  },
  {
   "cell_type": "code",
   "execution_count": null,
   "metadata": {},
   "outputs": [],
   "source": [
    "# run a collect on the query\n",
    "with Timer():\n",
    "    results = spark.sql('''select c.plateid, c.mangaid, c.ifudsgn, concat(c.plateid,'-',c.ifudsgn) as plateifu, c.ra, c.dec, m.x,m.y,m.emline_gflux_ha_6564 from cubes as c cross join maps as m on m.plateifu=plateifu where m.emline_gflux_ha_6564 > 25 and m.binid_binned_spectra != -1 and m.binid_stellar_continua != -1 and m.binid_em_line_models != -1 and m.binid_em_line_moments != -1 and m.binid_spectral_indices != -1''').cache()\n",
    "    res = results.collect() \n"
   ]
  },
  {
   "cell_type": "code",
   "execution_count": null,
   "metadata": {},
   "outputs": [],
   "source": [
    "type(data)"
   ]
  },
  {
   "cell_type": "code",
   "execution_count": null,
   "metadata": {},
   "outputs": [],
   "source": [
    "#.cache will cache sql results\n",
    "#.createDataFrame pipe to Spark dataframe\n",
    "#.toPands to create Pandas dataframe"
   ]
  },
  {
   "cell_type": "markdown",
   "metadata": {},
   "source": [
    "## Query 2\n",
    "Select all galaxies with an H-alpha flux value > 5 in more than 20% of their good spaxels\n",
    "\n",
    "### Raw SQL \n",
    "\n",
    "SELECT anon_1.mangadatadb_cube_mangaid, anon_1.mangadatadb_cube_plate, concat(anon_1.mangadatadb_cube_plate, '-', anon_1.mangadatadb_ifudesign_name) AS plateifu, anon_1.mangadatadb_ifudesign_name\n",
    "FROM (SELECT mangadatadb.cube.mangaid AS mangadatadb_cube_mangaid, mangadatadb.cube.plate AS mangadatadb_cube_plate, concat(mangadatadb.cube.plate, '-', mangadatadb.ifudesign.name) AS plateifu, mangadatadb.ifudesign.name AS mangadatadb_ifudesign_name, mangadapdb.cleanspaxelprop7.emline_gflux_ha_6564 AS mangadapdb_cleanspaxelprop7_emline_gflux_ha_6564, mangadapdb.cleanspaxelprop7.x AS mangadapdb_cleanspaxelprop7_x, mangadapdb.cleanspaxelprop7.y AS mangadapdb_cleanspaxelprop7_y\n",
    "FROM mangadatadb.cube JOIN mangadatadb.ifudesign ON mangadatadb.ifudesign.pk = mangadatadb.cube.ifudesign_pk JOIN mangadapdb.file ON mangadatadb.cube.pk = mangadapdb.file.cube_pk JOIN mangadapdb.cleanspaxelprop7 ON mangadapdb.file.pk = mangadapdb.cleanspaxelprop7.file_pk JOIN mangadatadb.pipeline_info AS drpalias ON drpalias.pk = mangadatadb.cube.pipeline_info_pk JOIN mangadatadb.pipeline_info AS dapalias ON dapalias.pk = mangadapdb.file.pipeline_info_pk JOIN (SELECT mangadapdb.cleanspaxelprop7.file_pk AS binfile, count(mangadapdb.cleanspaxelprop7.pk) AS goodcount\n",
    "FROM mangadapdb.cleanspaxelprop7\n",
    "WHERE mangadapdb.cleanspaxelprop7.binid_binned_spectra != -1 AND mangadapdb.cleanspaxelprop7.binid_stellar_continua != -1 AND mangadapdb.cleanspaxelprop7.binid_spectral_indices != -1 AND mangadapdb.cleanspaxelprop7.binid_em_line_moments != -1 AND mangadapdb.cleanspaxelprop7.binid_em_line_models != -1 GROUP BY mangadapdb.cleanspaxelprop7.file_pk) AS bingood ON bingood.binfile = mangadapdb.cleanspaxelprop7.file_pk JOIN (SELECT mangadapdb.cleanspaxelprop7.file_pk AS valfile, count(mangadapdb.cleanspaxelprop7.pk) AS valcount\n",
    "FROM mangadapdb.cleanspaxelprop7\n",
    "WHERE mangadapdb.cleanspaxelprop7.emline_gflux_ha_6564 > 5 GROUP BY mangadapdb.cleanspaxelprop7.file_pk) AS goodhacount ON goodhacount.valfile = mangadapdb.cleanspaxelprop7.file_pk\n",
    "WHERE drpalias.pk = 32 AND dapalias.pk = 34 AND goodhacount.valcount >= 0.2 * bingood.goodcount) AS anon_1 GROUP BY anon_1.mangadatadb_cube_mangaid, anon_1.mangadatadb_cube_plate, concat(anon_1.mangadatadb_cube_plate, '-', anon_1.mangadatadb_ifudesign_name), anon_1.mangadatadb_ifudesign_name\n",
    "\n",
    "### Postgres Results\n",
    "(671 rows)\n",
    "\n",
    "1st run\n",
    "Time: 1998737.520 ms (33:18.738)\n",
    "\n",
    "2nd run\n",
    "Time: 2071235.639 ms (34:31.236)\n"
   ]
  },
  {
   "cell_type": "code",
   "execution_count": 12,
   "metadata": {},
   "outputs": [
    {
     "data": {
      "application/vnd.jupyter.widget-view+json": {
       "model_id": "",
       "version_major": 2,
       "version_minor": 0
      },
      "text/plain": [
       "FloatProgress(value=0.0, bar_style='info', description='Progress:', layout=Layout(height='25px', width='50%'),…"
      ]
     },
     "metadata": {},
     "output_type": "display_data"
    },
    {
     "name": "stdout",
     "output_type": "stream",
     "text": [
      "<class 'pyspark.sql.dataframe.DataFrame'>"
     ]
    }
   ],
   "source": [
    "type(maps)"
   ]
  },
  {
   "cell_type": "code",
   "execution_count": 13,
   "metadata": {},
   "outputs": [
    {
     "data": {
      "application/vnd.jupyter.widget-view+json": {
       "model_id": "",
       "version_major": 2,
       "version_minor": 0
      },
      "text/plain": [
       "FloatProgress(value=0.0, bar_style='info', description='Progress:', layout=Layout(height='25px', width='50%'),…"
      ]
     },
     "metadata": {},
     "output_type": "display_data"
    }
   ],
   "source": [
    "good_spaxels = ((maps.binid_binned_spectra != -1) & \n",
    "                   (maps.binid_stellar_continua != -1) & \n",
    "                   (maps.binid_em_line_models != -1) & \n",
    "                   (maps.binid_em_line_moments != -1) & \n",
    "                   (maps.binid_spectral_indices != -1))"
   ]
  },
  {
   "cell_type": "code",
   "execution_count": 14,
   "metadata": {},
   "outputs": [
    {
     "data": {
      "application/vnd.jupyter.widget-view+json": {
       "model_id": "",
       "version_major": 2,
       "version_minor": 0
      },
      "text/plain": [
       "FloatProgress(value=0.0, bar_style='info', description='Progress:', layout=Layout(height='25px', width='50%'),…"
      ]
     },
     "metadata": {},
     "output_type": "display_data"
    },
    {
     "name": "stdout",
     "output_type": "stream",
     "text": [
      "664\n",
      "Elapsed time [sec]: 6.995045989999198"
     ]
    }
   ],
   "source": [
    "with Timer():\n",
    "    # get total counts of number of good spaxels, grouped by plateifu\n",
    "    tc = maps.filter(good_spaxels).groupby('plateifu').count().withColumnRenamed('count', 'totalc')\n",
    "    # get counts of number of good spaxels with H-alpha > 5, grouped by plateifu\n",
    "    fc = maps.filter(good_spaxels).filter(maps['emline_gflux_ha_6564'] > 5).groupby('plateifu').count().withColumnRenamed('count', 'filterc')\n",
    "    # join the tables and filter where \n",
    "    tmp = tc.join(fc, 'plateifu')\n",
    "    tmp.filter(tmp.filterc >= 0.2 * tmp.totalc).count()\n",
    "    \n",
    "# 3-5 seconds, 16 seconds"
   ]
  },
  {
   "cell_type": "code",
   "execution_count": 15,
   "metadata": {},
   "outputs": [
    {
     "data": {
      "application/vnd.jupyter.widget-view+json": {
       "model_id": "",
       "version_major": 2,
       "version_minor": 0
      },
      "text/plain": [
       "FloatProgress(value=0.0, bar_style='info', description='Progress:', layout=Layout(height='25px', width='50%'),…"
      ]
     },
     "metadata": {},
     "output_type": "display_data"
    }
   ],
   "source": [
    "# try bucket-ing on plateifu (bucketby - used for writing out - optimizing on-disk structure)"
   ]
  },
  {
   "cell_type": "code",
   "execution_count": 16,
   "metadata": {},
   "outputs": [
    {
     "data": {
      "application/vnd.jupyter.widget-view+json": {
       "model_id": "",
       "version_major": 2,
       "version_minor": 0
      },
      "text/plain": [
       "FloatProgress(value=0.0, bar_style='info', description='Progress:', layout=Layout(height='25px', width='50%'),…"
      ]
     },
     "metadata": {},
     "output_type": "display_data"
    },
    {
     "name": "stdout",
     "output_type": "stream",
     "text": [
      "+----------+------+-------+\n",
      "|  plateifu|totalc|filterc|\n",
      "+----------+------+-------+\n",
      "| 8262-1901|   400|    120|\n",
      "|8984-12705|  2803|    636|\n",
      "| 8262-3702|   842|    354|\n",
      "| 8333-1902|   437|    156|\n",
      "| 8616-1901|   413|    340|\n",
      "| 8952-6104|  1340|    909|\n",
      "|9674-12703|  2630|    908|\n",
      "| 7968-3701|   761|    259|\n",
      "| 8261-1901|   450|    131|\n",
      "| 8453-6102|   981|    289|\n",
      "|9674-12701|  2577|   1418|\n",
      "|8081-12704|  1314|    289|\n",
      "| 8442-1901|   310|     89|\n",
      "| 8482-3702|   836|    328|\n",
      "|9675-12703|  2643|   2618|\n",
      "| 8442-6102|   986|    462|\n",
      "| 8615-1902|   386|    231|\n",
      "| 7977-1902|   396|    317|\n",
      "| 8247-3701|   861|    183|\n",
      "| 8447-1901|   442|    279|\n",
      "+----------+------+-------+\n",
      "only showing top 20 rows"
     ]
    }
   ],
   "source": [
    "tmp.filter(tmp.filterc >= 0.2 * tmp.totalc).show()"
   ]
  },
  {
   "cell_type": "code",
   "execution_count": null,
   "metadata": {},
   "outputs": [],
   "source": [
    "# this cell takes forever to run on cube-voxels\n",
    "from pyspark.sql.functions import concat, col, lit\n",
    "with Timer():\n",
    "    ctemp = cubes.withColumn('plateifu', concat(col(\"plateid\"), lit(\"-\"), col(\"ifudsgn\")))\n",
    "    ctemp.join(tmp, 'plateifu').select('plateifu', 'mangaid', 'totalc', 'filterc').count()"
   ]
  },
  {
   "cell_type": "code",
   "execution_count": null,
   "metadata": {},
   "outputs": [],
   "source": [
    "ctemp = cubes.withColumn('plateifu', concat(col(\"plateid\"), lit(\"-\"), col(\"ifudsgn\")))\n",
    "cg = ctemp.groupby('plateifu').count().alias('counts')\n",
    "cg.show(5)"
   ]
  },
  {
   "cell_type": "code",
   "execution_count": null,
   "metadata": {},
   "outputs": [],
   "source": [
    "data_joined = ctemp.join(cg, 'plateifu').dropDuplicates().show(5)"
   ]
  },
  {
   "cell_type": "code",
   "execution_count": null,
   "metadata": {},
   "outputs": [],
   "source": [
    "ctemp.show()"
   ]
  },
  {
   "cell_type": "markdown",
   "metadata": {},
   "source": [
    "### Spark SQL"
   ]
  },
  {
   "cell_type": "code",
   "execution_count": 15,
   "metadata": {},
   "outputs": [
    {
     "data": {
      "application/vnd.jupyter.widget-view+json": {
       "model_id": "",
       "version_major": 2,
       "version_minor": 0
      },
      "text/plain": [
       "FloatProgress(value=0.0, bar_style='info', description='Progress:', layout=Layout(height='25px', width='50%'),…"
      ]
     },
     "metadata": {},
     "output_type": "display_data"
    },
    {
     "name": "stdout",
     "output_type": "stream",
     "text": [
      "664\n",
      "Elapsed time [sec]: 631.3303209980077"
     ]
    }
   ],
   "source": [
    "totsql = \"\"\" select f.plateifu, count(f.*) as tcount from maps as f \\\n",
    "where f.binid_binned_spectra != -1 and f.binid_stellar_continua != -1 and f.binid_em_line_models != -1 \\\n",
    "and f.binid_em_line_moments != -1 and f.binid_spectral_indices != -1 group by f.plateifu\n",
    "\"\"\"\n",
    "hasql = \"\"\" select f.plateifu, count(f.*) as vcount from maps as f \\\n",
    "where f.emline_gflux_ha_6564 > 5 and f.binid_binned_spectra != -1 and f.binid_stellar_continua != -1 \\\n",
    "and f.binid_em_line_models != -1 and f.binid_em_line_moments != -1 and f.binid_spectral_indices != -1 \\\n",
    "group by f.plateifu\n",
    "\"\"\"\n",
    "sql = \"\"\" select t.plateifu, t.tcount, v.vcount from (select f.plateifu, count(f.*) as tcount from maps as f \\\n",
    "where f.binid_binned_spectra != -1 and f.binid_stellar_continua != -1 and f.binid_em_line_models != -1 \\\n",
    "and f.binid_em_line_moments != -1 and f.binid_spectral_indices != -1 group by f.plateifu) as t, (select f.plateifu, count(f.*) as vcount from maps as f \\\n",
    "where f.emline_gflux_ha_6564 > 5 and f.binid_binned_spectra != -1 and f.binid_stellar_continua != -1 \\\n",
    "and f.binid_em_line_models != -1 and f.binid_em_line_moments != -1 and f.binid_spectral_indices != -1 \\\n",
    "group by f.plateifu) as v where t.plateifu=v.plateifu and \\\n",
    "v.vcount >= 0.2*t.tcount\n",
    "\"\"\"\n",
    "\n",
    "with Timer():\n",
    "    spark.sql(sql).count()\n",
    "\n",
    "# 4 numExec, 18 cores, 36 execMem\n",
    "# show 156.64 seconds\n",
    "# count 161.6 seconds [~2.7 min]\n",
    "\n",
    "# 15 numExec, 10 cores, 36 execMem\n",
    "# count 631.33"
   ]
  },
  {
   "cell_type": "markdown",
   "metadata": {},
   "source": [
    "## Query 3\n",
    "Select all galaxies with an NSA sersic_n index < 2, an H-alpha sumed-EW > 6, and an NSA sersic log stellar mass between 9.5-11\n",
    "\n",
    "### Raw SQL \n",
    "\n",
    "SELECT mangadatadb.cube.mangaid AS \"cube.mangaid\", mangadatadb.cube.plate AS \"cube.plate\", concat(mangadatadb.cube.plate, '-', mangadatadb.ifudesign.name) AS \"cube.plateifu\", mangadatadb.ifudesign.name AS \"ifu.name\", mangadapdb.cleanspaxelprop7.emline_sew_ha_6564 AS emline_sew_ha_6564, mangasampledb.nsa.sersic_n AS \"nsa.sersic_n\", CAST(CASE WHEN (mangasampledb.nsa.sersic_mass > 0.0) THEN log(mangasampledb.nsa.sersic_mass) WHEN (mangasampledb.nsa.sersic_mass = 0.0) THEN 0.0 END AS FLOAT) AS \"nsa.sersic_logmass\", mangadapdb.cleanspaxelprop7.x AS \"spaxelprop.x\", mangadapdb.cleanspaxelprop7.y AS \"spaxelprop.y\"\n",
    "FROM mangadatadb.cube JOIN mangadatadb.ifudesign ON mangadatadb.ifudesign.pk = mangadatadb.cube.ifudesign_pk JOIN mangadapdb.file ON mangadatadb.cube.pk = mangadapdb.file.cube_pk JOIN mangadapdb.cleanspaxelprop7 ON mangadapdb.file.pk = mangadapdb.cleanspaxelprop7.file_pk JOIN mangasampledb.manga_target ON mangasampledb.manga_target.pk = mangadatadb.cube.manga_target_pk JOIN mangasampledb.manga_target_to_nsa ON mangasampledb.manga_target.pk = mangasampledb.manga_target_to_nsa.manga_target_pk JOIN mangasampledb.nsa ON mangasampledb.nsa.pk = mangasampledb.manga_target_to_nsa.nsa_pk JOIN mangadatadb.pipeline_info AS drpalias ON drpalias.pk = mangadatadb.cube.pipeline_info_pk JOIN mangadatadb.pipeline_info AS dapalias ON dapalias.pk = mangadapdb.file.pipeline_info_pk\n",
    "WHERE CAST(CASE WHEN (mangasampledb.nsa.sersic_mass > 0.0) THEN log(mangasampledb.nsa.sersic_mass) WHEN (mangasampledb.nsa.sersic_mass = 0.0) THEN 0.0 END AS FLOAT) >= 9.5 AND CAST(CASE WHEN (mangasampledb.nsa.sersic_mass > 0.0) THEN log(mangasampledb.nsa.sersic_mass) WHEN (mangasampledb.nsa.sersic_mass = 0.0) THEN 0.0 END AS FLOAT) < 11.0 AND mangasampledb.nsa.sersic_n < 2.0 AND mangadapdb.cleanspaxelprop7.emline_sew_ha_6564 > 6.0 AND drpalias.pk = 32 AND dapalias.pk = 34\n",
    "\n",
    "### Postgres Results\n",
    "(2513811 rows)\n",
    "\n",
    "1st run\n",
    "Time: 201567.467 ms (03:21.567)\n",
    "\n",
    "2nd run\n",
    "Time: 15866.201 ms (00:15.866)\n",
    "\n",
    "run with HYB10 selection\n",
    "(1235317 rows) Time: 28622.329 ms (00:28.622)\n"
   ]
  },
  {
   "cell_type": "code",
   "execution_count": 17,
   "metadata": {},
   "outputs": [
    {
     "data": {
      "application/vnd.jupyter.widget-view+json": {
       "model_id": "",
       "version_major": 2,
       "version_minor": 0
      },
      "text/plain": [
       "FloatProgress(value=0.0, bar_style='info', description='Progress:', layout=Layout(height='25px', width='50%'),…"
      ]
     },
     "metadata": {},
     "output_type": "display_data"
    },
    {
     "name": "stdout",
     "output_type": "stream",
     "text": [
      "DataFrame[summary: string, plate: string, ifudsgn: string, plateifu: string, mangaid: string, versdrp2: string, versdrp3: string, verscore: string, versutil: string, versprim: string, platetyp: string, srvymode: string, objra: string, objdec: string, ifuglon: string, ifuglat: string, ifura: string, ifudec: string, ebvgal: string, nexp: string, exptime: string, drp3qual: string, bluesn2: string, redsn2: string, harname: string, frlplug: string, cartid: string, designid: string, cenra: string, cendec: string, airmsmin: string, airmsmed: string, airmsmax: string, seemin: string, seemed: string, seemax: string, transmin: string, transmed: string, transmax: string, mjdmin: string, mjdmed: string, mjdmax: string, gfwhm: string, rfwhm: string, ifwhm: string, zfwhm: string, mngtarg1: string, mngtarg2: string, mngtarg3: string, catidnum: string, plttarg: string, manga_tileid: string, nsa_iauname: string, ifudesignsize: string, ifutargetsize: string, ifudesignwrongsize: string, z: string, zmin: string, zmax: string, szmin: string, szmax: string, ezmin: string, ezmax: string, probs: string, pweight: string, psweight: string, psrweight: string, sweight: string, srweight: string, eweight: string, esweight: string, esrweight: string, nsa_field: string, nsa_run: string, nsa_camcol: string, nsa_version: string, nsa_nsaid: string, nsa_nsaid_v1b: string, nsa_z: string, nsa_zdist: string, nsa_sersic_absmag_f: string, nsa_sersic_absmag_n: string, nsa_sersic_absmag_u: string, nsa_sersic_absmag_g: string, nsa_sersic_absmag_r: string, nsa_sersic_absmag_i: string, nsa_sersic_absmag_z: string, nsa_elpetro_absmag_f: string, nsa_elpetro_absmag_n: string, nsa_elpetro_absmag_u: string, nsa_elpetro_absmag_g: string, nsa_elpetro_absmag_r: string, nsa_elpetro_absmag_i: string, nsa_elpetro_absmag_z: string, nsa_elpetro_amivar_f: string, nsa_elpetro_amivar_n: string, nsa_elpetro_amivar_u: string, nsa_elpetro_amivar_g: string, nsa_elpetro_amivar_r: string, nsa_elpetro_amivar_i: string, nsa_elpetro_amivar_z: string, nsa_sersic_mass: string, nsa_elpetro_mass: string, nsa_elpetro_ba: string, nsa_elpetro_phi: string, nsa_extinction_f: string, nsa_extinction_n: string, nsa_extinction_u: string, nsa_extinction_g: string, nsa_extinction_r: string, nsa_extinction_i: string, nsa_extinction_z: string, nsa_elpetro_th50_r: string, nsa_petro_th50: string, nsa_petro_flux_f: string, nsa_petro_flux_n: string, nsa_petro_flux_u: string, nsa_petro_flux_g: string, nsa_petro_flux_r: string, nsa_petro_flux_i: string, nsa_petro_flux_z: string, nsa_petro_flux_ivar_f: string, nsa_petro_flux_ivar_n: string, nsa_petro_flux_ivar_u: string, nsa_petro_flux_ivar_g: string, nsa_petro_flux_ivar_r: string, nsa_petro_flux_ivar_i: string, nsa_petro_flux_ivar_z: string, nsa_elpetro_flux_f: string, nsa_elpetro_flux_n: string, nsa_elpetro_flux_u: string, nsa_elpetro_flux_g: string, nsa_elpetro_flux_r: string, nsa_elpetro_flux_i: string, nsa_elpetro_flux_z: string, nsa_elpetro_flux_ivar_f: string, nsa_elpetro_flux_ivar_n: string, nsa_elpetro_flux_ivar_u: string, nsa_elpetro_flux_ivar_g: string, nsa_elpetro_flux_ivar_r: string, nsa_elpetro_flux_ivar_i: string, nsa_elpetro_flux_ivar_z: string, nsa_sersic_ba: string, nsa_sersic_n: string, nsa_sersic_phi: string, nsa_sersic_th50: string, nsa_sersic_flux_f: string, nsa_sersic_flux_n: string, nsa_sersic_flux_u: string, nsa_sersic_flux_g: string, nsa_sersic_flux_r: string, nsa_sersic_flux_i: string, nsa_sersic_flux_z: string, nsa_sersic_flux_ivar_f: string, nsa_sersic_flux_ivar_n: string, nsa_sersic_flux_ivar_u: string, nsa_sersic_flux_ivar_g: string, nsa_sersic_flux_ivar_r: string, nsa_sersic_flux_ivar_i: string, nsa_sersic_flux_ivar_z: string]"
     ]
    }
   ],
   "source": [
    "drpall.describe()"
   ]
  },
  {
   "cell_type": "code",
   "execution_count": 18,
   "metadata": {},
   "outputs": [
    {
     "data": {
      "application/vnd.jupyter.widget-view+json": {
       "model_id": "",
       "version_major": 2,
       "version_minor": 0
      },
      "text/plain": [
       "FloatProgress(value=0.0, bar_style='info', description='Progress:', layout=Layout(height='25px', width='50%'),…"
      ]
     },
     "metadata": {},
     "output_type": "display_data"
    },
    {
     "name": "stdout",
     "output_type": "stream",
     "text": [
      "11465"
     ]
    }
   ],
   "source": [
    "drpall.count()"
   ]
  },
  {
   "cell_type": "code",
   "execution_count": 45,
   "metadata": {},
   "outputs": [
    {
     "data": {
      "application/vnd.jupyter.widget-view+json": {
       "model_id": "",
       "version_major": 2,
       "version_minor": 0
      },
      "text/plain": [
       "FloatProgress(value=0.0, bar_style='info', description='Progress:', layout=Layout(height='25px', width='50%'),…"
      ]
     },
     "metadata": {},
     "output_type": "display_data"
    },
    {
     "name": "stdout",
     "output_type": "stream",
     "text": [
      "1235317\n",
      "Elapsed time [sec]: 2.3904749280045507"
     ]
    }
   ],
   "source": [
    "from pyspark.sql.functions import log10\n",
    "with Timer():\n",
    "    # filter drpall on sersic index and log of stellar mass\n",
    "    sub = drpall.filter((drpall.nsa_sersic_n < 2.0) & \n",
    "                  (log10(drpall.nsa_sersic_mass) >=9.5) & \n",
    "                  (log10(drpall.nsa_sersic_mass) < 11.))\n",
    "    # filter the maps on h-alpha EW\n",
    "    ew = maps.filter(good_spaxels).filter(maps.emline_sew_ha_6564 > 6)\n",
    "    # join the tables and select some,count\n",
    "    tmp = ew.join(sub, 'plateifu')\n",
    "    tmp.select(tmp.plateifu, tmp.x, tmp.y, tmp.emline_sew_ha_6564, tmp.nsa_sersic_n, log10(tmp.nsa_sersic_mass)).count()\n",
    "\n",
    "# 0.8-1.2 sec - show(5)\n",
    "# 2-3 sec - count()"
   ]
  },
  {
   "cell_type": "code",
   "execution_count": 20,
   "metadata": {},
   "outputs": [
    {
     "data": {
      "application/vnd.jupyter.widget-view+json": {
       "model_id": "",
       "version_major": 2,
       "version_minor": 0
      },
      "text/plain": [
       "FloatProgress(value=0.0, bar_style='info', description='Progress:', layout=Layout(height='25px', width='50%'),…"
      ]
     },
     "metadata": {},
     "output_type": "display_data"
    },
    {
     "name": "stdout",
     "output_type": "stream",
     "text": [
      "1235317"
     ]
    }
   ],
   "source": [
    "tmp.count()"
   ]
  },
  {
   "cell_type": "code",
   "execution_count": 21,
   "metadata": {},
   "outputs": [
    {
     "data": {
      "application/vnd.jupyter.widget-view+json": {
       "model_id": "",
       "version_major": 2,
       "version_minor": 0
      },
      "text/plain": [
       "FloatProgress(value=0.0, bar_style='info', description='Progress:', layout=Layout(height='25px', width='50%'),…"
      ]
     },
     "metadata": {},
     "output_type": "display_data"
    },
    {
     "name": "stdout",
     "output_type": "stream",
     "text": [
      "+---------+---+---+------------------+------------+----------------------+\n",
      "| plateifu|  x|  y|emline_sew_ha_6564|nsa_sersic_n|LOG10(nsa_sersic_mass)|\n",
      "+---------+---+---+------------------+------------+----------------------+\n",
      "|8551-3701| 20| 11|29.696453094482422|     1.12056|      9.52915177241679|\n",
      "|8551-3701| 21| 11| 37.42804718017578|     1.12056|      9.52915177241679|\n",
      "|8551-3701| 22| 11|38.616214752197266|     1.12056|      9.52915177241679|\n",
      "|8551-3701| 17| 12| 31.09678077697754|     1.12056|      9.52915177241679|\n",
      "|8551-3701| 18| 12|29.986642837524414|     1.12056|      9.52915177241679|\n",
      "+---------+---+---+------------------+------------+----------------------+\n",
      "only showing top 5 rows\n",
      "\n",
      "1235317"
     ]
    }
   ],
   "source": [
    "tmp = ew.join(sub, 'plateifu')\n",
    "tmp.select(tmp.plateifu, tmp.x, tmp.y, tmp.emline_sew_ha_6564, tmp.nsa_sersic_n, log10(tmp.nsa_sersic_mass)).show(5)\n",
    "tmp.count()"
   ]
  },
  {
   "cell_type": "code",
   "execution_count": null,
   "metadata": {},
   "outputs": [],
   "source": [
    "#ew.join(sub, 'plateifu').show(1)"
   ]
  },
  {
   "cell_type": "markdown",
   "metadata": {},
   "source": [
    "### Spark SQL"
   ]
  },
  {
   "cell_type": "code",
   "execution_count": 46,
   "metadata": {},
   "outputs": [
    {
     "data": {
      "application/vnd.jupyter.widget-view+json": {
       "model_id": "",
       "version_major": 2,
       "version_minor": 0
      },
      "text/plain": [
       "FloatProgress(value=0.0, bar_style='info', description='Progress:', layout=Layout(height='25px', width='50%'),…"
      ]
     },
     "metadata": {},
     "output_type": "display_data"
    },
    {
     "name": "stdout",
     "output_type": "stream",
     "text": [
      "1235317\n",
      "Elapsed time [sec]: 2.072364863997791"
     ]
    }
   ],
   "source": [
    "sql = \"\"\"select f.plateifu, f.emline_sew_ha_6564, d.nsa_sersic_n, log10(d.nsa_sersic_mass) \\\n",
    "from maps as f join drpall as d on d.plateifu=f.plateifu \\\n",
    "where (f.emline_sew_ha_6564 > 6 and f.binid_binned_spectra != -1 and f.binid_stellar_continua != -1 and \\\n",
    "f.binid_em_line_models != -1 and f.binid_em_line_moments != -1 and f.binid_spectral_indices != -1 and \\\n",
    "d.nsa_sersic_n < 2.0 and log10(d.nsa_sersic_mass) between 9.5 and 11.0)\"\"\"\n",
    "\n",
    "with Timer():\n",
    "    spark.sql(sql).count()"
   ]
  },
  {
   "cell_type": "markdown",
   "metadata": {},
   "source": [
    "## Query 5 \n",
    "Find all galaxies that have a summed spaxel flux around H-alpha wavelength less than the DAP measured value in spaxels at 1 Ref  \n",
    "\n",
    "\n",
    "### Raw SQL\n",
    "with rad as (select f.cube_pk, s.file_pk,s.x, s.y, s.spx_ellcoo_r_re, s.emline_sflux_ha_6564 from mangadapdb.spaxelprop7 as s join mangadapdb.file as f on f.pk=s.file_pk where s.spx_ellcoo_r_re between 0.9 and 1.1 and f.pipeline_info_pk=34 and f.filename ilike '%HYB10%'), red as (select c.pk,n.z, s.sub, s.val from mangadatadb.cube as c join mangasampledb.manga_target as m on m.pk=c.manga_target_pk join mangasampledb.manga_target_to_nsa as nt on m.pk=nt.manga_target_pk join mangasampledb.nsa as n on n.pk=nt.nsa_pk, lateral (select i as sub, rest_wavelength[i] as val from (select generate_subscripts(functions.rest_wavelength(n.z), 1) as i, rest_wavelength from functions.rest_wavelength(n.z)) foo where rest_wavelength[i] between 6563 and 6567) as s where c.pipeline_info_pk=32), flux as (select c.cube_pk, c.x, c.y, c.z, c.spx_ellcoo_r_re, sum(c.unnest) as sflux, c.emline_sflux_ha_6564 from (select b.*, red.z from (select s.cube_pk, s.x, s.y, unnest(s.flux), generate_subscripts(s.flux,1) as fsub, rad.spx_ellcoo_r_re, rad.emline_sflux_ha_6564 from mangadatadb.spaxel as s, rad where s.cube_pk=rad.cube_pk and s.x=rad.x and s.y=rad.y) as b, red where b.fsub = red.sub and b.cube_pk=red.pk) as c group by c.cube_pk, c.x, c.y, c.z, c.spx_ellcoo_r_re, c.emline_sflux_ha_6564) select flux.cube_pk, c.plate,i.name, flux.z from flux join mangadatadb.cube as c on c.pk=flux.cube_pk join mangadatadb.ifudesign as i on i.pk=c.ifudesign_pk where flux.emline_sflux_ha_6564 > flux.sflux;\n",
    "\n",
    "### Postgres Results\n",
    "1st run \n",
    "(390604 rows) - duplicate rows\n",
    "\n",
    "Time: 19425544.471 ms (05:23:45.544)\n",
    "\n",
    "2nd run\n",
    "(3117 rows) - unique rows, with extra group by\n",
    "\n",
    "Time: 17431038.283 ms (04:50:31.038)"
   ]
  },
  {
   "cell_type": "code",
   "execution_count": 16,
   "metadata": {},
   "outputs": [
    {
     "data": {
      "application/vnd.jupyter.widget-view+json": {
       "model_id": "",
       "version_major": 2,
       "version_minor": 0
      },
      "text/plain": [
       "FloatProgress(value=0.0, bar_style='info', description='Progress:', layout=Layout(height='25px', width='50%'),…"
      ]
     },
     "metadata": {},
     "output_type": "display_data"
    }
   ],
   "source": [
    "good_spaxels = ((maps.binid_binned_spectra != -1) & \n",
    "                   (maps.binid_stellar_continua != -1) & \n",
    "                   (maps.binid_em_line_models != -1) & \n",
    "                   (maps.binid_em_line_moments != -1) & \n",
    "                   (maps.binid_spectral_indices != -1))"
   ]
  },
  {
   "cell_type": "code",
   "execution_count": 37,
   "metadata": {},
   "outputs": [
    {
     "data": {
      "application/vnd.jupyter.widget-view+json": {
       "model_id": "",
       "version_major": 2,
       "version_minor": 0
      },
      "text/plain": [
       "FloatProgress(value=0.0, bar_style='info', description='Progress:', layout=Layout(height='25px', width='50%'),…"
      ]
     },
     "metadata": {},
     "output_type": "display_data"
    },
    {
     "name": "stdout",
     "output_type": "stream",
     "text": [
      "+----------+------+------+------------------+--------------------+-----------+-----------+------------------+-------------+--------------------+\n",
      "|  plateifu|_src_x|_src_y|         sum(flux)|           sum(wave)|sum(_src_x)|sum(_src_y)|        sum(nsa_z)|sum(wave_idx)|          sum(restw)|\n",
      "+----------+------+------+------------------+--------------------+-----------+-----------+------------------+-------------+--------------------+\n",
      "|7977-12703|    39|    58|1.9382832507751573|2.9244602021747213E7|     177957|     264654|337.03550010002357|     10408203|2.7233092295455687E7|\n",
      "|7977-12703|    42|    35|1036.5087170015904|2.9244602021747213E7|     191646|     159705|337.03550010002357|     10408203|2.7233092295455687E7|\n",
      "|7977-12703|    43|    41| 520.9715455719561|2.9244602021747213E7|     196209|     187083|337.03550010002357|     10408203|2.7233092295455687E7|\n",
      "|7977-12703|    47|    53| 8.723400353684156|2.9244602021747213E7|     214461|     241839|337.03550010002357|     10408203|2.7233092295455687E7|\n",
      "|7977-12703|    61|    17|10.388169000314633|2.9244602021747213E7|     278343|      77571|337.03550010002357|     10408203|2.7233092295455687E7|\n",
      "+----------+------+------+------------------+--------------------+-----------+-----------+------------------+-------------+--------------------+\n",
      "only showing top 5 rows"
     ]
    }
   ],
   "source": [
    "from pyspark.sql.functions import monotonically_increasing_id, expr\n",
    "rad = maps.filter(good_spaxels).filter((maps.spx_ellcoo_r_re >= 0.9) & \n",
    "                   (maps.spx_ellcoo_r_re < 1.1))\n",
    "\n",
    "cubedrp = cubes.join(drpall, (cubes['plateid'] == drpall.plate) & (cubes['ifudsgn']==drpall.ifudsgn)).select(cubes[\"flux\"], cubes[\"wave\"], cubes[\"_src_x\"], cubes[\"_src_y\"],drpall[\"plateifu\"],drpall[\"nsa_z\"])\n",
    "wave = cubedrp.withColumn(\"wave_idx\", monotonically_increasing_id() % 4563).withColumn('restw', cubedrp['wave']/(1+cubedrp['nsa_z']))\n",
    "wave.filter((wave.restw > 6563) & (wave.restw < 6567))\n",
    "\n",
    "wave.groupby(wave.plateifu, wave._src_x, wave._src_y).sum().show(5)"
   ]
  },
  {
   "cell_type": "code",
   "execution_count": 50,
   "metadata": {},
   "outputs": [
    {
     "data": {
      "application/vnd.jupyter.widget-view+json": {
       "model_id": "",
       "version_major": 2,
       "version_minor": 0
      },
      "text/plain": [
       "FloatProgress(value=0.0, bar_style='info', description='Progress:', layout=Layout(height='25px', width='50%'),…"
      ]
     },
     "metadata": {},
     "output_type": "display_data"
    },
    {
     "name": "stdout",
     "output_type": "stream",
     "text": [
      "'8935-12701'"
     ]
    }
   ],
   "source": [
    "drpall.first().plateifu"
   ]
  },
  {
   "cell_type": "code",
   "execution_count": 59,
   "metadata": {},
   "outputs": [
    {
     "data": {
      "application/vnd.jupyter.widget-view+json": {
       "model_id": "",
       "version_major": 2,
       "version_minor": 0
      },
      "text/plain": [
       "FloatProgress(value=0.0, bar_style='info', description='Progress:', layout=Layout(height='25px', width='50%'),…"
      ]
     },
     "metadata": {},
     "output_type": "display_data"
    }
   ],
   "source": [
    "from pyspark.sql.functions import concat, col, lit, expr, min, max\n",
    "#ctemp = cubes.withColumn('plateifu', concat(col(\"plateid\"), lit(\"-\"), col(\"ifudsgn\")))\n",
    "#ctemp.first().plateifu"
   ]
  },
  {
   "cell_type": "code",
   "execution_count": null,
   "metadata": {},
   "outputs": [],
   "source": [
    "#ctemp.join(drpall, 'plateifu').first()"
   ]
  },
  {
   "cell_type": "code",
   "execution_count": 63,
   "metadata": {},
   "outputs": [
    {
     "data": {
      "application/vnd.jupyter.widget-view+json": {
       "model_id": "",
       "version_major": 2,
       "version_minor": 0
      },
      "text/plain": [
       "FloatProgress(value=0.0, bar_style='info', description='Progress:', layout=Layout(height='25px', width='50%'),…"
      ]
     },
     "metadata": {},
     "output_type": "display_data"
    },
    {
     "name": "stdout",
     "output_type": "stream",
     "text": [
      "+------------------+------------------+------+------+--------------------+------------------+----+------------------+------------------+------------------+------------------+-----------------+------------------+-----------------+---+---+---+---+-------+-------+--------+--------+------+----------+------------------+\n",
      "|                RA|               DEC|_SRC_X|_SRC_Y|                FLUX|              IVAR|MASK|              DISP|           PREDISP|              WAVE|           SPECRES|         SPECRESD|        PRESPECRES|      PRESPECRESD|  G|  R|  I|  Z|PLATEID|IFUDSGN|DESIGNID| MANGAID|MJDRED|  DATE-OBS|          wave_idx|\n",
      "+------------------+------------------+------+------+--------------------+------------------+----+------------------+------------------+------------------+------------------+-----------------+------------------+-----------------+---+---+---+---+-------+-------+--------+--------+------+----------+------------------+\n",
      "|333.20683578159424|13.333565395125403|     2|    33|  0.7457756400108337| 6.011356830596924|1026| 1.016783595085144| 0.975831151008606|3621.5959848601933|1568.9450921162547|65.65245094057796| 1640.096959128644|74.71008226359935|0.0|0.0|0.0|0.0|   7977|  12703|    8388|1-115162| 58197|2014-08-30|3621.5959848601933|\n",
      "|333.20683578159424|13.333565395125403|     2|    33| 0.21051065623760223| 7.603861331939697|1026| 1.016917109489441|0.9759601354598999|3622.4299841669877|1568.8980367582615| 65.4472943697184|1640.0353201819755|74.47565313553045|0.0|0.0|0.0|0.0|   7977|  12703|    8388|1-115162| 58197|2014-08-30|3622.4299841669877|\n",
      "|333.20683578159424|13.333565395125403|     2|    33| -0.6456000804901123|10.405274391174316|1026|1.0170506238937378|0.9760888814926147|3623.2641755313257|1568.8515749182457|65.24249611263214| 1640.044417560635|74.24509125755179|0.0|0.0|0.0|0.0|   7977|  12703|    8388|1-115162| 58197|2014-08-30|3623.2641755313257|\n",
      "|333.20683578159424|13.333565395125403|     2|    33| 0.15686748921871185| 7.571112155914307|1026|1.0171840190887451|0.9762176275253296|3624.0985589974434|1568.8719308183622|64.87206471420296|1640.0336024215064|  74.013933658471|0.0|0.0|0.0|0.0|   7977|  12703|    8388|1-115162| 58197|2014-08-30|3624.0985589974434|\n",
      "|333.20683578159424|13.333565395125403|     2|    33|-0.18837010860443115| 9.297626495361328|1026|1.0173174142837524|0.9763464331626892| 3624.933134609571| 1568.831815625927| 64.6686471843772|1639.9809539420853|73.78141025679449|0.0|0.0|0.0|0.0|   7977|  12703|    8388|1-115162| 58197|2014-08-30| 3624.933134609571|\n",
      "+------------------+------------------+------+------+--------------------+------------------+----+------------------+------------------+------------------+------------------+-----------------+------------------+-----------------+---+---+---+---+-------+-------+--------+--------+------+----------+------------------+\n",
      "only showing top 5 rows"
     ]
    }
   ],
   "source": [
    "cubes = cubes.withColumn('wave_idx', expr(\"wave % 4563\"))\n",
    "cubes.show(5)"
   ]
  },
  {
   "cell_type": "code",
   "execution_count": 68,
   "metadata": {},
   "outputs": [
    {
     "data": {
      "application/vnd.jupyter.widget-view+json": {
       "model_id": "",
       "version_major": 2,
       "version_minor": 0
      },
      "text/plain": [
       "FloatProgress(value=0.0, bar_style='info', description='Progress:', layout=Layout(height='25px', width='50%'),…"
      ]
     },
     "metadata": {},
     "output_type": "display_data"
    },
    {
     "name": "stdout",
     "output_type": "stream",
     "text": [
      "[Row(max(wave)=10353.805444147549)]"
     ]
    }
   ],
   "source": [
    "cubes.agg({\"wave\": \"max\"}).collect()"
   ]
  },
  {
   "cell_type": "markdown",
   "metadata": {},
   "source": [
    "### Spark SQL"
   ]
  },
  {
   "cell_type": "code",
   "execution_count": 7,
   "metadata": {},
   "outputs": [
    {
     "data": {
      "application/vnd.jupyter.widget-view+json": {
       "model_id": "05671af3a0f741cb9979814d649580ea",
       "version_major": 2,
       "version_minor": 0
      },
      "text/plain": [
       "FloatProgress(value=0.0, bar_style='info', description='Progress:', layout=Layout(height='25px', width='50%'),…"
      ]
     },
     "metadata": {},
     "output_type": "display_data"
    },
    {
     "name": "stderr",
     "output_type": "stream",
     "text": [
      "An error was encountered:\n",
      "Invalid status code '500' from https://172.23.25.61:30443/gateway/default/livy/v1/sessions/11/statements/6 with error payload: \"java.lang.IllegalStateException: RPC channel is closed.\"\n"
     ]
    }
   ],
   "source": [
    "radsql = \"\"\"select f.plateifu, f.emline_sflux_ha_6564, f.x, f.y, f.spx_ellcoo_r_re from maps as f \\\n",
    "where ((f.spx_ellcoo_r_re between 0.9 and 1.1) and f.binid_binned_spectra != -1 and f.binid_stellar_continua != -1 and \\\n",
    "f.binid_em_line_models != -1 and f.binid_em_line_moments != -1 and f.binid_spectral_indices != -1)\"\"\"\n",
    "\n",
    "redsql = \"\"\"select i.plateifu, i.wave, i.rw, i.wave_idx from (select d.plateifu, c.wave, c.wave / (1+d.nsa_z) as rw, \\\n",
    "monotonically_increasing_id() % 4563 as wave_idx from cubes as c join drpall as d on d.plate=c.plateid \\\n",
    "and d.ifudsgn=c.ifudsgn) as i where i.rw between 6563 and 6567\"\"\"\n",
    "\n",
    "fluxsql = \"\"\"select r.plateifu, sum(c.flux) as sflux, c._src_x as x, c._src_y as y from ({red}) as r \\\n",
    "join cubes as c on c.wave=r.wave group by r.plateifu, c._src_x, c._src_y\"\"\".format(red=redsql)\n",
    "\n",
    "flux = \"\"\"select f.plateifu, f.x, f.y, f.sflux, r.emline_sflux_ha_6564 from ({flux}) as f, \\\n",
    "({rad}) as r where r.plateifu=f.plateifu and r.x=f.x and r.y=f.y \\\n",
    "and r.emline_sflux_ha_6564 > f.sflux\"\"\".format(flux=fluxsql, rad=radsql)\n",
    "\n",
    "final = \"\"\"select g.plateifu, count(g.*) from ({ff}) as g group by g.plateifu\"\"\".format(ff=flux)\n",
    "with Timer():\n",
    "    spark.sql(final).count()"
   ]
  },
  {
   "cell_type": "code",
   "execution_count": 96,
   "metadata": {},
   "outputs": [
    {
     "data": {
      "application/vnd.jupyter.widget-view+json": {
       "model_id": "",
       "version_major": 2,
       "version_minor": 0
      },
      "text/plain": [
       "FloatProgress(value=0.0, bar_style='info', description='Progress:', layout=Layout(height='25px', width='50%'),…"
      ]
     },
     "metadata": {},
     "output_type": "display_data"
    },
    {
     "name": "stdout",
     "output_type": "stream",
     "text": [
      "+-----------+---------+-------+\n",
      "|   col_name|data_type|comment|\n",
      "+-----------+---------+-------+\n",
      "|         RA|   double|   null|\n",
      "|        DEC|   double|   null|\n",
      "|     _SRC_X|   bigint|   null|\n",
      "|     _SRC_Y|   bigint|   null|\n",
      "|       FLUX|   double|   null|\n",
      "|       IVAR|   double|   null|\n",
      "|       MASK|   bigint|   null|\n",
      "|       DISP|   double|   null|\n",
      "|    PREDISP|   double|   null|\n",
      "|       WAVE|   double|   null|\n",
      "|    SPECRES|   double|   null|\n",
      "|   SPECRESD|   double|   null|\n",
      "| PRESPECRES|   double|   null|\n",
      "|PRESPECRESD|   double|   null|\n",
      "|          G|   double|   null|\n",
      "|          R|   double|   null|\n",
      "|          I|   double|   null|\n",
      "|          Z|   double|   null|\n",
      "|    PLATEID|   bigint|   null|\n",
      "|    IFUDSGN|   bigint|   null|\n",
      "+-----------+---------+-------+\n",
      "only showing top 20 rows"
     ]
    }
   ],
   "source": [
    "spark.sql('''describe cubes''').show()"
   ]
  },
  {
   "cell_type": "code",
   "execution_count": 9,
   "metadata": {},
   "outputs": [
    {
     "data": {
      "application/vnd.jupyter.widget-view+json": {
       "model_id": "",
       "version_major": 2,
       "version_minor": 0
      },
      "text/plain": [
       "FloatProgress(value=0.0, bar_style='info', description='Progress:', layout=Layout(height='25px', width='50%'),…"
      ]
     },
     "metadata": {},
     "output_type": "display_data"
    },
    {
     "name": "stdout",
     "output_type": "stream",
     "text": [
      "5"
     ]
    }
   ],
   "source": [
    "a='5'\n",
    "b='{a}'.format(a=a)\n",
    "print(b)"
   ]
  },
  {
   "cell_type": "code",
   "execution_count": null,
   "metadata": {},
   "outputs": [],
   "source": []
  }
 ],
 "metadata": {
  "kernelspec": {
   "display_name": "PySpark",
   "language": "",
   "name": "pysparkkernel"
  },
  "language_info": {
   "codemirror_mode": {
    "name": "python",
    "version": 3
   },
   "mimetype": "text/x-python",
   "name": "pyspark",
   "pygments_lexer": "python3"
  }
 },
 "nbformat": 4,
 "nbformat_minor": 2
}
