{
 "cells": [
  {
   "cell_type": "markdown",
   "metadata": {},
   "source": [
    "Notebook with queries representing the LSST test queries, but against the Stripe82 database, extended with a match and coadd table following script in Appendix of https://docs.google.com/document/d/1qFOE1s4bQUDM8W7wLzoxb2OK1LaPwzd5Lmy_GKUYut0.\n",
    "\n",
    "Queries from https://dev.lsstcorp.org/trac/wiki/db/queries"
   ]
  },
  {
   "cell_type": "code",
   "execution_count": 28,
   "metadata": {
    "collapsed": true
   },
   "outputs": [],
   "source": [
    "import pandas\n",
    "import matplotlib.pyplot as plt\n",
    "import numpy as np\n",
    "\n",
    "import SciServer.CasJobs as cj\n"
   ]
  },
  {
   "cell_type": "markdown",
   "metadata": {},
   "source": [
    "### Extract light curve for a given object (time, magnitude and/or position)\n"
   ]
  },
  {
   "cell_type": "markdown",
   "metadata": {},
   "source": [
    "```sql\n",
    "SELECT taiMidPoint, psfFlux, psfFluxSigma, ra, decl\n",
    "FROM   Source\n",
    "JOIN   Filter USING (filterId)\n",
    "WHERE  objectId = :objectId\n",
    "   AND filterName = :filterName\n",
    "```"
   ]
  },
  {
   "cell_type": "code",
   "execution_count": 3,
   "metadata": {
    "collapsed": false
   },
   "outputs": [
    {
     "data": {
      "text/html": [
       "<div>\n",
       "<style>\n",
       "    .dataframe thead tr:only-child th {\n",
       "        text-align: right;\n",
       "    }\n",
       "\n",
       "    .dataframe thead th {\n",
       "        text-align: left;\n",
       "    }\n",
       "\n",
       "    .dataframe tbody tr th {\n",
       "        vertical-align: top;\n",
       "    }\n",
       "</style>\n",
       "<table border=\"1\" class=\"dataframe\">\n",
       "  <thead>\n",
       "    <tr style=\"text-align: right;\">\n",
       "      <th></th>\n",
       "      <th>cobjid</th>\n",
       "      <th>objid</th>\n",
       "      <th>distance</th>\n",
       "      <th>ra</th>\n",
       "      <th>dec</th>\n",
       "      <th>psfMag_u</th>\n",
       "      <th>psfMagErr_u</th>\n",
       "      <th>mjd_u</th>\n",
       "      <th>psfMag_g</th>\n",
       "      <th>psfMagErr_g</th>\n",
       "      <th>mjd_g</th>\n",
       "      <th>psfMag_r</th>\n",
       "      <th>psfMagErr_r</th>\n",
       "      <th>mjd_r</th>\n",
       "      <th>psfMag_i</th>\n",
       "      <th>psfMagErr_i</th>\n",
       "      <th>mjd_i</th>\n",
       "      <th>psfMag_z</th>\n",
       "      <th>psfMagErr_z</th>\n",
       "      <th>mjd_z</th>\n",
       "    </tr>\n",
       "  </thead>\n",
       "  <tbody>\n",
       "    <tr>\n",
       "      <th>0</th>\n",
       "      <td>8647474690312306771</td>\n",
       "      <td>8658174750926635990</td>\n",
       "      <td>0.001155</td>\n",
       "      <td>309.282577</td>\n",
       "      <td>-1.092810</td>\n",
       "      <td>23.66360</td>\n",
       "      <td>1.000897</td>\n",
       "      <td>51465.134228</td>\n",
       "      <td>21.88472</td>\n",
       "      <td>0.117767</td>\n",
       "      <td>51465.135887</td>\n",
       "      <td>20.27141</td>\n",
       "      <td>0.037314</td>\n",
       "      <td>51465.132570</td>\n",
       "      <td>19.62470</td>\n",
       "      <td>0.026787</td>\n",
       "      <td>51465.133399</td>\n",
       "      <td>19.20947</td>\n",
       "      <td>0.075535</td>\n",
       "      <td>51465.135058</td>\n",
       "    </tr>\n",
       "    <tr>\n",
       "      <th>1</th>\n",
       "      <td>8647474690312306771</td>\n",
       "      <td>8658466190224917585</td>\n",
       "      <td>0.001056</td>\n",
       "      <td>309.282565</td>\n",
       "      <td>-1.092796</td>\n",
       "      <td>24.63604</td>\n",
       "      <td>1.385907</td>\n",
       "      <td>52552.171027</td>\n",
       "      <td>21.75185</td>\n",
       "      <td>0.093649</td>\n",
       "      <td>52552.172686</td>\n",
       "      <td>20.31531</td>\n",
       "      <td>0.030692</td>\n",
       "      <td>52552.169369</td>\n",
       "      <td>19.60913</td>\n",
       "      <td>0.026323</td>\n",
       "      <td>52552.170198</td>\n",
       "      <td>19.23982</td>\n",
       "      <td>0.061838</td>\n",
       "      <td>52552.171857</td>\n",
       "    </tr>\n",
       "    <tr>\n",
       "      <th>2</th>\n",
       "      <td>8647474690312306771</td>\n",
       "      <td>8658188267453875355</td>\n",
       "      <td>0.001668</td>\n",
       "      <td>309.282555</td>\n",
       "      <td>-1.092783</td>\n",
       "      <td>24.06886</td>\n",
       "      <td>1.223487</td>\n",
       "      <td>52930.080529</td>\n",
       "      <td>21.85983</td>\n",
       "      <td>0.078321</td>\n",
       "      <td>52930.082187</td>\n",
       "      <td>22.47300</td>\n",
       "      <td>0.238211</td>\n",
       "      <td>52930.078870</td>\n",
       "      <td>19.70808</td>\n",
       "      <td>0.027410</td>\n",
       "      <td>52930.079699</td>\n",
       "      <td>19.34076</td>\n",
       "      <td>0.058475</td>\n",
       "      <td>52930.081358</td>\n",
       "    </tr>\n",
       "    <tr>\n",
       "      <th>3</th>\n",
       "      <td>8647474690312306771</td>\n",
       "      <td>8658188288660669649</td>\n",
       "      <td>0.001720</td>\n",
       "      <td>309.282560</td>\n",
       "      <td>-1.092810</td>\n",
       "      <td>23.57319</td>\n",
       "      <td>0.816531</td>\n",
       "      <td>52931.081246</td>\n",
       "      <td>22.00162</td>\n",
       "      <td>0.093162</td>\n",
       "      <td>52931.082905</td>\n",
       "      <td>20.35343</td>\n",
       "      <td>0.027503</td>\n",
       "      <td>52931.079588</td>\n",
       "      <td>19.63733</td>\n",
       "      <td>0.021812</td>\n",
       "      <td>52931.080417</td>\n",
       "      <td>19.15340</td>\n",
       "      <td>0.047794</td>\n",
       "      <td>52931.082075</td>\n",
       "    </tr>\n",
       "    <tr>\n",
       "      <th>4</th>\n",
       "      <td>8647474690312306771</td>\n",
       "      <td>8658188335908521115</td>\n",
       "      <td>0.001013</td>\n",
       "      <td>309.282567</td>\n",
       "      <td>-1.092800</td>\n",
       "      <td>23.34076</td>\n",
       "      <td>0.650637</td>\n",
       "      <td>52935.078193</td>\n",
       "      <td>21.80889</td>\n",
       "      <td>0.078719</td>\n",
       "      <td>52935.079852</td>\n",
       "      <td>20.36832</td>\n",
       "      <td>0.031579</td>\n",
       "      <td>52935.076534</td>\n",
       "      <td>19.67920</td>\n",
       "      <td>0.024837</td>\n",
       "      <td>52935.077364</td>\n",
       "      <td>19.27402</td>\n",
       "      <td>0.054844</td>\n",
       "      <td>52935.079022</td>\n",
       "    </tr>\n",
       "  </tbody>\n",
       "</table>\n",
       "</div>"
      ],
      "text/plain": [
       "                cobjid                objid  distance          ra       dec  \\\n",
       "0  8647474690312306771  8658174750926635990  0.001155  309.282577 -1.092810   \n",
       "1  8647474690312306771  8658466190224917585  0.001056  309.282565 -1.092796   \n",
       "2  8647474690312306771  8658188267453875355  0.001668  309.282555 -1.092783   \n",
       "3  8647474690312306771  8658188288660669649  0.001720  309.282560 -1.092810   \n",
       "4  8647474690312306771  8658188335908521115  0.001013  309.282567 -1.092800   \n",
       "\n",
       "   psfMag_u  psfMagErr_u         mjd_u  psfMag_g  psfMagErr_g         mjd_g  \\\n",
       "0  23.66360     1.000897  51465.134228  21.88472     0.117767  51465.135887   \n",
       "1  24.63604     1.385907  52552.171027  21.75185     0.093649  52552.172686   \n",
       "2  24.06886     1.223487  52930.080529  21.85983     0.078321  52930.082187   \n",
       "3  23.57319     0.816531  52931.081246  22.00162     0.093162  52931.082905   \n",
       "4  23.34076     0.650637  52935.078193  21.80889     0.078719  52935.079852   \n",
       "\n",
       "   psfMag_r  psfMagErr_r         mjd_r  psfMag_i  psfMagErr_i         mjd_i  \\\n",
       "0  20.27141     0.037314  51465.132570  19.62470     0.026787  51465.133399   \n",
       "1  20.31531     0.030692  52552.169369  19.60913     0.026323  52552.170198   \n",
       "2  22.47300     0.238211  52930.078870  19.70808     0.027410  52930.079699   \n",
       "3  20.35343     0.027503  52931.079588  19.63733     0.021812  52931.080417   \n",
       "4  20.36832     0.031579  52935.076534  19.67920     0.024837  52935.077364   \n",
       "\n",
       "   psfMag_z  psfMagErr_z         mjd_z  \n",
       "0  19.20947     0.075535  51465.135058  \n",
       "1  19.23982     0.061838  52552.171857  \n",
       "2  19.34076     0.058475  52930.081358  \n",
       "3  19.15340     0.047794  52931.082075  \n",
       "4  19.27402     0.054844  52935.079022  "
      ]
     },
     "execution_count": 3,
     "metadata": {},
     "output_type": "execute_result"
    }
   ],
   "source": [
    "# LSST schema apparently has one row per filter, SDSS does not.\n",
    "# Maybe we should make a version of Source similar to the LSST schema.\n",
    "\n",
    "\n",
    "sql=\"\"\"\n",
    "select s.cobjid,p.objid,distance,p.ra,p.dec\n",
    "  , p.psfMag_u, p.psfMagErr_u, f.mjd_u\n",
    "  , p.psfMag_g, p.psfMagErr_g, f.mjd_g\n",
    "  , p.psfMag_r, p.psfMagErr_r, f.mjd_r\n",
    "  , p.psfMag_i, p.psfMagErr_i, f.mjd_i\n",
    "  , p.psfMag_z, p.psfMagErr_z, f.mjd_z\n",
    "  from (select top 1 * from test.coadd order by cobjid asc) o\n",
    "    inner join test.match s\n",
    "       on s.cobjid=o.cobjid\n",
    "    inner join field f\n",
    "       on f.fieldid=s.fieldid\n",
    "    inner join PhotoobjAll p\n",
    "       on s.objId=p.objid\n",
    "order by mjd_u\n",
    "\"\"\"\n",
    "df=cj.executeQuery(sql,\"Stripe82_016\")\n",
    "df.head()"
   ]
  },
  {
   "cell_type": "code",
   "execution_count": 33,
   "metadata": {
    "collapsed": false
   },
   "outputs": [
    {
     "data": {
      "text/plain": [
       "<matplotlib.text.Text at 0x7fe58085d9e8>"
      ]
     },
     "execution_count": 33,
     "metadata": {},
     "output_type": "execute_result"
    },
    {
     "data": {
      "image/png": "[encoded data removed]",
      "text/plain": [
       "<matplotlib.figure.Figure at 0x7fe580604630>"
      ]
     },
     "metadata": {},
     "output_type": "display_data"
    }
   ],
   "source": [
    "x=\"mjd_r\"\n",
    "y=\"psfMag_r\"\n",
    "yerr=\"psfMagErr_r\"\n",
    "plt.scatter(df[x],df[y])\n",
    "plt.errorbar(df[x],df[y],yerr=df[yerr], linestyle=\"None\")#,c='red')\n",
    "plt.xlabel(x)\n",
    "plt.ylabel(y)"
   ]
  },
  {
   "cell_type": "code",
   "execution_count": 32,
   "metadata": {
    "collapsed": false
   },
   "outputs": [
    {
     "data": {
      "text/plain": [
       "<matplotlib.text.Text at 0x7fe58071f0f0>"
      ]
     },
     "execution_count": 32,
     "metadata": {},
     "output_type": "execute_result"
    },
    {
     "data": {
      "image/png": "[encoded data removed]",
      "text/plain": [
       "<matplotlib.figure.Figure at 0x7fe5806a1198>"
      ]
     },
     "metadata": {},
     "output_type": "display_data"
    }
   ],
   "source": [
    "x=\"ra\"\n",
    "y=\"dec\"\n",
    "plt.scatter(df[x],df[y])\n",
    "xlim=(np.min(df[x]),np.max(df[x]))\n",
    "ylim=(np.min(df[y]),np.max(df[y]))\n",
    "plt.xlim(xlim)\n",
    "plt.ylim(ylim)\n",
    "plt.xlabel(x)\n",
    "plt.ylabel(y)"
   ]
  },
  {
   "cell_type": "markdown",
   "metadata": {
    "collapsed": true
   },
   "source": [
    "### Select the full color image of a single (given) galaxy"
   ]
  },
  {
   "cell_type": "markdown",
   "metadata": {},
   "source": [
    "To complete this request we need to:\n",
    "\n",
    "Run a database query that selects the galaxy based on a given objectId, determines its ra, decl and size as well as corresponding exposureId. Since the epoch is not specified, the most recent one will be fetched.\n",
    "Generate image cut out through Cutout Service.\n",
    "The database query:"
   ]
  },
  {
   "cell_type": "markdown",
   "metadata": {},
   "source": [
    "```sql\n",
    "SELECT s.ra, s.decl, o.raRange, o.declRange\n",
    "FROM   Object o\n",
    "JOIN   Source s USING (objectId)\n",
    "WHERE  o.objectId = :objectId\n",
    "AND    o.latestObsTime = s.taiMidPoint\n",
    "```"
   ]
  },
  {
   "cell_type": "code",
   "execution_count": null,
   "metadata": {
    "collapsed": true
   },
   "outputs": [],
   "source": [
    "sql=\"\"\"\n",
    "\n",
    "\"\"\""
   ]
  },
  {
   "cell_type": "markdown",
   "metadata": {
    "collapsed": true
   },
   "source": [
    "### Find an object with a particular objectId"
   ]
  },
  {
   "cell_type": "markdown",
   "metadata": {},
   "source": [
    "```sql\n",
    "SELECT *\n",
    "FROM   Object\n",
    "WHERE  objectId = :objectId\n",
    "Origin: this query came from SDSS (SX-4).\n",
    "```"
   ]
  },
  {
   "cell_type": "code",
   "execution_count": null,
   "metadata": {
    "collapsed": true
   },
   "outputs": [],
   "source": []
  },
  {
   "cell_type": "markdown",
   "metadata": {
    "collapsed": true
   },
   "source": [
    "### Select variable objects near a known galaxy"
   ]
  },
  {
   "cell_type": "markdown",
   "metadata": {},
   "source": [
    "```sql\n",
    "SELECT v.objectId, v.ra, v.decl\n",
    "FROM   Object v, Object o\n",
    "WHERE  o.objectId = :objectId\n",
    "   AND spDist(v.ra, v.decl, o.ra, o.decl, :dist)\n",
    "   AND v.variability > 0.8\n",
    "   AND o.extendedParameter > 0.8\n",
    "```"
   ]
  },
  {
   "cell_type": "code",
   "execution_count": null,
   "metadata": {
    "collapsed": true
   },
   "outputs": [],
   "source": []
  },
  {
   "cell_type": "markdown",
   "metadata": {
    "collapsed": true
   },
   "source": [
    "### Give me astrometry for a given moving object"
   ]
  },
  {
   "cell_type": "raw",
   "metadata": {},
   "source": [
    "This query was suggested by the LSST Science Collaboration (Solar System)"
   ]
  },
  {
   "cell_type": "markdown",
   "metadata": {},
   "source": [
    "```sql\n",
    "SELECT diaSourceId, ra, decl\n",
    "FROM   DiaSource\n",
    "WHERE  movingObjectId = :movingObjectId\n",
    "```"
   ]
  },
  {
   "cell_type": "code",
   "execution_count": null,
   "metadata": {
    "collapsed": true
   },
   "outputs": [],
   "source": []
  }
 ],
 "metadata": {
  "kernelspec": {
   "display_name": "Python 3",
   "language": "python",
   "name": "python3"
  },
  "language_info": {
   "codemirror_mode": {
    "name": "ipython",
    "version": 3
   },
   "file_extension": ".py",
   "mimetype": "text/x-python",
   "name": "python",
   "nbconvert_exporter": "python",
   "pygments_lexer": "ipython3",
   "version": "3.5.3"
  }
 },
 "nbformat": 4,
 "nbformat_minor": 0
}
