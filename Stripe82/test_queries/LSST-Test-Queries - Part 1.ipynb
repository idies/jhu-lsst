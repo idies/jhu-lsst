{
 "cells": [
  {
   "cell_type": "markdown",
   "metadata": {},
   "source": [
    "# Porting LSST test queries to Stripe82++ : part 1\n",
    "\n",
    "Notebook with queries representing the LSST test queries, but against the Stripe82 database. The latter was extended with a 'match' and 'coadd' table following script in \n",
    "https://docs.google.com/document/d/1qFOE1s4bQUDM8W7wLzoxb2OK1LaPwzd5Lmy_GKUYut0.\n",
    "\n",
    "Queries from https://dev.lsstcorp.org/trac/wiki/db/queries\n",
    "\n",
    "Assuming schema S12_sdss from https://lsst-web.ncsa.illinois.edu/schema/index.php?sVer=S12_sdss\n",
    "\n",
    "Ths notebook is in http://github.com/jhu-lsst/Stripe82/test_queries/LSST-Test-Queries.ipynb"
   ]
  },
  {
   "cell_type": "code",
   "execution_count": 1,
   "metadata": {
    "collapsed": true
   },
   "outputs": [],
   "source": [
    "import pandas\n",
    "import matplotlib.pyplot as plt\n",
    "import numpy as np\n",
    "import skimage.io                   # image processing library\n",
    "\n",
    "\n",
    "import SciServer.CasJobs as cj\n",
    "import SciServer.SkyServer as skyS"
   ]
  },
  {
   "cell_type": "code",
   "execution_count": 2,
   "metadata": {
    "collapsed": true
   },
   "outputs": [],
   "source": [
    "# define some variable to be used in query execution\n",
    "TARGET_CONTEXT=\"Stripe82_016\"\n"
   ]
  },
  {
   "cell_type": "code",
   "execution_count": 8,
   "metadata": {
    "collapsed": false
   },
   "outputs": [
    {
     "data": {
      "text/html": [
       "<div>\n",
       "<style>\n",
       "    .dataframe thead tr:only-child th {\n",
       "        text-align: right;\n",
       "    }\n",
       "\n",
       "    .dataframe thead th {\n",
       "        text-align: left;\n",
       "    }\n",
       "\n",
       "    .dataframe tbody tr th {\n",
       "        vertical-align: top;\n",
       "    }\n",
       "</style>\n",
       "<table border=\"1\" class=\"dataframe\">\n",
       "  <thead>\n",
       "    <tr style=\"text-align: right;\">\n",
       "      <th></th>\n",
       "      <th>objId</th>\n",
       "      <th>ra</th>\n",
       "      <th>dec</th>\n",
       "      <th>petror90_r</th>\n",
       "    </tr>\n",
       "  </thead>\n",
       "  <tbody>\n",
       "    <tr>\n",
       "      <th>0</th>\n",
       "      <td>8647474690330001465</td>\n",
       "      <td>349.724235</td>\n",
       "      <td>-1.060240</td>\n",
       "      <td>23.09696</td>\n",
       "    </tr>\n",
       "    <tr>\n",
       "      <th>1</th>\n",
       "      <td>8647474690346647696</td>\n",
       "      <td>27.805763</td>\n",
       "      <td>-1.060708</td>\n",
       "      <td>11.91580</td>\n",
       "    </tr>\n",
       "    <tr>\n",
       "      <th>2</th>\n",
       "      <td>8647474690885943524</td>\n",
       "      <td>33.409822</td>\n",
       "      <td>-0.717293</td>\n",
       "      <td>24.46484</td>\n",
       "    </tr>\n",
       "    <tr>\n",
       "      <th>3</th>\n",
       "      <td>8647474690344288276</td>\n",
       "      <td>22.360746</td>\n",
       "      <td>-1.199770</td>\n",
       "      <td>14.98176</td>\n",
       "    </tr>\n",
       "    <tr>\n",
       "      <th>4</th>\n",
       "      <td>8647474690344288366</td>\n",
       "      <td>22.433274</td>\n",
       "      <td>-1.241417</td>\n",
       "      <td>21.70089</td>\n",
       "    </tr>\n",
       "    <tr>\n",
       "      <th>5</th>\n",
       "      <td>8647474690344091714</td>\n",
       "      <td>21.929203</td>\n",
       "      <td>-1.139579</td>\n",
       "      <td>19.55241</td>\n",
       "    </tr>\n",
       "    <tr>\n",
       "      <th>6</th>\n",
       "      <td>8647474690341535789</td>\n",
       "      <td>16.069998</td>\n",
       "      <td>-1.074973</td>\n",
       "      <td>12.38839</td>\n",
       "    </tr>\n",
       "    <tr>\n",
       "      <th>7</th>\n",
       "      <td>8647474690340094169</td>\n",
       "      <td>12.875283</td>\n",
       "      <td>-1.253097</td>\n",
       "      <td>16.75119</td>\n",
       "    </tr>\n",
       "    <tr>\n",
       "      <th>8</th>\n",
       "      <td>8647474690337210627</td>\n",
       "      <td>6.313045</td>\n",
       "      <td>-1.111743</td>\n",
       "      <td>17.18873</td>\n",
       "    </tr>\n",
       "    <tr>\n",
       "      <th>9</th>\n",
       "      <td>8647474691427205227</td>\n",
       "      <td>43.365252</td>\n",
       "      <td>-0.232934</td>\n",
       "      <td>35.34655</td>\n",
       "    </tr>\n",
       "    <tr>\n",
       "      <th>10</th>\n",
       "      <td>8647474690354577509</td>\n",
       "      <td>45.921578</td>\n",
       "      <td>-1.073540</td>\n",
       "      <td>15.82143</td>\n",
       "    </tr>\n",
       "    <tr>\n",
       "      <th>11</th>\n",
       "      <td>8647474690878406715</td>\n",
       "      <td>16.070678</td>\n",
       "      <td>-0.764911</td>\n",
       "      <td>30.67080</td>\n",
       "    </tr>\n",
       "    <tr>\n",
       "      <th>12</th>\n",
       "      <td>8647474690351431751</td>\n",
       "      <td>38.672722</td>\n",
       "      <td>-1.238498</td>\n",
       "      <td>12.65033</td>\n",
       "    </tr>\n",
       "    <tr>\n",
       "      <th>13</th>\n",
       "      <td>8647474691967483948</td>\n",
       "      <td>51.094211</td>\n",
       "      <td>0.113554</td>\n",
       "      <td>22.34753</td>\n",
       "    </tr>\n",
       "    <tr>\n",
       "      <th>14</th>\n",
       "      <td>8647474690340618618</td>\n",
       "      <td>14.095148</td>\n",
       "      <td>-1.209754</td>\n",
       "      <td>13.53837</td>\n",
       "    </tr>\n",
       "    <tr>\n",
       "      <th>15</th>\n",
       "      <td>8647474690879193187</td>\n",
       "      <td>17.943963</td>\n",
       "      <td>-0.664322</td>\n",
       "      <td>10.30834</td>\n",
       "    </tr>\n",
       "  </tbody>\n",
       "</table>\n",
       "</div>"
      ],
      "text/plain": [
       "                  objId          ra       dec  petror90_r\n",
       "0   8647474690330001465  349.724235 -1.060240    23.09696\n",
       "1   8647474690346647696   27.805763 -1.060708    11.91580\n",
       "2   8647474690885943524   33.409822 -0.717293    24.46484\n",
       "3   8647474690344288276   22.360746 -1.199770    14.98176\n",
       "4   8647474690344288366   22.433274 -1.241417    21.70089\n",
       "5   8647474690344091714   21.929203 -1.139579    19.55241\n",
       "6   8647474690341535789   16.069998 -1.074973    12.38839\n",
       "7   8647474690340094169   12.875283 -1.253097    16.75119\n",
       "8   8647474690337210627    6.313045 -1.111743    17.18873\n",
       "9   8647474691427205227   43.365252 -0.232934    35.34655\n",
       "10  8647474690354577509   45.921578 -1.073540    15.82143\n",
       "11  8647474690878406715   16.070678 -0.764911    30.67080\n",
       "12  8647474690351431751   38.672722 -1.238498    12.65033\n",
       "13  8647474691967483948   51.094211  0.113554    22.34753\n",
       "14  8647474690340618618   14.095148 -1.209754    13.53837\n",
       "15  8647474690879193187   17.943963 -0.664322    10.30834"
      ]
     },
     "execution_count": 8,
     "metadata": {},
     "output_type": "execute_result"
    }
   ],
   "source": [
    "# SLOW\n",
    "sql=\"\"\"\n",
    "SELECT TOP 16 p.objId,p.ra,p.dec,p.petror90_r\n",
    "  FROM test.coadd as c\n",
    "  inner join photoobjall AS p\n",
    "  on c.cobjid=p.objid\n",
    "  and p.type=3\n",
    "  and p.u BETWEEN 0 AND 19.6\n",
    "  AND p.g BETWEEN 0 AND 17\n",
    "  AND p.petror90_r > 10\n",
    "\"\"\"\n",
    "df=cj.executeQuery(sql,TARGET_CONTEXT)\n",
    "#g=pandas.read_csv(gals)\n",
    "df"
   ]
  },
  {
   "cell_type": "code",
   "execution_count": 9,
   "metadata": {
    "collapsed": true
   },
   "outputs": [],
   "source": [
    "OBJECT_ID=8647474690330001465"
   ]
  },
  {
   "cell_type": "markdown",
   "metadata": {},
   "source": [
    "### <a href=\"https://dev.lsstcorp.org/trac/wiki/db/queries/001\" target=\"_blank\">Extract light curve for a given object (time, magnitude and/or position) </a>\n",
    "\n",
    "https://dev.lsstcorp.org/trac/wiki/db/queries/001\n",
    "\n",
    "QSERV\n",
    "```sql\n",
    "SELECT taiMidPoint, psfFlux, psfFluxSigma, ra, decl\n",
    "FROM   Source\n",
    "JOIN   Filter USING (filterId)\n",
    "WHERE  objectId = :objectId\n",
    "   AND filterName = :filterName\n",
    "```"
   ]
  },
  {
   "cell_type": "code",
   "execution_count": 10,
   "metadata": {
    "collapsed": false
   },
   "outputs": [
    {
     "data": {
      "text/html": [
       "<div>\n",
       "<style>\n",
       "    .dataframe thead tr:only-child th {\n",
       "        text-align: right;\n",
       "    }\n",
       "\n",
       "    .dataframe thead th {\n",
       "        text-align: left;\n",
       "    }\n",
       "\n",
       "    .dataframe tbody tr th {\n",
       "        vertical-align: top;\n",
       "    }\n",
       "</style>\n",
       "<table border=\"1\" class=\"dataframe\">\n",
       "  <thead>\n",
       "    <tr style=\"text-align: right;\">\n",
       "      <th></th>\n",
       "      <th>cobjid</th>\n",
       "      <th>objid</th>\n",
       "      <th>distance</th>\n",
       "      <th>ra</th>\n",
       "      <th>dec</th>\n",
       "      <th>psfMag_u</th>\n",
       "      <th>psfMagErr_u</th>\n",
       "      <th>mjd_u</th>\n",
       "      <th>psfMag_g</th>\n",
       "      <th>psfMagErr_g</th>\n",
       "      <th>mjd_g</th>\n",
       "      <th>psfMag_r</th>\n",
       "      <th>psfMagErr_r</th>\n",
       "      <th>mjd_r</th>\n",
       "      <th>psfMag_i</th>\n",
       "      <th>psfMagErr_i</th>\n",
       "      <th>mjd_i</th>\n",
       "      <th>psfMag_z</th>\n",
       "      <th>psfMagErr_z</th>\n",
       "      <th>mjd_z</th>\n",
       "    </tr>\n",
       "  </thead>\n",
       "  <tbody>\n",
       "    <tr>\n",
       "      <th>0</th>\n",
       "      <td>8647474690330001465</td>\n",
       "      <td>8658466039902175332</td>\n",
       "      <td>0.000311</td>\n",
       "      <td>349.724239</td>\n",
       "      <td>-1.060243</td>\n",
       "      <td>18.41260</td>\n",
       "      <td>0.022433</td>\n",
       "      <td>52522.287480</td>\n",
       "      <td>16.47759</td>\n",
       "      <td>0.014918</td>\n",
       "      <td>52522.289138</td>\n",
       "      <td>15.72243</td>\n",
       "      <td>0.013041</td>\n",
       "      <td>52522.285821</td>\n",
       "      <td>15.15400</td>\n",
       "      <td>0.013235</td>\n",
       "      <td>52522.286650</td>\n",
       "      <td>14.75574</td>\n",
       "      <td>0.017625</td>\n",
       "      <td>52522.288309</td>\n",
       "    </tr>\n",
       "    <tr>\n",
       "      <th>1</th>\n",
       "      <td>8647474690330001465</td>\n",
       "      <td>8658466190242611309</td>\n",
       "      <td>0.001378</td>\n",
       "      <td>349.724222</td>\n",
       "      <td>-1.060259</td>\n",
       "      <td>18.40801</td>\n",
       "      <td>0.021843</td>\n",
       "      <td>52552.282979</td>\n",
       "      <td>16.65211</td>\n",
       "      <td>0.014700</td>\n",
       "      <td>52552.284638</td>\n",
       "      <td>15.62957</td>\n",
       "      <td>0.015708</td>\n",
       "      <td>52552.281321</td>\n",
       "      <td>15.30032</td>\n",
       "      <td>0.016148</td>\n",
       "      <td>52552.282150</td>\n",
       "      <td>14.88935</td>\n",
       "      <td>0.019307</td>\n",
       "      <td>52552.283808</td>\n",
       "    </tr>\n",
       "    <tr>\n",
       "      <th>2</th>\n",
       "      <td>8647474690330001465</td>\n",
       "      <td>8658184835522297899</td>\n",
       "      <td>0.000985</td>\n",
       "      <td>349.724228</td>\n",
       "      <td>-1.060255</td>\n",
       "      <td>18.47959</td>\n",
       "      <td>0.021842</td>\n",
       "      <td>52558.291688</td>\n",
       "      <td>16.52384</td>\n",
       "      <td>0.026021</td>\n",
       "      <td>52558.293346</td>\n",
       "      <td>15.80437</td>\n",
       "      <td>0.021307</td>\n",
       "      <td>52558.290029</td>\n",
       "      <td>15.34419</td>\n",
       "      <td>0.014687</td>\n",
       "      <td>52558.290859</td>\n",
       "      <td>14.86849</td>\n",
       "      <td>0.016133</td>\n",
       "      <td>52558.292517</td>\n",
       "    </tr>\n",
       "    <tr>\n",
       "      <th>3</th>\n",
       "      <td>8647474690330001465</td>\n",
       "      <td>8658185033092956243</td>\n",
       "      <td>0.001085</td>\n",
       "      <td>349.724231</td>\n",
       "      <td>-1.060258</td>\n",
       "      <td>18.30349</td>\n",
       "      <td>0.019503</td>\n",
       "      <td>52577.179048</td>\n",
       "      <td>16.43655</td>\n",
       "      <td>0.014850</td>\n",
       "      <td>52577.180707</td>\n",
       "      <td>15.54165</td>\n",
       "      <td>0.013923</td>\n",
       "      <td>52577.177389</td>\n",
       "      <td>15.13418</td>\n",
       "      <td>0.015636</td>\n",
       "      <td>52577.178219</td>\n",
       "      <td>14.79658</td>\n",
       "      <td>0.013272</td>\n",
       "      <td>52577.179877</td>\n",
       "    </tr>\n",
       "    <tr>\n",
       "      <th>4</th>\n",
       "      <td>8647474690330001465</td>\n",
       "      <td>8658185166229078036</td>\n",
       "      <td>0.001689</td>\n",
       "      <td>349.724224</td>\n",
       "      <td>-1.060266</td>\n",
       "      <td>18.36794</td>\n",
       "      <td>0.020366</td>\n",
       "      <td>52586.182742</td>\n",
       "      <td>16.63336</td>\n",
       "      <td>0.020180</td>\n",
       "      <td>52586.184401</td>\n",
       "      <td>15.76468</td>\n",
       "      <td>0.014221</td>\n",
       "      <td>52586.181083</td>\n",
       "      <td>15.25009</td>\n",
       "      <td>0.015351</td>\n",
       "      <td>52586.181913</td>\n",
       "      <td>14.88255</td>\n",
       "      <td>0.015196</td>\n",
       "      <td>52586.183571</td>\n",
       "    </tr>\n",
       "  </tbody>\n",
       "</table>\n",
       "</div>"
      ],
      "text/plain": [
       "                cobjid                objid  distance          ra       dec  \\\n",
       "0  8647474690330001465  8658466039902175332  0.000311  349.724239 -1.060243   \n",
       "1  8647474690330001465  8658466190242611309  0.001378  349.724222 -1.060259   \n",
       "2  8647474690330001465  8658184835522297899  0.000985  349.724228 -1.060255   \n",
       "3  8647474690330001465  8658185033092956243  0.001085  349.724231 -1.060258   \n",
       "4  8647474690330001465  8658185166229078036  0.001689  349.724224 -1.060266   \n",
       "\n",
       "   psfMag_u  psfMagErr_u         mjd_u  psfMag_g  psfMagErr_g         mjd_g  \\\n",
       "0  18.41260     0.022433  52522.287480  16.47759     0.014918  52522.289138   \n",
       "1  18.40801     0.021843  52552.282979  16.65211     0.014700  52552.284638   \n",
       "2  18.47959     0.021842  52558.291688  16.52384     0.026021  52558.293346   \n",
       "3  18.30349     0.019503  52577.179048  16.43655     0.014850  52577.180707   \n",
       "4  18.36794     0.020366  52586.182742  16.63336     0.020180  52586.184401   \n",
       "\n",
       "   psfMag_r  psfMagErr_r         mjd_r  psfMag_i  psfMagErr_i         mjd_i  \\\n",
       "0  15.72243     0.013041  52522.285821  15.15400     0.013235  52522.286650   \n",
       "1  15.62957     0.015708  52552.281321  15.30032     0.016148  52552.282150   \n",
       "2  15.80437     0.021307  52558.290029  15.34419     0.014687  52558.290859   \n",
       "3  15.54165     0.013923  52577.177389  15.13418     0.015636  52577.178219   \n",
       "4  15.76468     0.014221  52586.181083  15.25009     0.015351  52586.181913   \n",
       "\n",
       "   psfMag_z  psfMagErr_z         mjd_z  \n",
       "0  14.75574     0.017625  52522.288309  \n",
       "1  14.88935     0.019307  52552.283808  \n",
       "2  14.86849     0.016133  52558.292517  \n",
       "3  14.79658     0.013272  52577.179877  \n",
       "4  14.88255     0.015196  52586.183571  "
      ]
     },
     "execution_count": 10,
     "metadata": {},
     "output_type": "execute_result"
    }
   ],
   "source": [
    "# LSST schema apparently has one row per filter, SDSS does not.\n",
    "# Maybe we should make a version of Source similar to the LSST schema.\n",
    "\n",
    "sql=\"\"\"\n",
    "select s.cobjid,p.objid,distance,p.ra,p.dec\n",
    "  , p.psfMag_u, p.psfMagErr_u, f.mjd_u\n",
    "  , p.psfMag_g, p.psfMagErr_g, f.mjd_g\n",
    "  , p.psfMag_r, p.psfMagErr_r, f.mjd_r\n",
    "  , p.psfMag_i, p.psfMagErr_i, f.mjd_i\n",
    "  , p.psfMag_z, p.psfMagErr_z, f.mjd_z\n",
    "  from test.coadd o\n",
    "    inner join test.match s\n",
    "       on s.cobjid=o.cobjid\n",
    "    inner join field f\n",
    "       on f.fieldid=s.fieldid\n",
    "    inner join PhotoobjAll p\n",
    "       on s.objId=p.objid\n",
    " where o.cobjId=%d\n",
    "order by mjd_u\n",
    "\"\"\" % OBJECT_ID\n",
    "df=cj.executeQuery(sql,TARGET_CONTEXT)\n",
    "df.head()"
   ]
  },
  {
   "cell_type": "code",
   "execution_count": 11,
   "metadata": {
    "collapsed": false
   },
   "outputs": [
    {
     "data": {
      "text/plain": [
       "<matplotlib.text.Text at 0x7f8a25e05f98>"
      ]
     },
     "execution_count": 11,
     "metadata": {},
     "output_type": "execute_result"
    },
    {
     "data": {
      "image/png": "[encoded data removed]",
      "text/plain": [
       "<matplotlib.figure.Figure at 0x7f8a3426fe10>"
      ]
     },
     "metadata": {},
     "output_type": "display_data"
    }
   ],
   "source": [
    "x=\"mjd_u\"\n",
    "y=\"psfMag_u\"\n",
    "yerr=\"psfMagErr_u\"\n",
    "plt.scatter(df[x],df[y])\n",
    "plt.errorbar(df[x],df[y],yerr=df[yerr], linestyle=\"None\")\n",
    "plt.xlabel(x)\n",
    "plt.ylabel(y)"
   ]
  },
  {
   "cell_type": "code",
   "execution_count": 12,
   "metadata": {
    "collapsed": false
   },
   "outputs": [
    {
     "data": {
      "text/plain": [
       "<matplotlib.text.Text at 0x7f8a25d60550>"
      ]
     },
     "execution_count": 12,
     "metadata": {},
     "output_type": "execute_result"
    },
    {
     "data": {
      "image/png": "[encoded data removed]",
      "text/plain": [
       "<matplotlib.figure.Figure at 0x7f8a25d442e8>"
      ]
     },
     "metadata": {},
     "output_type": "display_data"
    }
   ],
   "source": [
    "x=\"ra\"\n",
    "y=\"dec\"\n",
    "plt.scatter(df[x],df[y])\n",
    "xlim=(np.min(df[x]),np.max(df[x]))\n",
    "ylim=(np.min(df[y]),np.max(df[y]))\n",
    "plt.xlim(xlim)\n",
    "plt.ylim(ylim)\n",
    "plt.xlabel(x)\n",
    "plt.ylabel(y)"
   ]
  },
  {
   "cell_type": "markdown",
   "metadata": {
    "collapsed": true
   },
   "source": [
    "### Select the full color image of a single (given) galaxy\n",
    "\n",
    "QSERV\n",
    "\n",
    "To complete this request we need to run a database query that selects the galaxy based on a given objectId, determines its ra, decl and size as well as corresponding exposureId. Since the epoch is not specified, the most recent one will be fetched.\n",
    "Generate image cut out through Cutout Service.\n",
    "The database query:\n",
    "\n",
    "```sql\n",
    "SELECT s.ra, s.decl, o.raRange, o.declRange\n",
    "FROM   Object o\n",
    "JOIN   Source s USING (objectId)\n",
    "WHERE  o.objectId = :objectId\n",
    "AND    o.latestObsTime = s.taiMidPoint\n",
    "```"
   ]
  },
  {
   "cell_type": "code",
   "execution_count": 13,
   "metadata": {
    "collapsed": true
   },
   "outputs": [],
   "source": [
    "# we will do this using the cutout service url that is provided and connect to skyserver to get it.\n",
    "sql=\"\"\"\n",
    "select ra,dec,petror90_r\n",
    "  from photoobjall\n",
    " where objid= %s\n",
    "\"\"\" % OBJECT_ID\n",
    "df= cj.executeQuery(sql,TARGET_CONTEXT)"
   ]
  },
  {
   "cell_type": "code",
   "execution_count": 14,
   "metadata": {
    "collapsed": false
   },
   "outputs": [
    {
     "data": {
      "text/plain": [
       "<matplotlib.image.AxesImage at 0x7f8a25c5b278>"
      ]
     },
     "execution_count": 14,
     "metadata": {},
     "output_type": "execute_result"
    },
    {
     "data": {
      "image/png": "[encoded data removed]",
      "text/plain": [
       "<matplotlib.figure.Figure at 0x7f8a3426f630>"
      ]
     },
     "metadata": {},
     "output_type": "display_data"
    }
   ],
   "source": [
    "width=200\n",
    "height=200\n",
    "pixelsize=0.396\n",
    "\n",
    "ra=df['ra'][0]\n",
    "dec= df['dec'][0]\n",
    "petror90_r=df['petror90_r'][0]\n",
    "\n",
    "# the 'scale' parameter is set so that the image will be about 2x the size of the galaxy\n",
    "scale=2*petror90_r/pixelsize/width\n",
    "if False:\n",
    "    img=skyS.getJpegImgCutout(ra,dec, scale=scale, width=width, height=height, opt=\"\", query=\"\", dataRelease='DR13')\n",
    "else:\n",
    "    url=\"http://skyservice.pha.jhu.edu/Stripe82/ImgCutout/getjpeg.aspx?ra=\"+str(ra)\n",
    "    url+=\"&dec=\"+str(dec)+\"&scale=\"\"\"+str(scale)+\"&width=\"+str(width)\n",
    "    url+=\"&height=\"+str(height)\n",
    "    img=skimage.io.imread(url)\n",
    "plt.imshow(img)"
   ]
  },
  {
   "cell_type": "markdown",
   "metadata": {
    "collapsed": true
   },
   "source": [
    "### Find an object with a particular objectId\n",
    "\n",
    "QSERV\n",
    "```sql\n",
    "SELECT *\n",
    "FROM   Object\n",
    "WHERE  objectId = :objectId\n",
    "```\n",
    "Origin: this query came from SDSS (SX-4).\n"
   ]
  },
  {
   "cell_type": "code",
   "execution_count": 15,
   "metadata": {
    "collapsed": false
   },
   "outputs": [
    {
     "data": {
      "text/html": [
       "<div>\n",
       "<style>\n",
       "    .dataframe thead tr:only-child th {\n",
       "        text-align: right;\n",
       "    }\n",
       "\n",
       "    .dataframe thead th {\n",
       "        text-align: left;\n",
       "    }\n",
       "\n",
       "    .dataframe tbody tr th {\n",
       "        vertical-align: top;\n",
       "    }\n",
       "</style>\n",
       "<table border=\"1\" class=\"dataframe\">\n",
       "  <thead>\n",
       "    <tr style=\"text-align: right;\">\n",
       "      <th></th>\n",
       "      <th>cobjid</th>\n",
       "      <th>type</th>\n",
       "      <th>ra</th>\n",
       "      <th>dec</th>\n",
       "      <th>cx</th>\n",
       "      <th>cy</th>\n",
       "      <th>cz</th>\n",
       "      <th>u</th>\n",
       "      <th>g</th>\n",
       "      <th>r</th>\n",
       "      <th>i</th>\n",
       "      <th>z</th>\n",
       "      <th>c</th>\n",
       "      <th>psfMag_u</th>\n",
       "      <th>psfMag_g</th>\n",
       "      <th>psfMag_r</th>\n",
       "      <th>psfMag_i</th>\n",
       "      <th>psfMag_z</th>\n",
       "    </tr>\n",
       "  </thead>\n",
       "  <tbody>\n",
       "    <tr>\n",
       "      <th>0</th>\n",
       "      <td>8647474690330001465</td>\n",
       "      <td>3</td>\n",
       "      <td>-10.275765</td>\n",
       "      <td>-1.06024</td>\n",
       "      <td>0.983792</td>\n",
       "      <td>-0.178356</td>\n",
       "      <td>-0.018504</td>\n",
       "      <td>18.38881</td>\n",
       "      <td>16.54506</td>\n",
       "      <td>15.78646</td>\n",
       "      <td>15.35675</td>\n",
       "      <td>14.90072</td>\n",
       "      <td>2.614587</td>\n",
       "      <td>0.003548</td>\n",
       "      <td>0.00057</td>\n",
       "      <td>0.000393</td>\n",
       "      <td>0.000364</td>\n",
       "      <td>0.000647</td>\n",
       "    </tr>\n",
       "  </tbody>\n",
       "</table>\n",
       "</div>"
      ],
      "text/plain": [
       "                cobjid  type         ra      dec        cx        cy  \\\n",
       "0  8647474690330001465     3 -10.275765 -1.06024  0.983792 -0.178356   \n",
       "\n",
       "         cz         u         g         r         i         z         c  \\\n",
       "0 -0.018504  18.38881  16.54506  15.78646  15.35675  14.90072  2.614587   \n",
       "\n",
       "   psfMag_u  psfMag_g  psfMag_r  psfMag_i  psfMag_z  \n",
       "0  0.003548   0.00057  0.000393  0.000364  0.000647  "
      ]
     },
     "execution_count": 15,
     "metadata": {},
     "output_type": "execute_result"
    }
   ],
   "source": [
    "\n",
    "sql=\"\"\"\n",
    "select * from test.coadd\n",
    "where cobjId=%d\"\"\" % OBJECT_ID\n",
    "df=cj.executeQuery(sql,TARGET_CONTEXT)\n",
    "df"
   ]
  },
  {
   "cell_type": "markdown",
   "metadata": {
    "collapsed": true
   },
   "source": [
    "### Select variable objects near a known galaxy\n",
    "\n",
    "QSERV\n",
    "```sql\n",
    "SELECT v.objectId, v.ra, v.decl\n",
    "FROM   Object v, Object o\n",
    "WHERE  o.objectId = :objectId\n",
    "   AND spDist(v.ra, v.decl, o.ra, o.decl, :dist)\n",
    "   AND v.variability > 0.8\n",
    "   AND o.extendedParameter > 0.8\n",
    "```"
   ]
  },
  {
   "cell_type": "code",
   "execution_count": null,
   "metadata": {
    "collapsed": true
   },
   "outputs": [],
   "source": [
    "# Q: how are 'variabe objects' defined?\n",
    "# Can we do this for our coadd/match tables?\n"
   ]
  },
  {
   "cell_type": "markdown",
   "metadata": {
    "collapsed": true
   },
   "source": [
    "### Give me astrometry for a given moving object\n",
    "\n",
    "This query was suggested by the LSST Science Collaboration (Solar System)\n",
    "\n",
    "QSERV\n",
    "```sql\n",
    "SELECT diaSourceId, ra, decl\n",
    "FROM   DiaSource\n",
    "WHERE  movingObjectId = :movingObjectId\n",
    "```"
   ]
  },
  {
   "cell_type": "code",
   "execution_count": null,
   "metadata": {
    "collapsed": true
   },
   "outputs": [],
   "source": [
    "# Q: how are 'moving objects' defined?\n",
    "# Can we do this for our coadd/match tables?\n"
   ]
  },
  {
   "cell_type": "markdown",
   "metadata": {},
   "source": [
    "### tbd"
   ]
  },
  {
   "cell_type": "code",
   "execution_count": null,
   "metadata": {
    "collapsed": true
   },
   "outputs": [],
   "source": []
  }
 ],
 "metadata": {
  "kernelspec": {
   "display_name": "Python 3",
   "language": "python",
   "name": "python3"
  },
  "language_info": {
   "codemirror_mode": {
    "name": "ipython",
    "version": 3
   },
   "file_extension": ".py",
   "mimetype": "text/x-python",
   "name": "python",
   "nbconvert_exporter": "python",
   "pygments_lexer": "ipython3",
   "version": "3.5.3"
  }
 },
 "nbformat": 4,
 "nbformat_minor": 0
}
