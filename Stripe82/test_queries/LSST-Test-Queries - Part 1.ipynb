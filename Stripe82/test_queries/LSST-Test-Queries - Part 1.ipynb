{
 "cells": [
  {
   "cell_type": "markdown",
   "metadata": {},
   "source": [
    "# Porting LSST test queries to Stripe82++ : part 1\n",
    "\n",
    "Notebook with queries representing the LSST test queries, but against the Stripe82 database. The latter was extended with a 'match' and 'coadd' table following script in \n",
    "https://docs.google.com/document/d/1qFOE1s4bQUDM8W7wLzoxb2OK1LaPwzd5Lmy_GKUYut0.\n",
    "\n",
    "Queries from https://dev.lsstcorp.org/trac/wiki/db/queries, first batch:\n",
    "* Extract light curve for a given object (time, magnitude and/or position) \n",
    "* Select the full color image of a single (given) galaxy \n",
    "* Find an object with a particular objectId \n",
    "* Select variable objects near a known galaxy \n",
    "* Give me astrometry for a given moving object \n",
    "\n",
    "Assuming schema S12_sdss from https://lsst-web.ncsa.illinois.edu/schema/index.php?sVer=S12_sdss\n",
    "\n",
    "Ths notebook is in https://github.com/idies/jhu-lsst/blob/master/Stripe82/test_queries/LSST-Test-Queries%20-%20Part%201.ipynb"
   ]
  },
  {
   "cell_type": "code",
   "execution_count": 2,
   "metadata": {
    "collapsed": true
   },
   "outputs": [],
   "source": [
    "import pandas\n",
    "import matplotlib.pyplot as plt\n",
    "import numpy as np\n",
    "import skimage.io                   # image processing library"
   ]
  },
  {
   "cell_type": "code",
   "execution_count": 3,
   "metadata": {
    "collapsed": true
   },
   "outputs": [],
   "source": [
    "import SciServer.CasJobs as cj"
   ]
  },
  {
   "cell_type": "code",
   "execution_count": 4,
   "metadata": {
    "collapsed": true
   },
   "outputs": [],
   "source": [
    "import SciServer.SkyServer as skyS"
   ]
  },
  {
   "cell_type": "code",
   "execution_count": 5,
   "metadata": {
    "collapsed": true
   },
   "outputs": [],
   "source": [
    "# define some variable to be used in query execution\n",
    "\n",
    "TARGET_CONTEXT=\"Stripe82_016\""
   ]
  },
  {
   "cell_type": "code",
   "execution_count": 30,
   "metadata": {
    "collapsed": false
   },
   "outputs": [
    {
     "data": {
      "text/html": [
       "<div>\n",
       "<style>\n",
       "    .dataframe thead tr:only-child th {\n",
       "        text-align: right;\n",
       "    }\n",
       "\n",
       "    .dataframe thead th {\n",
       "        text-align: left;\n",
       "    }\n",
       "\n",
       "    .dataframe tbody tr th {\n",
       "        vertical-align: top;\n",
       "    }\n",
       "</style>\n",
       "<table border=\"1\" class=\"dataframe\">\n",
       "  <thead>\n",
       "    <tr style=\"text-align: right;\">\n",
       "      <th></th>\n",
       "      <th>objId</th>\n",
       "      <th>ra</th>\n",
       "      <th>dec</th>\n",
       "      <th>petror90_r</th>\n",
       "    </tr>\n",
       "  </thead>\n",
       "  <tbody>\n",
       "    <tr>\n",
       "      <th>0</th>\n",
       "      <td>8647474690327707860</td>\n",
       "      <td>-15.410634</td>\n",
       "      <td>-1.183950</td>\n",
       "      <td>14.83797</td>\n",
       "    </tr>\n",
       "    <tr>\n",
       "      <th>1</th>\n",
       "      <td>8647474690330001465</td>\n",
       "      <td>-10.275765</td>\n",
       "      <td>-1.060240</td>\n",
       "      <td>23.09696</td>\n",
       "    </tr>\n",
       "    <tr>\n",
       "      <th>2</th>\n",
       "      <td>8647474690340618618</td>\n",
       "      <td>14.095148</td>\n",
       "      <td>-1.209754</td>\n",
       "      <td>13.53837</td>\n",
       "    </tr>\n",
       "  </tbody>\n",
       "</table>\n",
       "</div>"
      ],
      "text/plain": [
       "                 objId         ra       dec  petror90_r\n",
       "0  8647474690327707860 -15.410634 -1.183950    14.83797\n",
       "1  8647474690330001465 -10.275765 -1.060240    23.09696\n",
       "2  8647474690340618618  14.095148 -1.209754    13.53837"
      ]
     },
     "execution_count": 30,
     "metadata": {},
     "output_type": "execute_result"
    }
   ],
   "source": [
    "# SLOW\n",
    "# We should add more columns to coadd\n",
    "sql=\"\"\"\n",
    "SELECT TOP 16 p.objId,c.ra,c.dec,p.petror90_r\n",
    "  FROM test.coadd as c\n",
    "  inner join photoobjall AS p\n",
    "  on c.cobjid=p.objid\n",
    "  and c.type=3\n",
    "  and c.u BETWEEN 0 AND 19.6\n",
    "  AND c.g BETWEEN 0 AND 17\n",
    "  AND p.petror90_r > 10\n",
    "\"\"\"\n",
    "df=cj.executeQuery(sql,TARGET_CONTEXT)\n",
    "df.head(3)"
   ]
  },
  {
   "cell_type": "code",
   "execution_count": 31,
   "metadata": {
    "collapsed": true
   },
   "outputs": [],
   "source": [
    "OBJECT_ID=df['objId'][1]"
   ]
  },
  {
   "cell_type": "markdown",
   "metadata": {},
   "source": [
    "### <a href=\"https://dev.lsstcorp.org/trac/wiki/db/queries/001\" target=\"_blank\">Extract light curve for a given object (time, magnitude and/or position) </a>\n",
    "\n",
    "https://dev.lsstcorp.org/trac/wiki/db/queries/001\n",
    "\n",
    "QSERV\n",
    "```sql\n",
    "SELECT taiMidPoint, psfFlux, psfFluxSigma, ra, decl\n",
    "FROM   Source\n",
    "JOIN   Filter USING (filterId)\n",
    "WHERE  objectId = :objectId\n",
    "   AND filterName = :filterName\n",
    "```"
   ]
  },
  {
   "cell_type": "code",
   "execution_count": 22,
   "metadata": {
    "collapsed": false
   },
   "outputs": [
    {
     "data": {
      "text/html": [
       "<div>\n",
       "<style>\n",
       "    .dataframe thead tr:only-child th {\n",
       "        text-align: right;\n",
       "    }\n",
       "\n",
       "    .dataframe thead th {\n",
       "        text-align: left;\n",
       "    }\n",
       "\n",
       "    .dataframe tbody tr th {\n",
       "        vertical-align: top;\n",
       "    }\n",
       "</style>\n",
       "<table border=\"1\" class=\"dataframe\">\n",
       "  <thead>\n",
       "    <tr style=\"text-align: right;\">\n",
       "      <th></th>\n",
       "      <th>cobjid</th>\n",
       "      <th>objid</th>\n",
       "      <th>distance</th>\n",
       "      <th>ra</th>\n",
       "      <th>dec</th>\n",
       "      <th>psfMag_u</th>\n",
       "      <th>psfMagErr_u</th>\n",
       "      <th>mjd_u</th>\n",
       "      <th>petroMag_u</th>\n",
       "      <th>petroMagErr_u</th>\n",
       "      <th>...</th>\n",
       "      <th>mjd_g</th>\n",
       "      <th>psfMag_r</th>\n",
       "      <th>psfMagErr_r</th>\n",
       "      <th>mjd_r</th>\n",
       "      <th>psfMag_i</th>\n",
       "      <th>psfMagErr_i</th>\n",
       "      <th>mjd_i</th>\n",
       "      <th>psfMag_z</th>\n",
       "      <th>psfMagErr_z</th>\n",
       "      <th>mjd_z</th>\n",
       "    </tr>\n",
       "  </thead>\n",
       "  <tbody>\n",
       "    <tr>\n",
       "      <th>0</th>\n",
       "      <td>8647474690327707860</td>\n",
       "      <td>8658177821842145383</td>\n",
       "      <td>0.001490</td>\n",
       "      <td>344.589382</td>\n",
       "      <td>-1.183970</td>\n",
       "      <td>18.92645</td>\n",
       "      <td>0.026845</td>\n",
       "      <td>51819.312002</td>\n",
       "      <td>16.80047</td>\n",
       "      <td>0.031515</td>\n",
       "      <td>...</td>\n",
       "      <td>51819.313660</td>\n",
       "      <td>16.51726</td>\n",
       "      <td>0.018303</td>\n",
       "      <td>51819.310343</td>\n",
       "      <td>15.95949</td>\n",
       "      <td>0.024988</td>\n",
       "      <td>51819.311172</td>\n",
       "      <td>15.72155</td>\n",
       "      <td>0.019236</td>\n",
       "      <td>51819.312831</td>\n",
       "    </tr>\n",
       "    <tr>\n",
       "      <th>1</th>\n",
       "      <td>8647474690327707860</td>\n",
       "      <td>8658466190240383053</td>\n",
       "      <td>0.000715</td>\n",
       "      <td>344.589372</td>\n",
       "      <td>-1.183940</td>\n",
       "      <td>18.89199</td>\n",
       "      <td>0.025899</td>\n",
       "      <td>52552.268881</td>\n",
       "      <td>16.73602</td>\n",
       "      <td>0.035037</td>\n",
       "      <td>...</td>\n",
       "      <td>52552.270540</td>\n",
       "      <td>16.22957</td>\n",
       "      <td>0.012581</td>\n",
       "      <td>52552.267223</td>\n",
       "      <td>15.93232</td>\n",
       "      <td>0.011359</td>\n",
       "      <td>52552.268052</td>\n",
       "      <td>15.51334</td>\n",
       "      <td>0.023775</td>\n",
       "      <td>52552.269711</td>\n",
       "    </tr>\n",
       "    <tr>\n",
       "      <th>2</th>\n",
       "      <td>8647474690327707860</td>\n",
       "      <td>8658185033090727976</td>\n",
       "      <td>0.001323</td>\n",
       "      <td>344.589381</td>\n",
       "      <td>-1.183934</td>\n",
       "      <td>18.71248</td>\n",
       "      <td>0.026212</td>\n",
       "      <td>52577.164951</td>\n",
       "      <td>16.79950</td>\n",
       "      <td>0.030432</td>\n",
       "      <td>...</td>\n",
       "      <td>52577.166610</td>\n",
       "      <td>16.09065</td>\n",
       "      <td>0.020014</td>\n",
       "      <td>52577.163293</td>\n",
       "      <td>15.71718</td>\n",
       "      <td>0.019666</td>\n",
       "      <td>52577.164122</td>\n",
       "      <td>15.48258</td>\n",
       "      <td>0.012093</td>\n",
       "      <td>52577.165780</td>\n",
       "    </tr>\n",
       "    <tr>\n",
       "      <th>3</th>\n",
       "      <td>8647474690327707860</td>\n",
       "      <td>8658185166226784369</td>\n",
       "      <td>0.000847</td>\n",
       "      <td>344.589377</td>\n",
       "      <td>-1.183941</td>\n",
       "      <td>18.93591</td>\n",
       "      <td>0.021324</td>\n",
       "      <td>52586.168230</td>\n",
       "      <td>16.80994</td>\n",
       "      <td>0.027172</td>\n",
       "      <td>...</td>\n",
       "      <td>52586.169889</td>\n",
       "      <td>16.32167</td>\n",
       "      <td>0.013568</td>\n",
       "      <td>52586.166572</td>\n",
       "      <td>15.90809</td>\n",
       "      <td>0.019703</td>\n",
       "      <td>52586.167401</td>\n",
       "      <td>15.63155</td>\n",
       "      <td>0.019775</td>\n",
       "      <td>52586.169060</td>\n",
       "    </tr>\n",
       "    <tr>\n",
       "      <th>4</th>\n",
       "      <td>8647474690327707860</td>\n",
       "      <td>8658188335923986499</td>\n",
       "      <td>0.001823</td>\n",
       "      <td>344.589389</td>\n",
       "      <td>-1.183931</td>\n",
       "      <td>19.01374</td>\n",
       "      <td>0.023794</td>\n",
       "      <td>52935.176048</td>\n",
       "      <td>16.77078</td>\n",
       "      <td>0.031954</td>\n",
       "      <td>...</td>\n",
       "      <td>52935.177707</td>\n",
       "      <td>16.51669</td>\n",
       "      <td>0.015535</td>\n",
       "      <td>52935.174390</td>\n",
       "      <td>16.11238</td>\n",
       "      <td>0.018626</td>\n",
       "      <td>52935.175219</td>\n",
       "      <td>15.59756</td>\n",
       "      <td>0.022005</td>\n",
       "      <td>52935.176877</td>\n",
       "    </tr>\n",
       "  </tbody>\n",
       "</table>\n",
       "<p>5 rows × 24 columns</p>\n",
       "</div>"
      ],
      "text/plain": [
       "                cobjid                objid  distance          ra       dec  \\\n",
       "0  8647474690327707860  8658177821842145383  0.001490  344.589382 -1.183970   \n",
       "1  8647474690327707860  8658466190240383053  0.000715  344.589372 -1.183940   \n",
       "2  8647474690327707860  8658185033090727976  0.001323  344.589381 -1.183934   \n",
       "3  8647474690327707860  8658185166226784369  0.000847  344.589377 -1.183941   \n",
       "4  8647474690327707860  8658188335923986499  0.001823  344.589389 -1.183931   \n",
       "\n",
       "   psfMag_u  psfMagErr_u         mjd_u  petroMag_u  petroMagErr_u  \\\n",
       "0  18.92645     0.026845  51819.312002    16.80047       0.031515   \n",
       "1  18.89199     0.025899  52552.268881    16.73602       0.035037   \n",
       "2  18.71248     0.026212  52577.164951    16.79950       0.030432   \n",
       "3  18.93591     0.021324  52586.168230    16.80994       0.027172   \n",
       "4  19.01374     0.023794  52935.176048    16.77078       0.031954   \n",
       "\n",
       "       ...              mjd_g  psfMag_r  psfMagErr_r         mjd_r  psfMag_i  \\\n",
       "0      ...       51819.313660  16.51726     0.018303  51819.310343  15.95949   \n",
       "1      ...       52552.270540  16.22957     0.012581  52552.267223  15.93232   \n",
       "2      ...       52577.166610  16.09065     0.020014  52577.163293  15.71718   \n",
       "3      ...       52586.169889  16.32167     0.013568  52586.166572  15.90809   \n",
       "4      ...       52935.177707  16.51669     0.015535  52935.174390  16.11238   \n",
       "\n",
       "   psfMagErr_i         mjd_i  psfMag_z  psfMagErr_z         mjd_z  \n",
       "0     0.024988  51819.311172  15.72155     0.019236  51819.312831  \n",
       "1     0.011359  52552.268052  15.51334     0.023775  52552.269711  \n",
       "2     0.019666  52577.164122  15.48258     0.012093  52577.165780  \n",
       "3     0.019703  52586.167401  15.63155     0.019775  52586.169060  \n",
       "4     0.018626  52935.175219  15.59756     0.022005  52935.176877  \n",
       "\n",
       "[5 rows x 24 columns]"
      ]
     },
     "execution_count": 22,
     "metadata": {},
     "output_type": "execute_result"
    }
   ],
   "source": [
    "# LSST schema apparently has one row per filter, SDSS does not.\n",
    "# Maybe we should make a version of Source similar to the LSST schema.\n",
    "\n",
    "sql=\"\"\"\n",
    "select s.cobjid,p.objid,distance,p.ra,p.dec\n",
    "  , p.psfMag_u, p.psfMagErr_u, f.mjd_u\n",
    "  , p.petroMag_u, p.petroMagErr_u, p.modelMag_u, p.modelMagErr_u\n",
    "  , p.psfMag_g, p.psfMagErr_g, f.mjd_g\n",
    "  , p.psfMag_r, p.psfMagErr_r, f.mjd_r\n",
    "  , p.psfMag_i, p.psfMagErr_i, f.mjd_i\n",
    "  , p.psfMag_z, p.psfMagErr_z, f.mjd_z\n",
    "  from test.coadd o\n",
    "    inner join test.match s\n",
    "       on s.cobjid=o.cobjid\n",
    "    inner join field f\n",
    "       on f.fieldid=s.fieldid\n",
    "    inner join PhotoobjAll p\n",
    "       on s.objId=p.objid\n",
    " where o.cobjId=%d\n",
    "order by f.mjd_u\n",
    "\"\"\" % OBJECT_ID\n",
    "df=cj.executeQuery(sql,TARGET_CONTEXT)\n",
    "df.head()"
   ]
  },
  {
   "cell_type": "code",
   "execution_count": 23,
   "metadata": {
    "collapsed": false
   },
   "outputs": [
    {
     "data": {
      "image/png": "[encoded data removed]",
      "text/plain": [
       "<matplotlib.figure.Figure at 0x7fd6317bbc50>"
      ]
     },
     "metadata": {},
     "output_type": "display_data"
    }
   ],
   "source": [
    "f=plt.figure(figsize=(15,10))\n",
    "x=\"mjd_u\"\n",
    "y=\"psfMag_u\"\n",
    "yerr=\"psfMagErr_u\"\n",
    "y=\"petroMag_u\"\n",
    "yerr=\"petroMagErr_u\"\n",
    "y=\"modelMag_u\"\n",
    "yerr=\"modelMagErr_u\"\n",
    "plt.scatter(df[x],df[y],s=70)\n",
    "plt.errorbar(df[x],df[y],yerr=df[yerr], linestyle=\"None\",c='red')\n",
    "plt.xlabel(x)\n",
    "plt.ylabel(y);"
   ]
  },
  {
   "cell_type": "code",
   "execution_count": 9,
   "metadata": {
    "collapsed": false
   },
   "outputs": [
    {
     "data": {
      "text/plain": [
       "<matplotlib.text.Text at 0x7fa072ccd668>"
      ]
     },
     "execution_count": 9,
     "metadata": {},
     "output_type": "execute_result"
    },
    {
     "data": {
      "image/png": "[encoded data removed]",
      "text/plain": [
       "<matplotlib.figure.Figure at 0x7fa072d3b5c0>"
      ]
     },
     "metadata": {},
     "output_type": "display_data"
    }
   ],
   "source": [
    "x=\"ra\"\n",
    "y=\"dec\"\n",
    "plt.scatter(df[x],df[y])\n",
    "xlim=(np.min(df[x]),np.max(df[x]))\n",
    "ylim=(np.min(df[y]),np.max(df[y]))\n",
    "plt.xlim(xlim)\n",
    "plt.ylim(ylim)\n",
    "plt.xlabel(x)\n",
    "plt.ylabel(y)"
   ]
  },
  {
   "cell_type": "markdown",
   "metadata": {},
   "source": [
    "# TODO\n",
    "create tables mimicking the LSST schema more closely, in particular Source and Filter tables. Source with one flux and an explicit filter identifier."
   ]
  },
  {
   "cell_type": "markdown",
   "metadata": {
    "collapsed": true
   },
   "source": [
    "### <a href=\"https://dev.lsstcorp.org/trac/wiki/db/queries/006\" target=\"_blank\">Select the full color image of a single (given) galaxy</a>\n",
    "\n",
    "QSERV\n",
    "\n",
    "To complete this request we need to run a database query that selects the galaxy based on a given objectId, determines its ra, decl and size as well as corresponding exposureId. Since the epoch is not specified, the most recent one will be fetched.\n",
    "Generate image cut out through Cutout Service.\n",
    "The database query:\n",
    "\n",
    "```sql\n",
    "SELECT s.ra, s.decl, o.raRange, o.declRange\n",
    "FROM   Object o\n",
    "JOIN   Source s USING (objectId)\n",
    "WHERE  o.objectId = :objectId\n",
    "AND    o.latestObsTime = s.taiMidPoint\n",
    "```"
   ]
  },
  {
   "cell_type": "code",
   "execution_count": 27,
   "metadata": {
    "collapsed": true
   },
   "outputs": [],
   "source": [
    "# we will do this using the cutout service url that is provided and connect to skyserver to get it.\n",
    "sql=\"\"\"\n",
    "select top 1 p.ra, p.dec, p.petror90_r\n",
    "  from test.coadd o\n",
    "    inner join test.match s\n",
    "       on s.cobjid=o.cobjid\n",
    "    inner join field f\n",
    "       on f.fieldid=s.fieldid\n",
    "    inner join PhotoobjAll p\n",
    "       on s.objId=p.objid\n",
    " where o.cobjId=%d\n",
    "order by f.mjd_u asc\n",
    "\"\"\" % OBJECT_ID\n",
    "df= cj.executeQuery(sql,TARGET_CONTEXT)"
   ]
  },
  {
   "cell_type": "code",
   "execution_count": 28,
   "metadata": {
    "collapsed": false
   },
   "outputs": [
    {
     "data": {
      "image/png": "[encoded data removed]",
      "text/plain": [
       "<matplotlib.figure.Figure at 0x7fd6314e8748>"
      ]
     },
     "metadata": {},
     "output_type": "display_data"
    }
   ],
   "source": [
    "# NB only co-added multi color images are available, not one for each field\n",
    "width=200\n",
    "height=200\n",
    "pixelsize=0.396\n",
    "\n",
    "ra=df['ra'][0]\n",
    "dec= df['dec'][0]\n",
    "petror90_r=df['petror90_r'][0]\n",
    "\n",
    "# the 'scale' parameter is set so that the image will be about 2x the size of the galaxy\n",
    "scale=2*petror90_r/pixelsize/width\n",
    "if False:\n",
    "    img=skyS.getJpegImgCutout(ra,dec, scale=scale, width=width, height=height, opt=\"\", query=\"\", dataRelease='DR13')\n",
    "else:\n",
    "    url=\"http://skyservice.pha.jhu.edu/Stripe82/ImgCutout/getjpeg.aspx?ra=\"+str(ra)\n",
    "    url+=\"&dec=\"+str(dec)+\"&scale=\"\"\"+str(scale)+\"&width=\"+str(width)\n",
    "    url+=\"&height=\"+str(height)\n",
    "    img=skimage.io.imread(url)\n",
    "plt.imshow(img);"
   ]
  },
  {
   "cell_type": "markdown",
   "metadata": {
    "collapsed": true
   },
   "source": [
    "### <a href=\"\" target=\"_blank\"> Find an object with a particular objectId</a>\n",
    "\n",
    "QSERV\n",
    "```sql\n",
    "SELECT *\n",
    "FROM   Object\n",
    "WHERE  objectId = :objectId\n",
    "```\n",
    "Origin: this query came from SDSS (SX-4).\n"
   ]
  },
  {
   "cell_type": "code",
   "execution_count": 21,
   "metadata": {
    "collapsed": false
   },
   "outputs": [
    {
     "data": {
      "text/html": [
       "<div>\n",
       "<style>\n",
       "    .dataframe thead tr:only-child th {\n",
       "        text-align: right;\n",
       "    }\n",
       "\n",
       "    .dataframe thead th {\n",
       "        text-align: left;\n",
       "    }\n",
       "\n",
       "    .dataframe tbody tr th {\n",
       "        vertical-align: top;\n",
       "    }\n",
       "</style>\n",
       "<table border=\"1\" class=\"dataframe\">\n",
       "  <thead>\n",
       "    <tr style=\"text-align: right;\">\n",
       "      <th></th>\n",
       "      <th>cobjid</th>\n",
       "      <th>type</th>\n",
       "      <th>ra</th>\n",
       "      <th>dec</th>\n",
       "      <th>cx</th>\n",
       "      <th>cy</th>\n",
       "      <th>cz</th>\n",
       "      <th>u</th>\n",
       "      <th>g</th>\n",
       "      <th>r</th>\n",
       "      <th>i</th>\n",
       "      <th>z</th>\n",
       "      <th>c</th>\n",
       "      <th>psfMag_u</th>\n",
       "      <th>psfMag_g</th>\n",
       "      <th>psfMag_r</th>\n",
       "      <th>psfMag_i</th>\n",
       "      <th>psfMag_z</th>\n",
       "    </tr>\n",
       "  </thead>\n",
       "  <tbody>\n",
       "    <tr>\n",
       "      <th>0</th>\n",
       "      <td>8647474690327707860</td>\n",
       "      <td>3</td>\n",
       "      <td>-15.410634</td>\n",
       "      <td>-1.18395</td>\n",
       "      <td>0.96384</td>\n",
       "      <td>-0.265678</td>\n",
       "      <td>-0.020662</td>\n",
       "      <td>18.647</td>\n",
       "      <td>16.94054</td>\n",
       "      <td>16.27464</td>\n",
       "      <td>15.95672</td>\n",
       "      <td>15.60708</td>\n",
       "      <td>2.348373</td>\n",
       "      <td>0.005046</td>\n",
       "      <td>0.000817</td>\n",
       "      <td>0.000582</td>\n",
       "      <td>0.000595</td>\n",
       "      <td>0.001111</td>\n",
       "    </tr>\n",
       "  </tbody>\n",
       "</table>\n",
       "</div>"
      ],
      "text/plain": [
       "                cobjid  type         ra      dec       cx        cy        cz  \\\n",
       "0  8647474690327707860     3 -15.410634 -1.18395  0.96384 -0.265678 -0.020662   \n",
       "\n",
       "        u         g         r         i         z         c  psfMag_u  \\\n",
       "0  18.647  16.94054  16.27464  15.95672  15.60708  2.348373  0.005046   \n",
       "\n",
       "   psfMag_g  psfMag_r  psfMag_i  psfMag_z  \n",
       "0  0.000817  0.000582  0.000595  0.001111  "
      ]
     },
     "execution_count": 21,
     "metadata": {},
     "output_type": "execute_result"
    }
   ],
   "source": [
    "# this query should try to get the columns similar to the one in the lSST schema.\n",
    "# I.e. this might a good sample query to base a possible test.Object view on...\n",
    "sql=\"\"\"\n",
    "select * from test.coadd\n",
    "where cobjId=%d\"\"\" % OBJECT_ID\n",
    "df=cj.executeQuery(sql,TARGET_CONTEXT)\n",
    "df"
   ]
  },
  {
   "cell_type": "markdown",
   "metadata": {
    "collapsed": true
   },
   "source": [
    "### <a href=\"\" target=\"_blank\">Select variable objects near a known galaxy\n",
    "\n",
    "QSERV\n",
    "```sql\n",
    "SELECT v.objectId, v.ra, v.decl\n",
    "FROM   Object v, Object o\n",
    "WHERE  o.objectId = :objectId\n",
    "   AND spDist(v.ra, v.decl, o.ra, o.decl, :dist)\n",
    "   AND v.variability > 0.8\n",
    "   AND o.extendedParameter > 0.8\n",
    "```\n",
    "\n"
   ]
  },
  {
   "cell_type": "markdown",
   "metadata": {
    "collapsed": true
   },
   "source": [
    "# NB\n",
    "Note, none of the Object tables in the different versions of the schema in https://lsst-web.ncsa.illinois.edu/schema/index.php has a 'variability' column. We might calculate these from the schemas using some algorithm, but in principle query could be replaced by another selecting on other columns.\n",
    "\n",
    "Stripe82 schema also has not such columns, so we will ignore it and simply focus on the \"near\" query. Here we will not do the simple distance calculation as that will be slow.\n",
    "\n",
    "Btw, CLR was not enabled yet on the database.\n"
   ]
  },
  {
   "cell_type": "code",
   "execution_count": 33,
   "metadata": {
    "collapsed": false
   },
   "outputs": [
    {
     "ename": "Exception",
     "evalue": "Error when executing query. Http Response from CasJobs API returned status code 500:\n{\"Error Code\":500,\"Error Type\":\"InternalServerError\",\"Error Message\":\"Failed to execute a query: An error occurred in the Microsoft .NET Framework while trying to load assembly id 65539. The server may be running out of resources, or the assembly may not be trusted with PERMISSION_SET = EXTERNAL_ACCESS or UNSAFE. Run the query again, or check documentation to see how to solve the assembly trust issues. For more information about this error: \\r\\nSystem.IO.FileLoadException: Could not load file or assembly 'sphericalhtm, Version=0.0.0.0, Culture=neutral, PublicKeyToken=null' or one of its dependencies. An error relating to security occurred. (Exception from HRESULT: 0x8013150A)\\r\\nSystem.IO.FileLoadException: \\r\\n   at System.Reflection.RuntimeAssembly._nLoad(AssemblyName fileName, String codeBase, Evidence assemblySecurity, RuntimeAssembly locationHint, StackCrawlMark& stackMark, IntPtr pPrivHostBinder, Boolean throwOnFileNotFound, Boolean forIntrospection, Boolean suppressSecurityChecks)\\r\\n   at System.Reflection.RuntimeAssembly.InternalLoadAssemblyName(AssemblyName assemblyRef, Evidence assemblySecurity, RuntimeAssembly reqAssembly, StackCrawlMark& stackMark, IntPtr pPrivHostBinder, Boolean throwOnFileNotFound, Boolean forIntrospection, Boolean suppressSecurityChecks)\\r\\n   at System.Reflection.RuntimeAssembly.InternalLoad(String assemblyString, Evidence assemblySecurity, StackCrawlMark& stackMark, IntPtr pPrivHostBinder, Boolean forIntrospection)\\r\\n   at System.Reflection.RuntimeAssembly.InternalLoad(String assemblyString, Evidence assemblySecurity, StackCrawlMark& stackMark, Boolean forIntrospection)\\r\\n   at System.Reflection.Assembly.Load(String assemblyString)\\r\\n\",\"LogMessageID\":\"3d7a8e2a-3b6b-40b9-96f6-8322cce53636\"}",
     "output_type": "error",
     "traceback": [
      "\u001b[0;31m\u001b[0m",
      "\u001b[0;31mException\u001b[0mTraceback (most recent call last)",
      "\u001b[0;32m<timed exec>\u001b[0m in \u001b[0;36m<module>\u001b[0;34m()\u001b[0m\n",
      "\u001b[0;32m~/anaconda3/lib/python3.6/site-packages/SciServer-1.10.2-py3.6.egg/SciServer/CasJobs.py\u001b[0m in \u001b[0;36mexecuteQuery\u001b[0;34m(sql, context, format)\u001b[0m\n\u001b[1;32m    120\u001b[0m     \u001b[0mpostResponse\u001b[0m \u001b[0;34m=\u001b[0m \u001b[0mrequests\u001b[0m\u001b[0;34m.\u001b[0m\u001b[0mpost\u001b[0m\u001b[0;34m(\u001b[0m\u001b[0mQueryUrl\u001b[0m\u001b[0;34m,\u001b[0m\u001b[0mdata\u001b[0m\u001b[0;34m=\u001b[0m\u001b[0mdata\u001b[0m\u001b[0;34m,\u001b[0m\u001b[0mheaders\u001b[0m\u001b[0;34m=\u001b[0m\u001b[0mheaders\u001b[0m\u001b[0;34m,\u001b[0m \u001b[0mstream\u001b[0m\u001b[0;34m=\u001b[0m\u001b[0;32mTrue\u001b[0m\u001b[0;34m)\u001b[0m\u001b[0;34m\u001b[0m\u001b[0m\n\u001b[1;32m    121\u001b[0m     \u001b[0;32mif\u001b[0m \u001b[0mpostResponse\u001b[0m\u001b[0;34m.\u001b[0m\u001b[0mstatus_code\u001b[0m \u001b[0;34m!=\u001b[0m \u001b[0;36m200\u001b[0m\u001b[0;34m:\u001b[0m\u001b[0;34m\u001b[0m\u001b[0m\n\u001b[0;32m--> 122\u001b[0;31m         \u001b[0;32mraise\u001b[0m \u001b[0mException\u001b[0m\u001b[0;34m(\u001b[0m\u001b[0;34m\"Error when executing query. Http Response from CasJobs API returned status code \"\u001b[0m \u001b[0;34m+\u001b[0m \u001b[0mstr\u001b[0m\u001b[0;34m(\u001b[0m\u001b[0mpostResponse\u001b[0m\u001b[0;34m.\u001b[0m\u001b[0mstatus_code\u001b[0m\u001b[0;34m)\u001b[0m \u001b[0;34m+\u001b[0m \u001b[0;34m\":\\n\"\u001b[0m \u001b[0;34m+\u001b[0m \u001b[0mpostResponse\u001b[0m\u001b[0;34m.\u001b[0m\u001b[0mcontent\u001b[0m\u001b[0;34m.\u001b[0m\u001b[0mdecode\u001b[0m\u001b[0;34m(\u001b[0m\u001b[0;34m)\u001b[0m\u001b[0;34m)\u001b[0m\u001b[0;34m;\u001b[0m\u001b[0;34m\u001b[0m\u001b[0m\n\u001b[0m\u001b[1;32m    123\u001b[0m \u001b[0;34m\u001b[0m\u001b[0m\n\u001b[1;32m    124\u001b[0m     \u001b[0;32mif\u001b[0m \u001b[0;34m(\u001b[0m\u001b[0mformat\u001b[0m \u001b[0;34m==\u001b[0m \u001b[0;34m\"readable\"\u001b[0m\u001b[0;34m)\u001b[0m \u001b[0;32mor\u001b[0m \u001b[0;34m(\u001b[0m\u001b[0mformat\u001b[0m \u001b[0;34m==\u001b[0m \u001b[0;34m\"StringIO\"\u001b[0m\u001b[0;34m)\u001b[0m\u001b[0;34m:\u001b[0m\u001b[0;34m\u001b[0m\u001b[0m\n",
      "\u001b[0;31mException\u001b[0m: Error when executing query. Http Response from CasJobs API returned status code 500:\n{\"Error Code\":500,\"Error Type\":\"InternalServerError\",\"Error Message\":\"Failed to execute a query: An error occurred in the Microsoft .NET Framework while trying to load assembly id 65539. The server may be running out of resources, or the assembly may not be trusted with PERMISSION_SET = EXTERNAL_ACCESS or UNSAFE. Run the query again, or check documentation to see how to solve the assembly trust issues. For more information about this error: \\r\\nSystem.IO.FileLoadException: Could not load file or assembly 'sphericalhtm, Version=0.0.0.0, Culture=neutral, PublicKeyToken=null' or one of its dependencies. An error relating to security occurred. (Exception from HRESULT: 0x8013150A)\\r\\nSystem.IO.FileLoadException: \\r\\n   at System.Reflection.RuntimeAssembly._nLoad(AssemblyName fileName, String codeBase, Evidence assemblySecurity, RuntimeAssembly locationHint, StackCrawlMark& stackMark, IntPtr pPrivHostBinder, Boolean throwOnFileNotFound, Boolean forIntrospection, Boolean suppressSecurityChecks)\\r\\n   at System.Reflection.RuntimeAssembly.InternalLoadAssemblyName(AssemblyName assemblyRef, Evidence assemblySecurity, RuntimeAssembly reqAssembly, StackCrawlMark& stackMark, IntPtr pPrivHostBinder, Boolean throwOnFileNotFound, Boolean forIntrospection, Boolean suppressSecurityChecks)\\r\\n   at System.Reflection.RuntimeAssembly.InternalLoad(String assemblyString, Evidence assemblySecurity, StackCrawlMark& stackMark, IntPtr pPrivHostBinder, Boolean forIntrospection)\\r\\n   at System.Reflection.RuntimeAssembly.InternalLoad(String assemblyString, Evidence assemblySecurity, StackCrawlMark& stackMark, Boolean forIntrospection)\\r\\n   at System.Reflection.Assembly.Load(String assemblyString)\\r\\n\",\"LogMessageID\":\"3d7a8e2a-3b6b-40b9-96f6-8322cce53636\"}"
     ]
    },
    {
     "data": {
      "text/html": [
       "<div>\n",
       "<style>\n",
       "    .dataframe thead tr:only-child th {\n",
       "        text-align: right;\n",
       "    }\n",
       "\n",
       "    .dataframe thead th {\n",
       "        text-align: left;\n",
       "    }\n",
       "\n",
       "    .dataframe tbody tr th {\n",
       "        vertical-align: top;\n",
       "    }\n",
       "</style>\n",
       "<table border=\"1\" class=\"dataframe\">\n",
       "  <thead>\n",
       "    <tr style=\"text-align: right;\">\n",
       "      <th></th>\n",
       "      <th>objId</th>\n",
       "      <th>ra</th>\n",
       "      <th>dec</th>\n",
       "      <th>petror90_r</th>\n",
       "    </tr>\n",
       "  </thead>\n",
       "  <tbody>\n",
       "    <tr>\n",
       "      <th>0</th>\n",
       "      <td>8647474690327707860</td>\n",
       "      <td>-15.410634</td>\n",
       "      <td>-1.183950</td>\n",
       "      <td>14.83797</td>\n",
       "    </tr>\n",
       "    <tr>\n",
       "      <th>1</th>\n",
       "      <td>8647474690330001465</td>\n",
       "      <td>-10.275765</td>\n",
       "      <td>-1.060240</td>\n",
       "      <td>23.09696</td>\n",
       "    </tr>\n",
       "    <tr>\n",
       "      <th>2</th>\n",
       "      <td>8647474690340618618</td>\n",
       "      <td>14.095148</td>\n",
       "      <td>-1.209754</td>\n",
       "      <td>13.53837</td>\n",
       "    </tr>\n",
       "    <tr>\n",
       "      <th>3</th>\n",
       "      <td>8647474690341535789</td>\n",
       "      <td>16.069998</td>\n",
       "      <td>-1.074973</td>\n",
       "      <td>12.38839</td>\n",
       "    </tr>\n",
       "    <tr>\n",
       "      <th>4</th>\n",
       "      <td>8647474690343895145</td>\n",
       "      <td>21.510473</td>\n",
       "      <td>-1.225606</td>\n",
       "      <td>26.74715</td>\n",
       "    </tr>\n",
       "    <tr>\n",
       "      <th>5</th>\n",
       "      <td>8647474690344091683</td>\n",
       "      <td>21.899593</td>\n",
       "      <td>-1.105094</td>\n",
       "      <td>16.29971</td>\n",
       "    </tr>\n",
       "    <tr>\n",
       "      <th>6</th>\n",
       "      <td>8647474690344091714</td>\n",
       "      <td>21.929203</td>\n",
       "      <td>-1.139579</td>\n",
       "      <td>19.55241</td>\n",
       "    </tr>\n",
       "    <tr>\n",
       "      <th>7</th>\n",
       "      <td>8647474690344288366</td>\n",
       "      <td>22.433274</td>\n",
       "      <td>-1.241417</td>\n",
       "      <td>21.70089</td>\n",
       "    </tr>\n",
       "    <tr>\n",
       "      <th>8</th>\n",
       "      <td>8647474690351431751</td>\n",
       "      <td>38.672722</td>\n",
       "      <td>-1.238498</td>\n",
       "      <td>12.65033</td>\n",
       "    </tr>\n",
       "    <tr>\n",
       "      <th>9</th>\n",
       "      <td>8647474690355495079</td>\n",
       "      <td>48.053608</td>\n",
       "      <td>-1.061901</td>\n",
       "      <td>15.45670</td>\n",
       "    </tr>\n",
       "    <tr>\n",
       "      <th>10</th>\n",
       "      <td>8647474690878406715</td>\n",
       "      <td>16.070678</td>\n",
       "      <td>-0.764911</td>\n",
       "      <td>30.67080</td>\n",
       "    </tr>\n",
       "    <tr>\n",
       "      <th>11</th>\n",
       "      <td>8647474690878406867</td>\n",
       "      <td>16.170102</td>\n",
       "      <td>-0.802748</td>\n",
       "      <td>29.74517</td>\n",
       "    </tr>\n",
       "    <tr>\n",
       "      <th>12</th>\n",
       "      <td>8647474690879193187</td>\n",
       "      <td>17.943963</td>\n",
       "      <td>-0.664322</td>\n",
       "      <td>10.30834</td>\n",
       "    </tr>\n",
       "    <tr>\n",
       "      <th>13</th>\n",
       "      <td>8647474690880438446</td>\n",
       "      <td>20.801538</td>\n",
       "      <td>-0.641169</td>\n",
       "      <td>14.56837</td>\n",
       "    </tr>\n",
       "    <tr>\n",
       "      <th>14</th>\n",
       "      <td>8647474690885681421</td>\n",
       "      <td>32.784565</td>\n",
       "      <td>-0.654773</td>\n",
       "      <td>13.19595</td>\n",
       "    </tr>\n",
       "    <tr>\n",
       "      <th>15</th>\n",
       "      <td>8647474690885943524</td>\n",
       "      <td>33.409822</td>\n",
       "      <td>-0.717293</td>\n",
       "      <td>24.46484</td>\n",
       "    </tr>\n",
       "  </tbody>\n",
       "</table>\n",
       "</div>"
      ],
      "text/plain": [
       "                  objId         ra       dec  petror90_r\n",
       "0   8647474690327707860 -15.410634 -1.183950    14.83797\n",
       "1   8647474690330001465 -10.275765 -1.060240    23.09696\n",
       "2   8647474690340618618  14.095148 -1.209754    13.53837\n",
       "3   8647474690341535789  16.069998 -1.074973    12.38839\n",
       "4   8647474690343895145  21.510473 -1.225606    26.74715\n",
       "5   8647474690344091683  21.899593 -1.105094    16.29971\n",
       "6   8647474690344091714  21.929203 -1.139579    19.55241\n",
       "7   8647474690344288366  22.433274 -1.241417    21.70089\n",
       "8   8647474690351431751  38.672722 -1.238498    12.65033\n",
       "9   8647474690355495079  48.053608 -1.061901    15.45670\n",
       "10  8647474690878406715  16.070678 -0.764911    30.67080\n",
       "11  8647474690878406867  16.170102 -0.802748    29.74517\n",
       "12  8647474690879193187  17.943963 -0.664322    10.30834\n",
       "13  8647474690880438446  20.801538 -0.641169    14.56837\n",
       "14  8647474690885681421  32.784565 -0.654773    13.19595\n",
       "15  8647474690885943524  33.409822 -0.717293    24.46484"
      ]
     },
     "execution_count": 33,
     "metadata": {},
     "output_type": "execute_result"
    }
   ],
   "source": [
    "DIST=.1 # arcmin\n",
    "sql=\"\"\"\n",
    "select v.cobjId, v.ra, v.dec\n",
    "  from test.coadd o\n",
    "  ,    test.coadd v\n",
    " where o.cobjId=%d\n",
    "   and dbo.fDistanceEq(o.ra,o.dec,v.ra,v.dec) <= %s\n",
    "   \"\"\" % (OBJECT_ID, DIST)\n",
    "%time df=cj.executeQuery(sql,TARGET_CONTEXT)\n",
    "df"
   ]
  },
  {
   "cell_type": "code",
   "execution_count": 34,
   "metadata": {
    "collapsed": false
   },
   "outputs": [
    {
     "data": {
      "text/plain": [
       "'\\nselect v.cobjId, v.ra, v.dec\\n  from test.coadd o\\n  ,    test.coadd v\\n where o.cobjId=8647474690330001465\\n   and dbo.fDistanceEq(o.ra,o.dec,v.ra,v.dec) <= 0.1\\n   '"
      ]
     },
     "execution_count": 34,
     "metadata": {},
     "output_type": "execute_result"
    }
   ],
   "source": [
    "sql"
   ]
  },
  {
   "cell_type": "code",
   "execution_count": 32,
   "metadata": {
    "collapsed": false
   },
   "outputs": [
    {
     "name": "stderr",
     "output_type": "stream",
     "text": [
      "ERROR:root:An unexpected error occurred while tokenizing input\n",
      "The following traceback may be corrupted or invalid\n",
      "The error message is: ('EOF in multi-line string', (1, 0))\n",
      "\n"
     ]
    },
    {
     "ename": "NameError",
     "evalue": "name 'DIST' is not defined",
     "output_type": "error",
     "traceback": [
      "\u001b[0;31m\u001b[0m",
      "\u001b[0;31mNameError\u001b[0mTraceback (most recent call last)",
      "\u001b[0;32m<ipython-input-32-f9e45b686e2b>\u001b[0m in \u001b[0;36m<module>\u001b[0;34m()\u001b[0m\n\u001b[1;32m      9\u001b[0m        \u001b[0;32mand\u001b[0m \u001b[0mdbo\u001b[0m\u001b[0;34m.\u001b[0m\u001b[0mfDistanceEq\u001b[0m\u001b[0;34m(\u001b[0m\u001b[0mo\u001b[0m\u001b[0;34m.\u001b[0m\u001b[0mra\u001b[0m\u001b[0;34m,\u001b[0m\u001b[0mo\u001b[0m\u001b[0;34m.\u001b[0m\u001b[0mdec\u001b[0m\u001b[0;34m,\u001b[0m\u001b[0mv\u001b[0m\u001b[0;34m.\u001b[0m\u001b[0mra\u001b[0m\u001b[0;34m,\u001b[0m\u001b[0mv\u001b[0m\u001b[0;34m.\u001b[0m\u001b[0mdec\u001b[0m\u001b[0;34m)\u001b[0m \u001b[0;34m<=\u001b[0m \u001b[0;34m%\u001b[0m\u001b[0ms\u001b[0m\u001b[0;34m\u001b[0m\u001b[0m\n\u001b[1;32m     10\u001b[0m  \u001b[0mwhere\u001b[0m \u001b[0mo\u001b[0m\u001b[0;34m.\u001b[0m\u001b[0mcobjid\u001b[0m\u001b[0;34m=\u001b[0m\u001b[0;34m%\u001b[0m\u001b[0ms\u001b[0m\u001b[0;34m\u001b[0m\u001b[0m\n\u001b[0;32m---> 11\u001b[0;31m \"\"\" % (DIST, DIST, OBJECT_ID)\n\u001b[0m\u001b[1;32m     12\u001b[0m \u001b[0mdf\u001b[0m\u001b[0;34m=\u001b[0m\u001b[0mcj\u001b[0m\u001b[0;34m.\u001b[0m\u001b[0mexecuteQuery\u001b[0m\u001b[0;34m(\u001b[0m\u001b[0msql\u001b[0m\u001b[0;34m,\u001b[0m\u001b[0mTARGET_CONTEXT\u001b[0m\u001b[0;34m)\u001b[0m\u001b[0;34m\u001b[0m\u001b[0m\n\u001b[1;32m     13\u001b[0m \u001b[0mdf\u001b[0m\u001b[0;34m\u001b[0m\u001b[0m\n",
      "\u001b[0;31mNameError\u001b[0m: name 'DIST' is not defined"
     ]
    }
   ],
   "source": [
    "# as coadd has no htm column (yet) go through photoobjal, but filter on objects being head of a match (i.e. in coadd) \n",
    "sql=\"\"\"\n",
    "select v.objid,v.ra,v.dec \n",
    " from test.coadd o cross apply dbo.fHtmCoverCircleEq( o.ra,o.dec,%s) htm\n",
    "     inner join photoobjall p\n",
    "       on p.htmId between htm.htmidstart and htmidend\n",
    "      inner join test.coadd v\n",
    "        on v.cobjid=p.objis\n",
    "       and dbo.fDistanceEq(o.ra,o.dec,v.ra,v.dec) <= %s\n",
    " where o.cobjid=%s\n",
    "\"\"\" % (DIST, DIST, OBJECT_ID)\n",
    "df=cj.executeQuery(sql,TARGET_CONTEXT)\n",
    "df"
   ]
  },
  {
   "cell_type": "markdown",
   "metadata": {},
   "source": [
    "# TODO\n",
    "add htmId column to coadd (and match?) so we do not have to go through photoobjall"
   ]
  },
  {
   "cell_type": "markdown",
   "metadata": {
    "collapsed": true
   },
   "source": [
    "### <a href=\"\" target=\"_blank\">Give me astrometry for a given moving object</a>\n",
    "\n",
    "This query was suggested by the LSST Science Collaboration (Solar System)\n",
    "\n",
    "QSERV\n",
    "```sql\n",
    "SELECT diaSourceId, ra, decl\n",
    "FROM   DiaSource\n",
    "WHERE  movingObjectId = :movingObjectId\n",
    "```\n",
    "\n",
    "Note: DiaSource  = \"Table to store 'difference image sources'; - sources detected at SNR >=5 on difference images.\""
   ]
  },
  {
   "cell_type": "code",
   "execution_count": null,
   "metadata": {
    "collapsed": true
   },
   "outputs": [],
   "source": [
    "# Moving objects are found on difference images. Do we have such in Stripe82?\n",
    "# Can we create a table like DiaSOurce from our coadd/match tables?\n"
   ]
  },
  {
   "cell_type": "markdown",
   "metadata": {},
   "source": [
    "# RESULT: FAIL\n",
    "need to have a table with moving objects, DiaSource"
   ]
  },
  {
   "cell_type": "markdown",
   "metadata": {},
   "source": [
    "# Simulating LSST schema:\n",
    "\n",
    "LSST::Source, only for u-band, others treated same\n",
    "```sql\n",
    "CREATE TABLE Filter as (filterId tinyint not null, name char(1) not null)\n",
    "GO\n",
    "\n",
    "INSERT INTO Filter VALUES (1,'u'),(2,'g'),(3,'r'),(4,'i'),(5,'z')\n",
    "GO\n",
    "\n",
    "-- TODO create table statement for SOurce\n",
    "INSERT INTO Source\n",
    "select top 10 m.objId as sourceid,  p.parentId as parentsourceId, p.fieldId as scienceCcdExposureId\n",
    ",      1 as filterId  -- 2 for g etc\n",
    ",      f.mjd_u as timeMid -- start, not mid point of exposure  \n",
    ",      -999 as expTime  -- TODO proper value \n",
    ",      o.cobjid as objectId, o.ra as objectRa, o.dec as objectDecl\n",
    ",      p.ra+p.offsetRA_u/cos(radians(p.dec))/3600 as ra   -- TBD check dec not +/- 90\n",
    ",      p.dec+p.offsetDec_u/3600 as decl\n",
    ",      .1 as raVar, .1 as declVar, 0 as radeclCov   -- SDSS schema has no individual errors on position, correct?\n",
    ",      p.htmId as htmId20 \n",
    ",      p.rowc_u as x       -- should this be isoRowc_u etc\n",
    ",      p.colc_u as y       -- ,,\n",
    ",      p.rowcErr_u as xVar -- ,,\n",
    ",      p.colcErr_u as yVar -- ,,\n",
    ",      p.psfMag_u as psfMag,  psfMagErr_u as psfMagErr -- need fluxes!\n",
    ",      NULL as apFLux, NULL as apFluxSigma     -- TODO can values be found?\n",
    ",      p.modelMag_u as modelFLux, p.modelMagErr_u as modelFluxSigma\n",
    ",      NULL as instFLux, NULL as instFluxSigma -- TODO can values be found?\n",
    ",      \n",
    "  from test.match m\n",
    "     inner join photoobjall p\n",
    "        on p.objid=m.objid\n",
    "     inner join field f\n",
    "        on f.fieldId=o.fieldId\n",
    "     left outer join test.coadd o \n",
    "        on o.cobjid=m.cobjid\n",
    "```\n"
   ]
  },
  {
   "cell_type": "markdown",
   "metadata": {
    "collapsed": true
   },
   "source": [
    "next \n",
    "```sql\n",
    "union\n",
    "  select m.*,'g' , p.psfMag_g , psfMagErr_g \n",
    "from lsst_source m\n",
    "  , photoobjall p\n",
    "where p.objid=m.sourceId\n",
    "  union\n",
    "  select m.*,'r' , p.psfMag_r , psfMagErr_r  \n",
    "from lsst_source m\n",
    "  , photoobjall p\n",
    "where p.objid=m.sourceId\n",
    "    union\n",
    "  select m.*,'i' , p.psfMag_i ,  psfMagErr_i  \n",
    "from lsst_source m\n",
    "  , photoobjall p\n",
    "where p.objid=m.sourceId\n",
    "  union\n",
    "  select m.*,'z' , p.psfMag_z , psfMagErr_z  \n",
    "from lsst_source m\n",
    "  , photoobjall p\n",
    "  where p.objid=m.sourceId\n",
    "```\n",
    "\n",
    "LSST::Object\n",
    "```sql\n",
    "select\n",
    "```"
   ]
  },
  {
   "cell_type": "code",
   "execution_count": null,
   "metadata": {
    "collapsed": true
   },
   "outputs": [],
   "source": []
  },
  {
   "cell_type": "code",
   "execution_count": null,
   "metadata": {
    "collapsed": true
   },
   "outputs": [],
   "source": []
  }
 ],
 "metadata": {
  "kernelspec": {
   "display_name": "Python 3",
   "language": "python",
   "name": "python3"
  },
  "language_info": {
   "codemirror_mode": {
    "name": "ipython",
    "version": 3
   },
   "file_extension": ".py",
   "mimetype": "text/x-python",
   "name": "python",
   "nbconvert_exporter": "python",
   "pygments_lexer": "ipython3",
   "version": "3.5.3"
  }
 },
 "nbformat": 4,
 "nbformat_minor": 1
}
