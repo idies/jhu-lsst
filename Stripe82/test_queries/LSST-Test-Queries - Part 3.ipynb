{
 "cells": [
  {
   "cell_type": "markdown",
   "metadata": {},
   "source": [
    "# Porting LSST test queries to Stripe82++ : part 3\n",
    "\n",
    "Notebook with queries representing the LSST test queries, but against the <a href=\"http://cas.sdss.org/stripe82/en/\" target=\"_blank\">Stripe82 database</a>. The latter was extended with a 'match' and 'coadd' table following script in \n",
    "https://docs.google.com/document/d/1qFOE1s4bQUDM8W7wLzoxb2OK1LaPwzd5Lmy_GKUYut0.\n",
    "\n",
    "Queries from https://dev.lsstcorp.org/trac/wiki/db/queries, third batch:\n",
    "* Select all variable objects of a specific type \n",
    "* Random sample of the data \n",
    "* Find all objects similar to the colors of a quasar with redshift in a given range \n",
    "* Find quasars \n",
    "* Find stars with multiple measurements and with certain magnitude variations \n",
    "* Select all objects with certain variability or period or amplitude \n",
    "* Low-z QSO candidates using the color cuts \n",
    "* Select all \"new\" objects \n",
    "* The BRG sample. Create a volume-limited sample of luminous red galaxies with ? < z < ?  NOT IN QSERV \n",
    "* Return moving objects whose motion uncertainty is smaller than measured motion \n",
    "* Find all galaxies brighter than given magnitude \n",
    "* Find all galaxies with a deVaucouleours profile (rÂ¼ falloff of intensity on disk) and the photometric colors consistent with an elliptical galaxy  NOT IN QSERV \n",
    "* Find extremely red galaxies \n",
    "* Find high proper motion white dwarf candidates \n",
    "* Select objects with proper motion \n",
    "* Select objects with a measured parallax \n",
    "* ...\n",
    "\n",
    "Assuming schema S12_sdss from https://lsst-web.ncsa.illinois.edu/schema/index.php?sVer=S12_sdss\n",
    "\n",
    "Ths notebook is in https://github.com/idies/jhu-lsst/blob/master/Stripe82/test_queries/LSST-Test-Queries%20-%20Part%203.ipynb"
   ]
  },
  {
   "cell_type": "code",
   "execution_count": 1,
   "metadata": {
    "collapsed": true
   },
   "outputs": [],
   "source": [
    "import pandas\n",
    "import matplotlib.pyplot as plt\n",
    "import numpy as np\n",
    "import skimage.io                   # image processing library"
   ]
  },
  {
   "cell_type": "code",
   "execution_count": 2,
   "metadata": {
    "collapsed": true
   },
   "outputs": [],
   "source": [
    "import SciServer.CasJobs as cj"
   ]
  },
  {
   "cell_type": "code",
   "execution_count": 3,
   "metadata": {
    "collapsed": true
   },
   "outputs": [],
   "source": [
    "import SciServer.SkyServer as skyS"
   ]
  },
  {
   "cell_type": "code",
   "execution_count": 4,
   "metadata": {
    "collapsed": true
   },
   "outputs": [],
   "source": [
    "# define some variable to be used in query execution\n",
    "\n",
    "TARGET_CONTEXT=\"Stripe82_016\""
   ]
  },
  {
   "cell_type": "code",
   "execution_count": 5,
   "metadata": {
    "collapsed": false
   },
   "outputs": [
    {
     "data": {
      "text/html": [
       "<div>\n",
       "<style>\n",
       "    .dataframe thead tr:only-child th {\n",
       "        text-align: right;\n",
       "    }\n",
       "\n",
       "    .dataframe thead th {\n",
       "        text-align: left;\n",
       "    }\n",
       "\n",
       "    .dataframe tbody tr th {\n",
       "        vertical-align: top;\n",
       "    }\n",
       "</style>\n",
       "<table border=\"1\" class=\"dataframe\">\n",
       "  <thead>\n",
       "    <tr style=\"text-align: right;\">\n",
       "      <th></th>\n",
       "      <th>objId</th>\n",
       "      <th>ra</th>\n",
       "      <th>dec</th>\n",
       "      <th>petror90_r</th>\n",
       "    </tr>\n",
       "  </thead>\n",
       "  <tbody>\n",
       "    <tr>\n",
       "      <th>0</th>\n",
       "      <td>8647474690327707860</td>\n",
       "      <td>-15.410634</td>\n",
       "      <td>-1.183950</td>\n",
       "      <td>14.83797</td>\n",
       "    </tr>\n",
       "    <tr>\n",
       "      <th>1</th>\n",
       "      <td>8647474690330001465</td>\n",
       "      <td>-10.275765</td>\n",
       "      <td>-1.060240</td>\n",
       "      <td>23.09696</td>\n",
       "    </tr>\n",
       "    <tr>\n",
       "      <th>2</th>\n",
       "      <td>8647474690340618618</td>\n",
       "      <td>14.095148</td>\n",
       "      <td>-1.209754</td>\n",
       "      <td>13.53837</td>\n",
       "    </tr>\n",
       "  </tbody>\n",
       "</table>\n",
       "</div>"
      ],
      "text/plain": [
       "                 objId         ra       dec  petror90_r\n",
       "0  8647474690327707860 -15.410634 -1.183950    14.83797\n",
       "1  8647474690330001465 -10.275765 -1.060240    23.09696\n",
       "2  8647474690340618618  14.095148 -1.209754    13.53837"
      ]
     },
     "execution_count": 5,
     "metadata": {},
     "output_type": "execute_result"
    }
   ],
   "source": [
    "# SLOW\n",
    "# We should add more columns to coadd\n",
    "sql=\"\"\"\n",
    "SELECT TOP 16 p.objId,c.ra,c.dec,p.petror90_r\n",
    "  FROM test.coadd as c\n",
    "  inner join photoobjall AS p\n",
    "  on c.cobjid=p.objid\n",
    "  and c.type=3\n",
    "  and c.u BETWEEN 0 AND 19.6\n",
    "  AND c.g BETWEEN 0 AND 17\n",
    "  AND p.petror90_r > 10\n",
    "\"\"\"\n",
    "df=cj.executeQuery(sql,TARGET_CONTEXT)\n",
    "df.head(3)"
   ]
  },
  {
   "cell_type": "code",
   "execution_count": 6,
   "metadata": {
    "collapsed": true
   },
   "outputs": [],
   "source": [
    "OBJECT_ID=df['objId'][0]"
   ]
  },
  {
   "cell_type": "markdown",
   "metadata": {},
   "source": [
    "### <a href=\"https://dev.lsstcorp.org/trac/wiki/db/queries/002\" target=\"_blank\">Select all variable objects of a specific type </a>\n",
    "\n",
    "https://dev.lsstcorp.org/trac/wiki/db/queries/002\n",
    "\n",
    "QSERV\n",
    "```sql\n",
    "SELECT *\n",
    "FROM   Object\n",
    "JOIN   _ObjectToType USING(objectId)\n",
    "JOIN   ObjectType USING (typeId)\n",
    "WHERE  description = 'Supernova'\n",
    "  AND  variability > 0.8\n",
    "  AND  probability > 0.8\n",
    "```\n",
    "\n",
    "Uses <a href=\"https://lsst-web.ncsa.illinois.edu/schema/index.php?sVer=S12_sdss&t=ObjectType\" target=\"_blank\">ObjectType</a> table. Assuming Stripe82 has something similar, though with far fewer entries most likely, only the "
   ]
  },
  {
   "cell_type": "code",
   "execution_count": null,
   "metadata": {
    "collapsed": false
   },
   "outputs": [],
   "source": [
    "\n",
    "sql=\"\"\"\n",
    "select top 10 o.*\n",
    "  from test.coadd c \n",
    " where c.type=dbo.fPhotoType('Star') \n",
    "\"\"\" \n",
    "df=cj.executeQuery(sql,TARGET_CONTEXT)\n",
    "df.head()\n",
    "\n",
    "\n",
    "# use fPhotoType as alternative to _ObjectToType\n",
    "# Stripe82 does not yet have an ObjectType table, but can be added"
   ]
  },
  {
   "cell_type": "code",
   "execution_count": null,
   "metadata": {
    "collapsed": true
   },
   "outputs": [],
   "source": []
  }
 ],
 "metadata": {
  "kernelspec": {
   "display_name": "Python 3",
   "language": "python",
   "name": "python3"
  },
  "language_info": {
   "codemirror_mode": {
    "name": "ipython",
    "version": 3
   },
   "file_extension": ".py",
   "mimetype": "text/x-python",
   "name": "python",
   "nbconvert_exporter": "python",
   "pygments_lexer": "ipython3",
   "version": "3.5.3"
  }
 },
 "nbformat": 4,
 "nbformat_minor": 1
}
