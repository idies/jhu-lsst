{
 "cells": [
  {
   "cell_type": "markdown",
   "metadata": {},
   "source": [
    "# Porting LSST test queries to Stripe82++ : part 2\n",
    "Ani will do this one.\n",
    "\n",
    "Notebook with queries representing LSST test queries, but against the Stripe82 database. The latter was extended with a 'match' and 'coadd' table following script in \n",
    "https://docs.google.com/document/d/1qFOE1s4bQUDM8W7wLzoxb2OK1LaPwzd5Lmy_GKUYut0.\n",
    "\n",
    "Queries from https://dev.lsstcorp.org/trac/wiki/db/queries, second batch:\n",
    "<pre>\n",
    "Cone-magnitude-color search \n",
    "Select all galaxies in given area \n",
    "Select all variable objects in given area \n",
    "Select time series data for all objects in a given area of the sky, in a given photometric band with a given variability index \n",
    "How many objects cross both Jupiter and Saturn? \n",
    "Select all unresolved objects (stellar PSF) in a given region of sky, and return their attributes \n",
    "Select all unresolved object in a specified region with cuts on attributes \n",
    "For a specified patch of sky, give me the source count density of unresolved sources (star like morphology) \n",
    "</pre>\n",
    "\n",
    "Assuming LSST schema S12_sdss from https://lsst-web.ncsa.illinois.edu/schema/index.php?sVer=S12_sdss\n",
    "\n",
    "Ths notebook is in http://github/com/idies/jhu-lsst/Stripe82/test_queries/LSST-Test-Queries%20-%20Part%202.ipynb"
   ]
  },
  {
   "cell_type": "code",
   "execution_count": null,
   "metadata": {
    "collapsed": false
   },
   "outputs": [],
   "source": [
    "import pandas\n",
    "import matplotlib.pyplot as plt\n",
    "import numpy as np\n",
    "import skimage.io                   # image processing library\n",
    "\n",
    "\n",
    "import SciServer.CasJobs as cj\n",
    "import SciServer.SkyServer as skyS"
   ]
  },
  {
   "cell_type": "code",
   "execution_count": 1,
   "metadata": {
    "collapsed": true
   },
   "outputs": [],
   "source": [
    "# define some variable to be used in query execution\n",
    "TARGET_CONTEXT=\"Stripe82_016\"\n",
    "raMin = \"308\"\n",
    "raMax = \"310\"\n",
    "decMin = \"-1.5\"\n",
    "decMax = \"-0.5\"\n",
    "zMin = \"19\"\n",
    "zMax =\"22\"\n",
    "grMin = \"1\"\n",
    "grMax = \"1.5\"\n",
    "izMin = \"0.5\"\n",
    "izMax = \"1\""
   ]
  },
  {
   "cell_type": "markdown",
   "metadata": {},
   "source": [
    "### <a href=\"https://dev.lsstcorp.org/trac/wiki/db/queries/003\" target=\"_blank\">Cone-magnitude-color search</a>\n",
    "\n",
    "https://dev.lsstcorp.org/trac/wiki/db/queries/003\n",
    "\n",
    "QSERV\n",
    "```sql\n",
    "SELECT  *\n",
    "FROM    Object\n",
    "WHERE   areaSpec_box(:raMin, :declMin, :raMax, :declMax)\n",
    "   AND  zMag      BETWEEN :zMin  AND :zMax\n",
    "   AND  gMag-rMag BETWEEN :grMin AND :grMax\n",
    "   AND  iMag-zMag BETWEEN :izMin AND :izMax\n",
    "```"
   ]
  },
  {
   "cell_type": "code",
   "execution_count": null,
   "metadata": {
    "collapsed": false,
    "scrolled": true
   },
   "outputs": [],
   "source": [
    "# Replaced the \"select *\" with a list to avoid a huge output.  Also added a \"top 10\". The HTM version is not working ATM,\n",
    "# looks like the assembly is not initialized properly in the DB.\n",
    "sql=\"\"\"\n",
    "SELECT  TOP 10 b.objID, b.ra, b.dec, b.u, b.g, b.r, b.i, b.z\n",
    "FROM \n",
    "   -- dbo.fGetObjFromRectEq( 180, -0.5, 180.1, -0.4) a      -- HTM version\n",
    "   -- JOIN PhotoObjAll b ON a.objID=b.objID                 -- HTM Version\n",
    "   PhotoObjAll b \n",
    "WHERE\n",
    "   ra between \"\"\"+raMin+\"\"\" and \"\"\"+raMax+\"\"\"\n",
    "   AND dec between \"\"\"+decMin+\"\"\" and \"\"\"+decMax+\"\"\"\n",
    "   AND  z BETWEEN \"\"\"+zMin+\"\"\" and \"\"\"+zMax+\"\"\"\n",
    "   AND  g-r BETWEEN \"\"\"+grMin+\"\"\" and \"\"\"+grMax+\"\"\"\n",
    "   AND  i-z BETWEEN \"\"\"+izMin+\"\"\" and \"\"\"+izMax+\"\"\"\n",
    "\"\"\"\n",
    "df=cj.executeQuery(sql,TARGET_CONTEXT)\n",
    "#g=pandas.read_csv(gals)\n",
    "df"
   ]
  },
  {
   "cell_type": "markdown",
   "metadata": {
    "collapsed": true
   },
   "source": [
    "### <a href=\"https://dev.lsstcorp.org/trac/wiki/db/queries/014\" target=\"_blank\">Select all galaxies in given area</a>\n",
    "\n",
    "https://dev.lsstcorp.org/trac/wiki/db/queries/014\n",
    "    \n",
    "QSERV\n",
    "```sql\n",
    "SELECT objectId\n",
    "FROM   Object\n",
    "WHERE  areaSpec_box(:raMin, :declMin, :raMax, :declMax)\n",
    "AND    extendedParameter > 0.8\n",
    "```"
   ]
  },
  {
   "cell_type": "code",
   "execution_count": 16,
   "metadata": {
    "collapsed": false
   },
   "outputs": [
    {
     "data": {
      "text/html": [
       "<div>\n",
       "<style>\n",
       "    .dataframe thead tr:only-child th {\n",
       "        text-align: right;\n",
       "    }\n",
       "\n",
       "    .dataframe thead th {\n",
       "        text-align: left;\n",
       "    }\n",
       "\n",
       "    .dataframe tbody tr th {\n",
       "        vertical-align: top;\n",
       "    }\n",
       "</style>\n",
       "<table border=\"1\" class=\"dataframe\">\n",
       "  <thead>\n",
       "    <tr style=\"text-align: right;\">\n",
       "      <th></th>\n",
       "      <th>objID</th>\n",
       "      <th>ra</th>\n",
       "      <th>dec</th>\n",
       "      <th>petroRad_r</th>\n",
       "    </tr>\n",
       "  </thead>\n",
       "  <tbody>\n",
       "    <tr>\n",
       "      <th>0</th>\n",
       "      <td>8658194323094438011</td>\n",
       "      <td>308.000001</td>\n",
       "      <td>-1.080312</td>\n",
       "      <td>2.969953</td>\n",
       "    </tr>\n",
       "    <tr>\n",
       "      <th>1</th>\n",
       "      <td>8658200920164206050</td>\n",
       "      <td>308.000001</td>\n",
       "      <td>-1.219354</td>\n",
       "      <td>2.729609</td>\n",
       "    </tr>\n",
       "    <tr>\n",
       "      <th>2</th>\n",
       "      <td>8658476657062119693</td>\n",
       "      <td>308.000002</td>\n",
       "      <td>-1.227750</td>\n",
       "      <td>4.583994</td>\n",
       "    </tr>\n",
       "    <tr>\n",
       "      <th>3</th>\n",
       "      <td>8658174750926046477</td>\n",
       "      <td>308.000002</td>\n",
       "      <td>-1.219350</td>\n",
       "      <td>4.738014</td>\n",
       "    </tr>\n",
       "    <tr>\n",
       "      <th>4</th>\n",
       "      <td>8658198588533179532</td>\n",
       "      <td>308.000003</td>\n",
       "      <td>-0.733367</td>\n",
       "      <td>2.970514</td>\n",
       "    </tr>\n",
       "    <tr>\n",
       "      <th>5</th>\n",
       "      <td>8658197844966310164</td>\n",
       "      <td>308.000003</td>\n",
       "      <td>-1.057900</td>\n",
       "      <td>2.969805</td>\n",
       "    </tr>\n",
       "    <tr>\n",
       "      <th>6</th>\n",
       "      <td>8658188335907932731</td>\n",
       "      <td>308.000004</td>\n",
       "      <td>-1.227764</td>\n",
       "      <td>2.970030</td>\n",
       "    </tr>\n",
       "    <tr>\n",
       "      <th>7</th>\n",
       "      <td>8658197973817952061</td>\n",
       "      <td>308.000006</td>\n",
       "      <td>-1.203791</td>\n",
       "      <td>2.969872</td>\n",
       "    </tr>\n",
       "    <tr>\n",
       "      <th>8</th>\n",
       "      <td>8658197879326378193</td>\n",
       "      <td>308.000010</td>\n",
       "      <td>-1.203811</td>\n",
       "      <td>2.969768</td>\n",
       "    </tr>\n",
       "    <tr>\n",
       "      <th>9</th>\n",
       "      <td>8658198064010494056</td>\n",
       "      <td>308.000013</td>\n",
       "      <td>-1.086952</td>\n",
       "      <td>16.800340</td>\n",
       "    </tr>\n",
       "  </tbody>\n",
       "</table>\n",
       "</div>"
      ],
      "text/plain": [
       "                 objID          ra       dec  petroRad_r\n",
       "0  8658194323094438011  308.000001 -1.080312    2.969953\n",
       "1  8658200920164206050  308.000001 -1.219354    2.729609\n",
       "2  8658476657062119693  308.000002 -1.227750    4.583994\n",
       "3  8658174750926046477  308.000002 -1.219350    4.738014\n",
       "4  8658198588533179532  308.000003 -0.733367    2.970514\n",
       "5  8658197844966310164  308.000003 -1.057900    2.969805\n",
       "6  8658188335907932731  308.000004 -1.227764    2.970030\n",
       "7  8658197973817952061  308.000006 -1.203791    2.969872\n",
       "8  8658197879326378193  308.000010 -1.203811    2.969768\n",
       "9  8658198064010494056  308.000013 -1.086952   16.800340"
      ]
     },
     "execution_count": 16,
     "metadata": {},
     "output_type": "execute_result"
    }
   ],
   "source": [
    "# Replaced \"extendedParameter\" with Petrosian radius in r band and ran it on Galaxy view.  \n",
    "# Also added a \"top 10\". The HTM version is not working ATM, looks like the assembly is not initialized properly in the DB.\n",
    "rMin = \"2.5\"\n",
    "sql=\"\"\"\n",
    "SELECT  TOP 10 b.objID, b.ra, b.dec, b.petroRad_r\n",
    "FROM \n",
    "   -- dbo.fGetObjFromRectEq( 180, -0.5, 180.1, -0.4) a      -- HTM version\n",
    "   -- JOIN PhotoObjAll b ON a.objID=b.objID                 -- HTM Version\n",
    "   Galaxy b \n",
    "WHERE\n",
    "   ra between \"\"\"+raMin+\"\"\" and \"\"\"+raMax+\"\"\"\n",
    "   AND dec between \"\"\"+decMin+\"\"\" and \"\"\"+decMax+\"\"\"\n",
    "   AND petroRad_r > \"\"\"+rMin+\"\"\"\n",
    "\"\"\"\n",
    "df=cj.executeQuery(sql,TARGET_CONTEXT)\n",
    "#g=pandas.read_csv(gals)\n",
    "df"
   ]
  },
  {
   "cell_type": "markdown",
   "metadata": {},
   "source": [
    "### <a href=\"https://dev.lsstcorp.org/trac/wiki/db/queries/008\" target=\"_blank\">Select all variable objects in given area</a>\n",
    "\n",
    "https://dev.lsstcorp.org/trac/wiki/db/queries/008\n",
    "\n",
    "QSERV\n",
    "```sql\n",
    "SELECT objectId\n",
    "FROM   Object\n",
    "WHERE  areaSpec(:raMin, :declMin, :raMax, :declMax)\n",
    "AND    variability > 0.8\n",
    "```"
   ]
  },
  {
   "cell_type": "code",
   "execution_count": 11,
   "metadata": {
    "collapsed": false
   },
   "outputs": [
    {
     "data": {
      "text/html": [
       "<div>\n",
       "<style>\n",
       "    .dataframe thead tr:only-child th {\n",
       "        text-align: right;\n",
       "    }\n",
       "\n",
       "    .dataframe thead th {\n",
       "        text-align: left;\n",
       "    }\n",
       "\n",
       "    .dataframe tbody tr th {\n",
       "        vertical-align: top;\n",
       "    }\n",
       "</style>\n",
       "<table border=\"1\" class=\"dataframe\">\n",
       "  <thead>\n",
       "    <tr style=\"text-align: right;\">\n",
       "      <th></th>\n",
       "      <th>objID</th>\n",
       "    </tr>\n",
       "  </thead>\n",
       "  <tbody>\n",
       "    <tr>\n",
       "      <th>0</th>\n",
       "      <td>8658194658100054697</td>\n",
       "    </tr>\n",
       "    <tr>\n",
       "      <th>1</th>\n",
       "      <td>8658194323094438011</td>\n",
       "    </tr>\n",
       "    <tr>\n",
       "      <th>2</th>\n",
       "      <td>8658201040424077601</td>\n",
       "    </tr>\n",
       "    <tr>\n",
       "      <th>3</th>\n",
       "      <td>8658198235809187648</td>\n",
       "    </tr>\n",
       "    <tr>\n",
       "      <th>4</th>\n",
       "      <td>8658476657062118983</td>\n",
       "    </tr>\n",
       "    <tr>\n",
       "      <th>5</th>\n",
       "      <td>8658200567976363654</td>\n",
       "    </tr>\n",
       "    <tr>\n",
       "      <th>6</th>\n",
       "      <td>8658200920164206050</td>\n",
       "    </tr>\n",
       "    <tr>\n",
       "      <th>7</th>\n",
       "      <td>8658476657062119693</td>\n",
       "    </tr>\n",
       "    <tr>\n",
       "      <th>8</th>\n",
       "      <td>8658200950228648999</td>\n",
       "    </tr>\n",
       "    <tr>\n",
       "      <th>9</th>\n",
       "      <td>8658197999585921342</td>\n",
       "    </tr>\n",
       "  </tbody>\n",
       "</table>\n",
       "</div>"
      ],
      "text/plain": [
       "                 objID\n",
       "0  8658194658100054697\n",
       "1  8658194323094438011\n",
       "2  8658201040424077601\n",
       "3  8658198235809187648\n",
       "4  8658476657062118983\n",
       "5  8658200567976363654\n",
       "6  8658200920164206050\n",
       "7  8658476657062119693\n",
       "8  8658200950228648999\n",
       "9  8658197999585921342"
      ]
     },
     "execution_count": 11,
     "metadata": {},
     "output_type": "execute_result"
    }
   ],
   "source": [
    "# Need to find a substitute for the \"variability\" column that is used in the source query (but doesn't exist in their\n",
    "# schema either).\n",
    "sql=\"\"\"\n",
    "SELECT  TOP 10 p.objID\n",
    "FROM \n",
    "   -- dbo.fGetObjFromRectEq( 180, -0.5, 180.1, -0.4) o      -- HTM version\n",
    "   -- JOIN PhotoTag p ON o.objID=p.objID                    -- HTM Version\n",
    "   PhotoTag p \n",
    "WHERE\n",
    "   p.ra between \"\"\"+raMin+\"\"\" and \"\"\"+raMax+\"\"\"\n",
    "   AND p.dec between \"\"\"+decMin+\"\"\" and \"\"\"+decMax+\"\"\"\n",
    "-- need some kind of variability test:\n",
    "--  AND variabiliy > 0.8\n",
    "\"\"\"\n",
    "df=cj.executeQuery(sql,TARGET_CONTEXT)\n",
    "#g=pandas.read_csv(gals)\n",
    "df"
   ]
  },
  {
   "cell_type": "markdown",
   "metadata": {
    "collapsed": true
   },
   "source": [
    "### <a href=\"https://dev.lsstcorp.org/trac/wiki/db/queries/007\" target=\"_blank\">Select time series data for all objects in a given area of the sky, in a given photometric band with a given variability index</a>\n",
    "\n",
    "https://dev.lsstcorp.org/trac/wiki/db/queries/007\n",
    "\n",
    "QSERV\n",
    "```sql\n",
    "SELECT objectId, taiMidPoint, fluxToAbMag(psfMag)\n",
    "FROM   Source\n",
    "JOIN   Object USING(objectId)\n",
    "JOIN   Filter USING(filterId)\n",
    "WHERE  areaSpec_box(:raMin, :declMin, :raMax, :declMax)\n",
    "  AND  filterName = 'u'\n",
    "  AND  variability BETWEEN :varMin AND :varMax\n",
    "ORDER BY objectId, taiMidPoint ASC\n",
    "```"
   ]
  },
  {
   "cell_type": "code",
   "execution_count": null,
   "metadata": {
    "collapsed": true
   },
   "outputs": [],
   "source": [
    "# Need a variability column for this one too. Not sure if it variability is meant to be mmeasured per filter (their page says\n",
    "# the column should be in Object, not Source, so presumably not). Anyway, tried a naive variability measure using stdev of \n",
    "# psfMag in r band.\n",
    "sql=\"\"\"\n",
    "SELECT \n",
    "    TOP 10\n",
    "    p.objID, f.mjd_u, p.psfMag_u, a.sigma\n",
    "FROM MatchHead h\n",
    "    JOIN PhotoTag p ON p.objID=h.objID\n",
    "    CROSS APPLY (SELECT STDEV(q.r) AS sigma \n",
    "                 FROM Match m \n",
    "                     JOIN Photoobj q ON m.objID2=q.objID \n",
    "                 WHERE m.objID1=h.objID AND q.r BETWEEN 0 AND 25) a    \n",
    "    JOIN Field f ON f.fieldID=p.fieldID\n",
    "WHERE \n",
    "   p.ra between \"\"\"+raMin+\"\"\" and \"\"\"+raMax+\"\"\"\n",
    "   AND p.dec between \"\"\"+decMin+\"\"\" and \"\"\"+decMax+\"\"\"\n",
    "   AND a.sigma > 1\n",
    "ORDER BY p.objID, f.mjd_u ASC\n",
    "\"\"\"\n",
    "df=cj.executeQuery(sql,TARGET_CONTEXT)\n",
    "#g=pandas.read_csv(gals)\n",
    "df"
   ]
  },
  {
   "cell_type": "markdown",
   "metadata": {},
   "source": [
    "### <a href=\"https://dev.lsstcorp.org/trac/wiki/db/queries/050\" target=\"_blank\">How many objects cross both Jupiter and Saturn?</a>\n",
    "\n",
    "https://dev.lsstcorp.org/trac/wiki/db/queries/050\n",
    "    \n",
    "QSERV\n",
    "```sql\n",
    "SELECT COUNT(movingObjectId) \n",
    "FROM MovingObject \n",
    "WHERE q < 5.2             -- perihelion distance\n",
    "  AND q*(1+e)/(1-e) > 9.6 -- aphelion distance\n",
    "--     note for some objects this may not be well defined (e may be very close to 1) \n",
    "```"
   ]
  },
  {
   "cell_type": "code",
   "execution_count": null,
   "metadata": {
    "collapsed": true
   },
   "outputs": [],
   "source": [
    "# Not sure how we can do this one at the moment."
   ]
  },
  {
   "cell_type": "markdown",
   "metadata": {},
   "source": [
    "### <a href=\"https://dev.lsstcorp.org/trac/wiki/db/queries/050\" target=\"_blank\">Select all unresolved objects (stellar PSF) in a given region of sky, and return their attributes</a>\n",
    "\n",
    "https://dev.lsstcorp.org/trac/wiki/db/queries/053\n",
    "\n",
    "QSERV\n",
    "```sql\n",
    "SELECT parallax, uMag, gMag, rMag, iMag, zMag, yMag, muRA, muDecl,\n",
    "       uVarProb, gVarProb, rVarProb, iVarProb, zVarProb, yVarProb\n",
    "FROM   Object\n",
    "WHERE  areaSpec(:raMin, :declMin, :raMax, :declMax)\n",
    "  AND  extendedParameter < 0.2\n",
    "```"
   ]
  },
  {
   "cell_type": "code",
   "execution_count": null,
   "metadata": {
    "collapsed": true
   },
   "outputs": [],
   "source": [
    "# Do we have parallax in the Stripe 82 db?  Looks like ProperMotions table is empty. Otherwise this query is simpler in SDSS.\n",
    "sql=\"\"\"\n",
    "SELECT \n",
    "-- parallax, \n",
    "    u, g, r, i, z, \n",
    "-- muRA, muDecl,\n",
    "-- uVarProb, gVarProb, rVarProb, iVarProb, zVarProb, yVarProb\n",
    "FROM   Star\n",
    "WHERE  \n",
    "   p.ra between \"\"\"+raMin+\"\"\" and \"\"\"+raMax+\"\"\"\n",
    "   AND p.dec between \"\"\"+decMin+\"\"\" and \"\"\"+decMax+\"\"\"\n",
    "\"\"\"\n",
    "df=cj.executeQuery(sql,TARGET_CONTEXT)\n",
    "#g=pandas.read_csv(gals)\n",
    "df"
   ]
  },
  {
   "cell_type": "code",
   "execution_count": null,
   "metadata": {
    "collapsed": true
   },
   "outputs": [],
   "source": []
  }
 ],
 "metadata": {
  "kernelspec": {
   "display_name": "Python 3",
   "language": "python",
   "name": "python3"
  },
  "language_info": {
   "codemirror_mode": {
    "name": "ipython",
    "version": 3
   },
   "file_extension": ".py",
   "mimetype": "text/x-python",
   "name": "python",
   "nbconvert_exporter": "python",
   "pygments_lexer": "ipython3",
   "version": "3.5.3"
  }
 },
 "nbformat": 4,
 "nbformat_minor": 0
}
