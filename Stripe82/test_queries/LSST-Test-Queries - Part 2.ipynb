{
 "cells": [
  {
   "cell_type": "markdown",
   "metadata": {},
   "source": [
    "# Porting LSST test queries to Stripe82++ : part 2\n",
    "Ani will do this one.\n",
    "\n",
    "Notebook with queries representing LSST test queries, but against the Stripe82 database. The latter was extended with a 'match' and 'coadd' table following script in \n",
    "https://docs.google.com/document/d/1qFOE1s4bQUDM8W7wLzoxb2OK1LaPwzd5Lmy_GKUYut0.\n",
    "\n",
    "Queries from https://dev.lsstcorp.org/trac/wiki/db/queries, second batch:\n",
    "<pre>\n",
    "Cone-magnitude-color search \n",
    "Select all galaxies in given area \n",
    "Select all variable objects in given area \n",
    "Select time series data for all objects in a given area of the sky, in a given photometric band with a given variability index \n",
    "How many objects cross both Jupiter and Saturn? \n",
    "Select all unresolved objects (stellar PSF) in a given region of sky, and return their attributes \n",
    "Select all unresolved object in a specified region with cuts on attributes \n",
    "For a specified patch of sky, give me the source count density of unresolved sources (star like morphology) \n",
    "</pre>\n",
    "\n",
    "Assuming LSST schema S12_sdss from https://lsst-web.ncsa.illinois.edu/schema/index.php?sVer=S12_sdss\n",
    "\n",
    "Ths notebook is in http://github/com/idies/jhu-lsst/Stripe82/test_queries/LSST-Test-Queries%20-%20Part%202.ipynb"
   ]
  },
  {
   "cell_type": "code",
   "execution_count": 1,
   "metadata": {
    "collapsed": true
   },
   "outputs": [],
   "source": [
    "import pandas\n",
    "import matplotlib.pyplot as plt\n",
    "import numpy as np\n",
    "import skimage.io                   # image processing library\n",
    "\n",
    "\n",
    "import SciServer.CasJobs as cj\n",
    "import SciServer.SkyServer as skyS"
   ]
  },
  {
   "cell_type": "code",
   "execution_count": 2,
   "metadata": {
    "collapsed": true
   },
   "outputs": [],
   "source": [
    "# define some variable to be used in query execution\n",
    "TARGET_CONTEXT=\"Stripe82_016\"\n"
   ]
  },
  {
   "cell_type": "code",
   "execution_count": null,
   "metadata": {
    "collapsed": true
   },
   "outputs": [],
   "source": []
  }
 ],
 "metadata": {
  "kernelspec": {
   "display_name": "Python 3",
   "language": "python",
   "name": "python3"
  },
  "language_info": {
   "codemirror_mode": {
    "name": "ipython",
    "version": 3
   },
   "file_extension": ".py",
   "mimetype": "text/x-python",
   "name": "python",
   "nbconvert_exporter": "python",
   "pygments_lexer": "ipython3",
   "version": "3.5.3"
  }
 },
 "nbformat": 4,
 "nbformat_minor": 0
}
