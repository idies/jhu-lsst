{
 "cells": [
  {
   "cell_type": "markdown",
   "metadata": {},
   "source": [
    "# Testing swiftly API\n",
    "Links:\n",
    "* https://realtime-docs.goswift.ly/intro\n",
    "* http://gtfsbook.com/\n",
    "* https://geoffboeing.com/2019/09/urban-street-network-orientation/#more-3873"
   ]
  },
  {
   "cell_type": "markdown",
   "metadata": {},
   "source": [
    "Run this Notebook on a SciServer container with the Geo image\n",
    "This notebook needs some libraries to be installed.\n",
    "\n",
    "TBD describe which"
   ]
  },
  {
   "cell_type": "code",
   "execution_count": null,
   "metadata": {},
   "outputs": [],
   "source": [
    "import requests\n",
    "import json\n",
    "from google.transit import gtfs_realtime_pb2\n",
    "from datetime import datetime\n",
    "import pytz\n",
    "import time"
   ]
  },
  {
   "cell_type": "code",
   "execution_count": null,
   "metadata": {},
   "outputs": [],
   "source": [
    "from ipyleaflet import Map, Marker, CircleMarker, Polygon, Rectangle\n",
    "from ipywidgets import HTML\n",
    "import numpy as np"
   ]
  },
  {
   "cell_type": "code",
   "execution_count": null,
   "metadata": {},
   "outputs": [],
   "source": [
    "API_key='e6c3156850ece799033be8a177b43095'\n",
    "#API Documentation: https://realtime-docs.goswift.ly/\n",
    "agencyKey='mta-maryland'\n",
    "#agencyKey='mta-newyork'\n"
   ]
  },
  {
   "cell_type": "code",
   "execution_count": null,
   "metadata": {},
   "outputs": [],
   "source": [
    "base_url='https://api.goswift.ly/'\n",
    "headers={\"Authorization\":API_key,'Accept':'application/json'}"
   ]
  },
  {
   "cell_type": "code",
   "execution_count": null,
   "metadata": {},
   "outputs": [],
   "source": [
    "r=requests.get(url=base_url+'test-key',headers=headers)\n",
    "test=json.loads(r.content.decode())\n",
    "test"
   ]
  },
  {
   "cell_type": "code",
   "execution_count": null,
   "metadata": {},
   "outputs": [],
   "source": [
    "r=requests.get(url=base_url+'info/'+agencyKey,headers=headers)\n",
    "info=json.loads(r.content.decode())\n",
    "info"
   ]
  },
  {
   "cell_type": "markdown",
   "metadata": {},
   "source": [
    "# plot area on map"
   ]
  },
  {
   "cell_type": "code",
   "execution_count": null,
   "metadata": {},
   "outputs": [],
   "source": [
    "def addVehicle2Map(m,vehicle):\n",
    "    '''\n",
    "    this function defines markers and puts these on a ipyleaflet Map.\n",
    "    Clicking on them gives a pop-up with links to images/drawings.\n",
    "    '''\n",
    "    loc=(vehicle.position.latitude,vehicle.position.longitude)\n",
    "    ts=vehicle.timestamp\n",
    "    ts=datetime.fromtimestamp(entity.vehicle.timestamp)\n",
    "    utc_now = pytz.utc.localize(ts)\n",
    "    pst_now = utc_now.astimezone(pytz.timezone(\"America/New_York\"))\n",
    "    marker = CircleMarker()\n",
    "    marker.location = loc\n",
    "    marker.radius = 1\n",
    "    marker.color = \"red\"\n",
    "    marker.fill_color = \"red\"\n",
    "\n",
    "    message=HTML()\n",
    "    message.value=\"Vehicle: {0} [{1}]\".format(vehicle.vehicle.id,pst_now)\n",
    "    \n",
    "    marker.popup=message\n",
    "    return marker\n"
   ]
  },
  {
   "cell_type": "code",
   "execution_count": null,
   "metadata": {},
   "outputs": [],
   "source": [
    "ll = (info['data']['extent']['minLat'],info['data']['extent']['minLon'])\n",
    "ur = (info['data']['extent']['maxLat'],info['data']['extent']['maxLon'])\n",
    "\n",
    "center=tuple((np.array(ll)+np.array(ur))/2)"
   ]
  },
  {
   "cell_type": "code",
   "execution_count": null,
   "metadata": {
    "scrolled": false
   },
   "outputs": [],
   "source": [
    "m = Map(center=center, zoom=10)\n",
    "m.scroll_wheel_zoom=True\n",
    "m.layout.height='700px'\n",
    "m.layout.width='700px'\n",
    "\n",
    "rectangle = Rectangle(bounds=(ll,ur),weight=2,fill=False)\n",
    "\n",
    "m.add_layer(rectangle)\n",
    "\n",
    "display(m)"
   ]
  },
  {
   "cell_type": "code",
   "execution_count": null,
   "metadata": {
    "scrolled": true
   },
   "outputs": [],
   "source": [
    "while True:\n",
    "    r=requests.get(url=base_url+'real-time/'+agencyKey+\"/gtfs-rt-vehicle-positions\",headers=headers)\n",
    "\n",
    "    feed = gtfs_realtime_pb2.FeedMessage()\n",
    "    feed.ParseFromString(r.content)\n",
    "    feed.entity\n",
    "    markers=[]\n",
    "    for ix,entity in enumerate(feed.entity):\n",
    "        if entity.HasField('vehicle'):\n",
    "            markers.append(addVehicle2Map(m,entity.vehicle))\n",
    "            if ix > 10:\n",
    "                break\n",
    "    marker_cluster = MarkerCluster(markers=markers)\n",
    "    m.add_layer(marker_cluster)\n",
    "    time.sleep(30)\n",
    "    "
   ]
  },
  {
   "cell_type": "code",
   "execution_count": null,
   "metadata": {},
   "outputs": [],
   "source": [
    "r=requests.get(url=base_url+'info/'+agencyKey+\"/routes\",headers=headers)\n",
    "routes=json.loads(r.content.decode())\n",
    "routes"
   ]
  },
  {
   "cell_type": "code",
   "execution_count": null,
   "metadata": {},
   "outputs": [],
   "source": [
    "params={'route':'11735,11744','verbose':False}\n",
    "r=requests.get(url=base_url+'info/'+agencyKey+\"/routes\",headers=headers,params=params)\n",
    "route=json.loads(r.content.decode())\n",
    "route"
   ]
  },
  {
   "cell_type": "code",
   "execution_count": null,
   "metadata": {},
   "outputs": [],
   "source": [
    "params={'route':'11735','verbose':False}\n",
    "r=requests.get(url=base_url+'real-time/'+agencyKey+\"/vehicles\",headers=headers,params=params)\n",
    "route=json.loads(r.content.decode())\n",
    "for vehicle in route['data']['vehicles']:\n",
    "    print(datetime.fromtimestamp(vehicle['loc']['time']))"
   ]
  },
  {
   "cell_type": "code",
   "execution_count": null,
   "metadata": {},
   "outputs": [],
   "source": []
  },
  {
   "cell_type": "code",
   "execution_count": null,
   "metadata": {},
   "outputs": [],
   "source": []
  },
  {
   "cell_type": "code",
   "execution_count": null,
   "metadata": {},
   "outputs": [],
   "source": [
    "vehicle"
   ]
  },
  {
   "cell_type": "code",
   "execution_count": null,
   "metadata": {},
   "outputs": [],
   "source": []
  }
 ],
 "metadata": {
  "kernelspec": {
   "display_name": "Python 3",
   "language": "python",
   "name": "python3"
  },
  "language_info": {
   "codemirror_mode": {
    "name": "ipython",
    "version": 3
   },
   "file_extension": ".py",
   "mimetype": "text/x-python",
   "name": "python",
   "nbconvert_exporter": "python",
   "pygments_lexer": "ipython3",
   "version": "3.6.6"
  }
 },
 "nbformat": 4,
 "nbformat_minor": 2
}
