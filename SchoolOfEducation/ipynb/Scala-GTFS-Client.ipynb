{
    "metadata": {
        "kernelspec": {
            "name": "sparkkernel",
            "display_name": "Spark | Scala"
        },
        "language_info": {
            "name": "scala",
            "mimetype": "text/x-scala",
            "codemirror_mode": "text/x-scala",
            "pygments_lexer": "scala"
        }
    },
    "nbformat_minor": 2,
    "nbformat": 4,
    "cells": [
        {
            "cell_type": "code",
            "source": [
                "%%configure -f\r\n",
                "{\"conf\": {\"executorMemory\": \"12g\", \"executorCores\": 4, \"numExecutors\":11, \r\n",
                "\"spark.jars\": \"/system/jar/transit/gtfs-realtime-bindings-0.0.7.jar,/system/jar/transit/json-20180813.jar,/system/jar/transit/protobuf-java-3.6.1.jar,/system/jar/transit/protobuf-java-format-1.2.jar,/system/jar/transit/sciserver-transit.jar\"}}\r\n",
                ""
            ],
            "metadata": {
                "azdata_cell_guid": "4b4d4367-d99c-4d77-9c0f-e6a2e48f7288"
            },
            "outputs": [
                {
                    "output_type": "display_data",
                    "data": {
                        "text/plain": "<IPython.core.display.HTML object>",
                        "text/html": "Current session configs: <tt>{'conf': {'executorMemory': '12g', 'executorCores': 4, 'numExecutors': 11, 'spark.jars': '/system/jar/transit/gtfs-realtime-bindings-0.0.7.jar,/system/jar/transit/json-20180813.jar,/system/jar/transit/protobuf-java-3.6.1.jar,/system/jar/transit/protobuf-java-format-1.2.jar,/system/jar/transit/sciserver-transit.jar'}, 'kind': 'spark'}</tt><br>"
                    },
                    "metadata": {}
                },
                {
                    "output_type": "display_data",
                    "data": {
                        "text/plain": "<IPython.core.display.HTML object>",
                        "text/html": "<table>\n<tr><th>ID</th><th>YARN Application ID</th><th>Kind</th><th>State</th><th>Spark UI</th><th>Driver log</th><th>Current session?</th></tr><tr><td>14</td><td>application_1586890731024_0015</td><td>spark</td><td>idle</td><td><a target=\"_blank\" href=\"https://172.23.25.51:30443/gateway/default/yarn/proxy/application_1586890731024_0015/\">Link</a></td><td><a target=\"_blank\" href=\"https://172.23.25.51:30443/gateway/default/yarn/container/container_1586890731024_0015_01_000001/root\">Link</a></td><td></td></tr></table>"
                    },
                    "metadata": {}
                }
            ],
            "execution_count": 5
        },
        {
            "cell_type": "code",
            "source": [
                "import sciserver.transit.GtfsRealtimeClient"
            ],
            "metadata": {
                "azdata_cell_guid": "228eaf16-a1fa-48a3-b96a-b69b5a6324fa"
            },
            "outputs": [
                {
                    "output_type": "stream",
                    "name": "stdout",
                    "text": "Starting Spark application\n"
                },
                {
                    "output_type": "display_data",
                    "data": {
                        "text/plain": "<IPython.core.display.HTML object>",
                        "text/html": "<table>\n<tr><th>ID</th><th>YARN Application ID</th><th>Kind</th><th>State</th><th>Spark UI</th><th>Driver log</th><th>Current session?</th></tr><tr><td>15</td><td>application_1586890731024_0016</td><td>spark</td><td>idle</td><td><a target=\"_blank\" href=\"https://172.23.25.51:30443/gateway/default/yarn/proxy/application_1586890731024_0016/\">Link</a></td><td><a target=\"_blank\" href=\"https://172.23.25.51:30443/gateway/default/yarn/container/container_1586890731024_0016_01_000001/root\">Link</a></td><td>✔</td></tr></table>"
                    },
                    "metadata": {}
                },
                {
                    "output_type": "display_data",
                    "data": {
                        "text/plain": "FloatProgress(value=0.0, bar_style='info', description='Progress:', layout=Layout(height='25px', width='50%'),…",
                        "application/vnd.jupyter.widget-view+json": {
                            "version_major": 2,
                            "version_minor": 0,
                            "model_id": "fc6e47b8f0fa40388d505aff8fd6a1cc"
                        }
                    },
                    "metadata": {}
                },
                {
                    "output_type": "stream",
                    "name": "stdout",
                    "text": "SparkSession available as 'spark'.\n"
                },
                {
                    "output_type": "display_data",
                    "data": {
                        "text/plain": "FloatProgress(value=0.0, bar_style='info', description='Progress:', layout=Layout(height='25px', width='50%'),…",
                        "application/vnd.jupyter.widget-view+json": {
                            "version_major": 2,
                            "version_minor": 0,
                            "model_id": "b7b22bb3522a4bb9aaabb3143457ae7c"
                        }
                    },
                    "metadata": {}
                },
                {
                    "output_type": "stream",
                    "name": "stdout",
                    "text": "import sciserver.transit.GtfsRealtimeClient\n"
                }
            ],
            "execution_count": 6
        },
        {
            "cell_type": "code",
            "source": [
                "var agencyKey = \"mta-maryland\"\r\n",
                "var baseURL = \"https://api.goswift.ly/\"\r\n",
                "var apiKey = \"*****************************\"\r\n",
                "var gtfs = new GtfsRealtimeClient(baseURL, apiKey, agencyKey)\r\n",
                "var test = gtfs.test()\r\n",
                ""
            ],
            "metadata": {
                "azdata_cell_guid": "970ea3e1-ccb4-40d9-af22-10127fa5456e"
            },
            "outputs": [
                {
                    "output_type": "display_data",
                    "data": {
                        "text/plain": "FloatProgress(value=0.0, bar_style='info', description='Progress:', layout=Layout(height='25px', width='50%'),…",
                        "application/vnd.jupyter.widget-view+json": {
                            "version_major": 2,
                            "version_minor": 0,
                            "model_id": "575a28224a8f4f249d951d5b3ab1a589"
                        }
                    },
                    "metadata": {}
                },
                {
                    "output_type": "stream",
                    "name": "stdout",
                    "text": "agencyKey: String = mta-maryland\nbaseURL: String = https://api.goswift.ly/\napiKey: String = e6c3156850ece799033be8a177b43095\ngtfs: sciserver.transit.GtfsRealtimeClient = sciserver.transit.GtfsRealtimeClient@53db63cf\nres1: String = {\"route\":\"/test-key GET\",\"success\":true}\n"
                }
            ],
            "execution_count": 7
        },
        {
            "cell_type": "code",
            "source": [
                "gtfs.getRealTimeVehiclePositions()\r\n",
                ""
            ],
            "metadata": {
                "azdata_cell_guid": "5a61ab62-c888-431d-895c-967448bff7ad"
            },
            "outputs": [
                {
                    "output_type": "display_data",
                    "data": {
                        "text/plain": "FloatProgress(value=0.0, bar_style='info', description='Progress:', layout=Layout(height='25px', width='50%'),…",
                        "application/vnd.jupyter.widget-view+json": {
                            "version_major": 2,
                            "version_minor": 0,
                            "model_id": "421327f7b3d44dfe8d107a3c1a81b368"
                        }
                    },
                    "metadata": {}
                },
                {
                    "output_type": "stream",
                    "name": "stdout",
                    "text": "res2: String = {\"header\": {\"gtfs_realtime_version\": \"2.0\",\"incrementality\": \"FULL_DATASET\",\"timestamp\": 1587380872},\"entity\": [{\"id\": \"16077\",\"vehicle\": {\"trip\": {\"trip_id\": \"2678461\",\"start_date\": \"20200420\",\"route_id\": \"11736\"},\"position\": {\"latitude\": 39.312195,\"longitude\": -76.59508,\"bearing\": 266.70502,\"speed\": 9.444452},\"current_stop_sequence\": 10,\"current_status\": \"STOPPED_AT\",\"timestamp\": 1587380860,\"stop_id\": \"2481\",\"vehicle\": {\"id\": \"16077\",\"label\": \"16077\"}}},{\"id\": \"17046\",\"vehicle\": {\"trip\": {\"trip_id\": \"2679014\",\"start_date\": \"20200420\",\"route_id\": \"11641\"},\"position\": {\"latitude\": 39.3402,\"longitude\": -76.58017,\"bearing\": 283.59988,\"speed\": 0.0},\"current_stop_sequence\": 13,\"current_status\": \"STOPPED_AT\",\"timestamp\": 1587380862,\"stop_id\": \"5640\",\"vehicle\": {\"id\": \"17046\",\"..."
                }
            ],
            "execution_count": 8
        }
    ]
}