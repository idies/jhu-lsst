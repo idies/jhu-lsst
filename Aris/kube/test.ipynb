{
    "metadata": {
        "kernelspec": {
            "name": "pyspark3kernel",
            "display_name": "PySpark3"
        },
        "language_info": {
            "name": "pyspark3",
            "mimetype": "text/x-python",
            "codemirror_mode": {
                "name": "python",
                "version": 3
            },
            "pygments_lexer": "python3"
        }
    },
    "nbformat_minor": 2,
    "nbformat": 4,
    "cells": [
        {
            "cell_type": "code",
            "source": "%%configure -f\r\n{\"executorMemory\": \"12g\", \"executorCores\": 4, \"numExecutors\":11}\r\n",
            "metadata": {},
            "outputs": [],
            "execution_count": 2
        },
        {
            "cell_type": "code",
            "source": "for item in sorted(sc._conf.getAll()): print(item)",
            "metadata": {},
            "outputs": []
        }
    ]
}