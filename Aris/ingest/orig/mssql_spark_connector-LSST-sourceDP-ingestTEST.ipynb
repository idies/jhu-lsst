{
    "metadata": {
        "kernelspec": {
            "name": "pysparkkernel",
            "display_name": "PySpark"
        },
        "language_info": {
            "name": "pyspark",
            "mimetype": "text/x-python",
            "codemirror_mode": {
                "name": "python",
                "version": 2
            },
            "pygments_lexer": "python2"
        }
    },
    "nbformat_minor": 2,
    "nbformat": 4,
    "cells": [
        {
            "cell_type": "markdown",
            "source": [
                "# Read CSV into a data frame\r\n",
                "In this step we read the CSV into a data frame and do some basic cleanup steps. \r\n",
                "\r\n",
                "\r\n",
                ""
            ],
            "metadata": {
                "azdata_cell_guid": "9a84e86e-a436-4057-8e16-1f8016ad6790"
            }
        },
        {
            "cell_type": "code",
            "source": [
                "#spark = SparkSession.builder.getOrCreate()\r\n",
                "from pyspark.sql.functions import lit\r\n",
                "\r\n",
                "sc.setLogLevel(\"WARN\")\r\n",
                "\r\n",
                "#Read a file and then write it to the SQL table\r\n",
                "datafile = \"/user/hive/warehouse/source_test_parquet\"\r\n",
                "#datafile = \"/user/hive/warehouse/sourcesue2\"\r\n",
                "df = spark.read.format('parquet').load(datafile)\r\n",
                "\r\n",
                "\r\n",
                "#this should work to add a column to the df \r\n",
                "df = df.withColumn('batch_id', lit(0))\r\n",
                "df.show(1)\r\n",
                "df.printSchema()"
            ],
            "metadata": {
                "azdata_cell_guid": "86edd50c-9714-447f-a315-63bf79dfc7c9"
            },
            "outputs": [
                {
                    "name": "stdout",
                    "text": "Starting Spark application\n",
                    "output_type": "stream"
                },
                {
                    "data": {
                        "text/plain": "<IPython.core.display.HTML object>",
                        "text/html": "<table>\n<tr><th>ID</th><th>YARN Application ID</th><th>Kind</th><th>State</th><th>Spark UI</th><th>Driver log</th><th>Current session?</th></tr><tr><td>2</td><td>application_1570231724611_0003</td><td>pyspark</td><td>idle</td><td><a target=\"_blank\" href=\"https://172.23.25.51:30443/gateway/default/yarn/proxy/application_1570231724611_0003/\">Link</a></td><td><a target=\"_blank\" href=\"https://172.23.25.51:30443/gateway/default/yarn/container/container_1570231724611_0003_01_000001/root\">Link</a></td><td>✔</td></tr></table>"
                    },
                    "metadata": {},
                    "output_type": "display_data"
                },
                {
                    "data": {
                        "text/plain": "FloatProgress(value=0.0, bar_style='info', description='Progress:', layout=Layout(height='25px', width='50%'),…",
                        "application/vnd.jupyter.widget-view+json": {
                            "version_major": 2,
                            "version_minor": 0,
                            "model_id": "535ed8306059456ebaac075484c733c6"
                        }
                    },
                    "metadata": {},
                    "output_type": "display_data"
                },
                {
                    "name": "stdout",
                    "text": "SparkSession available as 'spark'.\n",
                    "output_type": "stream"
                },
                {
                    "data": {
                        "text/plain": "FloatProgress(value=0.0, bar_style='info', description='Progress:', layout=Layout(height='25px', width='50%'),…",
                        "application/vnd.jupyter.widget-view+json": {
                            "version_major": 2,
                            "version_minor": 0,
                            "model_id": "f307bc45d80f43fd996f3ef8fbb5fcff"
                        }
                    },
                    "metadata": {},
                    "output_type": "display_data"
                },
                {
                    "name": "stdout",
                    "text": "+----------------+-------+-----------------+-----------------+--------------+------+-----------------+-----------------+-----------------+------------------+-------------------+-------------------+-------------------+----------------+----------------------------+-------------------------------+-------------------------+----------------------------+------------------+---------------------+-----------------+-----------------+-------------------+--------------------+-------------------+--------------------+-------------------+-------------------+----------------------+-----------------------+----------------------+-----------------------+-----------------+-----------------+--------------------+-------------------+--------------------+--------------------+-------------------+--------------------+-------------------+----------------+---------------------+---------------------+------------------------+-------------------------+------------------------+-------------------------+------------------------------+---------------------------+----------------------+------------------------+-----------------+-----------------+--------------+------------------+------------------------+----------------------+-----------------+-----------------+----------------+-----------------+-----------------+-------------------+-----------------------+-----------------------------+---------------------------+-----------------+-----------------+---------------+------------------+-----------------+---------------------------+------------------+----------------------+------------------+-----------------+----------------+-------------------+--------------------+--------------------+-----------+------------------+-------------+-----------------+----------+-----------------+------------------+--------+\n|              id|chunkid|         coord_ra|       coord_decl| coord_htmId20|parent|flags_badcentroid|  centroid_sdss_x|  centroid_sdss_y|centroid_sdss_xVar|centroid_sdss_xyCov| centroid_sdss_yVar|centroid_sdss_flags|flags_pixel_edge|flags_pixel_interpolated_any|flags_pixel_interpolated_center|flags_pixel_saturated_any|flags_pixel_saturated_center|flags_pixel_cr_any|flags_pixel_cr_center| centroid_naive_x| centroid_naive_y|centroid_naive_xVar|centroid_naive_xyCov|centroid_naive_yVar|centroid_naive_flags|centroid_gaussian_x|centroid_gaussian_y|centroid_gaussian_xVar|centroid_gaussian_xyCov|centroid_gaussian_yVar|centroid_gaussian_flags|   shape_sdss_Ixx|   shape_sdss_Iyy|      shape_sdss_Ixy|  shape_sdss_IxxVar|shape_sdss_IxxIyyCov|shape_sdss_IxxIxyCov|  shape_sdss_IyyVar|shape_sdss_IyyIxyCov|  shape_sdss_IxyVar|shape_sdss_flags|shape_sdss_centroid_x|shape_sdss_centroid_y|shape_sdss_centroid_xVar|shape_sdss_centroid_xyCov|shape_sdss_centroid_yVar|shape_sdss_centroid_flags|shape_sdss_flags_unweightedbad|shape_sdss_flags_unweighted|shape_sdss_flags_shift|shape_sdss_flags_maxiter|         flux_psf|     flux_psf_err|flux_psf_flags|flux_psf_psffactor|flux_psf_flags_psffactor|flux_psf_flags_badcorr|       flux_naive|   flux_naive_err|flux_naive_flags|    flux_gaussian|flux_gaussian_err|flux_gaussian_flags|flux_gaussian_psffactor|flux_gaussian_flags_psffactor|flux_gaussian_flags_badcorr|        flux_sinc|    flux_sinc_err|flux_sinc_flags| centroid_record_x|centroid_record_y|classification_extendedness|aperturecorrection|aperturecorrection_err|           refFlux|      refFlux_err|        objectId|        coord_raVar|     coord_radeclCov|       coord_declVar|exposure_id|exposure_filter_id|exposure_time|exposure_time_mid|cluster_id| cluster_coord_ra|cluster_coord_decl|batch_id|\n+----------------+-------+-----------------+-----------------+--------------+------+-----------------+-----------------+-----------------+------------------+-------------------+-------------------+-------------------+----------------+----------------------------+-------------------------------+-------------------------+----------------------------+------------------+---------------------+-----------------+-----------------+-------------------+--------------------+-------------------+--------------------+-------------------+-------------------+----------------------+-----------------------+----------------------+-----------------------+-----------------+-----------------+--------------------+-------------------+--------------------+--------------------+-------------------+--------------------+-------------------+----------------+---------------------+---------------------+------------------------+-------------------------+------------------------+-------------------------+------------------------------+---------------------------+----------------------+------------------------+-----------------+-----------------+--------------+------------------+------------------------+----------------------+-----------------+-----------------+----------------+-----------------+-----------------+-------------------+-----------------------+-----------------------------+---------------------------+-----------------+-----------------+---------------+------------------+-----------------+---------------------------+------------------+----------------------+------------------+-----------------+----------------+-------------------+--------------------+--------------------+-----------+------------------+-------------+-----------------+----------+-----------------+------------------+--------+\n|3634521584969201|   9991|339.8284284282872|33.14891211971923|13194713519607|  null|                0|1633.633697194774|86.60073139083836|0.0871943848773391|               null|0.10743410720857582|                  0|               0|                           0|                              0|                        0|                           0|                 0|                    0|1633.102274143498|86.22074429673678|               null|                null|               null|                   0|  1633.736435807048|  86.37424794700398|                  null|                   null|                  null|                      0|2.365093462480171|2.601530577094829|-0.09569978487417892|0.29316115737737114|                null|                null|0.16147415403757934|                null|0.35470529428224645|               0|   1633.6423750462304|    86.35995750001663|                    null|                     null|                    null|                        0|                             0|                          0|                     0|                       0|410.6036063805301|34.22617199312532|             0|           10.8288|                       0|                     0|450.9283547401428|78.24936349140677|               0|525.8266508673025|60.19906738034545|                  0|                9.50699|                            0|                          0|455.1744495932908|78.39764264802598|              0|1633.5704206788744|86.29436159142755|                        1.0|0.9925100344547516|  0.002072546199366...|115.25695834317716|2.140506399358688|3634521584962042|0.01684487860930808|2.879637762632938E-6|0.013687188461179372| 4203250391|                 2|      53.9075|52935.21160406445|      null|339.8284284282872| 33.14891211971923|       0|\n+----------------+-------+-----------------+-----------------+--------------+------+-----------------+-----------------+-----------------+------------------+-------------------+-------------------+-------------------+----------------+----------------------------+-------------------------------+-------------------------+----------------------------+------------------+---------------------+-----------------+-----------------+-------------------+--------------------+-------------------+--------------------+-------------------+-------------------+----------------------+-----------------------+----------------------+-----------------------+-----------------+-----------------+--------------------+-------------------+--------------------+--------------------+-------------------+--------------------+-------------------+----------------+---------------------+---------------------+------------------------+-------------------------+------------------------+-------------------------+------------------------------+---------------------------+----------------------+------------------------+-----------------+-----------------+--------------+------------------+------------------------+----------------------+-----------------+-----------------+----------------+-----------------+-----------------+-------------------+-----------------------+-----------------------------+---------------------------+-----------------+-----------------+---------------+------------------+-----------------+---------------------------+------------------+----------------------+------------------+-----------------+----------------+-------------------+--------------------+--------------------+-----------+------------------+-------------+-----------------+----------+-----------------+------------------+--------+\nonly showing top 1 row\n\nroot\n |-- id: long (nullable = true)\n |-- chunkid: integer (nullable = true)\n |-- coord_ra: double (nullable = true)\n |-- coord_decl: double (nullable = true)\n |-- coord_htmId20: long (nullable = true)\n |-- parent: long (nullable = true)\n |-- flags_badcentroid: integer (nullable = true)\n |-- centroid_sdss_x: double (nullable = true)\n |-- centroid_sdss_y: double (nullable = true)\n |-- centroid_sdss_xVar: double (nullable = true)\n |-- centroid_sdss_xyCov: double (nullable = true)\n |-- centroid_sdss_yVar: double (nullable = true)\n |-- centroid_sdss_flags: integer (nullable = true)\n |-- flags_pixel_edge: integer (nullable = true)\n |-- flags_pixel_interpolated_any: integer (nullable = true)\n |-- flags_pixel_interpolated_center: integer (nullable = true)\n |-- flags_pixel_saturated_any: integer (nullable = true)\n |-- flags_pixel_saturated_center: integer (nullable = true)\n |-- flags_pixel_cr_any: integer (nullable = true)\n |-- flags_pixel_cr_center: integer (nullable = true)\n |-- centroid_naive_x: double (nullable = true)\n |-- centroid_naive_y: double (nullable = true)\n |-- centroid_naive_xVar: double (nullable = true)\n |-- centroid_naive_xyCov: double (nullable = true)\n |-- centroid_naive_yVar: double (nullable = true)\n |-- centroid_naive_flags: integer (nullable = true)\n |-- centroid_gaussian_x: double (nullable = true)\n |-- centroid_gaussian_y: double (nullable = true)\n |-- centroid_gaussian_xVar: double (nullable = true)\n |-- centroid_gaussian_xyCov: double (nullable = true)\n |-- centroid_gaussian_yVar: double (nullable = true)\n |-- centroid_gaussian_flags: integer (nullable = true)\n |-- shape_sdss_Ixx: double (nullable = true)\n |-- shape_sdss_Iyy: double (nullable = true)\n |-- shape_sdss_Ixy: double (nullable = true)\n |-- shape_sdss_IxxVar: double (nullable = true)\n |-- shape_sdss_IxxIyyCov: double (nullable = true)\n |-- shape_sdss_IxxIxyCov: double (nullable = true)\n |-- shape_sdss_IyyVar: double (nullable = true)\n |-- shape_sdss_IyyIxyCov: double (nullable = true)\n |-- shape_sdss_IxyVar: double (nullable = true)\n |-- shape_sdss_flags: integer (nullable = true)\n |-- shape_sdss_centroid_x: double (nullable = true)\n |-- shape_sdss_centroid_y: double (nullable = true)\n |-- shape_sdss_centroid_xVar: double (nullable = true)\n |-- shape_sdss_centroid_xyCov: double (nullable = true)\n |-- shape_sdss_centroid_yVar: double (nullable = true)\n |-- shape_sdss_centroid_flags: integer (nullable = true)\n |-- shape_sdss_flags_unweightedbad: integer (nullable = true)\n |-- shape_sdss_flags_unweighted: integer (nullable = true)\n |-- shape_sdss_flags_shift: integer (nullable = true)\n |-- shape_sdss_flags_maxiter: integer (nullable = true)\n |-- flux_psf: double (nullable = true)\n |-- flux_psf_err: double (nullable = true)\n |-- flux_psf_flags: integer (nullable = true)\n |-- flux_psf_psffactor: double (nullable = true)\n |-- flux_psf_flags_psffactor: integer (nullable = true)\n |-- flux_psf_flags_badcorr: integer (nullable = true)\n |-- flux_naive: double (nullable = true)\n |-- flux_naive_err: double (nullable = true)\n |-- flux_naive_flags: integer (nullable = true)\n |-- flux_gaussian: double (nullable = true)\n |-- flux_gaussian_err: double (nullable = true)\n |-- flux_gaussian_flags: integer (nullable = true)\n |-- flux_gaussian_psffactor: double (nullable = true)\n |-- flux_gaussian_flags_psffactor: integer (nullable = true)\n |-- flux_gaussian_flags_badcorr: integer (nullable = true)\n |-- flux_sinc: double (nullable = true)\n |-- flux_sinc_err: double (nullable = true)\n |-- flux_sinc_flags: integer (nullable = true)\n |-- centroid_record_x: double (nullable = true)\n |-- centroid_record_y: double (nullable = true)\n |-- classification_extendedness: double (nullable = true)\n |-- aperturecorrection: double (nullable = true)\n |-- aperturecorrection_err: double (nullable = true)\n |-- refFlux: double (nullable = true)\n |-- refFlux_err: double (nullable = true)\n |-- objectId: long (nullable = true)\n |-- coord_raVar: double (nullable = true)\n |-- coord_radeclCov: double (nullable = true)\n |-- coord_declVar: double (nullable = true)\n |-- exposure_id: long (nullable = true)\n |-- exposure_filter_id: integer (nullable = true)\n |-- exposure_time: double (nullable = true)\n |-- exposure_time_mid: double (nullable = true)\n |-- cluster_id: long (nullable = true)\n |-- cluster_coord_ra: double (nullable = true)\n |-- cluster_coord_decl: double (nullable = true)\n |-- batch_id: integer (nullable = false)",
                    "output_type": "stream"
                }
            ],
            "execution_count": 5
        },
        {
            "cell_type": "markdown",
            "source": [
                "# (PART 2) Write and READ to Data Pool external Tables in Big Data Cluster\r\n",
                "- Write dataframe to SQL external table in Data Pools in Big Data Cluste\r\n",
                "- Read SQL external Table to Spark dataframe"
            ],
            "metadata": {
                "azdata_cell_guid": "3fbabdea-de63-450d-9e84-4dd4ca02a45e"
            }
        },
        {
            "cell_type": "code",
            "source": [
                "#Write from Spark to SQL table using MSSQL Spark Connector\r\n",
                "print(\"Use MSSQL connector to write to master SQL instance \")\r\n",
                "\r\n",
                "servername = \"jdbc:sqlserver://master-0.master-svc\"\r\n",
                "dbname = \"LSST\"\r\n",
                "url = servername + \";\" + \"databaseName=\" + dbname + \";\"\r\n",
                "\r\n",
                "user = \"sa\"\r\n",
                "password = \"fooRiuzg54\" # Please specify password here\r\n",
                "\r\n",
                "datapool_table = \"SourceDP_test_batchid\"\r\n",
                "datasource_name = \"SqlDataPool\"\r\n",
                "\r\n",
                "batchsize = 1000000\r\n",
                "\r\n",
                "\r\n",
                "try:\r\n",
                "  df.write \\\r\n",
                "    .format(\"com.microsoft.sqlserver.jdbc.spark\") \\\r\n",
                "    .mode(\"overwrite\") \\\r\n",
                "    .option(\"url\", url) \\\r\n",
                "    .option(\"dbtable\", datapool_table) \\\r\n",
                "    .option(\"user\", user) \\\r\n",
                "    .option(\"password\", password) \\\r\n",
                "    .option(\"dataPoolDataSource\",datasource_name)\\\r\n",
                "    .option(\"batchsize\",batchsize)\\\r\n",
                "    .save()\r\n",
                "except ValueError as error :\r\n",
                "    print(\"MSSQL Connector write failed\", error)\r\n",
                "\r\n",
                "print(\"MSSQL Connector write(overwrite) to data pool external table succeeded\")\r\n",
                ""
            ],
            "metadata": {
                "azdata_cell_guid": "dbcceac1-54b7-4725-9d83-c391f9612321"
            },
            "outputs": [
                {
                    "data": {
                        "text/plain": "FloatProgress(value=0.0, bar_style='info', description='Progress:', layout=Layout(height='25px', width='50%'),…",
                        "application/vnd.jupyter.widget-view+json": {
                            "version_major": 2,
                            "version_minor": 0,
                            "model_id": "cb71c43bef52443987f985715de584c0"
                        }
                    },
                    "metadata": {},
                    "output_type": "display_data"
                },
                {
                    "name": "stdout",
                    "text": "Use MSSQL connector to write to master SQL instance \nMSSQL Connector write(overwrite) to data pool external table succeeded",
                    "output_type": "stream"
                }
            ],
            "execution_count": 6
        },
        {
            "cell_type": "code",
            "source": [
                "\r\n",
                "#testing on small batch of parquet files\r\n",
                "#Write from Spark to SQL table using MSSQL Spark Connector\r\n",
                "print(\"Use MSSQL connector to write to master SQL instance \")\r\n",
                "\r\n",
                "servername = \"jdbc:sqlserver://master-0.master-svc\"\r\n",
                "dbname = \"LSST\"\r\n",
                "url = servername + \";\" + \"databaseName=\" + dbname + \";\"\r\n",
                "\r\n",
                "dbtable= \"Source_test\"\r\n",
                "#dbtable = \"SourceDP\"\r\n",
                "user = \"sa\"\r\n",
                "password = \"fooRiuzg54\" # Please specify password here\r\n",
                "\r\n",
                "datapool_table = \"Source_test\"\r\n",
                "datasource_name = \"SqlDataPool\"\r\n",
                "\r\n",
                "batchsize = 1000000\r\n",
                "\r\n",
                "\r\n",
                "try:\r\n",
                "  df.write \\\r\n",
                "    .format(\"com.microsoft.sqlserver.jdbc.spark\") \\\r\n",
                "    .mode(\"overwrite\") \\\r\n",
                "    .option(\"url\", url) \\\r\n",
                "    .option(\"dbtable\", datapool_table) \\\r\n",
                "    .option(\"user\", user) \\\r\n",
                "    .option(\"password\", password) \\\r\n",
                "    .option(\"dataPoolDataSource\",datasource_name)\\\r\n",
                "    .option(\"batchsize\",batchsize)\\\r\n",
                "    .save()\r\n",
                "except ValueError as error :\r\n",
                "    print(\"MSSQL Connector write failed\", error)\r\n",
                "\r\n",
                "print(\"MSSQL Connector write(overwrite) to data pool external table succeeded\")"
            ],
            "metadata": {
                "azdata_cell_guid": "db7c9aac-397c-4089-b8d7-e6c3b6ed8af7"
            },
            "outputs": [],
            "execution_count": 8
        }
    ]
}