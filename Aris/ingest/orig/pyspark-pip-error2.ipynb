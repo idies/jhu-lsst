{
    "metadata": {
        "kernelspec": {
            "name": "pyspark3kernel",
            "display_name": "PySpark3"
        },
        "language_info": {
            "name": "pyspark3",
            "mimetype": "text/x-python",
            "codemirror_mode": {
                "name": "python",
                "version": 3
            },
            "pygments_lexer": "python3"
        }
    },
    "nbformat_minor": 2,
    "nbformat": 4,
    "cells": [
        {
            "cell_type": "code",
            "source": [
                " \r\n",
                "import subprocess\r\n",
                "\r\n",
                "\r\n",
                "# Install healpix, will also install astropy dependency\r\n",
                "\r\n",
                "stdout = subprocess.check_output(\r\n",
                "\r\n",
                "    \"pip3 install astropy-healpix\",\r\n",
                "\r\n",
                "    stderr=subprocess.STDOUT, shell=True).decode(\"utf-8\")\r\n",
                "\r\n",
                "print(stdout)\r\n",
                "\r\n",
                ""
            ],
            "metadata": {
                "azdata_cell_guid": "2099959c-9f09-42a1-b50a-575aaf87c0c4"
            },
            "outputs": [
                {
                    "name": "stdout",
                    "text": "Starting Spark application\n",
                    "output_type": "stream"
                },
                {
                    "data": {
                        "text/plain": "<IPython.core.display.HTML object>",
                        "text/html": "<table>\n<tr><th>ID</th><th>YARN Application ID</th><th>Kind</th><th>State</th><th>Spark UI</th><th>Driver log</th><th>Current session?</th></tr><tr><td>48</td><td>application_1568670927228_0051</td><td>pyspark3</td><td>idle</td><td><a target=\"_blank\" href=\"https://172.23.25.58:30443/gateway/default/yarn/proxy/application_1568670927228_0051/\">Link</a></td><td><a target=\"_blank\" href=\"https://172.23.25.58:30443/gateway/default/yarn/container/container_1568670927228_0051_01_000001/root\">Link</a></td><td>✔</td></tr></table>"
                    },
                    "metadata": {},
                    "output_type": "display_data"
                },
                {
                    "name": "stdout",
                    "text": "SparkSession available as 'spark'.\n",
                    "output_type": "stream"
                },
                {
                    "name": "stdout",
                    "text": "Requirement already satisfied: astropy-healpix in /usr/local/lib/python3.5/dist-packages (0.4)\nRequirement already satisfied: numpy in /usr/local/lib/python3.5/dist-packages (from astropy-healpix) (1.16.2)\nRequirement already satisfied: astropy in /usr/local/lib/python3.5/dist-packages (from astropy-healpix) (3.2.1)\nWARNING: You are using pip version 19.1.1, however version 19.2.3 is available.\nYou should consider upgrading via the 'pip install --upgrade pip' command.",
                    "output_type": "stream"
                }
            ],
            "execution_count": 2
        },
        {
            "cell_type": "code",
            "source": [
                "import sys\r\n",
                "print(sys.version)"
            ],
            "metadata": {
                "azdata_cell_guid": "d5022694-441f-473f-b8b5-0de885b214a6"
            },
            "outputs": [
                {
                    "output_type": "stream",
                    "name": "stdout",
                    "text": "3.5.2 (default, Nov 12 2018, 13:43:14) \n[GCC 5.4.0 20160609]"
                }
            ],
            "execution_count": 3
        },
        {
            "cell_type": "code",
            "source": [
                "import astropy\r\n",
                "from astropy_healpix import HEALPix\r\n",
                "from astropy import units as u\r\n",
                "from pyspark.sql.functions import udf\r\n",
                "from pyspark.sql.types import IntegerType\r\n",
                "\r\n",
                "#spark = SparkSession.builder.getOrCreate()\r\n",
                "from pyspark.sql.functions import lit\r\n",
                "\r\n",
                "\r\n",
                "\r\n",
                "\r\n",
                "def gethealpix(ra, decl):\r\n",
                "    hp = HEALPix(nside=16, order='nested')\r\n",
                "    return int(hp.lonlat_to_healpix(ra * u.deg, decl * u.deg))\r\n",
                "\r\n",
                "udf_hp = udf(gethealpix, IntegerType())\r\n",
                "\r\n",
                "\r\n",
                "\r\n",
                "\r\n",
                "\r\n",
                "sc.setLogLevel(\"WARN\")\r\n",
                "\r\n",
                "\r\n",
                "i = gethealpix(123, 45)\r\n",
                "print(i)\r\n",
                "\r\n",
                "\r\n",
                "\r\n",
                "#Read a file and then write it to the SQL table\r\n",
                "datafile = \"/user/hive/warehouse/source_test_parquet\"\r\n",
                "#datafile = \"/user/hive/warehouse/sourcesue2\"\r\n",
                "old_df = spark.read.format('parquet').load(datafile)\r\n",
                "old_df.createOrReplaceTempView(\"source_test\")\r\n",
                "#new_df = old_df.withColumn(, udf_hp(old_df.coord_ra, old_df.coord_decl))\r\n",
                "\r\n",
                "coordsDF = spark.sql(\"select coord_ra, coord_decl from source_test limit 10\")\r\n",
                "coordsDF.printSchema()\r\n",\n",
                "coordsDF.show()\r\n",
                "\n",
                "df2 = old_df.withColumn("healpix", udf_hp(old_df.coord_ra, old_df.coord_decl))\n",
                "df2.show(1)\n",
                "\n",
                "\r\n",
                "df = coordsDF.withColumn(\"healpix\", udf_hp(coordsDF.coord_ra, coordsDF.coord_decl))\r\n",
                "df.show()\r\n",
                "\r\n",
                "#new_df.show(1)\r\n",
                "\r\n",
                "#new_df.show(1)new_df = old_df.withColumn(\"healpix\"udf_hpnc(old_df.coord_ra, old_df.coord_decl)).collect()\r\n",
                "\r\n",
                "\r\n",
                "#this should work to add a column to the df \r\n",
                "\r\n",
                "#new_df.show(1)  #THIS DOES NOT WORK!!!!!!!!!!!!!!!\r\n",
                "#new_df.printSchema()"
            ],
            "metadata": {
                "azdata_cell_guid": "d37f7c6d-36cf-45e5-9422-0f135637880b"
            },
            "outputs": [
{
    "name": "stdout",
    "text": "412\nroot\n |-- coord_ra: double (nullable = true)\n |-- coord_decl: double (nullable = true)\n\n+------------------+------------------+\n|          coord_ra|        coord_decl|\n+------------------+------------------+\n| 356.5200733543264|   33.582059363837|\n|356.48819796984566| 33.55996683283963|\n| 356.4972425881368| 33.57604888942761|\n| 356.5045617522944| 33.59129348822917|\n| 356.5142417437157|  33.5643690686335|\n|356.49429907072744| 33.55827569117838|\n|356.51181434373206| 33.55629777128184|\n| 356.4759128566333| 33.57136888095732|\n|  356.483282339616|33.559837718284925|\n|356.52855421813865|33.689225456328565|\n+------------------+------------------+\n\n+------------------+------------------+-------+\n|          coord_ra|        coord_decl|healpix|\n+------------------+------------------+-------+\n|350.20183077790824|  32.8561221008861|    848|\n|350.26690151782844| 34.22727037534538|    849|\n|350.20371671228975|   32.862242513286|    848|\n| 350.2676909555675| 34.23613168474126|    849|\n| 350.1774168634879| 32.85364031733775|    848|\n| 350.1797790409482| 32.83928776757826|    848|\n| 350.3855431964664|32.923220547409535|    848|\n|350.18745041546646| 34.18481861888104|    848|\n| 350.3630306242593|32.908786206518904|    848|\n| 350.2323784294076| 34.22247205784248|    849|\n+------------------+------------------+-------+\n\n+----------------+-------+-----------------+-----------------+--------------+------+-----------------+-----------------+-----------------+------------------+-------------------+-------------------+-------------------+----------------+----------------------------+-------------------------------+-------------------------+----------------------------+------------------+---------------------+-----------------+-----------------+-------------------+--------------------+-------------------+--------------------+-------------------+-------------------+----------------------+-----------------------+----------------------+-----------------------+-----------------+-----------------+--------------------+-------------------+--------------------+--------------------+-------------------+--------------------+-------------------+----------------+---------------------+---------------------+------------------------+-------------------------+------------------------+-------------------------+------------------------------+---------------------------+----------------------+------------------------+-----------------+-----------------+--------------+------------------+------------------------+----------------------+-----------------+-----------------+----------------+-----------------+-----------------+-------------------+-----------------------+-----------------------------+---------------------------+-----------------+-----------------+---------------+------------------+-----------------+---------------------------+------------------+----------------------+------------------+-----------------+----------------+-------------------+--------------------+--------------------+-----------+------------------+-------------+-----------------+----------+-----------------+------------------+-------+\n|              id|chunkid|         coord_ra|       coord_decl| coord_htmId20|parent|flags_badcentroid|  centroid_sdss_x|  centroid_sdss_y|centroid_sdss_xVar|centroid_sdss_xyCov| centroid_sdss_yVar|centroid_sdss_flags|flags_pixel_edge|flags_pixel_interpolated_any|flags_pixel_interpolated_center|flags_pixel_saturated_any|flags_pixel_saturated_center|flags_pixel_cr_any|flags_pixel_cr_center| centroid_naive_x| centroid_naive_y|centroid_naive_xVar|centroid_naive_xyCov|centroid_naive_yVar|centroid_naive_flags|centroid_gaussian_x|centroid_gaussian_y|centroid_gaussian_xVar|centroid_gaussian_xyCov|centroid_gaussian_yVar|centroid_gaussian_flags|   shape_sdss_Ixx|   shape_sdss_Iyy|      shape_sdss_Ixy|  shape_sdss_IxxVar|shape_sdss_IxxIyyCov|shape_sdss_IxxIxyCov|  shape_sdss_IyyVar|shape_sdss_IyyIxyCov|  shape_sdss_IxyVar|shape_sdss_flags|shape_sdss_centroid_x|shape_sdss_centroid_y|shape_sdss_centroid_xVar|shape_sdss_centroid_xyCov|shape_sdss_centroid_yVar|shape_sdss_centroid_flags|shape_sdss_flags_unweightedbad|shape_sdss_flags_unweighted|shape_sdss_flags_shift|shape_sdss_flags_maxiter|         flux_psf|     flux_psf_err|flux_psf_flags|flux_psf_psffactor|flux_psf_flags_psffactor|flux_psf_flags_badcorr|       flux_naive|   flux_naive_err|flux_naive_flags|    flux_gaussian|flux_gaussian_err|flux_gaussian_flags|flux_gaussian_psffactor|flux_gaussian_flags_psffactor|flux_gaussian_flags_badcorr|        flux_sinc|    flux_sinc_err|flux_sinc_flags| centroid_record_x|centroid_record_y|classification_extendedness|aperturecorrection|aperturecorrection_err|           refFlux|      refFlux_err|        objectId|        coord_raVar|     coord_radeclCov|       coord_declVar|exposure_id|exposure_filter_id|exposure_time|exposure_time_mid|cluster_id| cluster_coord_ra|cluster_coord_decl|healpix|\n+----------------+-------+-----------------+-----------------+--------------+------+-----------------+-----------------+-----------------+------------------+-------------------+-------------------+-------------------+----------------+----------------------------+-------------------------------+-------------------------+----------------------------+------------------+---------------------+-----------------+-----------------+-------------------+--------------------+-------------------+--------------------+-------------------+-------------------+----------------------+-----------------------+----------------------+-----------------------+-----------------+-----------------+--------------------+-------------------+--------------------+--------------------+-------------------+--------------------+-------------------+----------------+---------------------+---------------------+------------------------+-------------------------+------------------------+-------------------------+------------------------------+---------------------------+----------------------+------------------------+-----------------+-----------------+--------------+------------------+------------------------+----------------------+-----------------+-----------------+----------------+-----------------+-----------------+-------------------+-----------------------+-----------------------------+---------------------------+-----------------+-----------------+---------------+------------------+-----------------+---------------------------+------------------+----------------------+------------------+-----------------+----------------+-------------------+--------------------+--------------------+-----------+------------------+-------------+-----------------+----------+-----------------+------------------+-------+\n|3634521584969201|   9991|339.8284284282872|33.14891211971923|13194713519607|  null|                0|1633.633697194774|86.60073139083836|0.0871943848773391|               null|0.10743410720857582|                  0|               0|                           0|                              0|                        0|                           0|                 0|                    0|1633.102274143498|86.22074429673678|               null|                null|               null|                   0|  1633.736435807048|  86.37424794700398|                  null|                   null|                  null|                      0|2.365093462480171|2.601530577094829|-0.09569978487417892|0.29316115737737114|                null|                null|0.16147415403757934|                null|0.35470529428224645|               0|   1633.6423750462304|    86.35995750001663|                    null|                     null|                    null|                        0|                             0|                          0|                     0|                       0|410.6036063805301|34.22617199312532|             0|           10.8288|                       0|                     0|450.9283547401428|78.24936349140677|               0|525.8266508673025|60.19906738034545|                  0|                9.50699|                            0|                          0|455.1744495932908|78.39764264802598|              0|1633.5704206788744|86.29436159142755|                        1.0|0.9925100344547516|  0.002072546199366...|115.25695834317716|2.140506399358688|3634521584962042|0.01684487860930808|2.879637762632938E-6|0.013687188461179372| 4203250391|                 2|      53.9075|52935.21160406445|      null|339.8284284282872| 33.14891211971923|    844|\n+----------------+-------+-----------------+-----------------+--------------+------+-----------------+-----------------+-----------------+------------------+-------------------+-------------------+-------------------+----------------+----------------------------+-------------------------------+-------------------------+----------------------------+------------------+---------------------+-----------------+-----------------+-------------------+--------------------+-------------------+--------------------+-------------------+-------------------+----------------------+-----------------------+----------------------+-----------------------+-----------------+-----------------+--------------------+-------------------+--------------------+--------------------+-------------------+--------------------+-------------------+----------------+---------------------+---------------------+------------------------+-------------------------+------------------------+-------------------------+------------------------------+---------------------------+----------------------+------------------------+-----------------+-----------------+--------------+------------------+------------------------+----------------------+-----------------+-----------------+----------------+-----------------+-----------------+-------------------+-----------------------+-----------------------------+---------------------------+-----------------+-----------------+---------------+------------------+-----------------+---------------------------+------------------+----------------------+------------------+-----------------+----------------+-------------------+--------------------+--------------------+-----------+------------------+-------------+-----------------+----------+-----------------+------------------+-------+\nonly showing top 1 row",
    "output_type": "stream"
}
],
            "execution_count": 8
        },
        {
            "cell_type": "code",
            "source": [
                "import astropy\r\n",
                "from astropy_healpix import HEALPix\r\n",
                "from astropy import units as u"
            ],
            "metadata": {
                "azdata_cell_guid": "fbd3d6ae-cec6-4ead-b394-6b2fd2fdd2f0"
            },
            "outputs": [],
            "execution_count": 15
        },
        {
            "cell_type": "code",
            "source": [
                "hp = HEALPix(nside=16, order='nested')\r\n",
                "\r\n",
                "index = hp.lonlat_to_healpix([1, 3, 4] * u.deg, [5, 6, 9] * u.deg, return_offsets=False)\r\n",
                "index\r\n",
                "\r\n",
                "\r\n",
                "ra = 123.0 * u.deg\r\n",
                "decl = 40.0 * u.deg\r\n",
                "i = hp.lonlat_to_healpix(ra, decl)\r\n",
                "i"
            ],
            "metadata": {
                "azdata_cell_guid": "0a7c7725-9329-4e61-ae0f-2be23440bfb7"
            },
            "outputs": [],
            "execution_count": 16
        },
        {
            "cell_type": "code",
            "source": [
                "#new_df.printSchema()\r\n",
                "#type(new_df)\r\n",
                "new_df.show(1)\r\n",
                "new_df.count()"
            ],
            "metadata": {
                "azdata_cell_guid": "f0c72359-6b8f-4fa9-995f-2285796b7a25"
            },
            "outputs": [],
            "execution_count": 18
        },
        {
            "cell_type": "code",
            "source": [
                "from astropy.coordinates import CartesianRepresentation as Cartesian\r\n",
                "from pyspark.sql.types import FloatType\r\n",
                "\r\n",
                "\r\n",
                "p = Cartesian(1,2,4)\r\n",
                "print(p.x)\r\n",
                "\r\n",
                "def get_x(x, y, z):\r\n",
                "    from astropy.coordinates import CartesianRepresentation as Cartesian\r\n",
                "    return Cartesian(x, y, z).x\r\n",
                "\r\n",
                "\r\n",
                "udf_func = udf(get_x, FloatType())\r\n",
                "\r\n",
                "#nd = old_df.withColumn(\"blah\", Cartesian(old_df.coord_ra, old_df.coord_decl, old_df.coord_decl).x)\r\n",
                "nd = old_df.withColumn(\"blah\", udf_func(old_df.coord_ra, old_df.coord_decl, old_df.coord_decl.toPandas().collect()))\r\n",
                "\r\n",
                "nd.show(10)"
            ],
            "metadata": {
                "azdata_cell_guid": "d7d43f31-2edd-4929-8fb6-225b914bf242"
            },
            "outputs": [
                {
                    "output_type": "stream",
                    "name": "stderr",
                    "text": "'Column' object is not callable\nTraceback (most recent call last):\nTypeError: 'Column' object is not callable\n\n"
                }
            ],
            "execution_count": 7
        },
        {
            "cell_type": "code",
            "source": [
                "import astropy_healpix\r\n",
                "\r\n",
                "astropy_healpix.test()"
            ],
            "metadata": {
                "azdata_cell_guid": "3dc05985-02dd-4857-b63d-f3e925fdf5a8"
            },
            "outputs": [
                {
                    "output_type": "stream",
                    "name": "stdout",
                    "text": "============================= test session starts ==============================\nplatform linux2 -- Python 2.7.12, pytest-3.6.4, py-1.8.0, pluggy-0.7.1\n\nRunning tests with astropy_healpix version 0.4.\nRunning tests in /usr/local/lib/python2.7/dist-packages/astropy_healpix.\n\nDate: 2019-10-02T21:45:12\n\nPlatform: Linux-3.10.0-957.27.2.el7.x86_64-x86_64-with-Ubuntu-16.04-xenial\n\nExecutable: /usr/bin/python\n\nFull Python Version: \n2.7.12 (default, Nov 12 2018, 14:36:49) \n[GCC 5.4.0 20160609]\n\nencodings: sys: ascii, locale: ANSI_X3.4-1968, filesystem: ANSI_X3.4-1968, unicode bits: 20\nbyteorder: little\nfloat info: dig: 15, mant_dig: 15\n\nNumpy: 1.16.3\nScipy: 1.2.1\nMatplotlib: 2.2.3\nAstropy: 2.0.14\nhealpy: not available\nCython: not available\nastropy_helpers: 2.0.10.dev860\nUsing Astropy options: remote_data: none.\n\nrootdir: /usr/local/lib/python2.7/dist-packages/astropy_healpix, inifile:\ncollected 63 items / 1 skipped\n\n../../../../../../../usr/local/lib/python2.7/dist-packages/astropy_healpix/tests/test_bench.py . [  1%]\n                                                                         [  1%]\n../../../../../../../usr/local/lib/python2.7/dist-packages/astropy_healpix/tests/test_core.py . [  3%]\n.............................................                            [ 74%]\n../../../../../../../usr/local/lib/python2.7/dist-packages/astropy_healpix/tests/test_high_level.py . [ 76%]\n...............                                                          [100%]\n\n=============================== warnings summary ===============================\ntests/test_core.py::test_interpolate_bilinear_invalid\n  /usr/local/lib/python2.7/dist-packages/astropy_healpix/core.py:519: RuntimeWarning: invalid value encountered in bilinear_interpolation_weights\n    result = _core.bilinear_interpolation_weights(lon, lat, nside)\n  /usr/local/lib/python2.7/dist-packages/astropy_healpix/core.py:484: RuntimeWarning: invalid value encountered in ring_to_nested\n    return _core.ring_to_nested(ring_index, nside)\n\n-- Docs: http://doc.pytest.org/en/latest/warnings.html\n=============== 63 passed, 1 skipped, 2 warnings in 1.87 seconds ===============\n0"
                }
            ],
            "execution_count": 13
        }
    ]
}