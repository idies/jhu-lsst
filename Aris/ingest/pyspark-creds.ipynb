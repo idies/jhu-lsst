{
    "metadata": {
        "kernelspec": {
            "name": "pysparkkernel",
            "display_name": "PySpark"
        },
        "language_info": {
            "name": "pyspark",
            "mimetype": "text/x-python",
            "codemirror_mode": {
                "name": "python",
                "version": 2
            },
            "pygments_lexer": "python2"
        }
    },
    "nbformat_minor": 2,
    "nbformat": 4,
    "cells": [
        {
            "cell_type": "code",
            "source": [
                "%%configure -f\r\n",
                "{\"conf\": {\r\n",
                "    \"spark.executor.memory\" :\"2g\",\r\n",
                "    \"spark.driver.memory\" : \"2g\",\r\n",
                "    \"spark.executor.cores\" : 4,\r\n",
                "    \"spark.driver.cores\" : 1,\r\n",
                "    \"spark.executor.instances\" : 4\r\n",
                "    }\r\n",
                "}"
            ],
            "metadata": {
                "azdata_cell_guid": "df04d00a-2b15-4169-b561-788936105a73"
            },
            "outputs": [
                {
                    "data": {
                        "text/plain": "<IPython.core.display.HTML object>",
                        "text/html": "Current session configs: <tt>{'conf': {'spark.executor.memory': '2g', 'spark.driver.memory': '2g', 'spark.executor.cores': 4, 'spark.driver.cores': 1, 'spark.executor.instances': 4}, 'kind': 'pyspark'}</tt><br>"
                    },
                    "metadata": {},
                    "output_type": "display_data"
                },
                {
                    "name": "stderr",
                    "text": "An error was encountered:\nError sending http request and maximum retry encountered.\n",
                    "output_type": "stream"
                }
            ],
            "execution_count": 1
        },
        {
            "cell_type": "code",
            "source": [
                "import os\n",
                "import pprint\n",
                "import json\n",
                "\n",
                ""
            ],
            "metadata": {
                "azdata_cell_guid": "8fa057db-9a04-4228-b68a-f019425fb35b"
            },
            "outputs": [
                {
                    "name": "stdout",
                    "text": "Starting Spark application\n",
                    "output_type": "stream"
                },
                {
                    "data": {
                        "text/plain": "<IPython.core.display.HTML object>",
                        "text/html": "<table>\n<tr><th>ID</th><th>YARN Application ID</th><th>Kind</th><th>State</th><th>Spark UI</th><th>Driver log</th><th>Current session?</th></tr><tr><td>111</td><td>application_1580142637008_0121</td><td>pyspark</td><td>idle</td><td><a target=\"_blank\" href=\"https://172.23.25.61:30443/gateway/default/yarn/proxy/application_1580142637008_0121/\">Link</a></td><td><a target=\"_blank\" href=\"https://172.23.25.61:30443/gateway/default/yarn/container/container_1580142637008_0121_01_000001/root\">Link</a></td><td>✔</td></tr></table>"
                    },
                    "metadata": {},
                    "output_type": "display_data"
                },
                {
                    "data": {
                        "text/plain": "FloatProgress(value=0.0, bar_style='info', description='Progress:', layout=Layout(height='25px', width='50%'),…",
                        "application/vnd.jupyter.widget-view+json": {
                            "version_major": 2,
                            "version_minor": 0,
                            "model_id": "684e0ea43f894230b3ad3c18acebcc1e"
                        }
                    },
                    "metadata": {},
                    "output_type": "display_data"
                },
                {
                    "name": "stdout",
                    "text": "SparkSession available as 'spark'.\n",
                    "output_type": "stream"
                },
                {
                    "data": {
                        "text/plain": "FloatProgress(value=0.0, bar_style='info', description='Progress:', layout=Layout(height='25px', width='50%'),…",
                        "application/vnd.jupyter.widget-view+json": {
                            "version_major": 2,
                            "version_minor": 0,
                            "model_id": "541a205cb0e44717a779166900616807"
                        }
                    },
                    "metadata": {},
                    "output_type": "display_data"
                }
            ],
            "execution_count": 4
        },
        {
            "cell_type": "code",
            "source": [
                "print(\"hello pyspark\")\n",
                "\n",
                "# /.config/creds.json is in hdfs\n",
                "\n",
                "authfileDF =spark.read.json(\"hdfs:///.config/creds.json\")\n",
                "\n",
                "kvs = authfileDF.collect()[0]\n",
                "jdbc_username = kvs.jdbc_username\n",
                "jdbc_password = kvs.jdbc_password\n",
                "\n",
                "print(jdbc_username)\n",
                "print(jdbc_password)\n",
                ""
            ],
            "metadata": {
                "azdata_cell_guid": "6aa329c6-10ed-4726-91d0-ba094e4c7e9d",
                "tags": []
            },
            "outputs": [
{
    "data": {
        "text/plain": "FloatProgress(value=0.0, bar_style='info', description='Progress:', layout=Layout(height='25px', width='50%'),…",
        "application/vnd.jupyter.widget-view+json": {
            "version_major": 2,
            "version_minor": 0,
            "model_id": "b68e462ac31c4fea8c2070122b0947ef"
        }
    },
    "metadata": {},
    "output_type": "display_data"
}, {
    "name": "stdout",
    "text": "hello pyspark\nadmin\nfooRiuzg54",
    "output_type": "stream"
}
],
            "execution_count": 21
        },
        {
            "cell_type": "code",
            "source": [
                "'''\n",
                "with open(authFile) as f:\n",
                "    s = f.read()\n",
                "creds = json.loads(s)\n",
                "jdbc_username=creds['jdbc_username']\n",
                "jdbc_password=creds['jdbc_password']\n",
                "print(\"username:{jdbc_username} password:{jdbc_password}\".format(jdbc_username=jdbc_username, jdbc_password=jdbc_password))\n",
                "'''"
            ],
            "metadata": {
                "azdata_cell_guid": "e35b45f7-6a16-48a7-8edc-8fa8447e7f5e"
            },
            "outputs": [],
            "execution_count": null
        }
    ]
}