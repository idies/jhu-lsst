{
    "metadata": {
        "kernelspec": {
            "name": "pysparkkernel",
            "display_name": "PySpark"
        },
        "language_info": {
            "name": "pyspark",
            "mimetype": "text/x-python",
            "codemirror_mode": {
                "name": "python",
                "version": 2
            },
            "pygments_lexer": "python2"
        }
    },
    "nbformat_minor": 2,
    "nbformat": 4,
    "cells": [
        {
            "cell_type": "code",
            "source": [
                "%%configure -f\r\n",
                "{\"conf\": {\r\n",
                "    \"spark.executor.memory\" :\"2g\",\r\n",
                "    \"spark.driver.memory\" : \"2g\",\r\n",
                "    \"spark.executor.cores\" : 4,\r\n",
                "    \"spark.driver.cores\" : 1,\r\n",
                "    \"spark.executor.instances\" : 4\r\n",
                "    }\r\n",
                "}"
            ],
            "metadata": {
                "azdata_cell_guid": "df04d00a-2b15-4169-b561-788936105a73"
            },
            "outputs": [],
            "execution_count": null
        },
        {
            "cell_type": "code",
            "source": [
                "\n",
                "\n",
                ""
            ],
            "metadata": {
                "azdata_cell_guid": "8fa057db-9a04-4228-b68a-f019425fb35b"
            },
            "outputs": [],
            "execution_count": null
        },
        {
            "cell_type": "code",
            "source": [
                "print(\"hello pyspark\")\n",
                "\n",
                "# /.config/creds.json is in hdfs\n",
                "\n",
                "authfileDF =spark.read.json(\"hdfs:///.config/creds.json\")\n",
                "\n",
                "kvs = authfileDF.collect()[0]\n",
                "jdbc_username = kvs.jdbc_username\n",
                "jdbc_password = kvs.jdbc_password\n",
                "\n",
                "print(jdbc_username)\n",
                "print(jdbc_password)\n",
                "\n",
                "# use jdbc_username and jdbc_password with the mssql-spark-connector to do stuff on sql server\n",
                "# instead of hardcoding in notebook\n",
                ""
            ],
            "metadata": {
                "azdata_cell_guid": "6aa329c6-10ed-4726-91d0-ba094e4c7e9d",
                "tags": []
            },
            "outputs": [],
            "execution_count": null
        },
        {
            "cell_type": "code",
            "source": [
                ""
            ],
            "metadata": {
                "azdata_cell_guid": "e35b45f7-6a16-48a7-8edc-8fa8447e7f5e",
                "tags": []
            },
            "outputs": [],
            "execution_count": null
        }
    ]
}