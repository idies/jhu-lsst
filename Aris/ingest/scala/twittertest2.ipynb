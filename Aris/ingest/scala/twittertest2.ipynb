{
    "metadata": {
        "kernelspec": {
            "name": "sparkkernel",
            "display_name": "Spark | Scala"
        },
        "language_info": {
            "name": "scala",
            "mimetype": "text/x-scala",
            "codemirror_mode": "text/x-scala",
            "pygments_lexer": "scala"
        }
    },
    "nbformat_minor": 2,
    "nbformat": 4,
    "cells": [
        {
            "cell_type": "markdown",
            "source": [
                "Step 1: create DB on master instance (run this one on the SQL kernel)"
            ],
            "metadata": {
                "azdata_cell_guid": "f6f8829f-7085-4697-8672-de31be8f35c3"
            }
        },
        {
            "cell_type": "code",
            "source": [
                "\r\n",
                "USE master\r\n",
                "IF EXISTS(select * from sys.databases where name='TwitterData')\r\n",
                "DROP DATABASE TwitterData;\r\n",
                "GO\r\n",
                "CREATE DATABASE TwitterData;\r\n",
                "GO\r\n",
                "USE TwitterData;\r\n",
                "GO\r\n",
                ""
            ],
            "metadata": {
                "azdata_cell_guid": "6c524158-de3f-40c1-9778-bc1b5304ad6e"
            },
            "outputs": [],
            "execution_count": 2
        },
        {
            "cell_type": "markdown",
            "source": [
                "Step 2: switch to scala context and import packages\r\n",
                ""
            ],
            "metadata": {
                "azdata_cell_guid": "77692a6e-61fa-4978-8770-5522afff246e"
            }
        },
        {
            "cell_type": "code",
            "source": [
                "import java.io.{BufferedReader, File, FileNotFoundException, InputStream, InputStreamReader}\r\n",
                "import java.net.URLEncoder\r\n",
                "import java.nio.charset.StandardCharsets\r\n",
                "import java.util.Base64\r\n",
                "import javax.crypto.Mac\r\n",
                "import javax.crypto.spec.SecretKeySpec\r\n",
                "import scala.collection.JavaConverters._\r\n",
                "import org.apache.commons.io.IOUtils\r\n",
                "import org.apache.http.client.methods.HttpGet\r\n",
                "import org.apache.http.impl.client.CloseableHttpClient\r\n",
                "import org.apache.http.impl.client.HttpClients\r\n",
                "import org.apache.hadoop.conf.Configuration\r\n",
                "import org.apache.hadoop.fs.FileSystem\r\n",
                "import org.apache.hadoop.fs.Path\r\n",
                "import java.io.PrintWriter\r\n",
                "import org.apache.spark.sql.{SparkSession, SaveMode, Row, DataFrame}"
            ],
            "metadata": {
                "azdata_cell_guid": "6aa98d1a-ee9a-4404-b34b-24acdafdf832"
            },
            "outputs": [],
            "execution_count": 3
        },
        {
            "cell_type": "markdown",
            "source": [
                "setup stuff\r\n",
                "\r\n",
                ""
            ],
            "metadata": {
                "azdata_cell_guid": "2d1f7ee9-27de-4a02-9e0c-69203a67db40"
            }
        },
        {
            "cell_type": "code",
            "source": [
                "//Twitter api auth keys\r\n",
                "val consumerKey = \"SMW41Vb3dLfZkWsFYxGa8Mdo\"\r\n",
                "val consumerSecret = \"8pEiMTXY0xyv1TDfUwBYJiNzEOupoVwaw9Vk3tzt1gvsZq9QF\"\r\n",
                "val accessToken = \"0022462-hx6lkyAGKLnGU8GhOHpIUfyRpGhosiph491oY7J6k\"\r\n",
                "val accessTokenSecret = \"vduKmDt6dlL8GzWLRCorTCLTFrAydr43GsjGPHQn3fhT\"\r\n",
                "\r\n",
                "//SQL auth stuff\r\n",
                "val user = \"sa\"\r\n",
                "val password = \"fooRiuzg54\"\r\n",
                "\r\n",
                "//Spark-SQL connector params\r\n",
                "val hostname = \"master-0.master-svc\"\r\n",
                "val port = 1433\r\n",
                "val database = \"TwitterData\"\r\n",
                "val url = s\"jdbc:sqlserver://${hostname}:${port};database=${database};user={$user};password=${password};\"\r\n",
                "val dbtable = \"Tweets\"\r\n",
                "val datasource_name = \"TweetsDataSource\"\r\n",
                "\r\n",
                "//Twitter stream object parameters\r\n",
                "\r\n",
                "val filters = Array(\"goose\", \"springsteen\", \"punk\", \"hypnospace\")  \r\n",
                "val path = \"/user/twitter/\"\r\n",
                "val savingInterval = 2000\r\n",
                "\r\n",
                "\r\n",
                "\r\n",
                "\r\n",
                "\r\n",
                "\r\n",
                ""
            ],
            "metadata": {
                "azdata_cell_guid": "9355e2fd-b84e-4327-b133-c7c38245e94e"
            },
            "outputs": [],
            "execution_count": 4
        },
        {
            "cell_type": "code",
            "source": [
                "//this is test stuff, don't run it unless you started the stream already\r\n",
                "twitterStream.isStopped"
            ],
            "metadata": {
                "azdata_cell_guid": "00504bcc-d2fc-4ad0-b4d0-224569446834"
            },
            "outputs": [],
            "execution_count": 15
        },
        {
            "cell_type": "code",
            "source": [
                "\r\n",
                "class TwitterStream(\r\n",
                "  consumerKey: String,\r\n",
                "  consumerSecret: String,\r\n",
                "  accessToken: String,\r\n",
                "  accessTokenSecret: String,\r\n",
                "  path: String,\r\n",
                "  savingInterval: Long,\r\n",
                "  filters: Array[String]) {\r\n",
                "  \r\n",
                "  private val threadName = \"tweet-downloader\"\r\n",
                "  \r\n",
                "  {\r\n",
                "    val hasActiveStream = Thread.getAllStackTraces().keySet().asScala.map(_.getName).contains(threadName)\r\n",
                "    if (hasActiveStream) {\r\n",
                "      throw new RuntimeException(\r\n",
                "        \"There is already an active stream that writes tweets to the configured path. \" +\r\n",
                "        \"Please stop the existing stream first (using twitterStream.stop()).\")\r\n",
                "    }\r\n",
                "  }\r\n",
                "  \r\n",
                "  @volatile private var thread: Thread = null\r\n",
                "  @volatile private var isStopped = false\r\n",
                "  @volatile var isDownloading = false\r\n",
                "  @volatile var exception: Throwable = null\r\n",
                "\r\n",
                "  private var httpclient: CloseableHttpClient = null\r\n",
                "  private var input: InputStream = null\r\n",
                "  private var httpGet: HttpGet = null\r\n",
                "  \r\n",
                "  private def encode(string: String): String = {\r\n",
                "    URLEncoder.encode(string, StandardCharsets.UTF_8.name)\r\n",
                "  }\r\n",
                "\r\n",
                "  def start(): Unit = synchronized {\r\n",
                "    isDownloading = false\r\n",
                "    isStopped = false\r\n",
                "    thread = new Thread(threadName) {\r\n",
                "      override def run(): Unit = {\r\n",
                "        httpclient = HttpClients.createDefault()\r\n",
                "        try {\r\n",
                "          requestStream(httpclient)\r\n",
                "        } catch {\r\n",
                "          case e: Throwable => exception = e\r\n",
                "        } finally {\r\n",
                "          //TwitterStream.this.stop()\r\n",
                "        }\r\n",
                "      }\r\n",
                "    }\r\n",
                "    thread.start()\r\n",
                "  }\r\n",
                "\r\n",
                "  private def requestStream(httpclient: CloseableHttpClient): Unit = {\r\n",
                "    val url = \"https://stream.twitter.com/1.1/statuses/filter.json\"\r\n",
                "    val timestamp = System.currentTimeMillis / 1000\r\n",
                "    val nonce = timestamp + scala.util.Random.nextInt\r\n",
                "    val oauthNonce = nonce.toString\r\n",
                "    val oauthTimestamp = timestamp.toString\r\n",
                "\r\n",
                "    val oauthHeaderParams = List(\r\n",
                "      \"oauth_consumer_key\" -> encode(consumerKey),\r\n",
                "      \"oauth_signature_method\" -> encode(\"HMAC-SHA1\"),\r\n",
                "      \"oauth_timestamp\" -> encode(oauthTimestamp),\r\n",
                "      \"oauth_nonce\" -> encode(oauthNonce),\r\n",
                "      \"oauth_token\" -> encode(accessToken),\r\n",
                "      \"oauth_version\" -> \"1.0\"\r\n",
                "    )\r\n",
                "    val requestParams = List(\r\n",
                "      \"track\" -> encode(filters.mkString(\",\"))\r\n",
                "    )\r\n",
                "\r\n",
                "    val parameters = (oauthHeaderParams ++ requestParams).sortBy(_._1).map(pair => s\"\"\"${pair._1}=${pair._2}\"\"\").mkString(\"&\")\r\n",
                "    val base = s\"GET&${encode(url)}&${encode(parameters)}\"\r\n",
                "    val oauthBaseString: String = base.toString\r\n",
                "    val signature = generateSignature(oauthBaseString)\r\n",
                "    val oauthFinalHeaderParams = oauthHeaderParams ::: List(\"oauth_signature\" -> encode(signature))\r\n",
                "    val authHeader = \"OAuth \" + ((oauthFinalHeaderParams.sortBy(_._1).map(pair => s\"\"\"${pair._1}=\"${pair._2}\"\"\"\")).mkString(\", \"))\r\n",
                "\r\n",
                "    httpGet = new HttpGet(s\"https://stream.twitter.com/1.1/statuses/filter.json?${requestParams.map(pair => s\"\"\"${pair._1}=${pair._2}\"\"\").mkString(\"&\")}\")\r\n",
                "    httpGet.addHeader(\"Authorization\", authHeader)\r\n",
                "    println(\"Downloading tweets!\")\r\n",
                "    val response = httpclient.execute(httpGet)\r\n",
                "    val entity = response.getEntity()\r\n",
                "    input = entity.getContent()\r\n",
                "    if (response.getStatusLine.getStatusCode != 200) {\r\n",
                "      throw new RuntimeException(IOUtils.toString(input, StandardCharsets.UTF_8))\r\n",
                "    }\r\n",
                "    isDownloading = true\r\n",
                "    val reader = new BufferedReader(new InputStreamReader(input, StandardCharsets.UTF_8))\r\n",
                "    var line: String = null\r\n",
                "    var lineno = 1\r\n",
                "    line = reader.readLine()\r\n",
                "    var lastSavingTime = System.currentTimeMillis()\r\n",
                "    val s = new StringBuilder()\r\n",
                "   \r\n",
                "    val conf = new Configuration()\r\n",
                "    val fs= FileSystem.get(conf)\r\n",
                "                                                                      \r\n",
                "    while (line != null && !isStopped) {\r\n",
                "      lineno += 1\r\n",
                "      line = reader.readLine()\r\n",
                "      s.append(line + \"\\n\")\r\n",
                "      val now = System.currentTimeMillis()\r\n",
                "      if (now - lastSavingTime >= savingInterval) {\r\n",
                "          \r\n",
                "         val df = spark.read.json(spark.sparkContext.parallelize(Seq(s.toString)))\r\n",
                "         df.write.json(path + now.toString)\r\n",
                "          \r\n",
                "        lastSavingTime = now\r\n",
                "        s.clear()\r\n",
                "      }\r\n",
                "    }\r\n",
                "  }\r\n",
                "\r\n",
                "  private def generateSignature(data: String): String = {\r\n",
                "    val mac = Mac.getInstance(\"HmacSHA1\")\r\n",
                "    val oauthSignature = encode(consumerSecret) + \"&\" + encode(accessTokenSecret)\r\n",
                "    val spec = new SecretKeySpec(oauthSignature.getBytes, \"HmacSHA1\")\r\n",
                "    mac.init(spec)\r\n",
                "    val byteHMAC = mac.doFinal(data.getBytes)\r\n",
                "    return Base64.getEncoder.encodeToString(byteHMAC)\r\n",
                "  }\r\n",
                "\r\n",
                "  def stop(): Unit = synchronized {\r\n",
                "    isStopped = true\r\n",
                "    isDownloading = false\r\n",
                "    try {\r\n",
                "      if (httpGet != null) {\r\n",
                "        httpGet.abort()\r\n",
                "        httpGet = null\r\n",
                "      }\r\n",
                "      if (input != null) {\r\n",
                "        input.close()\r\n",
                "        input = null\r\n",
                "      }\r\n",
                "      if (httpclient != null) {\r\n",
                "        httpclient.close()\r\n",
                "        httpclient = null\r\n",
                "      }\r\n",
                "      if (thread != null) {\r\n",
                "        thread.interrupt()\r\n",
                "        thread = null\r\n",
                "      }\r\n",
                "    } catch {\r\n",
                "      case _: Throwable =>\r\n",
                "    }\r\n",
                "  }\r\n",
                "}\r\n",
                "println(\"class defined\")"
            ],
            "metadata": {
                "azdata_cell_guid": "d5a712aa-5252-4479-bad4-dd89fadc137e"
            },
            "outputs": [],
            "execution_count": 5
        },
        {
            "cell_type": "code",
            "source": [
                "val twitterStream = new TwitterStream(consumerKey, consumerSecret, accessToken, accessTokenSecret, path, savingInterval, filters)"
            ],
            "metadata": {
                "azdata_cell_guid": "99bcd360-22d5-4635-b97b-4b95864f2de0"
            },
            "outputs": [],
            "execution_count": 11
        },
        {
            "cell_type": "code",
            "source": [
                "twitterStream.start()\r\n",
                "\r\n",
                "if (twitterStream.exception != null) { throw twitterStream.exception }"
            ],
            "metadata": {
                "azdata_cell_guid": "66ac6f05-606f-40da-91d2-a6ce9a3047e7"
            },
            "outputs": [],
            "execution_count": 12
        },
        {
            "cell_type": "code",
            "source": [
                "val tweets = spark.read.json(path + \"*\")\r\n",
                "val tweets_schema = tweets.schema\r\n",
                "\r\n",
                "val tweetStream = spark.readStream.\r\n",
                "|schema(tweets_schema).\r\n",
                "|json(path + \"*\").\r\n",
                "|filter($\"lang\" === \"en\").\r\n",
                "|withColumn(\"screen_name\", $\"user.screen_name\").\r\n",
                "|withColumn(\"num_followers\", $\"user.followers_count\").\r\n",
                "|withColumn(\"createdAt\", from_utc_timestamp(from_unixtime(unix_timestamp($\"created_at\", \"EEE MMM dd HH:mm:ss ZZZZ yyyy\")),\"EST\")).\r\n",
                "|select(\"screen_name\",\"createdAt\",\"num_followers\", \"text\")"
            ],
            "metadata": {
                "azdata_cell_guid": "9938e256-26f1-4dd2-ae8f-f6bf86b3245d"
            },
            "outputs": [],
            "execution_count": 13
        },
        {
            "cell_type": "code",
            "source": [
                "\r\n",
                "val query = tweetStream.writeStream.outputMode(\"append\").foreachBatch{ (batchDF: DataFrame, batchId: Long) => \r\n",
                "                batchDF.write\r\n",
                "                    .format(\"com.microsoft.sqlserver.jdbc.spark\")\r\n",
                "                    .mode(\"append\")\r\n",
                "                    .option(\"url\", url)\r\n",
                "                    .option(\"dbtable\", dbtable)\r\n",
                "                    .option(\"user\", user)\r\n",
                "                    .option(\"password\", password)\r\n",
                "                    .option(\"dataPoolDataSource\",datasource_name).save()\r\n",
                "               }.start()\r\n",
                "query.processAllAvailable()\r\n",
                "//query.awaitTermination(40000)"
            ],
            "metadata": {
                "azdata_cell_guid": "07079984-de6c-496a-94b0-18964b618b67"
            },
            "outputs": [],
            "execution_count": 0
        },
        {
            "cell_type": "code",
            "source": [
                "def df_read(dbtable: String,\r\n",
                "                url: String,\r\n",
                "                dataPoolDataSource: String=\"\"): DataFrame = {\r\n",
                "                spark.read\r\n",
                "                        .format(\"com.microsoft.sqlserver.jdbc.spark\")\r\n",
                "                        .option(\"url\", url)\r\n",
                "                        .option(\"dbtable\", dbtable)\r\n",
                "                        .option(\"user\", user)\r\n",
                "                        .option(\"password\", password)\r\n",
                "                        .option(\"dataPoolDataSource\", datasource_name)\r\n",
                "                        .load()\r\n",
                "                }"
            ],
            "metadata": {
                "azdata_cell_guid": "67ca8852-999f-46b9-8666-abb95225b3be"
            },
            "outputs": [],
            "execution_count": 0
        },
        {
            "cell_type": "code",
            "source": [
                "\r\n",
                "val new_df = df_read(dbtable, url, dataPoolDataSource=datasource_name)\r\n",
                "new_df.count"
            ],
            "metadata": {
                "azdata_cell_guid": "c14c12bf-1b02-4b28-a71b-ff4035cde371"
            },
            "outputs": [],
            "execution_count": 0
        },
        {
            "cell_type": "code",
            "source": [
                "\r\n",
                "twitterStream.stop()"
            ],
            "metadata": {
                "azdata_cell_guid": "53bdb83e-2a42-45b7-80d5-6bf4a793d557"
            },
            "outputs": [],
            "execution_count": 9
        }
    ]
}