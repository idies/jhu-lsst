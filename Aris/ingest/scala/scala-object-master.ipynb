{
    "metadata": {
        "kernelspec": {
            "name": "sparkkernel",
            "display_name": "Spark | Scala"
        },
        "language_info": {
            "name": "scala",
            "mimetype": "text/x-scala",
            "codemirror_mode": "text/x-scala",
            "pygments_lexer": "scala"
        }
    },
    "nbformat_minor": 2,
    "nbformat": 4,
    "cells": [
        {
            "cell_type": "code",
            "source": [
                "%%configure -f\r\n",
                "{\"executorMemory\": \"12g\", \"executorCores\": 4, \"numExecutors\":11}"
            ],
            "metadata": {
                "azdata_cell_guid": "7264da71-4415-4742-bb09-f303d947178c"
            },
            "outputs": [
{
    "data": {
        "text/plain": "<IPython.core.display.HTML object>",
        "text/html": "Current session configs: <tt>{'executorMemory': '12g', 'executorCores': 4, 'numExecutors': 11, 'kind': 'spark'}</tt><br>"
    },
    "metadata": {},
    "output_type": "display_data"
}, {
    "data": {
        "text/plain": "<IPython.core.display.HTML object>",
        "text/html": "<table>\n<tr><th>ID</th><th>YARN Application ID</th><th>Kind</th><th>State</th><th>Spark UI</th><th>Driver log</th><th>Current session?</th></tr><tr><td>10</td><td>application_1580142637008_0011</td><td>spark</td><td>idle</td><td><a target=\"_blank\" href=\"https://172.23.25.61:30443/gateway/default/yarn/proxy/application_1580142637008_0011/\">Link</a></td><td><a target=\"_blank\" href=\"https://172.23.25.61:30443/gateway/default/yarn/container/container_1580142637008_0011_01_000001/root\">Link</a></td><td></td></tr></table>"
    },
    "metadata": {},
    "output_type": "display_data"
}
],
            "execution_count": 3
        },
        {
            "cell_type": "code",
            "source": [
                "%%configure -f\n",
                "{\"conf\": {\"spark.jars\": \"/system/jar/simpleHTM.jar,/system/jar/jhealpix.jar\"}}"
            ],
            "metadata": {
                "azdata_cell_guid": "08ecabb4-1d35-4fb6-939d-74de2fa55210"
            },
            "outputs": [
{
    "data": {
        "text/plain": "<IPython.core.display.HTML object>",
        "text/html": "Current session configs: <tt>{'conf': {'spark.jars': '/system/jar/simpleHTM.jar,/system/jar/jhealpix.jar'}, 'kind': 'spark'}</tt><br>"
    },
    "metadata": {},
    "output_type": "display_data"
}, {
    "data": {
        "text/plain": "<IPython.core.display.HTML object>",
        "text/html": "<table>\n<tr><th>ID</th><th>YARN Application ID</th><th>Kind</th><th>State</th><th>Spark UI</th><th>Driver log</th><th>Current session?</th></tr><tr><td>10</td><td>application_1580142637008_0011</td><td>spark</td><td>idle</td><td><a target=\"_blank\" href=\"https://172.23.25.61:30443/gateway/default/yarn/proxy/application_1580142637008_0011/\">Link</a></td><td><a target=\"_blank\" href=\"https://172.23.25.61:30443/gateway/default/yarn/container/container_1580142637008_0011_01_000001/root\">Link</a></td><td></td></tr></table>"
    },
    "metadata": {},
    "output_type": "display_data"
}
],
            "execution_count": 4
        },
        {
            "cell_type": "code",
            "source": [
                "import simple.HTMindex\n",
                "import healpix.jhu.Healpix\n",
                "import org.apache.spark.sql.{SparkSession, SaveMode, Row, DataFrame}\n",
                "import org.apache.spark.sql.functions.udf\n",
                "import java.util.Calendar\n",
                "\n",
                ""
            ],
            "metadata": {
                "azdata_cell_guid": "700b57ad-e424-46d1-88ca-0257d1097e4e"
            },
            "outputs": [
{
    "name": "stdout",
    "text": "Starting Spark application\n",
    "output_type": "stream"
}, {
    "data": {
        "text/plain": "<IPython.core.display.HTML object>",
        "text/html": "<table>\n<tr><th>ID</th><th>YARN Application ID</th><th>Kind</th><th>State</th><th>Spark UI</th><th>Driver log</th><th>Current session?</th></tr><tr><td>11</td><td>application_1580142637008_0012</td><td>spark</td><td>idle</td><td><a target=\"_blank\" href=\"https://172.23.25.61:30443/gateway/default/yarn/proxy/application_1580142637008_0012/\">Link</a></td><td><a target=\"_blank\" href=\"https://172.23.25.61:30443/gateway/default/yarn/container/container_1580142637008_0012_01_000001/root\">Link</a></td><td>✔</td></tr></table>"
    },
    "metadata": {},
    "output_type": "display_data"
}, {
    "data": {
        "text/plain": "FloatProgress(value=0.0, bar_style='info', description='Progress:', layout=Layout(height='25px', width='50%'),…",
        "application/vnd.jupyter.widget-view+json": {
            "version_major": 2,
            "version_minor": 0,
            "model_id": "996f2b127dd44e8799e762f4c4e34ba7"
        }
    },
    "metadata": {},
    "output_type": "display_data"
}, {
    "name": "stdout",
    "text": "SparkSession available as 'spark'.\n",
    "output_type": "stream"
}, {
    "data": {
        "text/plain": "FloatProgress(value=0.0, bar_style='info', description='Progress:', layout=Layout(height='25px', width='50%'),…",
        "application/vnd.jupyter.widget-view+json": {
            "version_major": 2,
            "version_minor": 0,
            "model_id": "f20276103c9140bc871ce2c3cf86ee12"
        }
    },
    "metadata": {},
    "output_type": "display_data"
}, {
    "name": "stdout",
    "text": "import simple.HTMindex\nimport healpix.jhu.Healpix\nimport org.apache.spark.sql.{SparkSession, SaveMode, Row, DataFrame}\nimport org.apache.spark.sql.functions.udf\nimport java.util.Calendar\n",
    "output_type": "stream"
}
],
            "execution_count": 5
        },
        {
            "cell_type": "code",
            "source": [
                "object HTMUtils extends Serializable {\r\n",
                "    var htmindex= new HTMindex() with Serializable\r\n",
                "    val htmid: (Double, Double) => Long = htmindex.lookupId(_,_)\r\n",
                "\r\n",
                "    val htmidUDF=udf(htmid)\r\n",
                "    \r\n",
                "}\n",
                "\n",
                "object HEALPixUtils extends Serializable {\n",
                "    var hp = new Healpix() with Serializable\n",
                "    val healpixid: (Double, Double) => Long = hp.ang2pix(_,_)\n",
                "    val healpixidUDF=udf(healpixid)\n",
                "    \n",
                "}"
            ],
            "metadata": {
                "azdata_cell_guid": "9b93909d-741b-4c62-a375-dff74aae8e00"
            },
            "outputs": [
{
    "data": {
        "text/plain": "FloatProgress(value=0.0, bar_style='info', description='Progress:', layout=Layout(height='25px', width='50%'),…",
        "application/vnd.jupyter.widget-view+json": {
            "version_major": 2,
            "version_minor": 0,
            "model_id": "fa0005cff5fc47d4bb86dbe89545df3d"
        }
    },
    "metadata": {},
    "output_type": "display_data"
}, {
    "name": "stdout",
    "text": "defined object HTMUtils\ndefined object HEALPixUtils\n",
    "output_type": "stream"
}
],
            "execution_count": 6
        },
        {
            "cell_type": "markdown",
            "source": [
                "read object table parquet files into dataframe (objDF)\n",
                "\n",
                "create new dataframe (newDF) with calculated htmid"
            ],
            "metadata": {
                "azdata_cell_guid": "e4015c93-de42-4dc0-8e95-26ac6fd067ac"
            }
        },
        {
            "cell_type": "code",
            "source": [
                "val datafile = \"/user/hive/warehouse/object_test\"\r\n",
                "val objDF = spark.read.parquet(datafile)\r\n",
                "\r\n",
                "val newDF = objDF.withColumn(\"htmid\",HTMUtils.htmidUDF(objDF(\"ra\"),objDF(\"decl\"))).withColumn(\"healpixid\", HEALPixUtils.healpixidUDF(objDF(\"ra\"), objDF(\"decl\")))\r\n",
                "\r\n",
                "//val newDF = objDF.withColumn(\"htmid\",HTMUtils.htmidUDF(objDF(\"ra\"),objDF(\"decl\")))\r\n",
                "//newDF.printSchema()\r\n",
                "newDF.show(1)"
            ],
            "metadata": {
                "azdata_cell_guid": "1446a582-e50a-41c1-a434-d4f2ab2750bc"
            },
            "outputs": [
{
    "data": {
        "text/plain": "FloatProgress(value=0.0, bar_style='info', description='Progress:', layout=Layout(height='25px', width='50%'),…",
        "application/vnd.jupyter.widget-view+json": {
            "version_major": 2,
            "version_minor": 0,
            "model_id": "9825a154877a4a62b16703bb9851044c"
        }
    },
    "metadata": {},
    "output_type": "display_data"
}, {
    "name": "stdout",
    "text": "datafile: String = /user/hive/warehouse/object_test\nobjDF: org.apache.spark.sql.DataFrame = [deepSourceId: bigint, ra: double ... 234 more fields]\nnewDF: org.apache.spark.sql.DataFrame = [deepSourceId: bigint, ra: double ... 236 more fields]\n+----------------+-----------------+-----------------+-------------------+--------------------+--------------------+-------+----------+--------------------+--------------------+--------------------+--------------------+--------------------+--------------------+--------------------+--------------------+------------------+--------------------+-----------------+------------------+------------+------------+--------------+------------------+----------------+-------------------+------------------+-------------------+------------------+----------------+----------------+----------------+--------------+--------------+---------------------+-------------+------------------+------------------+-----------------+-----------------+----------------+---------------+------------------+-----------------+-----------------+--------------+--------------------+--------------------+--------------------+--------------------+--------------------+--------------------+--------------------+--------------------+------------------+--------------------+-----------------+------------------+------------+------------+--------------+------------------+----------------+-------------------+------------------+-------------------+------------------+----------------+----------------+----------------+--------------+--------------+---------------------+-------------+------------------+------------------+-----------------+-----------------+----------------+---------------+------------------+-----------------+-----------------+--------------+--------------------+--------------------+--------------------+--------------------+--------------------+--------------------+--------------------+--------------------+------------------+--------------------+-----------------+------------------+------------+------------+--------------+------------------+----------------+-------------------+------------------+-------------------+------------------+----------------+----------------+----------------+--------------+--------------+---------------------+-------------+------------------+------------------+-----------------+-----------------+----------------+---------------+------------------+-----------------+-----------------+--------------+--------------------+--------------------+--------------------+--------------------+--------------------+--------------------+--------------------+--------------------+------------------+--------------------+-----------------+------------------+------------+------------+--------------+------------------+----------------+-------------------+------------------+-------------------+------------------+----------------+----------------+----------------+--------------+--------------+---------------------+-------------+------------------+------------------+-----------------+-----------------+----------------+---------------+------------------+-----------------+-----------------+--------------+--------------------+--------------------+--------------------+--------------------+--------------------+--------------------+--------------------+--------------------+------------------+--------------------+-----------------+------------------+------------+------------+--------------+------------------+----------------+-------------------+------------------+-------------------+------------------+----------------+----------------+----------------+--------------+--------------+---------------------+-------------+------------------+------------------+-----------------+-----------------+----------------+---------------+------------------+-----------------+-----------------+--------------+--------------------+--------------------+--------------------+--------------------+--------------------+--------------------+--------------------+--------------------+------------------+--------------------+-----------------+------------------+------------+------------+--------------+------------------+----------------+-------------------+------------------+-------------------+------------------+----------------+----------------+----------------+--------------+--------------+---------------------+-------------+------------------+------------------+-----------------+-----------------+----------------+---------------+------------------+-----------------+-----------------+--------------+--------------+-------------+\n|    deepSourceId|               ra|             decl|              raVar|             declVar|           radeclCov|chunkId|subChunkId|           u_psfFlux|      u_psfFluxSigma|            u_apFlux|       u_apFluxSigma|         u_modelFlux|    u_modelFluxSigma|          u_instFlux|     u_instFluxSigma|    u_apCorrection| u_apCorrectionSigma|        u_shapeIx|         u_shapeIy|u_shapeIxVar|u_shapeIyVar|u_shapeIxIyCov|        u_shapeIxx|      u_shapeIyy|         u_shapeIxy|     u_shapeIxxVar|      u_shapeIyyVar|     u_shapeIxyVar|u_shapeIxxIyyCov|u_shapeIxxIxyCov|u_shapeIyyIxyCov|u_extendedness|u_flagNegative|u_flagBadMeasCentroid|u_flagPixEdge|u_flagPixInterpAny|u_flagPixInterpCen|u_flagPixSaturAny|u_flagPixSaturCen|u_flagBadPsfFlux|u_flagBadApFlux|u_flagBadModelFlux|u_flagBadInstFlux|u_flagBadCentroid|u_flagBadShape|           g_psfFlux|      g_psfFluxSigma|            g_apFlux|       g_apFluxSigma|         g_modelFlux|    g_modelFluxSigma|          g_instFlux|     g_instFluxSigma|    g_apCorrection| g_apCorrectionSigma|        g_shapeIx|         g_shapeIy|g_shapeIxVar|g_shapeIyVar|g_shapeIxIyCov|        g_shapeIxx|      g_shapeIyy|         g_shapeIxy|     g_shapeIxxVar|      g_shapeIyyVar|     g_shapeIxyVar|g_shapeIxxIyyCov|g_shapeIxxIxyCov|g_shapeIyyIxyCov|g_extendedness|g_flagNegative|g_flagBadMeasCentroid|g_flagPixEdge|g_flagPixInterpAny|g_flagPixInterpCen|g_flagPixSaturAny|g_flagPixSaturCen|g_flagBadPsfFlux|g_flagBadApFlux|g_flagBadModelFlux|g_flagBadInstFlux|g_flagBadCentroid|g_flagBadShape|           r_psfFlux|      r_psfFluxSigma|            r_apFlux|       r_apFluxSigma|         r_modelFlux|    r_modelFluxSigma|          r_instFlux|     r_instFluxSigma|    r_apCorrection| r_apCorrectionSigma|        r_shapeIx|         r_shapeIy|r_shapeIxVar|r_shapeIyVar|r_shapeIxIyCov|        r_shapeIxx|      r_shapeIyy|         r_shapeIxy|     r_shapeIxxVar|      r_shapeIyyVar|     r_shapeIxyVar|r_shapeIxxIyyCov|r_shapeIxxIxyCov|r_shapeIyyIxyCov|r_extendedness|r_flagNegative|r_flagBadMeasCentroid|r_flagPixEdge|r_flagPixInterpAny|r_flagPixInterpCen|r_flagPixSaturAny|r_flagPixSaturCen|r_flagBadPsfFlux|r_flagBadApFlux|r_flagBadModelFlux|r_flagBadInstFlux|r_flagBadCentroid|r_flagBadShape|           i_psfFlux|      i_psfFluxSigma|            i_apFlux|       i_apFluxSigma|         i_modelFlux|    i_modelFluxSigma|          i_instFlux|     i_instFluxSigma|    i_apCorrection| i_apCorrectionSigma|        i_shapeIx|         i_shapeIy|i_shapeIxVar|i_shapeIyVar|i_shapeIxIyCov|        i_shapeIxx|      i_shapeIyy|         i_shapeIxy|     i_shapeIxxVar|      i_shapeIyyVar|     i_shapeIxyVar|i_shapeIxxIyyCov|i_shapeIxxIxyCov|i_shapeIyyIxyCov|i_extendedness|i_flagNegative|i_flagBadMeasCentroid|i_flagPixEdge|i_flagPixInterpAny|i_flagPixInterpCen|i_flagPixSaturAny|i_flagPixSaturCen|i_flagBadPsfFlux|i_flagBadApFlux|i_flagBadModelFlux|i_flagBadInstFlux|i_flagBadCentroid|i_flagBadShape|           z_psfFlux|      z_psfFluxSigma|            z_apFlux|       z_apFluxSigma|         z_modelFlux|    z_modelFluxSigma|          z_instFlux|     z_instFluxSigma|    z_apCorrection| z_apCorrectionSigma|        z_shapeIx|         z_shapeIy|z_shapeIxVar|z_shapeIyVar|z_shapeIxIyCov|        z_shapeIxx|      z_shapeIyy|         z_shapeIxy|     z_shapeIxxVar|      z_shapeIyyVar|     z_shapeIxyVar|z_shapeIxxIyyCov|z_shapeIxxIxyCov|z_shapeIyyIxyCov|z_extendedness|z_flagNegative|z_flagBadMeasCentroid|z_flagPixEdge|z_flagPixInterpAny|z_flagPixInterpCen|z_flagPixSaturAny|z_flagPixSaturCen|z_flagBadPsfFlux|z_flagBadApFlux|z_flagBadModelFlux|z_flagBadInstFlux|z_flagBadCentroid|z_flagBadShape|           y_psfFlux|      y_psfFluxSigma|            y_apFlux|       y_apFluxSigma|         y_modelFlux|    y_modelFluxSigma|          y_instFlux|     y_instFluxSigma|    y_apCorrection| y_apCorrectionSigma|        y_shapeIx|         y_shapeIy|y_shapeIxVar|y_shapeIyVar|y_shapeIxIyCov|        y_shapeIxx|      y_shapeIyy|         y_shapeIxy|     y_shapeIxxVar|      y_shapeIyyVar|     y_shapeIxyVar|y_shapeIxxIyyCov|y_shapeIxxIxyCov|y_shapeIyyIxyCov|y_extendedness|y_flagNegative|y_flagBadMeasCentroid|y_flagPixEdge|y_flagPixInterpAny|y_flagPixInterpCen|y_flagPixSaturAny|y_flagPixSaturCen|y_flagBadPsfFlux|y_flagBadApFlux|y_flagBadModelFlux|y_flagBadInstFlux|y_flagBadCentroid|y_flagBadShape|         htmid|    healpixid|\n+----------------+-----------------+-----------------+-------------------+--------------------+--------------------+-------+----------+--------------------+--------------------+--------------------+--------------------+--------------------+--------------------+--------------------+--------------------+------------------+--------------------+-----------------+------------------+------------+------------+--------------+------------------+----------------+-------------------+------------------+-------------------+------------------+----------------+----------------+----------------+--------------+--------------+---------------------+-------------+------------------+------------------+-----------------+-----------------+----------------+---------------+------------------+-----------------+-----------------+--------------+--------------------+--------------------+--------------------+--------------------+--------------------+--------------------+--------------------+--------------------+------------------+--------------------+-----------------+------------------+------------+------------+--------------+------------------+----------------+-------------------+------------------+-------------------+------------------+----------------+----------------+----------------+--------------+--------------+---------------------+-------------+------------------+------------------+-----------------+-----------------+----------------+---------------+------------------+-----------------+-----------------+--------------+--------------------+--------------------+--------------------+--------------------+--------------------+--------------------+--------------------+--------------------+------------------+--------------------+-----------------+------------------+------------+------------+--------------+------------------+----------------+-------------------+------------------+-------------------+------------------+----------------+----------------+----------------+--------------+--------------+---------------------+-------------+------------------+------------------+-----------------+-----------------+----------------+---------------+------------------+-----------------+-----------------+--------------+--------------------+--------------------+--------------------+--------------------+--------------------+--------------------+--------------------+--------------------+------------------+--------------------+-----------------+------------------+------------+------------+--------------+------------------+----------------+-------------------+------------------+-------------------+------------------+----------------+----------------+----------------+--------------+--------------+---------------------+-------------+------------------+------------------+-----------------+-----------------+----------------+---------------+------------------+-----------------+-----------------+--------------+--------------------+--------------------+--------------------+--------------------+--------------------+--------------------+--------------------+--------------------+------------------+--------------------+-----------------+------------------+------------+------------+--------------+------------------+----------------+-------------------+------------------+-------------------+------------------+----------------+----------------+----------------+--------------+--------------+---------------------+-------------+------------------+------------------+-----------------+-----------------+----------------+---------------+------------------+-----------------+-----------------+--------------+--------------------+--------------------+--------------------+--------------------+--------------------+--------------------+--------------------+--------------------+------------------+--------------------+-----------------+------------------+------------+------------+--------------+------------------+----------------+-------------------+------------------+-------------------+------------------+----------------+----------------+----------------+--------------+--------------+---------------------+-------------+------------------+------------------+-----------------+-----------------+----------------+---------------+------------------+-----------------+-----------------+--------------+--------------+-------------+\n|3411561242693403|348.3842949538844|32.89615906812015|0.01994615846374424|0.035966665372902766|-1.64792910337340...|   9994|         6|6.616789048152556...|1.110019270475090...|8.179916066140836...|2.438339262951428...|6.577178798031558...|1.088338838880064...|5.267831235805737...|1.165245887335275...|0.8601553329943701|0.003344458634101132|370.2415621458488|1266.9299238819162|        null|        null|          null|1.2752561864994314|2.64987322760678|0.22141973457035552|0.3178885550953003|0.33506424037980337|1.3725565210218205|            null|            null|            null|           0.0|             0|                    0|            0|                 0|                 0|                0|                0|               0|              0|                 0|                0|                0|             0|6.616789048152556...|1.110019270475090...|8.179916066140836...|2.438339262951428...|6.577178798031558...|1.088338838880064...|5.267831235805737...|1.165245887335275...|0.8601553329943701|0.003344458634101132|370.2415621458488|1266.9299238819162|        null|        null|          null|1.2752561864994314|2.64987322760678|0.22141973457035552|0.3178885550953003|0.33506424037980337|1.3725565210218205|            null|            null|            null|           0.0|             0|                    0|            0|                 0|                 0|                0|                0|               0|              0|                 0|                0|                0|             0|6.616789048152556...|1.110019270475090...|8.179916066140836...|2.438339262951428...|6.577178798031558...|1.088338838880064...|5.267831235805737...|1.165245887335275...|0.8601553329943701|0.003344458634101132|370.2415621458488|1266.9299238819162|        null|        null|          null|1.2752561864994314|2.64987322760678|0.22141973457035552|0.3178885550953003|0.33506424037980337|1.3725565210218205|            null|            null|            null|           0.0|             0|                    0|            0|                 0|                 0|                0|                0|               0|              0|                 0|                0|                0|             0|6.616789048152556...|1.110019270475090...|8.179916066140836...|2.438339262951428...|6.577178798031558...|1.088338838880064...|5.267831235805737...|1.165245887335275...|0.8601553329943701|0.003344458634101132|370.2415621458488|1266.9299238819162|        null|        null|          null|1.2752561864994314|2.64987322760678|0.22141973457035552|0.3178885550953003|0.33506424037980337|1.3725565210218205|            null|            null|            null|           0.0|             0|                    0|            0|                 0|                 0|                0|                0|               0|              0|                 0|                0|                0|             0|6.616789048152556...|1.110019270475090...|8.179916066140836...|2.438339262951428...|6.577178798031558...|1.088338838880064...|5.267831235805737...|1.165245887335275...|0.8601553329943701|0.003344458634101132|370.2415621458488|1266.9299238819162|        null|        null|          null|1.2752561864994314|2.64987322760678|0.22141973457035552|0.3178885550953003|0.33506424037980337|1.3725565210218205|            null|            null|            null|           0.0|             0|                    0|            0|                 0|                 0|                0|                0|               0|              0|                 0|                0|                0|             0|6.616789048152556...|1.110019270475090...|8.179916066140836...|2.438339262951428...|6.577178798031558...|1.088338838880064...|5.267831235805737...|1.165245887335275...|0.8601553329943701|0.003344458634101132|370.2415621458488|1266.9299238819162|        null|        null|          null|1.2752561864994314|2.64987322760678|0.22141973457035552|0.3178885550953003|0.33506424037980337|1.3725565210218205|            null|            null|            null|           0.0|             0|                    0|            0|                 0|                 0|                0|                0|               0|              0|                 0|                0|                0|             0|13326425372537|3644668203912|\n+----------------+-----------------+-----------------+-------------------+--------------------+--------------------+-------+----------+--------------------+--------------------+--------------------+--------------------+--------------------+--------------------+--------------------+--------------------+------------------+--------------------+-----------------+------------------+------------+------------+--------------+------------------+----------------+-------------------+------------------+-------------------+------------------+----------------+----------------+----------------+--------------+--------------+---------------------+-------------+------------------+------------------+-----------------+-----------------+----------------+---------------+------------------+-----------------+-----------------+--------------+--------------------+--------------------+--------------------+--------------------+--------------------+--------------------+--------------------+--------------------+------------------+--------------------+-----------------+------------------+------------+------------+--------------+------------------+----------------+-------------------+------------------+-------------------+------------------+----------------+----------------+----------------+--------------+--------------+---------------------+-------------+------------------+------------------+-----------------+-----------------+----------------+---------------+------------------+-----------------+-----------------+--------------+--------------------+--------------------+--------------------+--------------------+--------------------+--------------------+--------------------+--------------------+------------------+--------------------+-----------------+------------------+------------+------------+--------------+------------------+----------------+-------------------+------------------+-------------------+------------------+----------------+----------------+----------------+--------------+--------------+---------------------+-------------+------------------+------------------+-----------------+-----------------+----------------+---------------+------------------+-----------------+-----------------+--------------+--------------------+--------------------+--------------------+--------------------+--------------------+--------------------+--------------------+--------------------+------------------+--------------------+-----------------+------------------+------------+------------+--------------+------------------+----------------+-------------------+------------------+-------------------+------------------+----------------+----------------+----------------+--------------+--------------+---------------------+-------------+------------------+------------------+-----------------+-----------------+----------------+---------------+------------------+-----------------+-----------------+--------------+--------------------+--------------------+--------------------+--------------------+--------------------+--------------------+--------------------+--------------------+------------------+--------------------+-----------------+------------------+------------+------------+--------------+------------------+----------------+-------------------+------------------+-------------------+------------------+----------------+----------------+----------------+--------------+--------------+---------------------+-------------+------------------+------------------+-----------------+-----------------+----------------+---------------+------------------+-----------------+-----------------+--------------+--------------------+--------------------+--------------------+--------------------+--------------------+--------------------+--------------------+--------------------+------------------+--------------------+-----------------+------------------+------------+------------+--------------+------------------+----------------+-------------------+------------------+-------------------+------------------+----------------+----------------+----------------+--------------+--------------+---------------------+-------------+------------------+------------------+-----------------+-----------------+----------------+---------------+------------------+-----------------+-----------------+--------------+--------------+-------------+\nonly showing top 1 row\n\n",
    "output_type": "stream"
}
],
            "execution_count": 7
        },
        {
            "cell_type": "markdown",
            "source": [
                "write newDF to external table in SqlDataPool using Spark-SQL connector\r\n",
                ""
            ],
            "metadata": {
                "azdata_cell_guid": "2ee61926-8b14-4226-8660-5e91c546f0ff"
            }
        },
        {
            "cell_type": "code",
            "source": [
                "\r\n",
                "println(\"Use MSSQL connector to write to master SQL instance \")\r\n",
                "\r\n",
                "val servername = \"jdbc:sqlserver://master-0.master-svc\"\r\n",
                "val dbname = \"LSST\"\r\n",
                "var url = servername + \";\" + \"databaseName=\" + dbname + \";\"\r\n",
                "\r\n",
                "\r\n",
                "val user = \"admin\"\r\n",
                "val password = \"fooRiuzg54\"\r\n",
                "\r\n",
                "//val password = \"fakefake\"\r\n",
                "\r\n",
                "\r\n",
                "\r\n",
                "//val user = \"spark_user\"\r\n",
                "//val password = \"!!foospark9999\" //Please specify password here\r\n",
                "\r\n",
                "val datapool_table = \"mObject_test\"\r\n",
                "\r\n",
                "val datasource_name = \"SqlDataPool\"\r\n",
                "\r\n",
                "val batchsize = 1000000\r\n",
                "\r\n",
                "val start = Calendar.getInstance().getTime()\r\n",
                "\r\n",
                "try {\r\n",
                "  newDF.write \r\n",
                "    .format(\"com.microsoft.sqlserver.jdbc.spark\") \r\n",
                "    .mode(\"append\") \r\n",
                "    .option(\"url\", url) \r\n",
                "    .option(\"dbtable\", datapool_table) \r\n",
                "    .option(\"user\", user) \r\n",
                "    .option(\"password\", password) \r\n",
                "    //.option(\"dataPoolDataSource\",datasource_name)\r\n",
                "    .option(\"batchsize\",batchsize)\r\n",
                "    .save()\r\n",
                "} catch {\r\n",
                "    case e: Throwable => println(\"MSSQL Connector write failed: \" + e)\r\n",
                "}\r\n",
                "val end = Calendar.getInstance().getTime()\r\n",
                "println(start)\r\n",
                "println(end)\r\n",
                "//var duration = end - start\r\n",
                "//println(\"duration:\" + duration)\r\n",
                "print(\"MSSQL Connector write(append) to data pool external table succeeded\")"
            ],
            "metadata": {
                "azdata_cell_guid": "16d5da7f-9510-4121-b0ea-7ace227b005c"
            },
            "outputs": [
{
    "data": {
        "text/plain": "FloatProgress(value=0.0, bar_style='info', description='Progress:', layout=Layout(height='25px', width='50%'),…",
        "application/vnd.jupyter.widget-view+json": {
            "version_major": 2,
            "version_minor": 0,
            "model_id": "c8f01d0f13a64403a493daf09cefbde2"
        }
    },
    "metadata": {},
    "output_type": "display_data"
}, {
    "name": "stdout",
    "text": "Use MSSQL connector to write to master SQL instance \nservername: String = jdbc:sqlserver://master-0.master-svc\ndbname: String = LSST\nurl: String = jdbc:sqlserver://master-0.master-svc;databaseName=LSST;\nuser: String = admin\npassword: String = fooRiuzg54\ndatapool_table: String = mObject_test\ndatasource_name: String = SqlDataPool\nbatchsize: Int = 1000000\nstart: java.util.Date = Mon Jan 27 20:26:45 UTC 2020\nend: java.util.Date = Mon Jan 27 20:27:45 UTC 2020\nMon Jan 27 20:26:45 UTC 2020\nMon Jan 27 20:27:45 UTC 2020\nMSSQL Connector write(append) to data pool external table succeeded",
    "output_type": "stream"
}
],
            "execution_count": 9
        },
        {
            "cell_type": "code",
            "source": [
                ""
            ],
            "metadata": {
                "azdata_cell_guid": "5439cd10-0c2c-4dd7-bd15-ef3a56511a14"
            },
            "outputs": [],
            "execution_count": 8
        },
        {
            "cell_type": "code",
            "source": [
                ""
            ],
            "metadata": {
                "azdata_cell_guid": "3c6e19db-f160-4a6e-91d6-07c615823895"
            },
            "outputs": [],
            "execution_count": null
        }
    ]
}