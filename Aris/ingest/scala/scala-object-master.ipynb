{
    "metadata": {
        "kernelspec": {
            "name": "sparkkernel",
            "display_name": "Spark | Scala"
        },
        "language_info": {
            "name": "scala",
            "mimetype": "text/x-scala",
            "codemirror_mode": "text/x-scala",
            "pygments_lexer": "scala"
        }
    },
    "nbformat_minor": 2,
    "nbformat": 4,
    "cells": [
        {
            "cell_type": "code",
            "source": [
                "%%configure -f\r\n",
                "{\"executorMemory\": \"12g\", \"executorCores\": 4, \"numExecutors\":11}"
            ],
            "metadata": {
                "azdata_cell_guid": "7264da71-4415-4742-bb09-f303d947178c"
            },
            "outputs": [
                {
                    "data": {
                        "text/plain": "<IPython.core.display.HTML object>",
                        "text/html": "Current session configs: <tt>{'executorMemory': '12g', 'executorCores': 4, 'numExecutors': 11, 'kind': 'spark'}</tt><br>"
                    },
                    "metadata": {},
                    "output_type": "display_data"
                },
                {
                    "data": {
                        "text/plain": "<IPython.core.display.HTML object>",
                        "text/html": "No active sessions."
                    },
                    "metadata": {},
                    "output_type": "display_data"
                }
            ],
            "execution_count": 3
        },
        {
            "cell_type": "code",
            "source": [
                "%%configure -f\n",
                "{\"conf\": {\"spark.jars\": \"/system/jar/simpleHTM.jar,/system/jar/jhealpix.jar\"}}"
            ],
            "metadata": {
                "azdata_cell_guid": "08ecabb4-1d35-4fb6-939d-74de2fa55210"
            },
            "outputs": [
                {
                    "data": {
                        "text/plain": "<IPython.core.display.HTML object>",
                        "text/html": "Current session configs: <tt>{'conf': {'spark.jars': '/system/jar/simpleHTM.jar,/system/jar/jhealpix.jar'}, 'kind': 'spark'}</tt><br>"
                    },
                    "metadata": {},
                    "output_type": "display_data"
                },
                {
                    "data": {
                        "text/plain": "<IPython.core.display.HTML object>",
                        "text/html": "No active sessions."
                    },
                    "metadata": {},
                    "output_type": "display_data"
                }
            ],
            "execution_count": 4
        },
        {
            "cell_type": "code",
            "source": [
                "import simple.HTMindex\n",
                "import healpix.jhu.Healpix\n",
                "import org.apache.spark.sql.{SparkSession, SaveMode, Row, DataFrame}\n",
                "import org.apache.spark.sql.functions.udf\n",
                "import java.util.Calendar\n",
                "\n",
                ""
            ],
            "metadata": {
                "azdata_cell_guid": "700b57ad-e424-46d1-88ca-0257d1097e4e"
            },
            "outputs": [
                {
                    "name": "stdout",
                    "text": "Starting Spark application\n",
                    "output_type": "stream"
                },
                {
                    "data": {
                        "text/plain": "<IPython.core.display.HTML object>",
                        "text/html": "<table>\n<tr><th>ID</th><th>YARN Application ID</th><th>Kind</th><th>State</th><th>Spark UI</th><th>Driver log</th><th>Current session?</th></tr><tr><td>25</td><td>application_1580142637008_0026</td><td>spark</td><td>idle</td><td><a target=\"_blank\" href=\"https://172.23.25.61:30443/gateway/default/yarn/proxy/application_1580142637008_0026/\">Link</a></td><td><a target=\"_blank\" href=\"https://172.23.25.61:30443/gateway/default/yarn/container/container_1580142637008_0026_01_000001/root\">Link</a></td><td>✔</td></tr></table>"
                    },
                    "metadata": {},
                    "output_type": "display_data"
                },
                {
                    "data": {
                        "text/plain": "FloatProgress(value=0.0, bar_style='info', description='Progress:', layout=Layout(height='25px', width='50%'),…",
                        "application/vnd.jupyter.widget-view+json": {
                            "version_major": 2,
                            "version_minor": 0,
                            "model_id": "ae79c5572e004295943c1ed8bc8f6a0d"
                        }
                    },
                    "metadata": {},
                    "output_type": "display_data"
                },
                {
                    "name": "stdout",
                    "text": "SparkSession available as 'spark'.\n",
                    "output_type": "stream"
                },
                {
                    "data": {
                        "text/plain": "FloatProgress(value=0.0, bar_style='info', description='Progress:', layout=Layout(height='25px', width='50%'),…",
                        "application/vnd.jupyter.widget-view+json": {
                            "version_major": 2,
                            "version_minor": 0,
                            "model_id": "3b208f4924e245b890587987f09067a4"
                        }
                    },
                    "metadata": {},
                    "output_type": "display_data"
                },
                {
                    "name": "stdout",
                    "text": "import simple.HTMindex\nimport healpix.jhu.Healpix\nimport org.apache.spark.sql.{SparkSession, SaveMode, Row, DataFrame}\nimport org.apache.spark.sql.functions.udf\nimport java.util.Calendar\n",
                    "output_type": "stream"
                }
            ],
            "execution_count": 5
        },
        {
            "cell_type": "code",
            "source": [
                "object HTMUtils extends Serializable {\r\n",
                "    var htmindex= new HTMindex() with Serializable\r\n",
                "    val htmid: (Double, Double) => Long = htmindex.lookupId(_,_)\r\n",
                "\r\n",
                "    val htmidUDF=udf(htmid)\r\n",
                "    \r\n",
                "}\n",
                "\n",
                "object HEALPixUtils extends Serializable {\n",
                "    var hp = new Healpix() with Serializable\n",
                "    val healpixid: (Double, Double) => Long = hp.ang2pix(_,_)\n",
                "    val healpixidUDF=udf(healpixid)\n",
                "    \n",
                "}"
            ],
            "metadata": {
                "azdata_cell_guid": "9b93909d-741b-4c62-a375-dff74aae8e00"
            },
            "outputs": [
                {
                    "data": {
                        "text/plain": "FloatProgress(value=0.0, bar_style='info', description='Progress:', layout=Layout(height='25px', width='50%'),…",
                        "application/vnd.jupyter.widget-view+json": {
                            "version_major": 2,
                            "version_minor": 0,
                            "model_id": "eec604fc923340f6a7e190474e14b67d"
                        }
                    },
                    "metadata": {},
                    "output_type": "display_data"
                },
                {
                    "name": "stdout",
                    "text": "defined object HTMUtils\ndefined object HEALPixUtils\n",
                    "output_type": "stream"
                }
            ],
            "execution_count": 6
        },
        {
            "cell_type": "markdown",
            "source": [
                "read object table parquet files into dataframe (objDF)\n",
                "\n",
                "create new dataframe (newDF) with calculated htmid"
            ],
            "metadata": {
                "azdata_cell_guid": "e4015c93-de42-4dc0-8e95-26ac6fd067ac"
            }
        },
        {
            "cell_type": "code",
            "source": [
                "val datafile = \"/user/hive/warehouse/object\"\r\n",
                "val objDF = spark.read.parquet(datafile)\r\n",
                "\r\n",
                "val newDF = objDF.withColumn(\"htmid\",HTMUtils.htmidUDF(objDF(\"ra\"),objDF(\"decl\"))).withColumn(\"healpixid\", HEALPixUtils.healpixidUDF(objDF(\"ra\"), objDF(\"decl\")))\r\n",
                "\r\n",
                "//val newDF = objDF.withColumn(\"htmid\",HTMUtils.htmidUDF(objDF(\"ra\"),objDF(\"decl\")))\r\n",
                "//newDF.printSchema()\r\n",
                "newDF.show(1)"
            ],
            "metadata": {
                "azdata_cell_guid": "1446a582-e50a-41c1-a434-d4f2ab2750bc"
            },
            "outputs": [
                {
                    "data": {
                        "text/plain": "FloatProgress(value=0.0, bar_style='info', description='Progress:', layout=Layout(height='25px', width='50%'),…",
                        "application/vnd.jupyter.widget-view+json": {
                            "version_major": 2,
                            "version_minor": 0,
                            "model_id": "3342505cd79341b1933b30970a97ffa7"
                        }
                    },
                    "metadata": {},
                    "output_type": "display_data"
                },
                {
                    "name": "stdout",
                    "text": "datafile: String = /user/hive/warehouse/object\nobjDF: org.apache.spark.sql.DataFrame = [deepSourceId: bigint, ra: double ... 234 more fields]\nnewDF: org.apache.spark.sql.DataFrame = [deepSourceId: bigint, ra: double ... 236 more fields]\n+----------------+-----------------+------------------+--------------------+-------------------+--------------------+-------+----------+--------------------+--------------------+--------------------+--------------------+--------------------+--------------------+--------------------+--------------------+-----------------+-------------------+-----------------+-----------------+------------+------------+--------------+------------------+------------------+------------------+------------------+-------------------+------------------+----------------+----------------+----------------+--------------+--------------+---------------------+-------------+------------------+------------------+-----------------+-----------------+----------------+---------------+------------------+-----------------+-----------------+--------------+--------------------+--------------------+--------------------+--------------------+--------------------+--------------------+--------------------+--------------------+-----------------+-------------------+-----------------+-----------------+------------+------------+--------------+------------------+------------------+------------------+------------------+-------------------+------------------+----------------+----------------+----------------+--------------+--------------+---------------------+-------------+------------------+------------------+-----------------+-----------------+----------------+---------------+------------------+-----------------+-----------------+--------------+--------------------+--------------------+--------------------+--------------------+--------------------+--------------------+--------------------+--------------------+-----------------+-------------------+-----------------+-----------------+------------+------------+--------------+------------------+------------------+------------------+------------------+-------------------+------------------+----------------+----------------+----------------+--------------+--------------+---------------------+-------------+------------------+------------------+-----------------+-----------------+----------------+---------------+------------------+-----------------+-----------------+--------------+--------------------+--------------------+--------------------+--------------------+--------------------+--------------------+--------------------+--------------------+-----------------+-------------------+-----------------+-----------------+------------+------------+--------------+------------------+------------------+------------------+------------------+-------------------+------------------+----------------+----------------+----------------+--------------+--------------+---------------------+-------------+------------------+------------------+-----------------+-----------------+----------------+---------------+------------------+-----------------+-----------------+--------------+--------------------+--------------------+--------------------+--------------------+--------------------+--------------------+--------------------+--------------------+-----------------+-------------------+-----------------+-----------------+------------+------------+--------------+------------------+------------------+------------------+------------------+-------------------+------------------+----------------+----------------+----------------+--------------+--------------+---------------------+-------------+------------------+------------------+-----------------+-----------------+----------------+---------------+------------------+-----------------+-----------------+--------------+--------------------+--------------------+--------------------+--------------------+--------------------+--------------------+--------------------+--------------------+-----------------+-------------------+-----------------+-----------------+------------+------------+--------------+------------------+------------------+------------------+------------------+-------------------+------------------+----------------+----------------+----------------+--------------+--------------+---------------------+-------------+------------------+------------------+-----------------+-----------------+----------------+---------------+------------------+-----------------+-----------------+--------------+-------------+-------------+\n|    deepSourceId|               ra|              decl|               raVar|            declVar|           radeclCov|chunkId|subChunkId|           u_psfFlux|      u_psfFluxSigma|            u_apFlux|       u_apFluxSigma|         u_modelFlux|    u_modelFluxSigma|          u_instFlux|     u_instFluxSigma|   u_apCorrection|u_apCorrectionSigma|        u_shapeIx|        u_shapeIy|u_shapeIxVar|u_shapeIyVar|u_shapeIxIyCov|        u_shapeIxx|        u_shapeIyy|        u_shapeIxy|     u_shapeIxxVar|      u_shapeIyyVar|     u_shapeIxyVar|u_shapeIxxIyyCov|u_shapeIxxIxyCov|u_shapeIyyIxyCov|u_extendedness|u_flagNegative|u_flagBadMeasCentroid|u_flagPixEdge|u_flagPixInterpAny|u_flagPixInterpCen|u_flagPixSaturAny|u_flagPixSaturCen|u_flagBadPsfFlux|u_flagBadApFlux|u_flagBadModelFlux|u_flagBadInstFlux|u_flagBadCentroid|u_flagBadShape|           g_psfFlux|      g_psfFluxSigma|            g_apFlux|       g_apFluxSigma|         g_modelFlux|    g_modelFluxSigma|          g_instFlux|     g_instFluxSigma|   g_apCorrection|g_apCorrectionSigma|        g_shapeIx|        g_shapeIy|g_shapeIxVar|g_shapeIyVar|g_shapeIxIyCov|        g_shapeIxx|        g_shapeIyy|        g_shapeIxy|     g_shapeIxxVar|      g_shapeIyyVar|     g_shapeIxyVar|g_shapeIxxIyyCov|g_shapeIxxIxyCov|g_shapeIyyIxyCov|g_extendedness|g_flagNegative|g_flagBadMeasCentroid|g_flagPixEdge|g_flagPixInterpAny|g_flagPixInterpCen|g_flagPixSaturAny|g_flagPixSaturCen|g_flagBadPsfFlux|g_flagBadApFlux|g_flagBadModelFlux|g_flagBadInstFlux|g_flagBadCentroid|g_flagBadShape|           r_psfFlux|      r_psfFluxSigma|            r_apFlux|       r_apFluxSigma|         r_modelFlux|    r_modelFluxSigma|          r_instFlux|     r_instFluxSigma|   r_apCorrection|r_apCorrectionSigma|        r_shapeIx|        r_shapeIy|r_shapeIxVar|r_shapeIyVar|r_shapeIxIyCov|        r_shapeIxx|        r_shapeIyy|        r_shapeIxy|     r_shapeIxxVar|      r_shapeIyyVar|     r_shapeIxyVar|r_shapeIxxIyyCov|r_shapeIxxIxyCov|r_shapeIyyIxyCov|r_extendedness|r_flagNegative|r_flagBadMeasCentroid|r_flagPixEdge|r_flagPixInterpAny|r_flagPixInterpCen|r_flagPixSaturAny|r_flagPixSaturCen|r_flagBadPsfFlux|r_flagBadApFlux|r_flagBadModelFlux|r_flagBadInstFlux|r_flagBadCentroid|r_flagBadShape|           i_psfFlux|      i_psfFluxSigma|            i_apFlux|       i_apFluxSigma|         i_modelFlux|    i_modelFluxSigma|          i_instFlux|     i_instFluxSigma|   i_apCorrection|i_apCorrectionSigma|        i_shapeIx|        i_shapeIy|i_shapeIxVar|i_shapeIyVar|i_shapeIxIyCov|        i_shapeIxx|        i_shapeIyy|        i_shapeIxy|     i_shapeIxxVar|      i_shapeIyyVar|     i_shapeIxyVar|i_shapeIxxIyyCov|i_shapeIxxIxyCov|i_shapeIyyIxyCov|i_extendedness|i_flagNegative|i_flagBadMeasCentroid|i_flagPixEdge|i_flagPixInterpAny|i_flagPixInterpCen|i_flagPixSaturAny|i_flagPixSaturCen|i_flagBadPsfFlux|i_flagBadApFlux|i_flagBadModelFlux|i_flagBadInstFlux|i_flagBadCentroid|i_flagBadShape|           z_psfFlux|      z_psfFluxSigma|            z_apFlux|       z_apFluxSigma|         z_modelFlux|    z_modelFluxSigma|          z_instFlux|     z_instFluxSigma|   z_apCorrection|z_apCorrectionSigma|        z_shapeIx|        z_shapeIy|z_shapeIxVar|z_shapeIyVar|z_shapeIxIyCov|        z_shapeIxx|        z_shapeIyy|        z_shapeIxy|     z_shapeIxxVar|      z_shapeIyyVar|     z_shapeIxyVar|z_shapeIxxIyyCov|z_shapeIxxIxyCov|z_shapeIyyIxyCov|z_extendedness|z_flagNegative|z_flagBadMeasCentroid|z_flagPixEdge|z_flagPixInterpAny|z_flagPixInterpCen|z_flagPixSaturAny|z_flagPixSaturCen|z_flagBadPsfFlux|z_flagBadApFlux|z_flagBadModelFlux|z_flagBadInstFlux|z_flagBadCentroid|z_flagBadShape|           y_psfFlux|      y_psfFluxSigma|            y_apFlux|       y_apFluxSigma|         y_modelFlux|    y_modelFluxSigma|          y_instFlux|     y_instFluxSigma|   y_apCorrection|y_apCorrectionSigma|        y_shapeIx|        y_shapeIy|y_shapeIxVar|y_shapeIyVar|y_shapeIxIyCov|        y_shapeIxx|        y_shapeIyy|        y_shapeIxy|     y_shapeIxxVar|      y_shapeIyyVar|     y_shapeIxyVar|y_shapeIxxIyyCov|y_shapeIxxIxyCov|y_shapeIyyIxyCov|y_extendedness|y_flagNegative|y_flagBadMeasCentroid|y_flagPixEdge|y_flagPixInterpAny|y_flagPixInterpCen|y_flagPixSaturAny|y_flagPixSaturCen|y_flagBadPsfFlux|y_flagBadApFlux|y_flagBadModelFlux|y_flagBadInstFlux|y_flagBadCentroid|y_flagBadShape|        htmid|    healpixid|\n+----------------+-----------------+------------------+--------------------+-------------------+--------------------+-------+----------+--------------------+--------------------+--------------------+--------------------+--------------------+--------------------+--------------------+--------------------+-----------------+-------------------+-----------------+-----------------+------------+------------+--------------+------------------+------------------+------------------+------------------+-------------------+------------------+----------------+----------------+----------------+--------------+--------------+---------------------+-------------+------------------+------------------+-----------------+-----------------+----------------+---------------+------------------+-----------------+-----------------+--------------+--------------------+--------------------+--------------------+--------------------+--------------------+--------------------+--------------------+--------------------+-----------------+-------------------+-----------------+-----------------+------------+------------+--------------+------------------+------------------+------------------+------------------+-------------------+------------------+----------------+----------------+----------------+--------------+--------------+---------------------+-------------+------------------+------------------+-----------------+-----------------+----------------+---------------+------------------+-----------------+-----------------+--------------+--------------------+--------------------+--------------------+--------------------+--------------------+--------------------+--------------------+--------------------+-----------------+-------------------+-----------------+-----------------+------------+------------+--------------+------------------+------------------+------------------+------------------+-------------------+------------------+----------------+----------------+----------------+--------------+--------------+---------------------+-------------+------------------+------------------+-----------------+-----------------+----------------+---------------+------------------+-----------------+-----------------+--------------+--------------------+--------------------+--------------------+--------------------+--------------------+--------------------+--------------------+--------------------+-----------------+-------------------+-----------------+-----------------+------------+------------+--------------+------------------+------------------+------------------+------------------+-------------------+------------------+----------------+----------------+----------------+--------------+--------------+---------------------+-------------+------------------+------------------+-----------------+-----------------+----------------+---------------+------------------+-----------------+-----------------+--------------+--------------------+--------------------+--------------------+--------------------+--------------------+--------------------+--------------------+--------------------+-----------------+-------------------+-----------------+-----------------+------------+------------+--------------+------------------+------------------+------------------+------------------+-------------------+------------------+----------------+----------------+----------------+--------------+--------------+---------------------+-------------+------------------+------------------+-----------------+-----------------+----------------+---------------+------------------+-----------------+-----------------+--------------+--------------------+--------------------+--------------------+--------------------+--------------------+--------------------+--------------------+--------------------+-----------------+-------------------+-----------------+-----------------+------------+------------+--------------+------------------+------------------+------------------+------------------+-------------------+------------------+----------------+----------------+----------------+--------------+--------------+---------------------+-------------+------------------+------------------+-----------------+-----------------+----------------+---------------+------------------+-----------------+-----------------+--------------+-------------+-------------+\n|2322374716295171|49.00330495620517|-88.20605404996121|0.016654612797021552|0.03243095676675407|2.159501852689156...|      0|       698|1.005492837249299...|1.125201388380447...|1.230138915260136...|2.361751553311937...|1.232219104806776...|1.420944681458269...|1.065692188636057...|9.968155922091957...|0.907572185133561|0.01436634195583898|757.9709619269855|1343.753393634006|        null|        null|          null|3.0608812059086588|4.4769703228865385|0.3870645942666903|0.3105040454028835|0.22956059594661452|0.6642670958904305|            null|            null|            null|           1.0|             0|                    0|            0|                 1|                 0|                0|                0|               0|              0|                 0|                0|                0|             0|1.005492837249299...|1.125201388380447...|1.230138915260136...|2.361751553311937...|1.232219104806776...|1.420944681458269...|1.065692188636057...|9.968155922091957...|0.907572185133561|0.01436634195583898|757.9709619269855|1343.753393634006|        null|        null|          null|3.0608812059086588|4.4769703228865385|0.3870645942666903|0.3105040454028835|0.22956059594661452|0.6642670958904305|            null|            null|            null|           1.0|             0|                    0|            0|                 1|                 0|                0|                0|               0|              0|                 0|                0|                0|             0|1.005492837249299...|1.125201388380447...|1.230138915260136...|2.361751553311937...|1.232219104806776...|1.420944681458269...|1.065692188636057...|9.968155922091957...|0.907572185133561|0.01436634195583898|757.9709619269855|1343.753393634006|        null|        null|          null|3.0608812059086588|4.4769703228865385|0.3870645942666903|0.3105040454028835|0.22956059594661452|0.6642670958904305|            null|            null|            null|           1.0|             0|                    0|            0|                 1|                 0|                0|                0|               0|              0|                 0|                0|                0|             0|1.005492837249299...|1.125201388380447...|1.230138915260136...|2.361751553311937...|1.232219104806776...|1.420944681458269...|1.065692188636057...|9.968155922091957...|0.907572185133561|0.01436634195583898|757.9709619269855|1343.753393634006|        null|        null|          null|3.0608812059086588|4.4769703228865385|0.3870645942666903|0.3105040454028835|0.22956059594661452|0.6642670958904305|            null|            null|            null|           1.0|             0|                    0|            0|                 1|                 0|                0|                0|               0|              0|                 0|                0|                0|             0|1.005492837249299...|1.125201388380447...|1.230138915260136...|2.361751553311937...|1.232219104806776...|1.420944681458269...|1.065692188636057...|9.968155922091957...|0.907572185133561|0.01436634195583898|757.9709619269855|1343.753393634006|        null|        null|          null|3.0608812059086588|4.4769703228865385|0.3870645942666903|0.3105040454028835|0.22956059594661452|0.6642670958904305|            null|            null|            null|           1.0|             0|                    0|            0|                 1|                 0|                0|                0|               0|              0|                 0|                0|                0|             0|1.005492837249299...|1.125201388380447...|1.230138915260136...|2.361751553311937...|1.232219104806776...|1.420944681458269...|1.065692188636057...|9.968155922091957...|0.907572185133561|0.01436634195583898|757.9709619269855|1343.753393634006|        null|        null|          null|3.0608812059086588|4.4769703228865385|0.3870645942666903|0.3105040454028835|0.22956059594661452|0.6642670958904305|            null|            null|            null|           1.0|             0|                    0|            0|                 1|                 0|                0|                0|               0|              0|                 0|                0|                0|             0|9071788674780|8796919021722|\n+----------------+-----------------+------------------+--------------------+-------------------+--------------------+-------+----------+--------------------+--------------------+--------------------+--------------------+--------------------+--------------------+--------------------+--------------------+-----------------+-------------------+-----------------+-----------------+------------+------------+--------------+------------------+------------------+------------------+------------------+-------------------+------------------+----------------+----------------+----------------+--------------+--------------+---------------------+-------------+------------------+------------------+-----------------+-----------------+----------------+---------------+------------------+-----------------+-----------------+--------------+--------------------+--------------------+--------------------+--------------------+--------------------+--------------------+--------------------+--------------------+-----------------+-------------------+-----------------+-----------------+------------+------------+--------------+------------------+------------------+------------------+------------------+-------------------+------------------+----------------+----------------+----------------+--------------+--------------+---------------------+-------------+------------------+------------------+-----------------+-----------------+----------------+---------------+------------------+-----------------+-----------------+--------------+--------------------+--------------------+--------------------+--------------------+--------------------+--------------------+--------------------+--------------------+-----------------+-------------------+-----------------+-----------------+------------+------------+--------------+------------------+------------------+------------------+------------------+-------------------+------------------+----------------+----------------+----------------+--------------+--------------+---------------------+-------------+------------------+------------------+-----------------+-----------------+----------------+---------------+------------------+-----------------+-----------------+--------------+--------------------+--------------------+--------------------+--------------------+--------------------+--------------------+--------------------+--------------------+-----------------+-------------------+-----------------+-----------------+------------+------------+--------------+------------------+------------------+------------------+------------------+-------------------+------------------+----------------+----------------+----------------+--------------+--------------+---------------------+-------------+------------------+------------------+-----------------+-----------------+----------------+---------------+------------------+-----------------+-----------------+--------------+--------------------+--------------------+--------------------+--------------------+--------------------+--------------------+--------------------+--------------------+-----------------+-------------------+-----------------+-----------------+------------+------------+--------------+------------------+------------------+------------------+------------------+-------------------+------------------+----------------+----------------+----------------+--------------+--------------+---------------------+-------------+------------------+------------------+-----------------+-----------------+----------------+---------------+------------------+-----------------+-----------------+--------------+--------------------+--------------------+--------------------+--------------------+--------------------+--------------------+--------------------+--------------------+-----------------+-------------------+-----------------+-----------------+------------+------------+--------------+------------------+------------------+------------------+------------------+-------------------+------------------+----------------+----------------+----------------+--------------+--------------+---------------------+-------------+------------------+------------------+-----------------+-----------------+----------------+---------------+------------------+-----------------+-----------------+--------------+-------------+-------------+\nonly showing top 1 row\n\n",
                    "output_type": "stream"
                }
            ],
            "execution_count": 7
        },
        {
            "cell_type": "markdown",
            "source": [
                "write newDF to external table in SqlDataPool using Spark-SQL connector\r\n",
                ""
            ],
            "metadata": {
                "azdata_cell_guid": "2ee61926-8b14-4226-8660-5e91c546f0ff"
            }
        },
        {
            "cell_type": "code",
            "source": [
                "\r\n",
                "println(\"Use MSSQL connector to write to master SQL instance \")\r\n",
                "\r\n",
                "val servername = \"jdbc:sqlserver://master-0.master-svc\"\r\n",
                "val dbname = \"LSST\"\r\n",
                "var url = servername + \";\" + \"databaseName=\" + dbname + \";\"\r\n",
                "\r\n",
                "\r\n",
                "val user = \"admin\"\r\n",
                "val password = \"fooRiuzg54\"\r\n",
                "\r\n",
                "//val password = \"fakefake\"\r\n",
                "\r\n",
                "\r\n",
                "\r\n",
                "//val user = \"spark_user\"\r\n",
                "//val password = \"!!foospark9999\" //Please specify password here\r\n",
                "\r\n",
                "val datapool_table = \"m_Object_cci\"\r\n",
                "\r\n",
                "//val datasource_name = \"SqlDataPool\"\r\n",
                "\r\n",
                "val batchsize = 1000000\r\n",
                "\r\n",
                "val start = Calendar.getInstance().getTime()\r\n",
                "\r\n",
                "try {\r\n",
                "  newDF.write \r\n",
                "    .format(\"com.microsoft.sqlserver.jdbc.spark\") \r\n",
                "    .mode(\"append\") \r\n",
                "    .option(\"url\", url) \r\n",
                "    .option(\"dbtable\", datapool_table) \r\n",
                "    .option(\"user\", user) \r\n",
                "    .option(\"password\", password) \r\n",
                "    //.option(\"dataPoolDataSource\",datasource_name)\r\n",
                "    .option(\"batchsize\",batchsize)\r\n",
                "    .save()\r\n",
                "} catch {\r\n",
                "    case e: Throwable => println(\"MSSQL Connector write failed: \" + e)\r\n",
                "}\r\n",
                "val end = Calendar.getInstance().getTime()\r\n",
                "println(start)\r\n",
                "println(end)\r\n",
                "//var duration = end - start\r\n",
                "//println(\"duration:\" + duration)\r\n",
                "print(\"MSSQL Connector write(append) to data pool external table succeeded\")"
            ],
            "metadata": {
                "azdata_cell_guid": "16d5da7f-9510-4121-b0ea-7ace227b005c"
            },
            "outputs": [
                {
                    "data": {
                        "text/plain": "FloatProgress(value=0.0, bar_style='info', description='Progress:', layout=Layout(height='25px', width='50%'),…",
                        "application/vnd.jupyter.widget-view+json": {
                            "version_major": 2,
                            "version_minor": 0,
                            "model_id": "4d279bfb84204c20825fc254befd3fde"
                        }
                    },
                    "metadata": {},
                    "output_type": "display_data"
                },
                {
                    "name": "stdout",
                    "text": "Use MSSQL connector to write to master SQL instance \nservername: String = jdbc:sqlserver://master-0.master-svc\ndbname: String = LSST\nurl: String = jdbc:sqlserver://master-0.master-svc;databaseName=LSST;\nuser: String = admin\npassword: String = fooRiuzg54\ndatapool_table: String = m_Object_cci\nbatchsize: Int = 1000000\nstart: java.util.Date = Tue Jan 28 18:20:10 UTC 2020\nend: java.util.Date = Tue Jan 28 22:25:37 UTC 2020\nTue Jan 28 18:20:10 UTC 2020\nTue Jan 28 22:25:37 UTC 2020\nMSSQL Connector write(append) to data pool external table succeeded",
                    "output_type": "stream"
                }
            ],
            "execution_count": 8
        },
        {
            "cell_type": "code",
            "source": [
                ""
            ],
            "metadata": {
                "azdata_cell_guid": "5439cd10-0c2c-4dd7-bd15-ef3a56511a14"
            },
            "outputs": [],
            "execution_count": 8
        },
        {
            "cell_type": "code",
            "source": [
                ""
            ],
            "metadata": {
                "azdata_cell_guid": "3c6e19db-f160-4a6e-91d6-07c615823895"
            },
            "outputs": [],
            "execution_count": 8
        }
    ]
}