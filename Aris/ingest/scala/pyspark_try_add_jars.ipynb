{
    "metadata": {
        "kernelspec": {
            "name": "pysparkkernel",
            "display_name": "PySpark"
        },
        "language_info": {
            "name": "pyspark",
            "mimetype": "text/x-python",
            "codemirror_mode": {
                "name": "python",
                "version": 2
            },
            "pygments_lexer": "python2"
        }
    },
    "nbformat_minor": 2,
    "nbformat": 4,
    "cells": [
        {
            "cell_type": "code",
            "source": [
                "sconf=spark.sparkContext.getConf()\r\n",
                "#sconf.driver"
            ],
            "metadata": {
                "azdata_cell_guid": "0a8d19db-be80-4b7b-93c6-55a1c4751492"
            },
            "outputs": [
                {
                    "data": {
                        "text/plain": "<IPython.core.display.HTML object>",
                        "text/html": "<table>\n<tr><th>ID</th><th>YARN Application ID</th><th>Kind</th><th>State</th><th>Spark UI</th><th>Driver log</th><th>Current session?</th></tr><tr><td>23</td><td>application_1568670927228_0026</td><td>pyspark</td><td>idle</td><td><a target=\"_blank\" href=\"https://172.23.25.58:30443/gateway/default/yarn/proxy/application_1568670927228_0026/\">Link</a></td><td><a target=\"_blank\" href=\"https://172.23.25.58:30443/gateway/default/yarn/container/container_1568670927228_0026_01_000001/root\">Link</a></td><td>✔</td></tr></table>"
                    },
                    "metadata": {},
                    "output_type": "display_data"
                },
                {
                    "name": "stdout",
                    "text": "SparkSession available as 'spark'.\n",
                    "output_type": "stream"
                }
            ],
            "execution_count": 2
        },
        {
            "cell_type": "code",
            "source": [
                "# this worksm i.e. does not fail. \n",
                "# but does it do anyhtin useful?\n",
                "spark.sparkContext.addFile(\"hdfs:/jar/simpleHTM.jar\")"
            ],
            "metadata": {
                "azdata_cell_guid": "07232b7f-ceaf-48be-9c8a-8946d4c2bed5"
            },
            "outputs": [],
            "execution_count": 4
        },
        {
            "cell_type": "code",
            "source": [
                "spark.sparkContext.addJar(\"hdfs:/jar/simpleHTM.jar\")"
            ],
            "metadata": {
                "azdata_cell_guid": "6f44e0c3-f50f-4174-828f-f3e9c4c8287e"
            },
            "outputs": [
                {
                    "name": "stderr",
                    "text": "'SparkContext' object has no attribute 'addJar'\nTraceback (most recent call last):\nAttributeError: 'SparkContext' object has no attribute 'addJar'\n\n",
                    "output_type": "stream"
                }
            ],
            "execution_count": 6
        },
        {
            "cell_type": "code",
            "source": [
                "customSparkConf "
            ],
            "metadata": {
                "azdata_cell_guid": "6666f12b-b0ae-45e6-9b18-5ec6d7c880ed"
            },
            "outputs": [
{
    "name": "stderr",
    "text": "name 'customSparkConf' is not defined\nTraceback (most recent call last):\nNameError: name 'customSparkConf' is not defined\n\n",
    "output_type": "stream"
}
],
            "execution_count": 7
        },
        {
            "cell_type": "code",
            "source": [
                "for i in sconf.getAll():\n",
                "    print(i)"
            ],
            "metadata": {
                "azdata_cell_guid": "fcef962d-ee1b-4923-a00a-faca97eaa572"
            },
            "outputs": [
                {
                    "name": "stdout",
                    "text": "(u'spark.eventLog.enabled', u'true')\n(u'spark.yarn.secondary.jars', u'livy-api-0.6.48511.jar,livy-rsc-0.6.48511.jar,netty-all-4.1.17.Final.jar,datanucleus-api-jdo-3.2.6.jar,datanucleus-core-3.2.10.jar,datanucleus-rdbms-3.2.9.jar,commons-codec-1.9.jar,livy-core_2.11-0.6.48511.jar,livy-repl_2.11-0.6.48511.jar')\n(u'spark.network.crypto.enabled', u'true')\n(u'spark.yarn.archive', u'hdfs:///spark/spark_libs.zip')\n(u'spark.driver.port', u'40857')\n(u'spark.executorEnv.PYTHONPATH', u'{{PWD}}/pyspark.zip<CPS>{{PWD}}/py4j-0.10.7-src.zip<CPS>{{PWD}}/pyspark.zip<CPS>{{PWD}}/py4j-0.10.7-src.zip')\n(u'spark.sql.warehouse.dir', u'hdfs:///user/hive/warehouse')\n(u'spark.submit.deployMode', u'cluster')\n(u'spark.driver.host', u'storage-0-2.storage-0-svc.filedb.svc.cluster.local')\n(u'spark.org.apache.hadoop.yarn.server.webproxy.amfilter.AmIpFilter.param.PROXY_URI_BASES', u'https://sparkhead-0.sparkhead-svc:8090/proxy/application_1568670927228_0026')\n(u'spark.yarn.submit.waitAppCompletion', u'false')\n(u'spark.yarn.dist.pyFiles', u'hdfs://nmnode-0-svc:9000/livy/pyspark.zip,hdfs://nmnode-0-svc:9000/livy/py4j-0.10.7-src.zip')\n(u'spark.submit.pyFiles', u'hdfs:///livy/pyspark.zip,hdfs:///livy/py4j-0.10.7-src.zip')\n(u'spark.repl.class.outputDir', u'/tmp/nm-local-dir/usercache/root/appcache/application_1568670927228_0026/container_1568670927228_0026_01_000001/tmp/spark4727092432933361100')\n(u'spark.pyspark.python', u'python')\n(u'spark.org.apache.hadoop.yarn.server.webproxy.amfilter.AmIpFilter.param.PROXY_HOSTS', u'sparkhead-0.sparkhead-svc')\n(u'spark.yarn.dist.jars', u'hdfs://nmnode-0-svc:9000/livy/rsc-jars/livy-api-0.6.48511.jar,hdfs://nmnode-0-svc:9000/livy/rsc-jars/livy-rsc-0.6.48511.jar,hdfs://nmnode-0-svc:9000/livy/rsc-jars/netty-all-4.1.17.Final.jar,hdfs://nmnode-0-svc:9000/livy/spark/datanucleus-api-jdo-3.2.6.jar,hdfs://nmnode-0-svc:9000/livy/spark/datanucleus-core-3.2.10.jar,hdfs://nmnode-0-svc:9000/livy/spark/datanucleus-rdbms-3.2.9.jar,hdfs://nmnode-0-svc:9000/livy/repl_2.11-jars/commons-codec-1.9.jar,hdfs://nmnode-0-svc:9000/livy/repl_2.11-jars/livy-core_2.11-0.6.48511.jar,hdfs://nmnode-0-svc:9000/livy/repl_2.11-jars/livy-repl_2.11-0.6.48511.jar,file:///opt/spark/jars/datanucleus-api-jdo-3.2.6.jar,file:///opt/spark/jars/datanucleus-core-3.2.10.jar,file:///opt/spark/jars/datanucleus-rdbms-3.2.9.jar')\n(u'spark.metrics.namespace', u'hello_aris')\n(u'spark.yarn.maxAppAttempts', u'1')\n(u'spark.yarn.dist.archives', u'hdfs:///livy/sparkr.zip#sparkr')\n(u'spark.r.backendConnectionTimeout', u'86400')\n(u'spark.app.id', u'application_1568670927228_0026')\n(u'spark.ssl.enabled', u'true')\n(u'spark.ui.filters', u'org.apache.hadoop.yarn.server.webproxy.amfilter.AmIpFilter')\n(u'spark.driver.cores', u'1')\n(u'spark.app.name', u'livy-session-23')\n(u'spark.repl.class.uri', u'spark://storage-0-2.storage-0-svc.filedb.svc.cluster.local:40857/classes')\n(u'spark.executor.instances', u'11')\n(u'spark.executor.id', u'driver')\n(u'spark.ssl.keyStorePassword', u'password')\n(u'spark.executor.cores', u'10')\n(u'spark.executor.memory', u'12g')\n(u'spark.yarn.tags', u'livy-session-23-oXEwF321')\n(u'spark.master', u'yarn')\n(u'spark.ui.port', u'0')\n(u'spark.yarn.dist.files', u'file:///opt/spark/conf/hive-site.xml')\n(u'spark.yarn.app.id', u'application_1568670927228_0026')\n(u'spark.sql.catalogImplementation', u'hive')\n(u'spark.metrics.conf', u'/var/run/sparkmetrics/metrics.properties')\n(u'spark.livy.spark_major_version', u'2')\n(u'spark.yarn.historyServer.address', u'sparkhead-svc:18480')\n(u'spark.driver.memory', u'2g')\n(u'spark.yarn.app.container.log.dir', u'/usr/local/hadoop/logs/userlogs/application_1568670927228_0026/container_1568670927228_0026_01_000001')\n(u'spark.yarn.isPython', u'true')\n(u'spark.ssl.keyStore', u'/var/run/sparkKeystore.jks')\n(u'spark.eventLog.dir', u'hdfs:///spark-events')\n(u'spark.authenticate', u'true')\n(u'spark.extraListeners', u'org.apache.spark.sql.scheduler.EnhancementSparkListener')",
                    "output_type": "stream"
                }
            ],
            "execution_count": 5
        },
        {
            "cell_type": "code",
            "source": [
                "sconf.set(\"spark.jars\",\"C:/Users/gerard/Aris/jars/simpleXXHTM.jar\")"
            ],
            "metadata": {
                "azdata_cell_guid": "af6893d2-0ae1-400f-a942-8206dd58a61f"
            },
            "outputs": [],
            "execution_count": 0
        }
    ]
}