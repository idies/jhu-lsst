{
    "metadata": {
        "kernelspec": {
            "name": "sparkkernel",
            "display_name": "Spark | Scala"
        },
        "language_info": {
            "name": "scala",
            "mimetype": "text/x-scala",
            "codemirror_mode": "text/x-scala",
            "pygments_lexer": "scala"
        }
    },
    "nbformat_minor": 2,
    "nbformat": 4,
    "cells": [
        {
            "cell_type": "code",
            "source": [
                ""
            ],
            "metadata": {
                "azdata_cell_guid": "f0cb1d6e-7e49-47bb-b5ce-5e4da44fdeab"
            },
            "outputs": [],
            "execution_count": 28
        },
        {
            "cell_type": "code",
            "source": [
                "%%configure -f\n",
                "{\"conf\": {\"spark.jars\": \"/system/jar/simpleHTM.jar,/system/jar/jhealpix.jar\"}}"
            ],
            "metadata": {
                "azdata_cell_guid": "08ecabb4-1d35-4fb6-939d-74de2fa55210"
            },
            "outputs": [
                {
                    "name": "stdout",
                    "text": "Starting Spark application\n",
                    "output_type": "stream"
                },
                {
                    "data": {
                        "text/plain": "<IPython.core.display.HTML object>",
                        "text/html": "<table>\n<tr><th>ID</th><th>YARN Application ID</th><th>Kind</th><th>State</th><th>Spark UI</th><th>Driver log</th><th>Current session?</th></tr><tr><td>34</td><td>application_1580142637008_0035</td><td>spark</td><td>idle</td><td><a target=\"_blank\" href=\"https://172.23.25.61:30443/gateway/default/yarn/proxy/application_1580142637008_0035/\">Link</a></td><td><a target=\"_blank\" href=\"https://172.23.25.61:30443/gateway/default/yarn/container/container_1580142637008_0035_01_000001/root\">Link</a></td><td>✔</td></tr></table>"
                    },
                    "metadata": {},
                    "output_type": "display_data"
                },
                {
                    "data": {
                        "text/plain": "FloatProgress(value=0.0, bar_style='info', description='Progress:', layout=Layout(height='25px', width='50%'),…",
                        "application/vnd.jupyter.widget-view+json": {
                            "version_major": 2,
                            "version_minor": 0,
                            "model_id": "5b47840e31e84ac4b4ca38ba5720fa30"
                        }
                    },
                    "metadata": {},
                    "output_type": "display_data"
                },
                {
                    "name": "stdout",
                    "text": "SparkSession available as 'spark'.\n",
                    "output_type": "stream"
                },
                {
                    "data": {
                        "text/plain": "<IPython.core.display.HTML object>",
                        "text/html": "Current session configs: <tt>{'conf': {'spark.jars': '/system/jar/simpleHTM.jar,/system/jar/jhealpix.jar'}, 'kind': 'spark'}</tt><br>"
                    },
                    "metadata": {},
                    "output_type": "display_data"
                },
                {
                    "data": {
                        "text/plain": "<IPython.core.display.HTML object>",
                        "text/html": "<table>\n<tr><th>ID</th><th>YARN Application ID</th><th>Kind</th><th>State</th><th>Spark UI</th><th>Driver log</th><th>Current session?</th></tr><tr><td>34</td><td>application_1580142637008_0035</td><td>spark</td><td>idle</td><td><a target=\"_blank\" href=\"https://172.23.25.61:30443/gateway/default/yarn/proxy/application_1580142637008_0035/\">Link</a></td><td><a target=\"_blank\" href=\"https://172.23.25.61:30443/gateway/default/yarn/container/container_1580142637008_0035_01_000001/root\">Link</a></td><td>✔</td></tr></table>"
                    },
                    "metadata": {},
                    "output_type": "display_data"
                }
            ],
            "execution_count": 29
        },
        {
            "cell_type": "code",
            "source": [
                "import simple.HTMindex\r\n",
                "import healpix.jhu.Healpix\r\n",
                "import org.apache.spark.sql.{SparkSession, SaveMode, Row, DataFrame}\r\n",
                "import org.apache.spark.sql.functions.udf\r\n",
                "import java.util.Calendar\r\n",
                ""
            ],
            "metadata": {
                "azdata_cell_guid": "700b57ad-e424-46d1-88ca-0257d1097e4e"
            },
            "outputs": [
                {
                    "data": {
                        "text/plain": "FloatProgress(value=0.0, bar_style='info', description='Progress:', layout=Layout(height='25px', width='50%'),…",
                        "application/vnd.jupyter.widget-view+json": {
                            "version_major": 2,
                            "version_minor": 0,
                            "model_id": "6753997c18ec4d83b3ece424bdde5b58"
                        }
                    },
                    "metadata": {},
                    "output_type": "display_data"
                },
                {
                    "name": "stdout",
                    "text": "import simple.HTMindex\nimport healpix.jhu.Healpix\nimport org.apache.spark.sql.{SparkSession, SaveMode, Row, DataFrame}\nimport org.apache.spark.sql.functions.udf\nimport java.util.Calendar\n",
                    "output_type": "stream"
                }
            ],
            "execution_count": 30
        },
        {
            "cell_type": "code",
            "source": [
                "object HTMUtils extends Serializable {\r\n",
                "    var htmindex= new HTMindex() with Serializable\r\n",
                "    val htmid: (Double, Double) => Long = htmindex.lookupId(_,_)\r\n",
                "\r\n",
                "    val htmidUDF=udf(htmid)\r\n",
                "    \r\n",
                "}"
            ],
            "metadata": {
                "azdata_cell_guid": "9b93909d-741b-4c62-a375-dff74aae8e00"
            },
            "outputs": [
                {
                    "data": {
                        "text/plain": "FloatProgress(value=0.0, bar_style='info', description='Progress:', layout=Layout(height='25px', width='50%'),…",
                        "application/vnd.jupyter.widget-view+json": {
                            "version_major": 2,
                            "version_minor": 0,
                            "model_id": "12cb6e0876504f8c8bfe12daeb436941"
                        }
                    },
                    "metadata": {},
                    "output_type": "display_data"
                },
                {
                    "name": "stdout",
                    "text": "defined object HTMUtils\n",
                    "output_type": "stream"
                }
            ],
            "execution_count": 31
        },
        {
            "cell_type": "code",
            "source": [
                "object HEALPixUtils extends Serializable {\r\n",
                "    var hp = new Healpix() with Serializable\r\n",
                "    val healpixid: (Double, Double) => Long = hp.ang2pix(_,_)\r\n",
                "\r\n",
                "    val healpixidUDF=udf(healpixid)\r\n",
                "    \r\n",
                "}"
            ],
            "metadata": {
                "azdata_cell_guid": "75e90a81-83cf-497e-877f-916d33723f64"
            },
            "outputs": [
                {
                    "data": {
                        "text/plain": "FloatProgress(value=0.0, bar_style='info', description='Progress:', layout=Layout(height='25px', width='50%'),…",
                        "application/vnd.jupyter.widget-view+json": {
                            "version_major": 2,
                            "version_minor": 0,
                            "model_id": "9ad1efc4621f462ba5640aca0f6f361a"
                        }
                    },
                    "metadata": {},
                    "output_type": "display_data"
                },
                {
                    "name": "stdout",
                    "text": "defined object HEALPixUtils\n",
                    "output_type": "stream"
                }
            ],
            "execution_count": 32
        },
        {
            "cell_type": "code",
            "source": [
                "//val datafile = \"/user/hive/warehouse/source_test_parquet\"\r\n",
                "val datafile = \"/user/hive/warehouse/source/source_new\"\r\n",
                "val old_df = spark.read.parquet(datafile)\r\n",
                ""
            ],
            "metadata": {
                "azdata_cell_guid": "950502d4-f7c0-48ee-99af-0296aaf20849",
                "tags": []
            },
            "outputs": [
                {
                    "data": {
                        "text/plain": "FloatProgress(value=0.0, bar_style='info', description='Progress:', layout=Layout(height='25px', width='50%'),…",
                        "application/vnd.jupyter.widget-view+json": {
                            "version_major": 2,
                            "version_minor": 0,
                            "model_id": "484c8aaadd64497487c9944735eea856"
                        }
                    },
                    "metadata": {},
                    "output_type": "display_data"
                },
                {
                    "name": "stdout",
                    "text": "datafile: String = /user/hive/warehouse/source/source_new\nold_df: org.apache.spark.sql.DataFrame = [id: bigint, chunkid: int ... 86 more fields]\n",
                    "output_type": "stream"
                }
            ],
            "execution_count": 33
        },
        {
            "cell_type": "code",
            "source": [
                "val newDF = old_df.withColumn(\"htmid\",HTMUtils.htmidUDF(old_df(\"coord_ra\"),old_df(\"coord_decl\"))).withColumn(\"healpixid\", HEALPixUtils.healpixidUDF(old_df(\"coord_ra\"), old_df(\"coord_decl\")))\r\n",
                "\r\n",
                "newDF.show(1)"
            ],
            "metadata": {
                "azdata_cell_guid": "ea25060d-daf3-431c-85f7-5b966661b358",
                "tags": []
            },
            "outputs": [
                {
                    "data": {
                        "text/plain": "FloatProgress(value=0.0, bar_style='info', description='Progress:', layout=Layout(height='25px', width='50%'),…",
                        "application/vnd.jupyter.widget-view+json": {
                            "version_major": 2,
                            "version_minor": 0,
                            "model_id": "f4b8451af32145a7b0b1bd71d2615802"
                        }
                    },
                    "metadata": {},
                    "output_type": "display_data"
                },
                {
                    "name": "stdout",
                    "text": "newDF: org.apache.spark.sql.DataFrame = [id: bigint, chunkid: int ... 88 more fields]\n+----------------+-------+------------------+------------------+--------------+------+-----------------+-----------------+------------------+------------------+-------------------+-------------------+-------------------+----------------+----------------------------+-------------------------------+-------------------------+----------------------------+------------------+---------------------+-----------------+-----------------+-------------------+--------------------+-------------------+--------------------+-------------------+-------------------+----------------------+-----------------------+----------------------+-----------------------+------------------+------------------+-------------------+-----------------+--------------------+--------------------+------------------+--------------------+------------------+----------------+---------------------+---------------------+------------------------+-------------------------+------------------------+-------------------------+------------------------------+---------------------------+----------------------+------------------------+------------------+-----------------+--------------+------------------+------------------------+----------------------+-----------------+------------------+----------------+------------------+-----------------+-------------------+-----------------------+-----------------------------+---------------------------+-----------------+------------------+---------------+-----------------+-----------------+---------------------------+------------------+----------------------+-----------------+------------------+----------------+------------------+--------------------+--------------------+-----------+------------------+-------------+-----------------+----------+------------------+------------------+--------------+-------------+\n|              id|chunkid|          coord_ra|        coord_decl| coord_htmId20|parent|flags_badcentroid|  centroid_sdss_x|   centroid_sdss_y|centroid_sdss_xVar|centroid_sdss_xyCov| centroid_sdss_yVar|centroid_sdss_flags|flags_pixel_edge|flags_pixel_interpolated_any|flags_pixel_interpolated_center|flags_pixel_saturated_any|flags_pixel_saturated_center|flags_pixel_cr_any|flags_pixel_cr_center| centroid_naive_x| centroid_naive_y|centroid_naive_xVar|centroid_naive_xyCov|centroid_naive_yVar|centroid_naive_flags|centroid_gaussian_x|centroid_gaussian_y|centroid_gaussian_xVar|centroid_gaussian_xyCov|centroid_gaussian_yVar|centroid_gaussian_flags|    shape_sdss_Ixx|    shape_sdss_Iyy|     shape_sdss_Ixy|shape_sdss_IxxVar|shape_sdss_IxxIyyCov|shape_sdss_IxxIxyCov| shape_sdss_IyyVar|shape_sdss_IyyIxyCov| shape_sdss_IxyVar|shape_sdss_flags|shape_sdss_centroid_x|shape_sdss_centroid_y|shape_sdss_centroid_xVar|shape_sdss_centroid_xyCov|shape_sdss_centroid_yVar|shape_sdss_centroid_flags|shape_sdss_flags_unweightedbad|shape_sdss_flags_unweighted|shape_sdss_flags_shift|shape_sdss_flags_maxiter|          flux_psf|     flux_psf_err|flux_psf_flags|flux_psf_psffactor|flux_psf_flags_psffactor|flux_psf_flags_badcorr|       flux_naive|    flux_naive_err|flux_naive_flags|     flux_gaussian|flux_gaussian_err|flux_gaussian_flags|flux_gaussian_psffactor|flux_gaussian_flags_psffactor|flux_gaussian_flags_badcorr|        flux_sinc|     flux_sinc_err|flux_sinc_flags|centroid_record_x|centroid_record_y|classification_extendedness|aperturecorrection|aperturecorrection_err|          refFlux|       refFlux_err|        objectId|       coord_raVar|     coord_radeclCov|       coord_declVar|exposure_id|exposure_filter_id|exposure_time|exposure_time_mid|cluster_id|  cluster_coord_ra|cluster_coord_decl|         htmid|    healpixid|\n+----------------+-------+------------------+------------------+--------------+------+-----------------+-----------------+------------------+------------------+-------------------+-------------------+-------------------+----------------+----------------------------+-------------------------------+-------------------------+----------------------------+------------------+---------------------+-----------------+-----------------+-------------------+--------------------+-------------------+--------------------+-------------------+-------------------+----------------------+-----------------------+----------------------+-----------------------+------------------+------------------+-------------------+-----------------+--------------------+--------------------+------------------+--------------------+------------------+----------------+---------------------+---------------------+------------------------+-------------------------+------------------------+-------------------------+------------------------------+---------------------------+----------------------+------------------------+------------------+-----------------+--------------+------------------+------------------------+----------------------+-----------------+------------------+----------------+------------------+-----------------+-------------------+-----------------------+-----------------------------+---------------------------+-----------------+------------------+---------------+-----------------+-----------------+---------------------------+------------------+----------------------+-----------------+------------------+----------------+------------------+--------------------+--------------------+-----------+------------------+-------------+-----------------+----------+------------------+------------------+--------------+-------------+\n|2603832513169779|      0|113.70775326455224|-88.30991901979571|12649452511182|  null|                0|697.3951937849646|285.02113886805523|0.3197639832559531|               null|0.14561034340951906|                  0|               0|                           0|                              0|                        0|                           0|                 0|                    0|697.0319647569927|284.2108417720661|               null|                null|               null|                   0|  697.2998807738778| 285.02464152021344|                  null|                   null|                  null|                      0|1.8563502304162247|1.4501290162785956|0.16491253303414147|1.193707734796553|                null|                null|0.4709560015082866|                null|0.7284361523300709|               0|    697.4893424661686|    284.7936915302488|                    null|                     null|                    null|                        0|                             0|                          0|                     0|                       0|243.04996311917049|51.14994221005294|             0|           8.43838|                       0|                     0|38.91283255815506|134.79111429579854|               0|286.50571835890065|84.31266963076973|                  0|                7.31454|                            0|                          0|61.53878739336688|135.04412026804758|              0|697.6582043881489|284.5778786394853|                        1.0|0.9979635586693848|  4.112252465384053E-4|83.07929132747398|1.8761453355929765|2603832513138027|0.0228337318879116|-1.44991676154470...|0.050151868063696925| 6314230266|                 2|      53.9075|53989.28057714445|      null|113.70775326455224|-88.30991901979571|10171222826958|9896354709478|\n+----------------+-------+------------------+------------------+--------------+------+-----------------+-----------------+------------------+------------------+-------------------+-------------------+-------------------+----------------+----------------------------+-------------------------------+-------------------------+----------------------------+------------------+---------------------+-----------------+-----------------+-------------------+--------------------+-------------------+--------------------+-------------------+-------------------+----------------------+-----------------------+----------------------+-----------------------+------------------+------------------+-------------------+-----------------+--------------------+--------------------+------------------+--------------------+------------------+----------------+---------------------+---------------------+------------------------+-------------------------+------------------------+-------------------------+------------------------------+---------------------------+----------------------+------------------------+------------------+-----------------+--------------+------------------+------------------------+----------------------+-----------------+------------------+----------------+------------------+-----------------+-------------------+-----------------------+-----------------------------+---------------------------+-----------------+------------------+---------------+-----------------+-----------------+---------------------------+------------------+----------------------+-----------------+------------------+----------------+------------------+--------------------+--------------------+-----------+------------------+-------------+-----------------+----------+------------------+------------------+--------------+-------------+\nonly showing top 1 row\n\n",
                    "output_type": "stream"
                }
            ],
            "execution_count": 34
        },
        {
            "cell_type": "code",
            "source": [
                "println(\"Use MSSQL connector to write to datapool instance \")\r\n",
                "\r\n",
                "val servername = \"jdbc:sqlserver://master-0.master-svc\"\r\n",
                "val dbname = \"LSST\"\r\n",
                "var url = servername + \";\" + \"databaseName=\" + dbname + \";\"\r\n",
                "\r\n",
                "\r\n",
                "val user = \"admin\"\r\n",
                "val password = \"fooRiuzg54\"\r\n",
                "\r\n",
                "\r\n",
                "\r\n",
                "val datapool_table = \"dp.Source\"\r\n",
                "\r\n",
                "val datasource_name = \"SqlDataPool\"\r\n",
                "\r\n",
                "val batchsize = 1000000\r\n",
                "\r\n",
                "val start = Calendar.getInstance().getTime()\r\n",
                "\r\n",
                "try {\r\n",
                "  newDF.write \r\n",
                "    .format(\"com.microsoft.sqlserver.jdbc.spark\") \r\n",
                "    .mode(\"append\") \r\n",
                "    .option(\"url\", url) \r\n",
                "    .option(\"dbtable\", datapool_table) \r\n",
                "    .option(\"user\", user) \r\n",
                "    .option(\"password\", password) \r\n",
                "    .option(\"dataPoolDataSource\",datasource_name)\r\n",
                "    .option(\"batchsize\",batchsize)\r\n",
                "    .save()\r\n",
                "} catch {\r\n",
                "    case e: Throwable => println(\"MSSQL Connector write failed: \" + e)\r\n",
                "}\r\n",
                "val end = Calendar.getInstance().getTime()\r\n",
                "println(start)\r\n",
                "println(end)\r\n",
                "//var duration = end - start\r\n",
                "//println(\"duration:\" + duration)\r\n",
                "print(\"MSSQL Connector write(append) to data pool external table succeeded\")"
            ],
            "metadata": {
                "azdata_cell_guid": "87653190-a1e5-4ec8-ad27-5752fa03677a",
                "tags": []
            },
            "outputs": [
                {
                    "data": {
                        "text/plain": "FloatProgress(value=0.0, bar_style='info', description='Progress:', layout=Layout(height='25px', width='50%'),…",
                        "application/vnd.jupyter.widget-view+json": {
                            "version_major": 2,
                            "version_minor": 0,
                            "model_id": "8cdd0abf6fd948d998e27c5656a5eb46"
                        }
                    },
                    "metadata": {},
                    "output_type": "display_data"
                }
            ],
            "execution_count": null
        }
    ]
}