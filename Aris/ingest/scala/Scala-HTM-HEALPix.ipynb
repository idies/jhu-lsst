{
    "metadata": {
        "kernelspec": {
            "name": "sparkkernel",
            "display_name": "Spark | Scala"
        },
        "language_info": {
            "name": "scala",
            "mimetype": "text/x-scala",
            "codemirror_mode": "text/x-scala",
            "pygments_lexer": "scala"
        }
    },
    "nbformat_minor": 2,
    "nbformat": 4,
    "cells": [
        {
            "cell_type": "code",
            "source": [
                "%%configure -f\n",
                "{\"conf\": {\"spark.jars\": \"/jar/simpleHTM.jar,/jar/jhealpix.jar\"}}"
            ],
            "metadata": {
                "azdata_cell_guid": "08ecabb4-1d35-4fb6-939d-74de2fa55210"
            },
            "outputs": [
                {
                    "name": "stdout",
                    "text": "Starting Spark application\n",
                    "output_type": "stream"
                },
                {
                    "data": {
                        "text/plain": "<IPython.core.display.HTML object>",
                        "text/html": "<table>\n<tr><th>ID</th><th>YARN Application ID</th><th>Kind</th><th>State</th><th>Spark UI</th><th>Driver log</th><th>Current session?</th></tr><tr><td>3</td><td>application_1576183992464_0004</td><td>spark</td><td>idle</td><td><a target=\"_blank\" href=\"https://172.23.25.60:30443/gateway/default/yarn/proxy/application_1576183992464_0004/\">Link</a></td><td><a target=\"_blank\" href=\"https://172.23.25.60:30443/gateway/default/yarn/container/container_1576183992464_0004_01_000001/root\">Link</a></td><td>✔</td></tr></table>"
                    },
                    "metadata": {},
                    "output_type": "display_data"
                },
                {
                    "data": {
                        "text/plain": "FloatProgress(value=0.0, bar_style='info', description='Progress:', layout=Layout(height='25px', width='50%'),…",
                        "application/vnd.jupyter.widget-view+json": {
                            "version_major": 2,
                            "version_minor": 0,
                            "model_id": "85366400133042b590e40ec8715fb172"
                        }
                    },
                    "metadata": {},
                    "output_type": "display_data"
                },
                {
                    "name": "stdout",
                    "text": "SparkSession available as 'spark'.\n",
                    "output_type": "stream"
                },
                {
                    "data": {
                        "text/plain": "<IPython.core.display.HTML object>",
                        "text/html": "Current session configs: <tt>{'conf': {'spark.jars': '/jar/simpleHTM.jar,/jar/jhealpix.jar'}, 'kind': 'spark'}</tt><br>"
                    },
                    "metadata": {},
                    "output_type": "display_data"
                },
                {
                    "data": {
                        "text/plain": "<IPython.core.display.HTML object>",
                        "text/html": "<table>\n<tr><th>ID</th><th>YARN Application ID</th><th>Kind</th><th>State</th><th>Spark UI</th><th>Driver log</th><th>Current session?</th></tr><tr><td>3</td><td>application_1576183992464_0004</td><td>spark</td><td>idle</td><td><a target=\"_blank\" href=\"https://172.23.25.60:30443/gateway/default/yarn/proxy/application_1576183992464_0004/\">Link</a></td><td><a target=\"_blank\" href=\"https://172.23.25.60:30443/gateway/default/yarn/container/container_1576183992464_0004_01_000001/root\">Link</a></td><td>✔</td></tr></table>"
                    },
                    "metadata": {},
                    "output_type": "display_data"
                }
            ],
            "execution_count": 15
        },
        {
            "cell_type": "code",
            "source": [
                "import simple.HTMindex\r\n",
                "import healpix.jhu.Healpix\r\n",
                "import org.apache.spark.sql.{SparkSession, SaveMode, Row, DataFrame}\r\n",
                "import org.apache.spark.sql.functions.udf\r\n",
                "\r\n",
                "//var htmindex= new HTMindex()\r\n",
                "//val htmid: (Double, Double) => Long = htmindex.lookupId(_,_)\r\n",
                "\r\n",
                "//val htmidUDF=udf(htmid)"
            ],
            "metadata": {
                "azdata_cell_guid": "700b57ad-e424-46d1-88ca-0257d1097e4e"
            },
            "outputs": [
                {
                    "data": {
                        "text/plain": "FloatProgress(value=0.0, bar_style='info', description='Progress:', layout=Layout(height='25px', width='50%'),…",
                        "application/vnd.jupyter.widget-view+json": {
                            "version_major": 2,
                            "version_minor": 0,
                            "model_id": "ce07e1caff8d430aae8278ba6909f476"
                        }
                    },
                    "metadata": {},
                    "output_type": "display_data"
                },
                {
                    "name": "stdout",
                    "text": "import simple.HTMindex\nimport healpix.jhu.Healpix\nimport org.apache.spark.sql.{SparkSession, SaveMode, Row, DataFrame}\nimport org.apache.spark.sql.functions.udf\n",
                    "output_type": "stream"
                }
            ],
            "execution_count": 16
        },
        {
            "cell_type": "code",
            "source": [
                "object HTMUtils extends Serializable {\r\n",
                "    var htmindex= new HTMindex() with Serializable\r\n",
                "    val htmid: (Double, Double) => Long = htmindex.lookupId(_,_)\r\n",
                "\r\n",
                "    val htmidUDF=udf(htmid)\r\n",
                "    \r\n",
                "}"
            ],
            "metadata": {
                "azdata_cell_guid": "9b93909d-741b-4c62-a375-dff74aae8e00"
            },
            "outputs": [
                {
                    "data": {
                        "text/plain": "FloatProgress(value=0.0, bar_style='info', description='Progress:', layout=Layout(height='25px', width='50%'),…",
                        "application/vnd.jupyter.widget-view+json": {
                            "version_major": 2,
                            "version_minor": 0,
                            "model_id": "74dd632067b54f19bded4d15422b0406"
                        }
                    },
                    "metadata": {},
                    "output_type": "display_data"
                },
                {
                    "name": "stdout",
                    "text": "defined object HTMUtils\n",
                    "output_type": "stream"
                }
            ],
            "execution_count": 17
        },
        {
            "cell_type": "code",
            "source": [
                "object HEALPixUtils extends Serializable {\r\n",
                "    var hp = new Healpix() with Serializable\r\n",
                "    val healpixid: (Double, Double) => Long = hp.ang2pix(_,_)\r\n",
                "\r\n",
                "    val healpixidUDF=udf(healpixid)\r\n",
                "    \r\n",
                "}"
            ],
            "metadata": {
                "azdata_cell_guid": "75e90a81-83cf-497e-877f-916d33723f64"
            },
            "outputs": [
{
    "data": {
        "text/plain": "FloatProgress(value=0.0, bar_style='info', description='Progress:', layout=Layout(height='25px', width='50%'),…",
        "application/vnd.jupyter.widget-view+json": {
            "version_major": 2,
            "version_minor": 0,
            "model_id": "134b1010894741d28848afa9b27c2fc4"
        }
    },
    "metadata": {},
    "output_type": "display_data"
}, {
    "name": "stdout",
    "text": "defined object HEALPixUtils\n",
    "output_type": "stream"
}
],
            "execution_count": 25
        },
        {
            "cell_type": "code",
            "source": [
                "val dataset = Seq((123.0,45.0), (124.0,46.0)).toDF(\"ra\", \"dec\")"
            ],
            "metadata": {
                "azdata_cell_guid": "3f810e8c-31f7-497f-8500-77d4492f7202"
            },
            "outputs": [
                {
                    "data": {
                        "text/plain": "FloatProgress(value=0.0, bar_style='info', description='Progress:', layout=Layout(height='25px', width='50%'),…",
                        "application/vnd.jupyter.widget-view+json": {
                            "version_major": 2,
                            "version_minor": 0,
                            "model_id": "194daf409b9e41c1bec2f7da2713c36f"
                        }
                    },
                    "metadata": {},
                    "output_type": "display_data"
                },
                {
                    "name": "stdout",
                    "text": "dataset: org.apache.spark.sql.DataFrame = [ra: double, dec: double]\n",
                    "output_type": "stream"
                }
            ],
            "execution_count": 20
        },
        {
            "cell_type": "code",
            "source": [
                "dataset.withColumn(\"htmid\", htmidUDF(dataset(\"ra\"),dataset(\"dec\"))).show"
            ],
            "metadata": {
                "azdata_cell_guid": "32fd8ae4-caca-4fa2-a17e-43bee81874c0"
            },
            "outputs": [
                {
                    "data": {
                        "text/plain": "FloatProgress(value=0.0, bar_style='info', description='Progress:', layout=Layout(height='25px', width='50%'),…",
                        "application/vnd.jupyter.widget-view+json": {
                            "version_major": 2,
                            "version_minor": 0,
                            "model_id": "2fbd03768b5447118dbdb56a172780af"
                        }
                    },
                    "metadata": {},
                    "output_type": "display_data"
                },
                {
                    "name": "stderr",
                    "text": "<console>:30: error: not found: value htmidUDF\n       dataset.withColumn(\"htmid\", htmidUDF(dataset(\"ra\"),dataset(\"dec\"))).show\n                                   ^\n\n",
                    "output_type": "stream"
                }
            ],
            "execution_count": 21
        },
        {
            "cell_type": "code",
            "source": [
                "val datafile = \"/user/hive/warehouse/source_test_parquet\"\r\n",
                "val old_df = spark.read.parquet(datafile)\r\n",
                "\r\n",
                "old_df.createOrReplaceTempView(\"source\")\r\n",
                "\r\n",
                "val coordsDF = spark.sql(\"select coord_ra, coord_decl from source limit 10\")\r\n",
                "coordsDF.show()\r\n",
                "coordsDF.printSchema()\r\n",
                "\r\n",
                ""
            ],
            "metadata": {
                "azdata_cell_guid": "950502d4-f7c0-48ee-99af-0296aaf20849"
            },
            "outputs": [
                {
                    "data": {
                        "text/plain": "FloatProgress(value=0.0, bar_style='info', description='Progress:', layout=Layout(height='25px', width='50%'),…",
                        "application/vnd.jupyter.widget-view+json": {
                            "version_major": 2,
                            "version_minor": 0,
                            "model_id": "a7d7e89f9e9d4034951c99dc2f481bf8"
                        }
                    },
                    "metadata": {},
                    "output_type": "display_data"
                },
                {
                    "name": "stdout",
                    "text": "datafile: String = /user/hive/warehouse/source_test_parquet\nold_df: org.apache.spark.sql.DataFrame = [id: bigint, chunkid: int ... 86 more fields]\ncoordsDF: org.apache.spark.sql.DataFrame = [coord_ra: double, coord_decl: double]\n+------------------+------------------+\n|          coord_ra|        coord_decl|\n+------------------+------------------+\n|347.75390124573187|34.006256639533504|\n| 347.7212959235707| 34.00378336432932|\n|347.72357395382915| 34.00364889406109|\n|347.79822646854007| 33.92442947660814|\n| 347.7756980478584|34.058467401092614|\n|347.80243738281285|  33.9174136042188|\n| 347.5995288819927| 34.03270754662762|\n| 347.6018936340388| 34.06582719619188|\n| 347.6079022209228| 34.07212750950642|\n| 347.6079630382091|  34.0718343187988|\n+------------------+------------------+\n\nroot\n |-- coord_ra: double (nullable = true)\n |-- coord_decl: double (nullable = true)\n\n",
                    "output_type": "stream"
                }
            ],
            "execution_count": 22
        },
        {
            "cell_type": "code",
            "source": [
                "val new_df = coordsDF.withColumn(\"htmid\",HTMUtils.htmidUDF(old_df(\"coord_ra\"),old_df(\"coord_decl\")))\r\n",
                "new_df.show(1)"
            ],
            "metadata": {
                "azdata_cell_guid": "ea25060d-daf3-431c-85f7-5b966661b358"
            },
            "outputs": [
                {
                    "data": {
                        "text/plain": "FloatProgress(value=0.0, bar_style='info', description='Progress:', layout=Layout(height='25px', width='50%'),…",
                        "application/vnd.jupyter.widget-view+json": {
                            "version_major": 2,
                            "version_minor": 0,
                            "model_id": "4b7e1172a8ca4dd2990bd46b1ed3ebdd"
                        }
                    },
                    "metadata": {},
                    "output_type": "display_data"
                },
                {
                    "name": "stdout",
                    "text": "new_df: org.apache.spark.sql.DataFrame = [coord_ra: double, coord_decl: double ... 1 more field]\n+------------------+-----------------+--------------+\n|          coord_ra|       coord_decl|         htmid|\n+------------------+-----------------+--------------+\n|357.03448646379684|33.41077013684323|13319061131005|\n+------------------+-----------------+--------------+\nonly showing top 1 row\n\n",
                    "output_type": "stream"
                }
            ],
            "execution_count": 23
        },
        {
            "cell_type": "code",
            "source": [
                "val new_df = coordsDF.withColumn(\"htmid\",HEALPixUtils.healpixidUDF(old_df(\"coord_ra\"),old_df(\"coord_decl\")))\r\n",
                "new_df.show(1)"
            ],
            "metadata": {
                "azdata_cell_guid": "87653190-a1e5-4ec8-ad27-5752fa03677a",
                "tags": [
                    "hide_input"
                ]
            },
            "outputs": [
{
    "data": {
        "text/plain": "FloatProgress(value=0.0, bar_style='info', description='Progress:', layout=Layout(height='25px', width='50%'),…",
        "application/vnd.jupyter.widget-view+json": {
            "version_major": 2,
            "version_minor": 0,
            "model_id": "60c382150da44eb9af30d4686d60250f"
        }
    },
    "metadata": {},
    "output_type": "display_data"
}, {
    "name": "stdout",
    "text": "new_df: org.apache.spark.sql.DataFrame = [coord_ra: double, coord_decl: double ... 1 more field]\n+------------------+-----------------+-------------+\n|          coord_ra|       coord_decl|        htmid|\n+------------------+-----------------+-------------+\n|354.76947419685087|33.73542757602207|5479435600527|\n+------------------+-----------------+-------------+\nonly showing top 1 row\n\n",
    "output_type": "stream"
}
],
            "execution_count": 26
        }
    ]
}