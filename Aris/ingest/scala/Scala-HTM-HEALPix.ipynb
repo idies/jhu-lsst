{
    "metadata": {
        "kernelspec": {
            "name": "sparkkernel",
            "display_name": "Spark | Scala"
        },
        "language_info": {
            "name": "scala",
            "mimetype": "text/x-scala",
            "codemirror_mode": "text/x-scala",
            "pygments_lexer": "scala"
        }
    },
    "nbformat_minor": 2,
    "nbformat": 4,
    "cells": [
        {
            "cell_type": "code",
            "source": [
                "%%configure -f\n",
                "{\"conf\": {\"spark.jars\": \"/jar/simpleHTM.jar,/jar/jhealpix.jar\"}}"
            ],
            "metadata": {
                "azdata_cell_guid": "08ecabb4-1d35-4fb6-939d-74de2fa55210"
            },
            "outputs": [
                {
                    "data": {
                        "text/plain": "<IPython.core.display.HTML object>",
                        "text/html": "Current session configs: <tt>{'conf': {'spark.jars': '/jar/simpleHTM.jar,/jar/jhealpix.jar'}, 'kind': 'spark'}</tt><br>"
                    },
                    "metadata": {},
                    "output_type": "display_data"
                },
                {
                    "data": {
                        "text/plain": "<IPython.core.display.HTML object>",
                        "text/html": "No active sessions."
                    },
                    "metadata": {},
                    "output_type": "display_data"
                }
            ],
            "execution_count": 3
        },
        {
            "cell_type": "code",
            "source": [
                "import simple.HTMindex\r\n",
                "import healpix.jhu.Healpix\r\n",
                "import org.apache.spark.sql.{SparkSession, SaveMode, Row, DataFrame}\r\n",
                "import org.apache.spark.sql.functions.udf\r\n",
                "\r\n",
                "//var htmindex= new HTMindex()\r\n",
                "//val htmid: (Double, Double) => Long = htmindex.lookupId(_,_)\r\n",
                "\r\n",
                "//val htmidUDF=udf(htmid)"
            ],
            "metadata": {
                "azdata_cell_guid": "700b57ad-e424-46d1-88ca-0257d1097e4e"
            },
            "outputs": [
                {
                    "name": "stdout",
                    "text": "Starting Spark application\n",
                    "output_type": "stream"
                },
                {
                    "data": {
                        "text/plain": "<IPython.core.display.HTML object>",
                        "text/html": "<table>\n<tr><th>ID</th><th>YARN Application ID</th><th>Kind</th><th>State</th><th>Spark UI</th><th>Driver log</th><th>Current session?</th></tr><tr><td>7</td><td>application_1576183992464_0008</td><td>spark</td><td>idle</td><td><a target=\"_blank\" href=\"https://172.23.25.60:30443/gateway/default/yarn/proxy/application_1576183992464_0008/\">Link</a></td><td><a target=\"_blank\" href=\"https://172.23.25.60:30443/gateway/default/yarn/container/container_1576183992464_0008_01_000001/root\">Link</a></td><td>✔</td></tr></table>"
                    },
                    "metadata": {},
                    "output_type": "display_data"
                },
                {
                    "data": {
                        "text/plain": "FloatProgress(value=0.0, bar_style='info', description='Progress:', layout=Layout(height='25px', width='50%'),…",
                        "application/vnd.jupyter.widget-view+json": {
                            "version_major": 2,
                            "version_minor": 0,
                            "model_id": "98de56a6487f44629596da57ee5dd641"
                        }
                    },
                    "metadata": {},
                    "output_type": "display_data"
                },
                {
                    "name": "stdout",
                    "text": "SparkSession available as 'spark'.\n",
                    "output_type": "stream"
                },
                {
                    "data": {
                        "text/plain": "FloatProgress(value=0.0, bar_style='info', description='Progress:', layout=Layout(height='25px', width='50%'),…",
                        "application/vnd.jupyter.widget-view+json": {
                            "version_major": 2,
                            "version_minor": 0,
                            "model_id": "e866b38af4a34b58a31428e4917f4c50"
                        }
                    },
                    "metadata": {},
                    "output_type": "display_data"
                },
                {
                    "name": "stdout",
                    "text": "import simple.HTMindex\nimport healpix.jhu.Healpix\nimport org.apache.spark.sql.{SparkSession, SaveMode, Row, DataFrame}\nimport org.apache.spark.sql.functions.udf\n",
                    "output_type": "stream"
                }
            ],
            "execution_count": 4
        },
        {
            "cell_type": "code",
            "source": [
                "object HTMUtils extends Serializable {\r\n",
                "    var htmindex= new HTMindex() with Serializable\r\n",
                "    val htmid: (Double, Double) => Long = htmindex.lookupId(_,_)\r\n",
                "\r\n",
                "    val htmidUDF=udf(htmid)\r\n",
                "    \r\n",
                "}"
            ],
            "metadata": {
                "azdata_cell_guid": "9b93909d-741b-4c62-a375-dff74aae8e00"
            },
            "outputs": [
                {
                    "data": {
                        "text/plain": "FloatProgress(value=0.0, bar_style='info', description='Progress:', layout=Layout(height='25px', width='50%'),…",
                        "application/vnd.jupyter.widget-view+json": {
                            "version_major": 2,
                            "version_minor": 0,
                            "model_id": "b0350319bd194909bc8e94318dcd2fa8"
                        }
                    },
                    "metadata": {},
                    "output_type": "display_data"
                },
                {
                    "name": "stdout",
                    "text": "defined object HTMUtils\n",
                    "output_type": "stream"
                }
            ],
            "execution_count": 5
        },
        {
            "cell_type": "code",
            "source": [
                "object HEALPixUtils extends Serializable {\r\n",
                "    var hp = new Healpix() with Serializable\r\n",
                "    val healpixid: (Double, Double) => Long = hp.ang2pix(_,_)\r\n",
                "\r\n",
                "    val healpixidUDF=udf(healpixid)\r\n",
                "    \r\n",
                "}"
            ],
            "metadata": {
                "azdata_cell_guid": "75e90a81-83cf-497e-877f-916d33723f64"
            },
            "outputs": [
                {
                    "data": {
                        "text/plain": "FloatProgress(value=0.0, bar_style='info', description='Progress:', layout=Layout(height='25px', width='50%'),…",
                        "application/vnd.jupyter.widget-view+json": {
                            "version_major": 2,
                            "version_minor": 0,
                            "model_id": "400f9a70898d4a9fbb798a773b593c67"
                        }
                    },
                    "metadata": {},
                    "output_type": "display_data"
                },
                {
                    "name": "stdout",
                    "text": "defined object HEALPixUtils\n",
                    "output_type": "stream"
                }
            ],
            "execution_count": 6
        },
        {
            "cell_type": "code",
            "source": [
                "val dataset = Seq((123.0,45.0), (124.0,46.0)).toDF(\"ra\", \"dec\")"
            ],
            "metadata": {
                "azdata_cell_guid": "3f810e8c-31f7-497f-8500-77d4492f7202"
            },
            "outputs": [
                {
                    "data": {
                        "text/plain": "FloatProgress(value=0.0, bar_style='info', description='Progress:', layout=Layout(height='25px', width='50%'),…",
                        "application/vnd.jupyter.widget-view+json": {
                            "version_major": 2,
                            "version_minor": 0,
                            "model_id": "19e2d65d48564967b55d82403e7e52c3"
                        }
                    },
                    "metadata": {},
                    "output_type": "display_data"
                },
                {
                    "name": "stdout",
                    "text": "dataset: org.apache.spark.sql.DataFrame = [ra: double, dec: double]\n",
                    "output_type": "stream"
                }
            ],
            "execution_count": 7
        },
        {
            "cell_type": "code",
            "source": [
                "dataset.withColumn(\"htmid\", htmidUDF(dataset(\"ra\"),dataset(\"dec\"))).show"
            ],
            "metadata": {
                "azdata_cell_guid": "32fd8ae4-caca-4fa2-a17e-43bee81874c0"
            },
            "outputs": [
                {
                    "data": {
                        "text/plain": "FloatProgress(value=0.0, bar_style='info', description='Progress:', layout=Layout(height='25px', width='50%'),…",
                        "application/vnd.jupyter.widget-view+json": {
                            "version_major": 2,
                            "version_minor": 0,
                            "model_id": "d67db3ec32dd4f8db9f1b685af5707b3"
                        }
                    },
                    "metadata": {},
                    "output_type": "display_data"
                },
                {
                    "name": "stderr",
                    "text": "<console>:30: error: not found: value htmidUDF\n       dataset.withColumn(\"htmid\", htmidUDF(dataset(\"ra\"),dataset(\"dec\"))).show\n                                   ^\n\n",
                    "output_type": "stream"
                }
            ],
            "execution_count": 8
        },
        {
            "cell_type": "code",
            "source": [
                "val datafile = \"/user/hive/warehouse/source_test_parquet\"\r\n",
                "val old_df = spark.read.parquet(datafile)\r\n",
                "\r\n",
                "old_df.createOrReplaceTempView(\"source\")\r\n",
                "\r\n",
                "val coordsDF = spark.sql(\"select coord_ra, coord_decl from source limit 10\")\r\n",
                "coordsDF.show()\r\n",
                "coordsDF.printSchema()\r\n",
                "\r\n",
                ""
            ],
            "metadata": {
                "azdata_cell_guid": "950502d4-f7c0-48ee-99af-0296aaf20849"
            },
            "outputs": [
                {
                    "data": {
                        "text/plain": "FloatProgress(value=0.0, bar_style='info', description='Progress:', layout=Layout(height='25px', width='50%'),…",
                        "application/vnd.jupyter.widget-view+json": {
                            "version_major": 2,
                            "version_minor": 0,
                            "model_id": "d8cee93bb864416f94a48d07872d5518"
                        }
                    },
                    "metadata": {},
                    "output_type": "display_data"
                },
                {
                    "name": "stdout",
                    "text": "datafile: String = /user/hive/warehouse/source_test_parquet\nold_df: org.apache.spark.sql.DataFrame = [id: bigint, chunkid: int ... 86 more fields]\ncoordsDF: org.apache.spark.sql.DataFrame = [coord_ra: double, coord_decl: double]\n+------------------+------------------+\n|          coord_ra|        coord_decl|\n+------------------+------------------+\n| 339.8799009480773| 34.60159626500321|\n| 339.9007831078834| 34.73830208759114|\n| 339.8350724565858| 34.65489429025321|\n| 339.9006981638171|34.741711297466075|\n|339.85114223901024| 34.60391043664569|\n| 339.9176012834339|34.733835899266445|\n|339.85677629540703|34.596872654451175|\n|340.03999850033125|  34.7732916046863|\n|339.86516714065425|34.606816308674404|\n| 339.9019848293452|34.727662874436874|\n+------------------+------------------+\n\nroot\n |-- coord_ra: double (nullable = true)\n |-- coord_decl: double (nullable = true)\n\n",
                    "output_type": "stream"
                }
            ],
            "execution_count": 9
        },
        {
            "cell_type": "code",
            "source": [
                "val new_df = coordsDF.withColumn(\"htmid\",HTMUtils.htmidUDF(old_df(\"coord_ra\"),old_df(\"coord_decl\"))).withColumn(\"healpixid\", HEALPixUtils.healpixidUDF(old_df(\"coord_ra\"), old_df(\"coord_decl\")))\r\n",
                "\r\n",
                "new_df.show(1)"
            ],
            "metadata": {
                "azdata_cell_guid": "ea25060d-daf3-431c-85f7-5b966661b358",
                "tags": []
            },
            "outputs": [
                {
                    "data": {
                        "text/plain": "FloatProgress(value=0.0, bar_style='info', description='Progress:', layout=Layout(height='25px', width='50%'),…",
                        "application/vnd.jupyter.widget-view+json": {
                            "version_major": 2,
                            "version_minor": 0,
                            "model_id": "fadfa72d7ab54939926ab8d654d50d43"
                        }
                    },
                    "metadata": {},
                    "output_type": "display_data"
                },
                {
                    "name": "stdout",
                    "text": "new_df: org.apache.spark.sql.DataFrame = [coord_ra: double, coord_decl: double ... 2 more fields]\n+------------------+------------------+--------------+-------------+\n|          coord_ra|        coord_decl|         htmid|    healpixid|\n+------------------+------------------+--------------+-------------+\n|347.75390124573187|34.006256639533504|13326611225421|3646029462090|\n+------------------+------------------+--------------+-------------+\nonly showing top 1 row\n\n",
                    "output_type": "stream"
                }
            ],
            "execution_count": 12
        },
        {
            "cell_type": "code",
            "source": [
                "val new_df = coordsDF.withColumn(\"htmid\",HEALPixUtils.healpixidUDF(old_df(\"coord_ra\"),old_df(\"coord_decl\")))\r\n",
                "new_df.show(1)"
            ],
            "metadata": {
                "azdata_cell_guid": "87653190-a1e5-4ec8-ad27-5752fa03677a",
                "tags": [
                    "hide_input"
                ]
            },
            "outputs": [
                {
                    "output_type": "display_data",
                    "data": {
                        "text/plain": "FloatProgress(value=0.0, bar_style='info', description='Progress:', layout=Layout(height='25px', width='50%'),…",
                        "application/vnd.jupyter.widget-view+json": {
                            "version_major": 2,
                            "version_minor": 0,
                            "model_id": "004dd945ee0b40e6b244ad0decfc8c5b"
                        }
                    },
                    "metadata": {}
                },
                {
                    "output_type": "stream",
                    "name": "stderr",
                    "text": "<console>:27: error: not found: value HEALPixUtils\n       val new_df = coordsDF.withColumn(\"htmid\",HEALPixUtils.healpixidUDF(old_df(\"coord_ra\"),old_df(\"coord_decl\")))\n                                                ^\n\n"
                }
            ],
            "execution_count": 11
        }
    ]
}