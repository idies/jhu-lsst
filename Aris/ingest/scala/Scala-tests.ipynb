{
    "metadata": {
        "kernelspec": {
            "name": "sparkkernel",
            "display_name": "Spark | Scala"
        },
        "language_info": {
            "name": "scala",
            "mimetype": "text/x-scala",
            "codemirror_mode": "text/x-scala",
            "pygments_lexer": "scala"
        }
    },
    "nbformat_minor": 2,
    "nbformat": 4,
    "cells": [
        {
            "cell_type": "code",
            "source": [
                "val textFile = spark.read.textFile(\"/LSST/csv/test/Object/Object_9991.csv\")\r\n",
                "\n",
                ""
            ],
            "metadata": {
                "azdata_cell_guid": "cecd76fd-4de4-4dcf-a22c-77b372039d91"
            },
            "outputs": [
                {
                    "output_type": "stream",
                    "name": "stderr",
                    "text": "An error was encountered:\nInvalid status code '404' from https://172.23.25.58:30443/gateway/default/livy/v1/sessions/13 with error payload: {\"msg\":\"Session '13' not found.\"}\n"
                }
            ],
            "execution_count": 11
        },
        {
            "cell_type": "code",
            "source": [
                "textFile.first()"
            ],
            "metadata": {
                "azdata_cell_guid": "d3e7143b-7959-4b6b-9eea-dd5fdf50b4be"
            },
            "outputs": [
                {
                    "output_type": "stream",
                    "name": "stdout",
                    "text": "res1: String = 3634946786723494,339.39009680889126,34.7375448788293,0.006240857282273909,0.005576442146889008,0.00000000003764874878315182,9991,690,1.4708336415357668e-29,1.0527318920584657e-30,1.0908415389444842e-29,2.2185666853452816e-30,1.4315696328977766e-29,1.023993640793746e-30,1.303670351322021e-29,1.3125411957369524e-30,0.8917910583200048,0.003474134089955624,1175.8650621976717,356.34319995667687,,,,2.438746622097079,2.692685829483301,0.176182082542879,0.24051957116637693,0.13340970687134118,0.2932165017677641,,,,0,0,0,0,1,0,0,0,0,0,0,0,0,0,1.4708336415357668e-29,1.0527318920584657e-30,1.0908415389444842e-29,2.2185666853452816e-30,1.4315696328977766e-29,1.023993640793746e-30,1.303670351322021e-29,1.3125411957369524e-30,0.8917910583200048,0.003474134089955624,1175.8650621976717,3..."
                }
            ],
            "execution_count": 3
        },
        {
            "cell_type": "code",
            "source": [
                "textFile.head(3)"
            ],
            "metadata": {
                "azdata_cell_guid": "b62a965a-c2ad-43d3-8a9a-9fdb7d494854"
            },
            "outputs": [
                {
                    "output_type": "stream",
                    "name": "stdout",
                    "text": "res4: Array[String] = Array(3634946786723494,339.39009680889126,34.7375448788293,0.006240857282273909,0.005576442146889008,0.00000000003764874878315182,9991,690,1.4708336415357668e-29,1.0527318920584657e-30,1.0908415389444842e-29,2.2185666853452816e-30,1.4315696328977766e-29,1.023993640793746e-30,1.303670351322021e-29,1.3125411957369524e-30,0.8917910583200048,0.003474134089955624,1175.8650621976717,356.34319995667687,,,,2.438746622097079,2.692685829483301,0.176182082542879,0.24051957116637693,0.13340970687134118,0.2932165017677641,,,,0,0,0,0,1,0,0,0,0,0,0,0,0,0,1.4708336415357668e-29,1.0527318920584657e-30,1.0908415389444842e-29,2.2185666853452816e-30,1.4315696328977766e-29,1.023993640793746e-30,1.303670351322021e-29,1.3125411957369524e-30,0.8917910583200048,0.003474134089955624,1175.86..."
                }
            ],
            "execution_count": 7
        },
        {
            "cell_type": "code",
            "source": [
                "\n",
                "spark\n",
                ""
            ],
            "metadata": {
                "azdata_cell_guid": "08ecabb4-1d35-4fb6-939d-74de2fa55210"
            },
            "outputs": [
                {
                    "name": "stdout",
                    "text": "Starting Spark application\n",
                    "output_type": "stream"
                },
                {
                    "data": {
                        "text/plain": "<IPython.core.display.HTML object>",
                        "text/html": "<table>\n<tr><th>ID</th><th>YARN Application ID</th><th>Kind</th><th>State</th><th>Spark UI</th><th>Driver log</th><th>Current session?</th></tr><tr><td>20</td><td>application_1568670927228_0023</td><td>spark</td><td>idle</td><td><a target=\"_blank\" href=\"https://172.23.25.58:30443/gateway/default/yarn/proxy/application_1568670927228_0023/\">Link</a></td><td><a target=\"_blank\" href=\"https://172.23.25.58:30443/gateway/default/yarn/container/container_1568670927228_0023_01_000001/root\">Link</a></td><td>✔</td></tr></table>"
                    },
                    "metadata": {},
                    "output_type": "display_data"
                },
                {
                    "name": "stdout",
                    "text": "SparkSession available as 'spark'.\n",
                    "output_type": "stream"
                },
                {
                    "name": "stdout",
                    "text": "res1: org.apache.spark.sql.SparkSession = org.apache.spark.sql.SparkSession@33bb13fb\n",
                    "output_type": "stream"
                }
            ],
            "execution_count": 3
        },
        {
            "cell_type": "code",
            "source": [
                "var df = spark.read.format("csv").option("header", "false").load(\"/LSST/csv/Object/Object_0.csv\")"
            ],
            "metadata": {
                "azdata_cell_guid": "06b8578f-4f9e-4dfe-9854-73c3cf86f426"
            },
            "outputs": [
{
    "name": "stdout",
    "text": "df: org.apache.spark.sql.DataFrame = [_c0: string, _c1: string ... 234 more fields]\n",
    "output_type": "stream"
}
],
            "execution_count": 9
        },
        {
            "cell_type": "code",
            "source": [
                "spark.sparkContext.getConf().driver"
            ],
            "metadata": {
                "azdata_cell_guid": "882bfbce-343a-4aad-aede-cc73dcd05ed4"
            },
            "outputs": [
{
    "name": "stderr",
    "text": "<console>:24: error: org.apache.spark.SparkConf does not take parameters\n       spark.sparkContext.getConf().driver\n                                 ^\n\n",
    "output_type": "stream"
}
],
            "execution_count": 12
        }
    ]
}