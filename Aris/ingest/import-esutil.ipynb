{
    "metadata": {
        "kernelspec": {
            "name": "pysparkkernel",
            "display_name": "PySpark"
        },
        "language_info": {
            "name": "pyspark",
            "mimetype": "text/x-python",
            "codemirror_mode": {
                "name": "python",
                "version": 2
            },
            "pygments_lexer": "python2"
        }
    },
    "nbformat_minor": 2,
    "nbformat": 4,
    "cells": [
        {
            "cell_type": "code",
            "source": [
                " \r\n",
                "\r\n",
                "import subprocess\r\n",
                "\r\n",
                " \r\n",
                "\r\n",
                "\r\n",
                "stdout = subprocess.check_output(\r\n",
                "\r\n",
                "    \"pip3 install esutil\",\r\n",
                "    #gives error in ADS Insiders.  Might work in ADS RC1 build,\r\n",
                "    stderr=subprocess.STDOUT, shell=True).decode(\"utf-8\")\r\n",
                "\r\n",
                "print(stdout)"
            ],
            "metadata": {
                "azdata_cell_guid": "1282c1d5-7484-4823-83cb-a41c38be2718"
            },
            "outputs": [
                {
                    "output_type": "stream",
                    "name": "stdout",
                    "text": "Starting Spark application\n"
                },
                {
                    "output_type": "display_data",
                    "data": {
                        "text/plain": "<IPython.core.display.HTML object>",
                        "text/html": "<table>\n<tr><th>ID</th><th>YARN Application ID</th><th>Kind</th><th>State</th><th>Spark UI</th><th>Driver log</th><th>Current session?</th></tr><tr><td>5</td><td>application_1568670927228_0007</td><td>pyspark</td><td>idle</td><td><a target=\"_blank\" href=\"https://172.23.25.58:30443/gateway/default/yarn/proxy/application_1568670927228_0007/\">Link</a></td><td><a target=\"_blank\" href=\"https://172.23.25.58:30443/gateway/default/yarn/container/container_1568670927228_0007_01_000001/root\">Link</a></td><td>✔</td></tr></table>"
                    },
                    "metadata": {}
                },
                {
                    "output_type": "display_data",
                    "data": {
                        "text/plain": "FloatProgress(value=0.0, bar_style='info', description='Progress:', layout=Layout(height='25px', width='50%'),…",
                        "application/vnd.jupyter.widget-view+json": {
                            "version_major": 2,
                            "version_minor": 0,
                            "model_id": "90f53fd005f943e8b7acc5a52fbfdb79"
                        }
                    },
                    "metadata": {}
                },
                {
                    "output_type": "stream",
                    "name": "stdout",
                    "text": "SparkSession available as 'spark'.\n"
                },
                {
                    "output_type": "display_data",
                    "data": {
                        "text/plain": "FloatProgress(value=0.0, bar_style='info', description='Progress:', layout=Layout(height='25px', width='50%'),…",
                        "application/vnd.jupyter.widget-view+json": {
                            "version_major": 2,
                            "version_minor": 0,
                            "model_id": "44270a21b6134326a250c0ac351e0583"
                        }
                    },
                    "metadata": {}
                },
                {
                    "output_type": "stream",
                    "name": "stderr",
                    "text": "Command 'pip install esutil' returned non-zero exit status 1\nTraceback (most recent call last):\n  File \"/usr/lib/python2.7/subprocess.py\", line 574, in check_output\n    raise CalledProcessError(retcode, cmd, output=output)\nCalledProcessError: Command 'pip install esutil' returned non-zero exit status 1\n\n"
                }
            ],
            "execution_count": 2
        },
        {
            "cell_type": "code",
            "source": [
                "%tb"
            ],
            "metadata": {
                "azdata_cell_guid": "e4f80b85-5f67-4725-a4af-6672bcfdf88a"
            },
            "outputs": [
                {
                    "output_type": "error",
                    "ename": "KeyError",
                    "evalue": "'method'",
                    "traceback": [
                        "\u001b[1;31m---------------------------------------------------------------------------\u001b[0m",
                        "\u001b[1;31mKeyError\u001b[0m                                  Traceback (most recent call last)",
                        "\u001b[1;32mc:\\users\\swerner\\azure-python-new3\\0.0.1\\lib\\site-packages\\ipywidgets\\widgets\\widget.py\u001b[0m in \u001b[0;36m_handle_msg\u001b[1;34m(self, msg)\u001b[0m\n\u001b[0;32m    667\u001b[0m         \u001b[1;34m\"\"\"Called when a msg is received from the front-end\"\"\"\u001b[0m\u001b[1;33m\u001b[0m\u001b[0m\n\u001b[0;32m    668\u001b[0m         \u001b[0mdata\u001b[0m \u001b[1;33m=\u001b[0m \u001b[0mmsg\u001b[0m\u001b[1;33m[\u001b[0m\u001b[1;34m'content'\u001b[0m\u001b[1;33m]\u001b[0m\u001b[1;33m[\u001b[0m\u001b[1;34m'data'\u001b[0m\u001b[1;33m]\u001b[0m\u001b[1;33m\u001b[0m\u001b[0m\n\u001b[1;32m--> 669\u001b[1;33m         \u001b[0mmethod\u001b[0m \u001b[1;33m=\u001b[0m \u001b[0mdata\u001b[0m\u001b[1;33m[\u001b[0m\u001b[1;34m'method'\u001b[0m\u001b[1;33m]\u001b[0m\u001b[1;33m\u001b[0m\u001b[0m\n\u001b[0m\u001b[0;32m    670\u001b[0m \u001b[1;33m\u001b[0m\u001b[0m\n\u001b[0;32m    671\u001b[0m         \u001b[1;32mif\u001b[0m \u001b[0mmethod\u001b[0m \u001b[1;33m==\u001b[0m \u001b[1;34m'update'\u001b[0m\u001b[1;33m:\u001b[0m\u001b[1;33m\u001b[0m\u001b[0m\n",
                        "\u001b[1;31mKeyError\u001b[0m: 'method'"
                    ]
                }
            ],
            "execution_count": 3
        }
    ]
}