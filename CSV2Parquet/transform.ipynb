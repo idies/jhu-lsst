{
 "cells": [
  {
   "cell_type": "code",
   "execution_count": 1,
   "metadata": {},
   "outputs": [],
   "source": [
    "import os\n",
    "import sys\n",
    "import pandas\n",
    "# requires 'pip install pyarrow'\n",
    "import pyarrow\n",
    "import pyarrow.parquet as pq"
   ]
  },
  {
   "cell_type": "code",
   "execution_count": 2,
   "metadata": {},
   "outputs": [
    {
     "name": "stdout",
     "output_type": "stream",
     "text": [
      "['id', 'chunk_id', 'coord_ra', 'coord_decl', 'coord_htmId20', 'parent', 'flags_badcentroid', 'centroid_sdss_x', 'centroid_sdss_y', 'centroid_sdss_xVar', 'centroid_sdss_xyCov', 'centroid_sdss_yVar', 'centroid_sdss_flags', 'flags_pixel_edge', 'flags_pixel_interpolated_any', 'flags_pixel_interpolated_center', 'flags_pixel_saturated_any', 'flags_pixel_saturated_center', 'flags_pixel_cr_any', 'flags_pixel_cr_center', 'centroid_naive_x', 'centroid_naive_y', 'centroid_naive_xVar', 'centroid_naive_xyCov', 'centroid_naive_yVar', 'centroid_naive_flags', 'centroid_gaussian_x', 'centroid_gaussian_y', 'centroid_gaussian_xVar', 'centroid_gaussian_xyCov', 'centroid_gaussian_yVar', 'centroid_gaussian_flags', 'shape_sdss_Ixx', 'shape_sdss_Iyy', 'shape_sdss_Ixy', 'shape_sdss_IxxVar', 'shape_sdss_IxxIyyCov', 'shape_sdss_IxxIxyCov', 'shape_sdss_IyyVar', 'shape_sdss_IyyIxyCov', 'shape_sdss_IxyVar', 'shape_sdss_flags', 'shape_sdss_centroid_x', 'shape_sdss_centroid_y', 'shape_sdss_centroid_xVar', 'shape_sdss_centroid_xyCov', 'shape_sdss_centroid_yVar', 'shape_sdss_centroid_flags', 'shape_sdss_flags_unweightedbad', 'shape_sdss_flags_unweighted', 'shape_sdss_flags_shift', 'shape_sdss_flags_maxiter', 'flux_psf', 'flux_psf_err', 'flux_psf_flags', 'flux_psf_psffactor', 'flux_psf_flags_psffactor', 'flux_psf_flags_badcorr', 'flux_naive', 'flux_naive_err', 'flux_naive_flags', 'flux_gaussian', 'flux_gaussian_err', 'flux_gaussian_flags', 'flux_gaussian_psffactor', 'flux_gaussian_flags_psffactor', 'flux_gaussian_flags_badcorr', 'flux_sinc', 'flux_sinc_err', 'flux_sinc_flags', 'centroid_record_x', 'centroid_record_y', 'classification_extendedness', 'aperturecorrection', 'aperturecorrection_err', 'refFlux', 'refFlux_err', 'objectId', 'coord_raVar', 'coord_radeclCov', 'coord_declVar', 'exposure_id', 'exposure_filter_id', 'exposure_time', 'exposure_time_mid', 'cluster_id', 'cluster_coord_ra', 'cluster_coord_decl']\n"
     ]
    }
   ],
   "source": [
    "s=\"id|chunk_id,''),coalesce(coord_ra,''),coalesce(coord_decl,''),coalesce(coord_htmId20,''),coalesce(parent,''),cast(flags_badcentroid as int),coalesce(centroid_sdss_x,''),coalesce(centroid_sdss_y,''),coalesce(centroid_sdss_xVar,''),coalesce(centroid_sdss_xyCov,''),coalesce(centroid_sdss_yVar,''),cast(centroid_sdss_flags as int),cast(flags_pixel_edge as int),cast(flags_pixel_interpolated_any as int),cast(flags_pixel_interpolated_center as int),cast(flags_pixel_saturated_any as int),cast(flags_pixel_saturated_center as int),cast(flags_pixel_cr_any as int),cast(flags_pixel_cr_center as int),coalesce(centroid_naive_x,''),coalesce(centroid_naive_y,''),coalesce(centroid_naive_xVar,''),coalesce(centroid_naive_xyCov,''),coalesce(centroid_naive_yVar,''),cast(centroid_naive_flags as int),coalesce(centroid_gaussian_x,''),coalesce(centroid_gaussian_y,''),coalesce(centroid_gaussian_xVar,''),coalesce(centroid_gaussian_xyCov,''),coalesce(centroid_gaussian_yVar,''),cast(centroid_gaussian_flags as int),coalesce(shape_sdss_Ixx,''),coalesce(shape_sdss_Iyy,''),coalesce(shape_sdss_Ixy,''),coalesce(shape_sdss_IxxVar,''),coalesce(shape_sdss_IxxIyyCov,''),coalesce(shape_sdss_IxxIxyCov,''),coalesce(shape_sdss_IyyVar,''),coalesce(shape_sdss_IyyIxyCov,''),coalesce(shape_sdss_IxyVar,''),cast(shape_sdss_flags as int),coalesce(shape_sdss_centroid_x,''),coalesce(shape_sdss_centroid_y,''),coalesce(shape_sdss_centroid_xVar,''),coalesce(shape_sdss_centroid_xyCov,''),coalesce(shape_sdss_centroid_yVar,''),cast(shape_sdss_centroid_flags as int),cast(shape_sdss_flags_unweightedbad as int),cast(shape_sdss_flags_unweighted as int),cast(shape_sdss_flags_shift as int),cast(shape_sdss_flags_maxiter as int),coalesce(flux_psf,''),coalesce(flux_psf_err,''),cast(flux_psf_flags as int),coalesce(flux_psf_psffactor,''),cast(flux_psf_flags_psffactor as int),cast(flux_psf_flags_badcorr as int),coalesce(flux_naive,''),coalesce(flux_naive_err,''),cast(flux_naive_flags as int),coalesce(flux_gaussian,''),coalesce(flux_gaussian_err,''),cast(flux_gaussian_flags as int),coalesce(flux_gaussian_psffactor,''),cast(flux_gaussian_flags_psffactor as int),cast(flux_gaussian_flags_badcorr as int),coalesce(flux_sinc,''),coalesce(flux_sinc_err,''),cast(flux_sinc_flags as int),coalesce(centroid_record_x,''),coalesce(centroid_record_y,''),coalesce(classification_extendedness,''),coalesce(aperturecorrection,''),coalesce(aperturecorrection_err,''),coalesce(refFlux,''),coalesce(refFlux_err,''),coalesce(objectId,''),coalesce(coord_raVar,''),coalesce(coord_radeclCov,''),coalesce(coord_declVar,''),coalesce(exposure_id,''),coalesce(exposure_filter_id,''),coalesce(exposure_time,''),coalesce(exposure_time_mid,''),coalesce(cluster_id,''),coalesce(cluster_coord_ra,''),coalesce(cluster_coord_decl\"\n",
    "s=s.replace(\",coalesce(\",\"|\").replace(\",cast(\",\"|\").replace(\" as int)\",\"\").replace(\"\\''\",\"\").replace(\",)\",\"\")\n",
    "column_names=s.split(\"|\")\n",
    "print(column_names)"
   ]
  },
  {
   "cell_type": "code",
   "execution_count": 3,
   "metadata": {},
   "outputs": [],
   "source": [
    "def datatype(dt):\n",
    "    if dt == 'bigint':\n",
    "        return 'Int64'\n",
    "    elif dt == 'real':\n",
    "        return 'float32'\n",
    "    elif dt == 'float':\n",
    "        return 'float64'\n",
    "    elif dt == 'int':\n",
    "        return 'Int32'\n",
    "    elif dt=='bit':\n",
    "        return 'bool'\n",
    "    else:\n",
    "        return dt\n",
    "    \n",
    "def source_schema(df,sch):\n",
    "    for column in df.columns:\n",
    "        if not(column in sch.keys()):\n",
    "            print('cannot find column ',column)\n",
    "            continue\n",
    "        dt=datatype(sch[column])\n",
    "        df[[column]]=df[[column]].astype(dt)\n",
    "    return df"
   ]
  },
  {
   "cell_type": "code",
   "execution_count": 4,
   "metadata": {},
   "outputs": [],
   "source": [
    "sch=pandas.read_csv('Source_schema.csv')\n",
    "sch.set_index('column_name',inplace=True)\n",
    "sch=sch.to_dict()['data_type']\n",
    "sch['chunk_id']=sch['chunkID']\n"
   ]
  },
  {
   "cell_type": "code",
   "execution_count": 5,
   "metadata": {},
   "outputs": [],
   "source": [
    "df=pandas.DataFrame(columns=column_names)\n",
    "#df=source_schema(df,sch)"
   ]
  },
  {
   "cell_type": "code",
   "execution_count": 6,
   "metadata": {},
   "outputs": [
    {
     "data": {
      "text/plain": [
       "'0.24.0'"
      ]
     },
     "execution_count": 6,
     "metadata": {},
     "output_type": "execute_result"
    }
   ],
   "source": [
    "pandas.__version__"
   ]
  },
  {
   "cell_type": "code",
   "execution_count": 7,
   "metadata": {},
   "outputs": [],
   "source": [
    "fn=f='/home/idies/workspace/Temporary/gerard/scratch/LSST/csv/Source_10030_1000.csv'\n",
    "df=pandas.read_csv(fn,names=column_names)\n"
   ]
  },
  {
   "cell_type": "code",
   "execution_count": 8,
   "metadata": {},
   "outputs": [
    {
     "data": {
      "text/plain": [
       "id                                   Int64\n",
       "chunk_id                             Int32\n",
       "coord_ra                           float32\n",
       "coord_decl                         float32\n",
       "coord_htmId20                        Int64\n",
       "parent                               Int64\n",
       "flags_badcentroid                     bool\n",
       "centroid_sdss_x                    float32\n",
       "centroid_sdss_y                    float32\n",
       "centroid_sdss_xVar                 float32\n",
       "centroid_sdss_xyCov                float32\n",
       "centroid_sdss_yVar                 float32\n",
       "centroid_sdss_flags                   bool\n",
       "flags_pixel_edge                      bool\n",
       "flags_pixel_interpolated_any          bool\n",
       "flags_pixel_interpolated_center       bool\n",
       "flags_pixel_saturated_any             bool\n",
       "flags_pixel_saturated_center          bool\n",
       "flags_pixel_cr_any                    bool\n",
       "flags_pixel_cr_center                 bool\n",
       "centroid_naive_x                   float32\n",
       "centroid_naive_y                   float32\n",
       "centroid_naive_xVar                float32\n",
       "centroid_naive_xyCov               float32\n",
       "centroid_naive_yVar                float32\n",
       "centroid_naive_flags                  bool\n",
       "centroid_gaussian_x                float32\n",
       "centroid_gaussian_y                float32\n",
       "centroid_gaussian_xVar             float32\n",
       "centroid_gaussian_xyCov            float32\n",
       "                                    ...   \n",
       "flux_naive                         float32\n",
       "flux_naive_err                     float32\n",
       "flux_naive_flags                      bool\n",
       "flux_gaussian                      float32\n",
       "flux_gaussian_err                  float32\n",
       "flux_gaussian_flags                   bool\n",
       "flux_gaussian_psffactor            float32\n",
       "flux_gaussian_flags_psffactor         bool\n",
       "flux_gaussian_flags_badcorr           bool\n",
       "flux_sinc                          float32\n",
       "flux_sinc_err                      float32\n",
       "flux_sinc_flags                       bool\n",
       "centroid_record_x                  float32\n",
       "centroid_record_y                  float32\n",
       "classification_extendedness        float32\n",
       "aperturecorrection                 float32\n",
       "aperturecorrection_err             float32\n",
       "refFlux                            float32\n",
       "refFlux_err                        float32\n",
       "objectId                             Int64\n",
       "coord_raVar                        float32\n",
       "coord_radeclCov                    float32\n",
       "coord_declVar                      float32\n",
       "exposure_id                          Int64\n",
       "exposure_filter_id                   Int32\n",
       "exposure_time                      float32\n",
       "exposure_time_mid                  float32\n",
       "cluster_id                           Int64\n",
       "cluster_coord_ra                   float32\n",
       "cluster_coord_decl                 float32\n",
       "Length: 88, dtype: object"
      ]
     },
     "execution_count": 8,
     "metadata": {},
     "output_type": "execute_result"
    }
   ],
   "source": [
    "df=source_schema(df,sch)\n",
    "df.dtypes"
   ]
  },
  {
   "cell_type": "code",
   "execution_count": 17,
   "metadata": {},
   "outputs": [
    {
     "ename": "ValueError",
     "evalue": "cannot convert float NaN to integer",
     "output_type": "error",
     "traceback": [
      "\u001b[0;31m\u001b[0m",
      "\u001b[0;31mValueError\u001b[0mTraceback (most recent call last)",
      "\u001b[0;32m<ipython-input-17-e1fa5df5d0bc>\u001b[0m in \u001b[0;36m<module>\u001b[0;34m()\u001b[0m\n\u001b[1;32m      1\u001b[0m \u001b[0mv\u001b[0m\u001b[0;34m=\u001b[0m\u001b[0mdf\u001b[0m\u001b[0;34m[\u001b[0m\u001b[0;34m'parent'\u001b[0m\u001b[0;34m]\u001b[0m\u001b[0;34m.\u001b[0m\u001b[0mvalues\u001b[0m\u001b[0;34m\u001b[0m\u001b[0m\n\u001b[1;32m      2\u001b[0m \u001b[0mtype\u001b[0m\u001b[0;34m(\u001b[0m\u001b[0mv\u001b[0m\u001b[0;34m)\u001b[0m\u001b[0;34m\u001b[0m\u001b[0m\n\u001b[0;32m----> 3\u001b[0;31m \u001b[0mv\u001b[0m\u001b[0;34m.\u001b[0m\u001b[0mastype\u001b[0m\u001b[0;34m(\u001b[0m\u001b[0;34m'int64'\u001b[0m\u001b[0;34m)\u001b[0m\u001b[0;34m\u001b[0m\u001b[0m\n\u001b[0m",
      "\u001b[0;32m~/miniconda3/lib/python3.6/site-packages/pandas/core/arrays/integer.py\u001b[0m in \u001b[0;36mastype\u001b[0;34m(self, dtype, copy)\u001b[0m\n\u001b[1;32m    450\u001b[0m         \u001b[0;31m# coerce\u001b[0m\u001b[0;34m\u001b[0m\u001b[0;34m\u001b[0m\u001b[0m\n\u001b[1;32m    451\u001b[0m         \u001b[0mdata\u001b[0m \u001b[0;34m=\u001b[0m \u001b[0mself\u001b[0m\u001b[0;34m.\u001b[0m\u001b[0m_coerce_to_ndarray\u001b[0m\u001b[0;34m(\u001b[0m\u001b[0;34m)\u001b[0m\u001b[0;34m\u001b[0m\u001b[0m\n\u001b[0;32m--> 452\u001b[0;31m         \u001b[0;32mreturn\u001b[0m \u001b[0mastype_nansafe\u001b[0m\u001b[0;34m(\u001b[0m\u001b[0mdata\u001b[0m\u001b[0;34m,\u001b[0m \u001b[0mdtype\u001b[0m\u001b[0;34m,\u001b[0m \u001b[0mcopy\u001b[0m\u001b[0;34m=\u001b[0m\u001b[0;32mNone\u001b[0m\u001b[0;34m)\u001b[0m\u001b[0;34m\u001b[0m\u001b[0m\n\u001b[0m\u001b[1;32m    453\u001b[0m \u001b[0;34m\u001b[0m\u001b[0m\n\u001b[1;32m    454\u001b[0m     \u001b[0;34m@\u001b[0m\u001b[0mproperty\u001b[0m\u001b[0;34m\u001b[0m\u001b[0m\n",
      "\u001b[0;32m~/miniconda3/lib/python3.6/site-packages/pandas/core/dtypes/cast.py\u001b[0m in \u001b[0;36mastype_nansafe\u001b[0;34m(arr, dtype, copy, skipna)\u001b[0m\n\u001b[1;32m    681\u001b[0m         \u001b[0;31m# work around NumPy brokenness, #1987\u001b[0m\u001b[0;34m\u001b[0m\u001b[0;34m\u001b[0m\u001b[0m\n\u001b[1;32m    682\u001b[0m         \u001b[0;32mif\u001b[0m \u001b[0mnp\u001b[0m\u001b[0;34m.\u001b[0m\u001b[0missubdtype\u001b[0m\u001b[0;34m(\u001b[0m\u001b[0mdtype\u001b[0m\u001b[0;34m.\u001b[0m\u001b[0mtype\u001b[0m\u001b[0;34m,\u001b[0m \u001b[0mnp\u001b[0m\u001b[0;34m.\u001b[0m\u001b[0minteger\u001b[0m\u001b[0;34m)\u001b[0m\u001b[0;34m:\u001b[0m\u001b[0;34m\u001b[0m\u001b[0m\n\u001b[0;32m--> 683\u001b[0;31m             \u001b[0;32mreturn\u001b[0m \u001b[0mlib\u001b[0m\u001b[0;34m.\u001b[0m\u001b[0mastype_intsafe\u001b[0m\u001b[0;34m(\u001b[0m\u001b[0marr\u001b[0m\u001b[0;34m.\u001b[0m\u001b[0mravel\u001b[0m\u001b[0;34m(\u001b[0m\u001b[0;34m)\u001b[0m\u001b[0;34m,\u001b[0m \u001b[0mdtype\u001b[0m\u001b[0;34m)\u001b[0m\u001b[0;34m.\u001b[0m\u001b[0mreshape\u001b[0m\u001b[0;34m(\u001b[0m\u001b[0marr\u001b[0m\u001b[0;34m.\u001b[0m\u001b[0mshape\u001b[0m\u001b[0;34m)\u001b[0m\u001b[0;34m\u001b[0m\u001b[0m\n\u001b[0m\u001b[1;32m    684\u001b[0m \u001b[0;34m\u001b[0m\u001b[0m\n\u001b[1;32m    685\u001b[0m         \u001b[0;31m# if we have a datetime/timedelta array of objects\u001b[0m\u001b[0;34m\u001b[0m\u001b[0;34m\u001b[0m\u001b[0m\n",
      "\u001b[0;32mpandas/_libs/lib.pyx\u001b[0m in \u001b[0;36mpandas._libs.lib.astype_intsafe\u001b[0;34m()\u001b[0m\n",
      "\u001b[0;31mValueError\u001b[0m: cannot convert float NaN to integer"
     ]
    }
   ],
   "source": [
    "v=df['parent'].values\n",
    "type(v)\n",
    "v.astype('int64')\n"
   ]
  },
  {
   "cell_type": "code",
   "execution_count": 9,
   "metadata": {},
   "outputs": [
    {
     "ename": "ArrowTypeError",
     "evalue": "('Did not pass numpy.dtype object', 'Conversion failed for column id with type Int64')",
     "output_type": "error",
     "traceback": [
      "\u001b[0;31m\u001b[0m",
      "\u001b[0;31mArrowTypeError\u001b[0mTraceback (most recent call last)",
      "\u001b[0;32m<ipython-input-9-9e85c7966944>\u001b[0m in \u001b[0;36m<module>\u001b[0;34m()\u001b[0m\n\u001b[0;32m----> 1\u001b[0;31m \u001b[0mt\u001b[0m\u001b[0;34m=\u001b[0m\u001b[0mpyarrow\u001b[0m\u001b[0;34m.\u001b[0m\u001b[0mTable\u001b[0m\u001b[0;34m.\u001b[0m\u001b[0mfrom_pandas\u001b[0m\u001b[0;34m(\u001b[0m\u001b[0mdf\u001b[0m\u001b[0;34m,\u001b[0m\u001b[0mpreserve_index\u001b[0m\u001b[0;34m=\u001b[0m\u001b[0;32mFalse\u001b[0m\u001b[0;34m)\u001b[0m\u001b[0;34m\u001b[0m\u001b[0m\n\u001b[0m\u001b[1;32m      2\u001b[0m \u001b[0mpq\u001b[0m\u001b[0;34m.\u001b[0m\u001b[0mwrite_table\u001b[0m\u001b[0;34m(\u001b[0m\u001b[0mt\u001b[0m\u001b[0;34m,\u001b[0m\u001b[0mf\u001b[0m\u001b[0;34m=\u001b[0m\u001b[0;34m'/home/idies/workspace/Temporary/gerard/scratch/LSST/parquet/Source_10030_1000.parquet'\u001b[0m\u001b[0;34m)\u001b[0m\u001b[0;34m\u001b[0m\u001b[0m\n",
      "\u001b[0;32m~/miniconda3/lib/python3.6/site-packages/pyarrow/table.pxi\u001b[0m in \u001b[0;36mpyarrow.lib.Table.from_pandas\u001b[0;34m()\u001b[0m\n",
      "\u001b[0;32m~/miniconda3/lib/python3.6/site-packages/pyarrow/pandas_compat.py\u001b[0m in \u001b[0;36mdataframe_to_arrays\u001b[0;34m(df, schema, preserve_index, nthreads, columns, safe)\u001b[0m\n\u001b[1;32m    429\u001b[0m         arrays = [convert_column(c, t)\n\u001b[1;32m    430\u001b[0m                   for c, t in zip(columns_to_convert,\n\u001b[0;32m--> 431\u001b[0;31m                                   convert_types)]\n\u001b[0m\u001b[1;32m    432\u001b[0m     \u001b[0;32melse\u001b[0m\u001b[0;34m:\u001b[0m\u001b[0;34m\u001b[0m\u001b[0m\n\u001b[1;32m    433\u001b[0m         \u001b[0;32mfrom\u001b[0m \u001b[0mconcurrent\u001b[0m \u001b[0;32mimport\u001b[0m \u001b[0mfutures\u001b[0m\u001b[0;34m\u001b[0m\u001b[0m\n",
      "\u001b[0;32m~/miniconda3/lib/python3.6/site-packages/pyarrow/pandas_compat.py\u001b[0m in \u001b[0;36m<listcomp>\u001b[0;34m(.0)\u001b[0m\n\u001b[1;32m    428\u001b[0m     \u001b[0;32mif\u001b[0m \u001b[0mnthreads\u001b[0m \u001b[0;34m==\u001b[0m \u001b[0;36m1\u001b[0m\u001b[0;34m:\u001b[0m\u001b[0;34m\u001b[0m\u001b[0m\n\u001b[1;32m    429\u001b[0m         arrays = [convert_column(c, t)\n\u001b[0;32m--> 430\u001b[0;31m                   for c, t in zip(columns_to_convert,\n\u001b[0m\u001b[1;32m    431\u001b[0m                                   convert_types)]\n\u001b[1;32m    432\u001b[0m     \u001b[0;32melse\u001b[0m\u001b[0;34m:\u001b[0m\u001b[0;34m\u001b[0m\u001b[0m\n",
      "\u001b[0;32m~/miniconda3/lib/python3.6/site-packages/pyarrow/pandas_compat.py\u001b[0m in \u001b[0;36mconvert_column\u001b[0;34m(col, ty)\u001b[0m\n\u001b[1;32m    424\u001b[0m             e.args += (\"Conversion failed for column {0!s} with type {1!s}\"\n\u001b[1;32m    425\u001b[0m                        .format(col.name, col.dtype),)\n\u001b[0;32m--> 426\u001b[0;31m             \u001b[0;32mraise\u001b[0m \u001b[0me\u001b[0m\u001b[0;34m\u001b[0m\u001b[0m\n\u001b[0m\u001b[1;32m    427\u001b[0m \u001b[0;34m\u001b[0m\u001b[0m\n\u001b[1;32m    428\u001b[0m     \u001b[0;32mif\u001b[0m \u001b[0mnthreads\u001b[0m \u001b[0;34m==\u001b[0m \u001b[0;36m1\u001b[0m\u001b[0;34m:\u001b[0m\u001b[0;34m\u001b[0m\u001b[0m\n",
      "\u001b[0;32m~/miniconda3/lib/python3.6/site-packages/pyarrow/pandas_compat.py\u001b[0m in \u001b[0;36mconvert_column\u001b[0;34m(col, ty)\u001b[0m\n\u001b[1;32m    418\u001b[0m     \u001b[0;32mdef\u001b[0m \u001b[0mconvert_column\u001b[0m\u001b[0;34m(\u001b[0m\u001b[0mcol\u001b[0m\u001b[0;34m,\u001b[0m \u001b[0mty\u001b[0m\u001b[0;34m)\u001b[0m\u001b[0;34m:\u001b[0m\u001b[0;34m\u001b[0m\u001b[0m\n\u001b[1;32m    419\u001b[0m         \u001b[0;32mtry\u001b[0m\u001b[0;34m:\u001b[0m\u001b[0;34m\u001b[0m\u001b[0m\n\u001b[0;32m--> 420\u001b[0;31m             \u001b[0;32mreturn\u001b[0m \u001b[0mpa\u001b[0m\u001b[0;34m.\u001b[0m\u001b[0marray\u001b[0m\u001b[0;34m(\u001b[0m\u001b[0mcol\u001b[0m\u001b[0;34m,\u001b[0m \u001b[0mtype\u001b[0m\u001b[0;34m=\u001b[0m\u001b[0mty\u001b[0m\u001b[0;34m,\u001b[0m \u001b[0mfrom_pandas\u001b[0m\u001b[0;34m=\u001b[0m\u001b[0;32mTrue\u001b[0m\u001b[0;34m,\u001b[0m \u001b[0msafe\u001b[0m\u001b[0;34m=\u001b[0m\u001b[0msafe\u001b[0m\u001b[0;34m)\u001b[0m\u001b[0;34m\u001b[0m\u001b[0m\n\u001b[0m\u001b[1;32m    421\u001b[0m         except (pa.ArrowInvalid,\n\u001b[1;32m    422\u001b[0m                 \u001b[0mpa\u001b[0m\u001b[0;34m.\u001b[0m\u001b[0mArrowNotImplementedError\u001b[0m\u001b[0;34m,\u001b[0m\u001b[0;34m\u001b[0m\u001b[0m\n",
      "\u001b[0;32m~/miniconda3/lib/python3.6/site-packages/pyarrow/array.pxi\u001b[0m in \u001b[0;36mpyarrow.lib.array\u001b[0;34m()\u001b[0m\n",
      "\u001b[0;32m~/miniconda3/lib/python3.6/site-packages/pyarrow/array.pxi\u001b[0m in \u001b[0;36mpyarrow.lib._ndarray_to_array\u001b[0;34m()\u001b[0m\n",
      "\u001b[0;32m~/miniconda3/lib/python3.6/site-packages/pyarrow/array.pxi\u001b[0m in \u001b[0;36mpyarrow.lib._ndarray_to_type\u001b[0;34m()\u001b[0m\n",
      "\u001b[0;32m~/miniconda3/lib/python3.6/site-packages/pyarrow/error.pxi\u001b[0m in \u001b[0;36mpyarrow.lib.check_status\u001b[0;34m()\u001b[0m\n",
      "\u001b[0;31mArrowTypeError\u001b[0m: ('Did not pass numpy.dtype object', 'Conversion failed for column id with type Int64')"
     ]
    }
   ],
   "source": [
    "t=pyarrow.Table.from_pandas(df,preserve_index=False)\n",
    "pq.write_table(t,f='/home/idies/workspace/Temporary/gerard/scratch/LSST/parquet/Source_10030_1000.parquet')"
   ]
  },
  {
   "cell_type": "code",
   "execution_count": null,
   "metadata": {},
   "outputs": [],
   "source": [
    "parquet_file = pq.ParquetFile(f))"
   ]
  },
  {
   "cell_type": "code",
   "execution_count": null,
   "metadata": {},
   "outputs": [],
   "source": [
    "d='/home/idies/workspace/Temporary/gerard/scratch/LSST/csv/'\n",
    "p=d.replace(\"csv\",\"parquet\")\n",
    "for f in os.listdir(d):\n",
    "    fn=d+f\n",
    "    if df is None:\n",
    "        df = pandas.read_csv(fn,names=column_names)\n",
    "        df= source_schema(df)\n",
    "    else:\n",
    "        _df=source_schema(pandas.read_csv(fn,names=column_names),sch)\n",
    "        df.append(_df,ignore_index=True,sort=True)\n",
    "#     t=pyarrow.Table.from_pandas(df,preserve_index=False)\n",
    "#     pq.write_table(t,p+f.replace(\".csv\",\".parquet\"),)"
   ]
  },
  {
   "cell_type": "code",
   "execution_count": null,
   "metadata": {},
   "outputs": [],
   "source": [
    "_df=pandas.read_csv(fn)\n",
    "_df"
   ]
  },
  {
   "cell_type": "code",
   "execution_count": null,
   "metadata": {},
   "outputs": [],
   "source": [
    "f='/home/idies/workspace/Temporary/gerard/scratch/LSST/parquet/Source_10030_1000.parquet'\n",
    "parquet_file = pq.ParquetFile(f)"
   ]
  },
  {
   "cell_type": "code",
   "execution_count": null,
   "metadata": {},
   "outputs": [],
   "source": [
    "print(parquet_file.metadata.schema)"
   ]
  },
  {
   "cell_type": "code",
   "execution_count": null,
   "metadata": {},
   "outputs": [],
   "source": []
  }
 ],
 "metadata": {
  "kernelspec": {
   "display_name": "Python 3",
   "language": "python",
   "name": "python3"
  },
  "language_info": {
   "codemirror_mode": {
    "name": "ipython",
    "version": 3
   },
   "file_extension": ".py",
   "mimetype": "text/x-python",
   "name": "python",
   "nbconvert_exporter": "python",
   "pygments_lexer": "ipython3",
   "version": "3.6.6"
  }
 },
 "nbformat": 4,
 "nbformat_minor": 2
}
