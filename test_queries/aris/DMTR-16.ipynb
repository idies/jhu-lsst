{
    "metadata": {
        "kernelspec": {
            "name": "SQL",
            "display_name": "SQL",
            "language": "sql"
        },
        "language_info": {
            "name": "sql",
            "version": ""
        }
    },
    "nbformat_minor": 2,
    "nbformat": 4,
    "cells": [
        {
            "cell_type": "markdown",
            "source": "",
            "metadata": {}
        },
        {
            "cell_type": "code",
            "source": "use LSST\r\nSELECT SYSDATETIMEOFFSET() AS 'start time'",
            "metadata": {},
            "outputs": [],
            "execution_count": 4
        },
        {
            "cell_type": "code",
            "source": "select count(*) from Object\r\n--78754603 lines of csv",
            "metadata": {},
            "outputs": [],
            "execution_count": 16
        },
        {
            "cell_type": "code",
            "source": "select count(*) from Source\r\n--1454104358 lines of csv",
            "metadata": {},
            "outputs": [],
            "execution_count": 17
        },
        {
            "cell_type": "code",
            "source": "select count(*) from SourceDP\r\n--1454104358 lines of csv",
            "metadata": {},
            "outputs": [],
            "execution_count": 7
        },
        {
            "cell_type": "code",
            "source": "select count_big(*) from ForcedSource\r\n--??? lines of csv",
            "metadata": {},
            "outputs": [],
            "execution_count": 19
        },
        {
            "cell_type": "code",
            "source": "select top 10 * from Object",
            "metadata": {},
            "outputs": [],
            "execution_count": 20
        },
        {
            "cell_type": "code",
            "source": "select top 10 * from Object order by ra desc",
            "metadata": {},
            "outputs": [],
            "execution_count": 0
        },
        {
            "cell_type": "code",
            "source": "select count(chunkID) from Object",
            "metadata": {},
            "outputs": [],
            "execution_count": 0
        },
        {
            "cell_type": "code",
            "source": "select avg(ra) from Object",
            "metadata": {},
            "outputs": [],
            "execution_count": 0
        },
        {
            "cell_type": "code",
            "source": "select count(distinct chunkID) from Object",
            "metadata": {},
            "outputs": [],
            "execution_count": 0
        },
        {
            "cell_type": "code",
            "source": "select top 10 * from Source",
            "metadata": {},
            "outputs": [],
            "execution_count": 0
        },
        {
            "cell_type": "code",
            "source": "select top 10 * from Source order by coord_ra desc",
            "metadata": {},
            "outputs": [],
            "execution_count": 0
        },
        {
            "cell_type": "code",
            "source": "select count(chunkID) from Source",
            "metadata": {},
            "outputs": [],
            "execution_count": 0
        },
        {
            "cell_type": "code",
            "source": "select avg(coord_ra) from Source",
            "metadata": {},
            "outputs": [],
            "execution_count": 0
        },
        {
            "cell_type": "code",
            "source": "select count(distinct chunkID) from Source",
            "metadata": {},
            "outputs": [],
            "execution_count": 0
        },
        {
            "cell_type": "code",
            "source": "select top 10 * from SourceDP",
            "metadata": {},
            "outputs": [],
            "execution_count": 0
        },
        {
            "cell_type": "code",
            "source": "select top 10 * from SourceDP order by coord_ra desc",
            "metadata": {},
            "outputs": [],
            "execution_count": 0
        },
        {
            "cell_type": "code",
            "source": "select count(chunkID) from SourceDP",
            "metadata": {},
            "outputs": [],
            "execution_count": 0
        },
        {
            "cell_type": "code",
            "source": "select avg(coord_ra) from SourceDP",
            "metadata": {},
            "outputs": [],
            "execution_count": 0
        },
        {
            "cell_type": "code",
            "source": "select count(distinct chunkID) from SourceDP",
            "metadata": {},
            "outputs": [],
            "execution_count": 0
        },
        {
            "cell_type": "code",
            "source": "-- 3.1\r\nuse LSST\r\nSELECT * FROM Object WHERE deepSourceId = 16968353272299750",
            "metadata": {},
            "outputs": [],
            "execution_count": 21
        },
        {
            "cell_type": "code",
            "source": "-- 3.2\r\nuse LSST\r\nSELECT ra , decl , u_psfFlux , g_psfFlux , r_psfFlux FROM Object WHERE y_shapeIxx BETWEEN 20 AND 20.2",
            "metadata": {},
            "outputs": [],
            "execution_count": 22
        },
        {
            "cell_type": "code",
            "source": "-- 3.2\r\nSELECT COUNT(*) FROM Source WHERE flux_sinc BETWEEN 1 AND 1.1",
            "metadata": {},
            "outputs": [],
            "execution_count": 0
        },
        {
            "cell_type": "code",
            "source": "-- 3.2\r\nSELECT COUNT(*) FROM ForcedSource WHERE psfFlux BETWEEN 0.1 AND 0.2",
            "metadata": {},
            "outputs": [],
            "execution_count": 0
        },
        {
            "cell_type": "code",
            "source": "-- 3.3\r\nUSE LSST\r\nSELECT o.deepSourceId , s. objectId , s.id , o.ra , o. decl \r\n  FROM Object o, Source s\r\n WHERE o.deepSourceId=s.objectId  \r\n   AND s.flux_sinc BETWEEN 0.3 AND 0.31",
            "metadata": {},
            "outputs": [],
            "execution_count": 23
        },
        {
            "cell_type": "code",
            "source": "USE LSST\r\n SELECT o.deepSourceId , f.psfFlux \r\n  FROM Object o, ForcedSource f\r\n WHERE o.deepSourceId=f.deepSourceId\r\n   AND f.psfFlux BETWEEN 0.13 AND 0.14",
            "metadata": {},
            "outputs": [],
            "execution_count": 24
        },
        {
            "cell_type": "code",
            "source": "SELECT SYSDATETIMEOFFSET() AS 'end time'",
            "metadata": {},
            "outputs": [],
            "execution_count": 25
        }
    ]
}