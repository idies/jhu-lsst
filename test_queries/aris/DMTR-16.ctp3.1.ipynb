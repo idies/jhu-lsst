{
    "metadata": {
        "kernelspec": {
            "name": "SQL",
            "display_name": "SQL",
            "language": "sql"
        },
        "language_info": {
            "name": "sql",
            "version": ""
        }
    },
    "nbformat_minor": 2,
    "nbformat": 4,
    "cells": [
        {
            "cell_type": "code",
            "source": "use LSST",
            "metadata": {},
            "outputs": [],
            "execution_count": 4
        },
        {
            "cell_type": "code",
            "source": "select count(*) from Object\r\n--78754603 lines of csv",
            "metadata": {},
            "outputs": [],
            "execution_count": 5
        },
        {
            "cell_type": "code",
            "source": "select count(*) from Source\r\n--1454104358 lines of csv",
            "metadata": {},
            "outputs": [],
            "execution_count": 6
        },
        {
            "cell_type": "code",
            "source": "select count(*) from SourceDP\r\n--1454104358 lines of csv",
            "metadata": {},
            "outputs": [],
            "execution_count": 7
        },
        {
            "cell_type": "code",
            "source": "select count(*) from ForcedSource\r\n--??? lines of csv",
            "metadata": {},
            "outputs": [],
            "execution_count": 8
        },
        {
            "cell_type": "code",
            "source": "--select count(*) from Source\r\n--select count(chunkID) from Source\r\nselect top 10 * from Source\r\n--select avg(coord_ra) from Source\r\n--select count(distinct id) from Source\r\n--select distinct chunkID from [Object]",
            "metadata": {},
            "outputs": [],
            "execution_count": 9
        },
        {
            "cell_type": "code",
            "source": "-- 3.1\r\nuse LSST\r\n-- SELECT * FROM Object WHERE deepSourceId = 16968353272299750\r\nSELECT * FROM Object WHERE deepSourceId = 16968353272299750\r\n\r\n-- SELECT COUNT(*) FROM Object WHERE qserv_areaspec_box(42.247928, 38.874077, 42.273855, 39.034748)\r\n--NB qserv_areaspec_box seems to be an indicator to the qserv system that the objects should be found in a box.\r\n-- otherwise there is no constraint on the objects anyway.\r\n-- see https://github.com/lsst/qserv/blob/master/UserManual.md for documentation",
            "metadata": {},
            "outputs": [],
            "execution_count": 10
        },
        {
            "cell_type": "code",
            "source": "-- 3.2\r\nuse LSST\r\n-- SELECT ra , decl , u_psfFlux , g_psfFlux , r_psfFlux FROM Object WHERE y_shapeIxx BETWEEN 20 AND 20.2\r\nSELECT ra , decl , u_psfFlux , g_psfFlux , r_psfFlux FROM Object WHERE y_shapeIxx BETWEEN 20 AND 20.2\r\n\r\n-- SELECT COUNT(*) FROM Source WHERE flux\\_sinc BETWEEN 1 AND 1.1\r\n SELECT COUNT(*) FROM Source WHERE flux_sinc BETWEEN 1 AND 1.1\r\n\r\n-- SELECT COUNT(*) FROM ForcedSource WHERE psfFlux BETWEEN 0.1 AND 0.2\r\nSELECT COUNT(*) FROM ForcedSource WHERE psfFlux BETWEEN 0.1 AND 0.2",
            "metadata": {},
            "outputs": [],
            "execution_count": 11
        },
        {
            "cell_type": "code",
            "source": "-- 3.3\r\nUSE LSST\r\nSELECT o.deepSourceId , s. objectId , s.id , o.ra , o. decl \r\n  FROM Object o, Source s\r\n WHERE o.deepSourceId=s.objectId  \r\n   AND s.flux_sinc BETWEEN 0.3 AND 0.31",
            "metadata": {},
            "outputs": [],
            "execution_count": 12
        },
        {
            "cell_type": "code",
            "source": "USE LSST\r\n SELECT o.deepSourceId , f.psfFlux \r\n  FROM Object o, ForcedSource f\r\n WHERE o.deepSourceId=f.deepSourceId\r\n   AND f.psfFlux BETWEEN 0.13 AND 0.14",
            "metadata": {},
            "outputs": [],
            "execution_count": 13
        }
    ]
}