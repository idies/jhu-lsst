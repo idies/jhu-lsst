{
 "cells": [
  {
   "cell_type": "markdown",
   "metadata": {},
   "source": [
    "1. Find stars with multiple measurements with magnitude variations > 0.1.\n",
    "2. Return all detections within R arcsec from a position given by (RA,Dec). Motivation: light curve for a given object\n",
    "3. Return all detections within a rectangle specified by equatorial or galactic coordinates; index all unique sources, provide the total number of detections for each source, index detections according to time (run number). Motivation: doing light curve for a large number of sources\n",
    "4. Return all objects with difference between the brightest and faintest state (in a given band, or any band), or between one of the extreme states and the mean/median value, larger/smaller than X mag. Motivation: objects with impeccable photometry eclipsing binaries, outbursts, etc.\n",
    "5. Return all objects with rms in a given band greater/smaller than X mag. Motivation: a part of classic variability search\n",
    "6. Return all objects with chi^2 in a given band greater/smaller than Y. Motivation: a part of classic variability search\n",
    "7. Return all objects with (max-min) in a given band greater/smaller than k*rms. Motivation: another way to look for variables (using a different light curve statistic)\n",
    "8. Return all objects that were detected only m times (or only within T1 days), while their position was observed at least N times (m < N ),  or longer than T2 days (T1 < T2). Motivation: afterglows, microlensing, SNe"
   ]
  },
  {
   "cell_type": "code",
   "execution_count": 2,
   "metadata": {},
   "outputs": [],
   "source": [
    "import SciServer.CasJobs as cj"
   ]
  },
  {
   "cell_type": "code",
   "execution_count": null,
   "metadata": {},
   "outputs": [],
   "source": []
  }
 ],
 "metadata": {
  "kernelspec": {
   "display_name": "Python 3",
   "language": "python",
   "name": "python3"
  },
  "language_info": {
   "codemirror_mode": {
    "name": "ipython",
    "version": 3
   },
   "file_extension": ".py",
   "mimetype": "text/x-python",
   "name": "python",
   "nbconvert_exporter": "python",
   "pygments_lexer": "ipython3",
   "version": "3.6.6"
  }
 },
 "nbformat": 4,
 "nbformat_minor": 2
}
