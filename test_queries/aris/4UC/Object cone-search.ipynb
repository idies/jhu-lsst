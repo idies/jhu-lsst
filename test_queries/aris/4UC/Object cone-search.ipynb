{
 "cells": [
  {
   "cell_type": "markdown",
   "metadata": {},
   "source": [
    "# Find Object-s in cone\n",
    "Useful links for plotting :\n",
    "* https://coolum001.github.io/geopandasdisplay.html"
   ]
  },
  {
   "cell_type": "code",
   "execution_count": 14,
   "metadata": {},
   "outputs": [],
   "source": [
    "import SciServer.CasJobs as cj\n",
    "from datetime import datetime\n",
    "import pandas\n",
    "import matplotlib.pyplot as plt\n",
    "import random "
   ]
  },
  {
   "cell_type": "code",
   "execution_count": 2,
   "metadata": {},
   "outputs": [],
   "source": [
    "LSST=\"LSST_aris\"\n",
    "# code for perfect(unit?) sphere\n",
    "SRID=104001"
   ]
  },
  {
   "cell_type": "markdown",
   "metadata": {},
   "source": [
    "## Find Object rows \n",
    "Various different version of table used"
   ]
  },
  {
   "cell_type": "code",
   "execution_count": 19,
   "metadata": {},
   "outputs": [],
   "source": [
    "#\n",
    "# use temptable #a iso defining it inside CTE, as otherwise it will be executed multiple times in the union\n",
    "#\n",
    "def conesearch(object_table,ra,decl,sr):\n",
    "    \"\"\"\n",
    "    sr in arcmin\n",
    "    \"\"\"\n",
    "    print(\"[\",datetime.now(),\"] table:\",object_table,\", conesearch ({ra},{decl},{sr}:\".format(ra=ra,decl=decl,sr=sr))\n",
    "    sql=\"\"\"\n",
    "select o.deepsourceid as objId, o.ra, o.decl \n",
    "  from htm.CoverCircleEq({ra},{decl},{sr}) c\n",
    "  join {table} o on o.htmid between c.htmidstart and htmidend\n",
    "    \"\"\".format(table=object_table,ra=ra,decl=decl,sr=sr)\n",
    "    return cj.executeQuery(sql,LSST)\n",
    "\n",
    "def conesearch_job(object_table,ra,decl,sr):\n",
    "    \"\"\"\n",
    "    sr in arcmin\n",
    "    \"\"\"\n",
    "    newtable=\"{table}_{rnd}\".format(table=object_table,rnd=random.randint(0,10000000))\n",
    "    print(\"[\",datetime.now(),\"] table:\",object_table,\", conesearch ({ra},{decl},{sr}:\".format(ra=ra,decl=decl,sr=sr),\n",
    "         \"output to:\",newtable)\n",
    "    \n",
    "    sql=\"\"\"\n",
    "select o.deepsourceid as objId, o.ra, o.decl \n",
    "into MyDB.{newtable}\n",
    "  from htm.CoverCircleEq({ra},{decl},{sr}) c\n",
    "  join {table} o on o.htmid between c.htmidstart and htmidend\n",
    "    \"\"\".format(table=object_table,ra=ra,decl=decl,sr=sr,newtable=newtable)\n",
    "    return cj.submitJob(sql,LSST),newtable"
   ]
  },
  {
   "cell_type": "code",
   "execution_count": null,
   "metadata": {},
   "outputs": [],
   "source": [
    "RA=45;DECL=45;SR=3"
   ]
  },
  {
   "cell_type": "markdown",
   "metadata": {},
   "source": [
    "m_Object_cci, plan\n",
    "<img src=\"./img/cone_cci_plan.png\"></img>"
   ]
  },
  {
   "cell_type": "code",
   "execution_count": null,
   "metadata": {},
   "outputs": [],
   "source": [
    "%time _cci=conesearch('m_object_cci',RA,DECL,SR)"
   ]
  },
  {
   "cell_type": "markdown",
   "metadata": {},
   "source": [
    "m_Object_cli, plan\n",
    "<img src=\"./img/cone_cli_plan.png\"></img>"
   ]
  },
  {
   "cell_type": "code",
   "execution_count": null,
   "metadata": {},
   "outputs": [],
   "source": [
    "%time _cli=conesearch('m_object_cli',RA,DECL,SR)"
   ]
  },
  {
   "cell_type": "markdown",
   "metadata": {},
   "source": [
    "m_Object_page, plan\n",
    "<img src=\"./img/cone_page_plan.png\"></img>"
   ]
  },
  {
   "cell_type": "code",
   "execution_count": 12,
   "metadata": {},
   "outputs": [
    {
     "name": "stdout",
     "output_type": "stream",
     "text": [
      "[ 2020-01-19 15:31:51.794901 ] table: m_object_cci , conesearch (45,45,3:\n",
      "CPU times: user 32.3 ms, sys: 12.4 ms, total: 44.7 ms\n",
      "Wall time: 2.35 s\n",
      "[ 2020-01-19 15:31:54.141636 ] table: m_object_cli , conesearch (45,45,3:\n",
      "CPU times: user 33.8 ms, sys: 3.72 ms, total: 37.5 ms\n",
      "Wall time: 2.25 s\n",
      "[ 2020-01-19 15:31:56.396506 ] table: m_object_page , conesearch (45,45,3:\n",
      "CPU times: user 33.4 ms, sys: 1.39 ms, total: 34.7 ms\n",
      "Wall time: 2.28 s\n"
     ]
    }
   ],
   "source": [
    "%time _page=conesearch('m_object_page',RA,DECL,SR)"
   ]
  },
  {
   "cell_type": "markdown",
   "metadata": {},
   "source": [
    "ObjectDP_htmid, plan\n",
    "<img src=\"./img/cone_dp_plan.png\"></img>"
   ]
  },
  {
   "cell_type": "code",
   "execution_count": 22,
   "metadata": {
    "scrolled": true
   },
   "outputs": [
    {
     "name": "stdout",
     "output_type": "stream",
     "text": [
      "[ 2020-01-19 15:39:28.992672 ] table: objectdp_htmid , conesearch (45,45,3: output to: objectdp_htmid_8347010\n",
      "Waiting...Waiting...Waiting...Waiting...Waiting...Waiting...Waiting...Waiting...Waiting...Waiting...Waiting...Waiting...Waiting...Waiting...Waiting...Waiting...Waiting...Waiting...Waiting...Waiting...Waiting...Waiting...Waiting...Waiting...Waiting...Waiting...Waiting...Waiting...Waiting...Waiting...Waiting...Waiting...Waiting...Waiting...Waiting...Waiting...Waiting...Waiting...Waiting...Waiting...Waiting...Waiting...Waiting...Waiting...Waiting...Waiting...Waiting...Waiting...Waiting...Waiting...Waiting...Waiting...Waiting...Waiting...Waiting...Waiting...Waiting...Waiting...Waiting...Waiting...Waiting...Waiting...Waiting...Waiting...Waiting...Waiting...Waiting...Waiting...Waiting...Waiting...Waiting...Waiting...Waiting...Waiting...Waiting...Waiting...Waiting...Waiting...Waiting...Waiting...Waiting...Waiting...Waiting...Waiting...Waiting...Waiting...Waiting...Waiting...Waiting...Waiting...Waiting...Waiting...Waiting...Waiting...Waiting...Waiting...Waiting...Waiting...Waiting...Waiting...Waiting...Waiting...Waiting...Waiting...Waiting...Waiting...Waiting...Waiting...Waiting...Waiting...Waiting...Waiting...Waiting...Waiting...Waiting...Waiting...Waiting...Waiting...Waiting...Waiting...Waiting...Waiting...Waiting...Waiting...Waiting...Waiting...Waiting...Waiting...Waiting...Waiting...Waiting...Waiting...Waiting...Waiting...Waiting...Waiting...Done!\n",
      "CPU times: user 3.87 s, sys: 448 ms, total: 4.32 s\n",
      "Wall time: 11min 33s\n"
     ]
    },
    {
     "data": {
      "text/plain": [
       "{'JobID': 46421257,\n",
       " 'Rows': None,\n",
       " 'WebServicesID': 999687452,\n",
       " 'TimeSubmit': '2020-01-19T10:39:30.857',\n",
       " 'TimeStart': '2020-01-19T10:39:53.283',\n",
       " 'TimeEnd': '2020-01-19T10:51:00.42',\n",
       " 'SendEmail': 0,\n",
       " 'Status': 4,\n",
       " 'AutoComplete': 0,\n",
       " 'Estimate': 500,\n",
       " 'TaskName': 'Compute.SciScript-Python.CasJobs.submitJob',\n",
       " 'OutputLoc': '',\n",
       " 'HostIP': 'LSST_Aris_long ',\n",
       " 'Message': 'Cancellation complete.',\n",
       " 'Query': '\\nselect o.deepsourceid as objId, o.ra, o.decl \\ninto MyDB.objectdp_htmid_8347010\\n  from htm.CoverCircleEq(45,45,3) c\\n  join objectdp_htmid o on o.htmid between c.htmidstart and htmidend\\n    ',\n",
       " 'ModifiedQuery': 'select o.deepsourceid as objId, o.ra, o.decl \\n\\n  from htm.CoverCircleEq(45,45,3) c\\n  join objectdp_htmid o on o.htmid between c.htmidstart and htmidend/*CASJOBS_INTO_TABLE:[mydbsql].mydb_999687452.webuser.objectdp_htmid_8347010*/',\n",
       " 'Target': 'LSST_aris',\n",
       " 'OutputType': 'QUERY',\n",
       " 'Params': '{\\r\\n  \"token\": \"a08968cd1bf94e6f95d0834d93177705\"\\r\\n}',\n",
       " 'Created_Table': 'objectdp_htmid_8347010'}"
      ]
     },
     "execution_count": 22,
     "metadata": {},
     "output_type": "execute_result"
    }
   ],
   "source": [
    "jobid,newtable=_page=conesearch_job('objectdp_htmid',RA,DECL,SR)\n",
    "%time r=cj.waitForJob(jobid,verbose=True)"
   ]
  },
  {
   "cell_type": "code",
   "execution_count": null,
   "metadata": {},
   "outputs": [],
   "source": [
    "c"
   ]
  },
  {
   "cell_type": "markdown",
   "metadata": {},
   "source": [
    "# Plotting"
   ]
  },
  {
   "cell_type": "code",
   "execution_count": null,
   "metadata": {},
   "outputs": [],
   "source": []
  }
 ],
 "metadata": {
  "kernelspec": {
   "display_name": "Python 3",
   "language": "python",
   "name": "python3"
  },
  "language_info": {
   "codemirror_mode": {
    "name": "ipython",
    "version": 3
   },
   "file_extension": ".py",
   "mimetype": "text/x-python",
   "name": "python",
   "nbconvert_exporter": "python",
   "pygments_lexer": "ipython3",
   "version": "3.6.6"
  }
 },
 "nbformat": 4,
 "nbformat_minor": 2
}
