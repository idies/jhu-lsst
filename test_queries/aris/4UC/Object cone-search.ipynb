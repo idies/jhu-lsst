{
 "cells": [
  {
   "cell_type": "markdown",
   "metadata": {},
   "source": [
    "# Cone search for Object tables"
   ]
  },
  {
   "cell_type": "code",
   "execution_count": 1,
   "metadata": {},
   "outputs": [],
   "source": [
    "import SciServer.CasJobs as cj\n",
    "from datetime import datetime\n",
    "import pandas\n",
    "import matplotlib.pyplot as plt\n",
    "import random "
   ]
  },
  {
   "cell_type": "code",
   "execution_count": 2,
   "metadata": {},
   "outputs": [],
   "source": [
    "LSST=\"LSST_aris\"\n",
    "# code for perfect(unit?) sphere\n",
    "SRID=104001"
   ]
  },
  {
   "cell_type": "markdown",
   "metadata": {},
   "source": [
    "## Find Object rows \n",
    "Various different version of table used"
   ]
  },
  {
   "cell_type": "code",
   "execution_count": 3,
   "metadata": {},
   "outputs": [],
   "source": [
    "#\n",
    "# use temptable #a iso defining it inside CTE, as otherwise it will be executed multiple times in the union\n",
    "#\n",
    "def conesearch(object_table,ra,decl,sr):\n",
    "    \"\"\"\n",
    "    sr in arcmin\n",
    "    \"\"\"\n",
    "    print(\"[\",datetime.now(),\"] table:\",object_table,\", conesearch ({ra},{decl},{sr}:\".format(ra=ra,decl=decl,sr=sr))\n",
    "    sql=\"\"\"\n",
    "select o.deepsourceid as objId, o.ra, o.decl \n",
    "  from htm.CoverCircleEq({ra},{decl},{sr}) c\n",
    "  join {table} o on o.htmid between c.htmidstart and htmidend\n",
    "    \"\"\".format(table=object_table,ra=ra,decl=decl,sr=sr)\n",
    "    return cj.executeQuery(sql,LSST)\n",
    "\n",
    "def conesearch_job(object_table,ra,decl,sr):\n",
    "    \"\"\"\n",
    "    sr in arcmin\n",
    "    \"\"\"\n",
    "    newtable=\"{table}_{rnd}\".format(table=object_table,rnd=random.randint(0,10000000))\n",
    "    print(\"[\",datetime.now(),\"] table:\",object_table,\", conesearch ({ra},{decl},{sr}):\".format(ra=ra,decl=decl,sr=sr),\n",
    "         \"output to:\",newtable)\n",
    "    \n",
    "    sql=\"\"\"\n",
    "select o.deepsourceid as objId, o.ra, o.decl \n",
    "into MyDB.{newtable}\n",
    "  from htm.CoverCircleEq({ra},{decl},{sr}) c\n",
    "  join {table} o on o.htmid between c.htmidstart and htmidend\n",
    "    \"\"\".format(table=object_table,ra=ra,decl=decl,sr=sr,newtable=newtable)\n",
    "    return cj.submitJob(sql,LSST),newtable"
   ]
  },
  {
   "cell_type": "code",
   "execution_count": 4,
   "metadata": {},
   "outputs": [],
   "source": [
    "RA=45;DECL=45;SR=3"
   ]
  },
  {
   "cell_type": "markdown",
   "metadata": {},
   "source": [
    "m_Object_cci, plan\n",
    "<img src=\"./img/cone_cci_plan.png\"></img>"
   ]
  },
  {
   "cell_type": "code",
   "execution_count": 5,
   "metadata": {},
   "outputs": [
    {
     "name": "stdout",
     "output_type": "stream",
     "text": [
      "[ 2020-01-19 17:18:32.938650 ] table: m_object_cci , conesearch (45,45,3:\n",
      "CPU times: user 44.7 ms, sys: 18.2 ms, total: 63 ms\n",
      "Wall time: 2.35 s\n"
     ]
    }
   ],
   "source": [
    "%time _cci=conesearch('m_object_cci',RA,DECL,SR)"
   ]
  },
  {
   "cell_type": "markdown",
   "metadata": {},
   "source": [
    "m_Object_cli, plan\n",
    "<img src=\"./img/cone_cli_plan.png\"></img>"
   ]
  },
  {
   "cell_type": "code",
   "execution_count": 6,
   "metadata": {},
   "outputs": [
    {
     "name": "stdout",
     "output_type": "stream",
     "text": [
      "[ 2020-01-19 17:18:42.075602 ] table: m_object_cli , conesearch (45,45,3:\n",
      "CPU times: user 40.1 ms, sys: 4.81 ms, total: 45 ms\n",
      "Wall time: 2.24 s\n"
     ]
    }
   ],
   "source": [
    "%time _cli=conesearch('m_object_cli',RA,DECL,SR)"
   ]
  },
  {
   "cell_type": "markdown",
   "metadata": {},
   "source": [
    "m_Object_page, plan\n",
    "<img src=\"./img/cone_page_plan.png\"></img>"
   ]
  },
  {
   "cell_type": "code",
   "execution_count": 7,
   "metadata": {},
   "outputs": [
    {
     "name": "stdout",
     "output_type": "stream",
     "text": [
      "[ 2020-01-19 17:18:45.554391 ] table: m_object_page , conesearch (45,45,3:\n",
      "CPU times: user 35.8 ms, sys: 6.82 ms, total: 42.7 ms\n",
      "Wall time: 2.17 s\n"
     ]
    }
   ],
   "source": [
    "%time _page=conesearch('m_object_page',RA,DECL,SR)"
   ]
  },
  {
   "cell_type": "markdown",
   "metadata": {},
   "source": [
    "ObjectDP_htmid, plan\n",
    "<img src=\"./img/cone_dp_plan.png\"></img>"
   ]
  },
  {
   "cell_type": "code",
   "execution_count": null,
   "metadata": {
    "scrolled": true
   },
   "outputs": [],
   "source": [
    "# won't run again.\n",
    "jobid,newtable=_page=conesearch_job('objectdp_htmid',RA,DECL,SR)\n",
    "%time r=cj.waitForJob(jobid,verbose=True)"
   ]
  },
  {
   "cell_type": "markdown",
   "metadata": {},
   "source": [
    "# Plotting\n",
    "TBD"
   ]
  },
  {
   "cell_type": "code",
   "execution_count": null,
   "metadata": {},
   "outputs": [],
   "source": []
  }
 ],
 "metadata": {
  "kernelspec": {
   "display_name": "Python 3",
   "language": "python",
   "name": "python3"
  },
  "language_info": {
   "codemirror_mode": {
    "name": "ipython",
    "version": 3
   },
   "file_extension": ".py",
   "mimetype": "text/x-python",
   "name": "python",
   "nbconvert_exporter": "python",
   "pygments_lexer": "ipython3",
   "version": "3.6.6"
  }
 },
 "nbformat": 4,
 "nbformat_minor": 2
}
