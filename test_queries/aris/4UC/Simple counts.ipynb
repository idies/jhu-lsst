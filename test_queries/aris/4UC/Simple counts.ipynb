{
 "cells": [
  {
   "cell_type": "code",
   "execution_count": 4,
   "metadata": {},
   "outputs": [],
   "source": [
    "import SciServer.CasJobs as cj\n",
    "from datetime import datetime\n",
    "LSST=\"LSST_aris\""
   ]
  },
  {
   "cell_type": "code",
   "execution_count": 21,
   "metadata": {},
   "outputs": [],
   "source": [
    "def countit(table):\n",
    "    print(\"[{now}] table: {table}\".format(now=datetime.now(), table=table))\n",
    "    sql=\"select count_big(*) as num from \"+table\n",
    "    df=cj.executeQuery(sql,LSST)\n",
    "    print(\"count=\",df['num'][0])"
   ]
  },
  {
   "cell_type": "code",
   "execution_count": 20,
   "metadata": {},
   "outputs": [
    {
     "name": "stdout",
     "output_type": "stream",
     "text": [
      "[2020-01-19 14:57:44.586031] table: m_object_cci\n",
      "count= 1811300309\n",
      "CPU times: user 29.7 ms, sys: 7.13 ms, total: 36.8 ms\n",
      "Wall time: 2.45 s\n",
      "[2020-01-19 14:57:47.041520] table: m_object_cli\n",
      "count= 1811300309\n",
      "CPU times: user 31.8 ms, sys: 2.47 ms, total: 34.3 ms\n",
      "Wall time: 14.9 s\n",
      "[2020-01-19 14:58:01.915970] table: m_object_page\n",
      "count= 1811300309\n",
      "CPU times: user 26.2 ms, sys: 9.77 ms, total: 36 ms\n",
      "Wall time: 9.49 s\n",
      "[2020-01-19 14:58:11.405088] table: ObjectDP_htmid\n",
      "count= 1811300309\n",
      "CPU times: user 32.4 ms, sys: 4.88 ms, total: 37.3 ms\n",
      "Wall time: 13.9 s\n"
     ]
    }
   ],
   "source": [
    "%time countit('m_object_cci')\n",
    "%time countit('m_object_cli')\n",
    "%time countit('m_object_page')\n",
    "%time countit('ObjectDP_htmid')"
   ]
  },
  {
   "cell_type": "code",
   "execution_count": 23,
   "metadata": {},
   "outputs": [
    {
     "name": "stdout",
     "output_type": "stream",
     "text": [
      "[2020-01-19 15:00:37.535624] table: sourceDP_htmid\n",
      "count= 33435362636\n",
      "CPU times: user 36 ms, sys: 5.32 ms, total: 41.3 ms\n",
      "Wall time: 23.3 s\n"
     ]
    }
   ],
   "source": [
    "%time countit('sourceDP_htmid')"
   ]
  },
  {
   "cell_type": "code",
   "execution_count": null,
   "metadata": {},
   "outputs": [],
   "source": []
  }
 ],
 "metadata": {
  "kernelspec": {
   "display_name": "Python 3",
   "language": "python",
   "name": "python3"
  },
  "language_info": {
   "codemirror_mode": {
    "name": "ipython",
    "version": 3
   },
   "file_extension": ".py",
   "mimetype": "text/x-python",
   "name": "python",
   "nbconvert_exporter": "python",
   "pygments_lexer": "ipython3",
   "version": "3.6.6"
  }
 },
 "nbformat": 4,
 "nbformat_minor": 2
}
