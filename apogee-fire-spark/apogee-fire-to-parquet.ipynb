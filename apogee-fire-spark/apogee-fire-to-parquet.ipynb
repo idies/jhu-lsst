{
 "cells": [
  {
   "cell_type": "markdown",
   "metadata": {},
   "source": [
    "### Convert Apogee-Fire simulation data to parquet on HDFS\n",
    "\n",
    "Since there is no native reader for hdf5 data in hadoop, there is no way at the moment to efficiently deal with large files (e.g. we cannot appropriately deal with chunks and distribute them on hdfs blocks). In the Apogee-Fire case, some of the files are close to 300G each, so doing a binaryFiles read is not feasible. \n",
    "\n",
    "The method we take here is to ensure the files are accessible on the local filesystem, where POSIX semantics are used and take advantage of the chunk-based reads built into the hdf5 library. To get the data visible from executors, we need to ensure the mounts are on each Spark node, which is done by adding the following mounts on the hadoop containers in the storage-0 statefulset:\n",
    "\n",
    "```yaml\n",
    "        - mountPath: /data/apogee-fire/m12f\n",
    "          name: apogee-fire-1\n",
    "        - mountPath: /data/apogee-fire/m12i\n",
    "          name: apogee-fire-2\n",
    "        - mountPath: /data/apogee-fire/m12m\n",
    "          name: apogee-fire-3\n",
    "\n",
    "```\n",
    "\n",
    "And volume definitions:\n",
    "\n",
    "```yaml\n",
    "      - name: apogee-fire-1\n",
    "        nfs:\n",
    "          path: /srv/zpool01/sdss_casload_backups/data-park/apogee-fire_sim/v1_0_1/m12f\n",
    "          server: sciserver-fs1\n",
    "      - name: apogee-fire-2\n",
    "        nfs:\n",
    "          path: /srv/zpool01/sdss_casload_backups/data-park/apogee-fire_sim/v1_0_1/m12i\n",
    "          server: sciserver-fs1\n",
    "      - name: apogee-fire-3\n",
    "        nfs:\n",
    "          path: /srv/zpool01/sdss_casload_backups/data-park/apogee-fire_sim/v1_0_1/m12m\n",
    "          server: sciserver-fs1\n",
    "\n",
    "```\n",
    "\n",
    "Instead of forcing each chunk read to go to a single task, we distribute a large-but-not-overwhelming number of tasks which means multiple chunks will land on a single partition, and as such the memory requirements per task extend beyond chunk size (but also result in more reasonable size files). The executor memory and cores here is a tradeoff, sharing 8gb between 2 tasks did not prove workable"
   ]
  },
  {
   "cell_type": "code",
   "execution_count": 1,
   "metadata": {},
   "outputs": [
    {
     "data": {
      "text/html": [
       "Current session configs: <tt>{'numExecutors': 60, 'executorCores': 1, 'executorMemory': '8gb', 'driverMemory': '2g', 'conf': {'spark.pyspark.virtualenv.enabled': 'true', 'spark.pyspark.virtualenv.python_version': '3.7', 'spark.yarn.appMasterEnv.PIP_CACHE_DIR': '/tmp'}, 'kind': 'pyspark'}</tt><br>"
      ],
      "text/plain": [
       "<IPython.core.display.HTML object>"
      ]
     },
     "metadata": {},
     "output_type": "display_data"
    },
    {
     "data": {
      "text/html": [
       "No active sessions."
      ],
      "text/plain": [
       "<IPython.core.display.HTML object>"
      ]
     },
     "metadata": {},
     "output_type": "display_data"
    }
   ],
   "source": [
    "%%configure -f\n",
    "{\n",
    "    \"numExecutors\": 60, \"executorCores\": 1, \"executorMemory\": \"8gb\", \"driverMemory\": \"2g\", \n",
    "    \"conf\": { \n",
    "        \"spark.pyspark.virtualenv.enabled\": \"true\", \n",
    "        \"spark.pyspark.virtualenv.python_version\": \"3.7\",\n",
    "        \"spark.yarn.appMasterEnv.PIP_CACHE_DIR\": \"/tmp\"\n",
    "    }\n",
    "}"
   ]
  },
  {
   "cell_type": "code",
   "execution_count": 2,
   "metadata": {},
   "outputs": [
    {
     "name": "stdout",
     "output_type": "stream",
     "text": [
      "Starting Spark application\n"
     ]
    },
    {
     "data": {
      "text/html": [
       "<table>\n",
       "<tr><th>ID</th><th>YARN Application ID</th><th>Kind</th><th>State</th><th>Spark UI</th><th>Driver log</th><th>User</th><th>Current session?</th></tr><tr><td>301</td><td>application_1635030912678_0029</td><td>pyspark</td><td>idle</td><td><a target=\"_blank\" href=\"https://apps.sciserver.org/sparkgw/dracula/sparkhistory/history/application_1635030912678_0029\">Link</a></td><td><a target=\"_blank\" href=\"https://storage-0-6.storage-0-svc.dracula.svc.cluster.local:8044/node/containerlogs/container_e05_1635030912678_0029_01_000001/livy\">Link</a></td><td>None</td><td>✔</td></tr></table>"
      ],
      "text/plain": [
       "<IPython.core.display.HTML object>"
      ]
     },
     "metadata": {},
     "output_type": "display_data"
    },
    {
     "data": {
      "application/vnd.jupyter.widget-view+json": {
       "model_id": "",
       "version_major": 2,
       "version_minor": 0
      },
      "text/plain": [
       "FloatProgress(value=0.0, bar_style='info', description='Progress:', layout=Layout(height='25px', width='50%'),…"
      ]
     },
     "metadata": {},
     "output_type": "display_data"
    },
    {
     "name": "stdout",
     "output_type": "stream",
     "text": [
      "SparkSession available as 'spark'.\n"
     ]
    },
    {
     "data": {
      "application/vnd.jupyter.widget-view+json": {
       "model_id": "",
       "version_major": 2,
       "version_minor": 0
      },
      "text/plain": [
       "FloatProgress(value=0.0, bar_style='info', description='Progress:', layout=Layout(height='25px', width='50%'),…"
      ]
     },
     "metadata": {},
     "output_type": "display_data"
    },
    {
     "name": "stdout",
     "output_type": "stream",
     "text": [
      "Collecting h5py\n",
      "  Using cached h5py-3.5.0-cp37-cp37m-manylinux_2_12_x86_64.manylinux2010_x86_64.whl (4.1 MB)\n",
      "Collecting numpy\n",
      "  Using cached numpy-1.21.3-cp37-cp37m-manylinux_2_12_x86_64.manylinux2010_x86_64.whl (15.7 MB)\n",
      "Collecting pandas\n",
      "  Using cached pandas-1.3.4-cp37-cp37m-manylinux_2_17_x86_64.manylinux2014_x86_64.whl (11.3 MB)\n",
      "Collecting cached-property\n",
      "  Using cached cached_property-1.5.2-py2.py3-none-any.whl (7.6 kB)\n",
      "Collecting python-dateutil>=2.7.3\n",
      "  Using cached python_dateutil-2.8.2-py2.py3-none-any.whl (247 kB)\n",
      "Collecting pytz>=2017.3\n",
      "  Using cached pytz-2021.3-py2.py3-none-any.whl (503 kB)\n",
      "Collecting six>=1.5\n",
      "  Using cached six-1.16.0-py2.py3-none-any.whl (11 kB)\n",
      "Installing collected packages: six, pytz, python-dateutil, numpy, cached-property, pandas, h5py\n",
      "Successfully installed cached-property-1.5.2 h5py-3.5.0 numpy-1.21.3 pandas-1.3.4 python-dateutil-2.8.2 pytz-2021.3 six-1.16.0\n",
      "WARNING: pip is being invoked by an old script wrapper. This will fail in a future version of pip.\n",
      "Please see https://github.com/pypa/pip/issues/5599 for advice on fixing the underlying issue.\n",
      "To avoid this problem you can invoke Python with '-m pip' instead of running pip directly."
     ]
    }
   ],
   "source": [
    "sc.install_packages(['h5py', 'numpy', 'pandas'])"
   ]
  },
  {
   "cell_type": "code",
   "execution_count": 3,
   "metadata": {},
   "outputs": [
    {
     "data": {
      "application/vnd.jupyter.widget-view+json": {
       "model_id": "",
       "version_major": 2,
       "version_minor": 0
      },
      "text/plain": [
       "FloatProgress(value=0.0, bar_style='info', description='Progress:', layout=Layout(height='25px', width='50%'),…"
      ]
     },
     "metadata": {},
     "output_type": "display_data"
    }
   ],
   "source": [
    "import h5py\n",
    "from io import BytesIO\n",
    "import numpy as np\n",
    "import glob\n",
    "from pyspark.sql import Row"
   ]
  },
  {
   "cell_type": "code",
   "execution_count": 4,
   "metadata": {},
   "outputs": [
    {
     "data": {
      "application/vnd.jupyter.widget-view+json": {
       "model_id": "",
       "version_major": 2,
       "version_minor": 0
      },
      "text/plain": [
       "FloatProgress(value=0.0, bar_style='info', description='Progress:', layout=Layout(height='25px', width='50%'),…"
      ]
     },
     "metadata": {},
     "output_type": "display_data"
    }
   ],
   "source": [
    "def getFileListRdd(path):\n",
    "    files = glob.glob(f'{path}/*.hdf5')\n",
    "    return sc.parallelize(files, len(files))\n",
    "\n",
    "def readH5(path):\n",
    "    return h5py.File(path)\n",
    "\n",
    "def getMaxChunkSize(h5):\n",
    "    chunk_sizes = [h5[i].chunks[0] for i in h5.keys()]\n",
    "    return max(chunk_sizes)\n",
    "\n",
    "def getDataLength(h5):\n",
    "    return h5['2MASS_magH'].shape[0]\n",
    "\n",
    "def getChunkList(h5):\n",
    "    l = getDataLength(h5)\n",
    "    cs = getMaxChunkSize(h5)\n",
    "    return zip(np.arange(0, l, cs), np.arange(0, l, cs) + cs)\n",
    "\n",
    "def chunkToRow(h5, chunk):\n",
    "    row_dict = {}\n",
    "    chunk_slice = slice(chunk[0], chunk[1])\n",
    "    for ds in h5:\n",
    "        row_dict[ds] = np.array(h5[ds][chunk_slice]).tolist()\n",
    "    return Row(**row_dict)"
   ]
  },
  {
   "cell_type": "code",
   "execution_count": 5,
   "metadata": {
    "scrolled": true
   },
   "outputs": [
    {
     "data": {
      "application/vnd.jupyter.widget-view+json": {
       "model_id": "",
       "version_major": 2,
       "version_minor": 0
      },
      "text/plain": [
       "FloatProgress(value=0.0, bar_style='info', description='Progress:', layout=Layout(height='25px', width='50%'),…"
      ]
     },
     "metadata": {},
     "output_type": "display_data"
    }
   ],
   "source": [
    "a = getFileListRdd('/data/apogee-fire/m12f/lsr_0')"
   ]
  },
  {
   "cell_type": "code",
   "execution_count": 6,
   "metadata": {},
   "outputs": [
    {
     "data": {
      "application/vnd.jupyter.widget-view+json": {
       "model_id": "",
       "version_major": 2,
       "version_minor": 0
      },
      "text/plain": [
       "FloatProgress(value=0.0, bar_style='info', description='Progress:', layout=Layout(height='25px', width='50%'),…"
      ]
     },
     "metadata": {},
     "output_type": "display_data"
    }
   ],
   "source": [
    "ds = a.map(\n",
    "    lambda x: (x, readH5(x))\n",
    ").flatMapValues(\n",
    "    getChunkList\n",
    ").map(\n",
    "    lambda x: (f'{x[0]}-{x[1][0]}', (x[0], x[1]))\n",
    ").partitionBy(\n",
    "    25000\n",
    ").map(\n",
    "    lambda x: chunkToRow(readH5(x[1][0]), x[1][1])\n",
    ")"
   ]
  },
  {
   "cell_type": "code",
   "execution_count": 7,
   "metadata": {
    "scrolled": false
   },
   "outputs": [
    {
     "data": {
      "application/vnd.jupyter.widget-view+json": {
       "model_id": "",
       "version_major": 2,
       "version_minor": 0
      },
      "text/plain": [
       "FloatProgress(value=0.0, bar_style='info', description='Progress:', layout=Layout(height='25px', width='50%'),…"
      ]
     },
     "metadata": {},
     "output_type": "display_data"
    },
    {
     "name": "stdout",
     "output_type": "stream",
     "text": [
      "root\n",
      " |-- 2MASS_magH: array (nullable = true)\n",
      " |    |-- element: double (containsNull = true)\n",
      " |-- 2MASS_magH_error: array (nullable = true)\n",
      " |    |-- element: double (containsNull = true)\n",
      " |-- 2MASS_magH_int: array (nullable = true)\n",
      " |    |-- element: double (containsNull = true)\n",
      " |-- 2MASS_magH_true: array (nullable = true)\n",
      " |    |-- element: double (containsNull = true)\n",
      " |-- 2MASS_magJ: array (nullable = true)\n",
      " |    |-- element: double (containsNull = true)\n",
      " |-- 2MASS_magJ_error: array (nullable = true)\n",
      " |    |-- element: double (containsNull = true)\n",
      " |-- 2MASS_magJ_int: array (nullable = true)\n",
      " |    |-- element: double (containsNull = true)\n",
      " |-- 2MASS_magJ_true: array (nullable = true)\n",
      " |    |-- element: double (containsNull = true)\n",
      " |-- 2MASS_magKs: array (nullable = true)\n",
      " |    |-- element: double (containsNull = true)\n",
      " |-- 2MASS_magKs_error: array (nullable = true)\n",
      " |    |-- element: double (containsNull = true)\n",
      " |-- 2MASS_magKs_int: array (nullable = true)\n",
      " |    |-- element: double (containsNull = true)\n",
      " |-- 2MASS_magKs_true: array (nullable = true)\n",
      " |    |-- element: double (containsNull = true)\n",
      " |-- A0: array (nullable = true)\n",
      " |    |-- element: double (containsNull = true)\n",
      " |-- CFe-APOGEE: array (nullable = true)\n",
      " |    |-- element: double (containsNull = true)\n",
      " |-- CaFe-APOGEE: array (nullable = true)\n",
      " |    |-- element: double (containsNull = true)\n",
      " |-- FeH-APOGEE: array (nullable = true)\n",
      " |    |-- element: double (containsNull = true)\n",
      " |-- MgFe-APOGEE: array (nullable = true)\n",
      " |    |-- element: double (containsNull = true)\n",
      " |-- NFe-APOGEE: array (nullable = true)\n",
      " |    |-- element: double (containsNull = true)\n",
      " |-- OFe-APOGEE: array (nullable = true)\n",
      " |    |-- element: double (containsNull = true)\n",
      " |-- SFe-APOGEE: array (nullable = true)\n",
      " |    |-- element: double (containsNull = true)\n",
      " |-- SiFe-APOGEE: array (nullable = true)\n",
      " |    |-- element: double (containsNull = true)\n",
      " |-- a_g_bp_val: array (nullable = true)\n",
      " |    |-- element: double (containsNull = true)\n",
      " |-- a_g_rp_val: array (nullable = true)\n",
      " |    |-- element: double (containsNull = true)\n",
      " |-- a_g_val: array (nullable = true)\n",
      " |    |-- element: double (containsNull = true)\n",
      " |-- age: array (nullable = true)\n",
      " |    |-- element: double (containsNull = true)\n",
      " |-- alpha: array (nullable = true)\n",
      " |    |-- element: double (containsNull = true)\n",
      " |-- b: array (nullable = true)\n",
      " |    |-- element: double (containsNull = true)\n",
      " |-- b_true: array (nullable = true)\n",
      " |    |-- element: double (containsNull = true)\n",
      " |-- bp_g: array (nullable = true)\n",
      " |    |-- element: double (containsNull = true)\n",
      " |-- bp_g_int: array (nullable = true)\n",
      " |    |-- element: double (containsNull = true)\n",
      " |-- bp_g_true: array (nullable = true)\n",
      " |    |-- element: double (containsNull = true)\n",
      " |-- bp_rp: array (nullable = true)\n",
      " |    |-- element: double (containsNull = true)\n",
      " |-- bp_rp_int: array (nullable = true)\n",
      " |    |-- element: double (containsNull = true)\n",
      " |-- bp_rp_true: array (nullable = true)\n",
      " |    |-- element: double (containsNull = true)\n",
      " |-- calcium: array (nullable = true)\n",
      " |    |-- element: double (containsNull = true)\n",
      " |-- carbon: array (nullable = true)\n",
      " |    |-- element: double (containsNull = true)\n",
      " |-- dec: array (nullable = true)\n",
      " |    |-- element: double (containsNull = true)\n",
      " |-- dec_error: array (nullable = true)\n",
      " |    |-- element: double (containsNull = true)\n",
      " |-- dec_true: array (nullable = true)\n",
      " |    |-- element: double (containsNull = true)\n",
      " |-- dhel_true: array (nullable = true)\n",
      " |    |-- element: double (containsNull = true)\n",
      " |-- dmod_true: array (nullable = true)\n",
      " |    |-- element: double (containsNull = true)\n",
      " |-- e_bp_min_rp_val: array (nullable = true)\n",
      " |    |-- element: double (containsNull = true)\n",
      " |-- ebv: array (nullable = true)\n",
      " |    |-- element: double (containsNull = true)\n",
      " |-- feh: array (nullable = true)\n",
      " |    |-- element: double (containsNull = true)\n",
      " |-- g_rp: array (nullable = true)\n",
      " |    |-- element: double (containsNull = true)\n",
      " |-- g_rp_int: array (nullable = true)\n",
      " |    |-- element: double (containsNull = true)\n",
      " |-- g_rp_true: array (nullable = true)\n",
      " |    |-- element: double (containsNull = true)\n",
      " |-- helium: array (nullable = true)\n",
      " |    |-- element: double (containsNull = true)\n",
      " |-- l: array (nullable = true)\n",
      " |    |-- element: double (containsNull = true)\n",
      " |-- l_true: array (nullable = true)\n",
      " |    |-- element: double (containsNull = true)\n",
      " |-- logg: array (nullable = true)\n",
      " |    |-- element: double (containsNull = true)\n",
      " |-- lognh: array (nullable = true)\n",
      " |    |-- element: double (containsNull = true)\n",
      " |-- lum_val: array (nullable = true)\n",
      " |    |-- element: double (containsNull = true)\n",
      " |-- mact: array (nullable = true)\n",
      " |    |-- element: double (containsNull = true)\n",
      " |-- magnesium: array (nullable = true)\n",
      " |    |-- element: double (containsNull = true)\n",
      " |-- mini: array (nullable = true)\n",
      " |    |-- element: double (containsNull = true)\n",
      " |-- mtip: array (nullable = true)\n",
      " |    |-- element: double (containsNull = true)\n",
      " |-- neon: array (nullable = true)\n",
      " |    |-- element: double (containsNull = true)\n",
      " |-- nitrogen: array (nullable = true)\n",
      " |    |-- element: double (containsNull = true)\n",
      " |-- oxygen: array (nullable = true)\n",
      " |    |-- element: double (containsNull = true)\n",
      " |-- parallax: array (nullable = true)\n",
      " |    |-- element: double (containsNull = true)\n",
      " |-- parallax_error: array (nullable = true)\n",
      " |    |-- element: double (containsNull = true)\n",
      " |-- parallax_over_error: array (nullable = true)\n",
      " |    |-- element: double (containsNull = true)\n",
      " |-- parallax_true: array (nullable = true)\n",
      " |    |-- element: double (containsNull = true)\n",
      " |-- parentid: array (nullable = true)\n",
      " |    |-- element: long (containsNull = true)\n",
      " |-- partid: array (nullable = true)\n",
      " |    |-- element: long (containsNull = true)\n",
      " |-- phot_bp_mean_mag: array (nullable = true)\n",
      " |    |-- element: double (containsNull = true)\n",
      " |-- phot_bp_mean_mag_error: array (nullable = true)\n",
      " |    |-- element: double (containsNull = true)\n",
      " |-- phot_bp_mean_mag_int: array (nullable = true)\n",
      " |    |-- element: double (containsNull = true)\n",
      " |-- phot_bp_mean_mag_true: array (nullable = true)\n",
      " |    |-- element: double (containsNull = true)\n",
      " |-- phot_g_mean_mag: array (nullable = true)\n",
      " |    |-- element: double (containsNull = true)\n",
      " |-- phot_g_mean_mag_error: array (nullable = true)\n",
      " |    |-- element: double (containsNull = true)\n",
      " |-- phot_g_mean_mag_int: array (nullable = true)\n",
      " |    |-- element: double (containsNull = true)\n",
      " |-- phot_g_mean_mag_true: array (nullable = true)\n",
      " |    |-- element: double (containsNull = true)\n",
      " |-- phot_rp_mean_mag: array (nullable = true)\n",
      " |    |-- element: double (containsNull = true)\n",
      " |-- phot_rp_mean_mag_error: array (nullable = true)\n",
      " |    |-- element: double (containsNull = true)\n",
      " |-- phot_rp_mean_mag_int: array (nullable = true)\n",
      " |    |-- element: double (containsNull = true)\n",
      " |-- phot_rp_mean_mag_true: array (nullable = true)\n",
      " |    |-- element: double (containsNull = true)\n",
      " |-- pmb_true: array (nullable = true)\n",
      " |    |-- element: double (containsNull = true)\n",
      " |-- pmdec: array (nullable = true)\n",
      " |    |-- element: double (containsNull = true)\n",
      " |-- pmdec_error: array (nullable = true)\n",
      " |    |-- element: double (containsNull = true)\n",
      " |-- pmdec_true: array (nullable = true)\n",
      " |    |-- element: double (containsNull = true)\n",
      " |-- pml_true: array (nullable = true)\n",
      " |    |-- element: double (containsNull = true)\n",
      " |-- pmra: array (nullable = true)\n",
      " |    |-- element: double (containsNull = true)\n",
      " |-- pmra_error: array (nullable = true)\n",
      " |    |-- element: double (containsNull = true)\n",
      " |-- pmra_true: array (nullable = true)\n",
      " |    |-- element: double (containsNull = true)\n",
      " |-- px_true: array (nullable = true)\n",
      " |    |-- element: double (containsNull = true)\n",
      " |-- py_true: array (nullable = true)\n",
      " |    |-- element: double (containsNull = true)\n",
      " |-- pz_true: array (nullable = true)\n",
      " |    |-- element: double (containsNull = true)\n",
      " |-- ra: array (nullable = true)\n",
      " |    |-- element: double (containsNull = true)\n",
      " |-- ra_error: array (nullable = true)\n",
      " |    |-- element: double (containsNull = true)\n",
      " |-- ra_true: array (nullable = true)\n",
      " |    |-- element: double (containsNull = true)\n",
      " |-- radial_velocity: array (nullable = true)\n",
      " |    |-- element: double (containsNull = true)\n",
      " |-- radial_velocity_error: array (nullable = true)\n",
      " |    |-- element: double (containsNull = true)\n",
      " |-- radial_velocity_true: array (nullable = true)\n",
      " |    |-- element: double (containsNull = true)\n",
      " |-- random_index: array (nullable = true)\n",
      " |    |-- element: long (containsNull = true)\n",
      " |-- silicon: array (nullable = true)\n",
      " |    |-- element: double (containsNull = true)\n",
      " |-- source_id: array (nullable = true)\n",
      " |    |-- element: long (containsNull = true)\n",
      " |-- sulphur: array (nullable = true)\n",
      " |    |-- element: double (containsNull = true)\n",
      " |-- teff_val: array (nullable = true)\n",
      " |    |-- element: double (containsNull = true)\n",
      " |-- vx_true: array (nullable = true)\n",
      " |    |-- element: double (containsNull = true)\n",
      " |-- vy_true: array (nullable = true)\n",
      " |    |-- element: double (containsNull = true)\n",
      " |-- vz_true: array (nullable = true)\n",
      " |    |-- element: double (containsNull = true)"
     ]
    }
   ],
   "source": [
    "df = spark.createDataFrame(ds)\n",
    "df.createOrReplaceTempView('arrRows')\n",
    "df.printSchema()"
   ]
  },
  {
   "cell_type": "code",
   "execution_count": 8,
   "metadata": {
    "scrolled": false
   },
   "outputs": [
    {
     "data": {
      "application/vnd.jupyter.widget-view+json": {
       "model_id": "",
       "version_major": 2,
       "version_minor": 0
      },
      "text/plain": [
       "FloatProgress(value=0.0, bar_style='info', description='Progress:', layout=Layout(height='25px', width='50%'),…"
      ]
     },
     "metadata": {},
     "output_type": "display_data"
    }
   ],
   "source": [
    "out_df = spark.sql('''\n",
    "SELECT a.* FROM (\n",
    "  SELECT explode(arrays_zip(*)) a FROM  arrRows\n",
    ")\n",
    "''')"
   ]
  },
  {
   "cell_type": "code",
   "execution_count": 9,
   "metadata": {},
   "outputs": [
    {
     "data": {
      "application/vnd.jupyter.widget-view+json": {
       "model_id": "",
       "version_major": 2,
       "version_minor": 0
      },
      "text/plain": [
       "FloatProgress(value=0.0, bar_style='info', description='Progress:', layout=Layout(height='25px', width='50%'),…"
      ]
     },
     "metadata": {},
     "output_type": "display_data"
    },
    {
     "name": "stdout",
     "output_type": "stream",
     "text": [
      "+------------------+----------------+-------------------+------------+\n",
      "|        2MASS_magH|             age|        MgFe-APOGEE|random_index|\n",
      "+------------------+----------------+-------------------+------------+\n",
      "| 17.17505645751953|8.89330005645752|                NaN|        5215|\n",
      "|15.786520957946777|8.89330005645752|                NaN|       61669|\n",
      "|17.847721099853516|8.89330005645752|                NaN|       71726|\n",
      "|16.963459014892578|8.89330005645752|0.16909177601337433|      146484|\n",
      "|14.978506088256836|8.89330005645752|                NaN|       35597|\n",
      "| 16.20737648010254|8.89330005645752|                NaN|       60027|\n",
      "|15.714632987976074|8.89330005645752|                NaN|       50464|\n",
      "|17.672130584716797|8.89330005645752|0.18444456160068512|      149193|\n",
      "|17.447877883911133|8.89330005645752|0.17968931794166565|      106078|\n",
      "| 17.78213119506836|8.89330005645752|                NaN|       78737|\n",
      "|16.371044158935547|8.89330005645752|                NaN|      148960|\n",
      "|15.928238868713379|8.89330005645752|                NaN|      158778|\n",
      "|   5.7108856832E10|8.89330005645752| 0.1907500922679901|       95232|\n",
      "|15.498228073120117|8.89330005645752|                NaN|      106829|\n",
      "|  16.8387451171875|8.89330005645752|                NaN|       83657|\n",
      "| 17.23337745666504|8.89330005645752|                NaN|      134351|\n",
      "|16.889558792114258|8.89330005645752|                NaN|       12438|\n",
      "|14.040854454040527|8.89330005645752|                NaN|      164404|\n",
      "| 19.53026008605957|8.89330005645752|0.22708295285701752|        2087|\n",
      "|18.176219940185547|8.89330005645752|                NaN|       99081|\n",
      "+------------------+----------------+-------------------+------------+\n",
      "only showing top 20 rows"
     ]
    }
   ],
   "source": [
    "out_df.select(['2MASS_magH', 'age', 'MgFe-APOGEE', 'random_index']).show()"
   ]
  },
  {
   "cell_type": "code",
   "execution_count": null,
   "metadata": {},
   "outputs": [
    {
     "data": {
      "application/vnd.jupyter.widget-view+json": {
       "model_id": "dd314424525148ddba73536421bf3549",
       "version_major": 2,
       "version_minor": 0
      },
      "text/plain": [
       "FloatProgress(value=0.0, bar_style='info', description='Progress:', layout=Layout(height='25px', width='50%'),…"
      ]
     },
     "metadata": {},
     "output_type": "display_data"
    }
   ],
   "source": [
    "out_df.write.mode('overwrite').parquet('hdfs:///user/arik/apogee_fire_test/m12f/lsr_0/')"
   ]
  }
 ],
 "metadata": {
  "kernelspec": {
   "display_name": "PySpark",
   "language": "python",
   "name": "pysparkkernel"
  },
  "language_info": {
   "codemirror_mode": {
    "name": "python",
    "version": 3
   },
   "file_extension": ".py",
   "mimetype": "text/x-python",
   "name": "pyspark",
   "pygments_lexer": "python3"
  },
  "sciserver": {
   "copySource": {
    "path": "ztf/ztf-clustering-partitioned-nn",
    "volId": "49850",
    "volType": "uservolumes"
   },
   "imageInfo": {
    "cachedContainer": {
     "arik": 109855
    },
    "dataVolumes": [],
    "domain": 6,
    "name": "Dracula Spark",
    "userVolumes": [
     49850,
     49851
    ]
   },
   "lastEdit": {
    "time": 1635474064301,
    "user": "arik"
   },
   "notebookId": "YXJpazE2MzQwNjU3OTc0NzI="
  },
  "toc": {
   "base_numbering": 1,
   "nav_menu": {},
   "number_sections": false,
   "sideBar": false,
   "skip_h1_title": false,
   "title_cell": "Table of Contents",
   "title_sidebar": "Contents",
   "toc_cell": true,
   "toc_position": {
    "height": "47.6px",
    "left": "1237px",
    "top": "107.8px",
    "width": "159px"
   },
   "toc_section_display": false,
   "toc_window_display": false
  }
 },
 "nbformat": 4,
 "nbformat_minor": 4
}
