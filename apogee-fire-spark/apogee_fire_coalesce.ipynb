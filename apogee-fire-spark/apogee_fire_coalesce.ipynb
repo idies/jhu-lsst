{
 "cells": [
  {
   "cell_type": "code",
   "execution_count": null,
   "metadata": {},
   "outputs": [],
   "source": [
    "%%configure -f\n",
    "{\n",
    "    \"numExecutors\": 60, \"executorCores\": 5, \"executorMemory\": \"8gb\", \"driverMemory\": \"2g\", \n",
    "    \"conf\": { \n",
    "        \"spark.pyspark.virtualenv.enabled\": \"true\", \n",
    "        \"spark.pyspark.virtualenv.python_version\": \"3.7\",\n",
    "        \"spark.yarn.appMasterEnv.PIP_CACHE_DIR\": \"/tmp\",\n",
    "        \"spark.executorEnv.ARROW_PRE_0_15_IPC_FORMAT\": \"1\",\n",
    "        \"spark.yarn.appMasterEnv.ARROW_PRE_0_15_IPC_FORMAT\": \"1\"\n",
    "    }\n",
    "}"
   ]
  },
  {
   "cell_type": "code",
   "execution_count": null,
   "metadata": {
    "scrolled": true
   },
   "outputs": [],
   "source": [
    "fire = spark.read.parquet('hdfs:///user/arik//user/arik/apogee_fire_test/m12f/lsr_0')"
   ]
  },
  {
   "cell_type": "code",
   "execution_count": null,
   "metadata": {
    "scrolled": true
   },
   "outputs": [],
   "source": [
    "cols = [i.name for i in fire.schema]\n",
    "cols_renamed = [i.lower().replace('-', '_') for i in cols]\n",
    "cols_renamed"
   ]
  },
  {
   "cell_type": "code",
   "execution_count": null,
   "metadata": {},
   "outputs": [],
   "source": [
    "for pair in zip(cols, cols_renamed):\n",
    "    fire = fire.withColumnRenamed(*pair)"
   ]
  },
  {
   "cell_type": "code",
   "execution_count": null,
   "metadata": {},
   "outputs": [],
   "source": [
    "fire.coalesce(3600).write.mode('overwrite').parquet('hdfs:///user/arik/apogee_fire_tmp')"
   ]
  }
 ],
 "metadata": {
  "kernelspec": {
   "display_name": "PySpark",
   "language": "python",
   "name": "pysparkkernel"
  },
  "language_info": {
   "codemirror_mode": {
    "name": "python",
    "version": 3
   },
   "file_extension": ".py",
   "mimetype": "text/x-python",
   "name": "pyspark",
   "pygments_lexer": "python3"
  },
  "sciserver": {
   "copySource": {
    "path": ".sciserver/new-notebook-1635446338092",
    "volId": "49851",
    "volType": "uservolumes"
   },
   "imageInfo": {
    "cachedContainer": {
     "arik": 111610
    },
    "dataVolumes": [],
    "domain": 6,
    "name": "Dracula Spark",
    "userVolumes": [
     49850,
     49851
    ]
   },
   "lastEdit": {
    "time": 1635971958725,
    "user": "arik"
   },
   "notebookId": "YXJpazE2MzU5NzE3OTYyOTA="
  },
  "toc": {
   "base_numbering": 1,
   "nav_menu": {},
   "number_sections": false,
   "sideBar": false,
   "skip_h1_title": false,
   "title_cell": "Table of Contents",
   "title_sidebar": "Contents",
   "toc_cell": true,
   "toc_position": {
    "height": "47.6px",
    "left": "1237px",
    "top": "107.8px",
    "width": "159px"
   },
   "toc_section_display": false,
   "toc_window_display": false
  }
 },
 "nbformat": 4,
 "nbformat_minor": 4
}
